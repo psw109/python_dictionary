{
  "cells": [
    {
      "attachments": {},
      "cell_type": "markdown",
      "metadata": {
        "id": "gGBFmi3CIt0n"
      },
      "source": [
        "# 1. pickle 모듈 정리\n",
        "\n",
        "\n",
        "* 파이썬 객체를 저장하고 불러올수 있게 만들어 주는 모듈\n",
        "    * 리스트, 딕셔너리, 클래스, 함수 등등\n",
        "\n",
        "\n",
        "* binary형태로 저장해줘서 용량 압축이됨\n",
        "    * binary형태로 저장한는 다른 방법도 있지만 pickle모듈이 가장 유용함"
      ]
    },
    {
      "attachments": {},
      "cell_type": "markdown",
      "metadata": {
        "id": "qoSP7ag2J0JP"
      },
      "source": [
        "data를 pickle을 이용해 저장"
      ]
    },
    {
      "cell_type": "code",
      "execution_count": null,
      "metadata": {
        "id": "MbugbgYMJnIy"
      },
      "outputs": [],
      "source": [
        "import pickle\n",
        "\n",
        "data = {\n",
        "    'a': [1, 2.0, 3, 4+6j],\n",
        "    'b': (\"character string\", b\"byte string\"),\n",
        "    'c': {None, True, False}\n",
        "}\n",
        "\n",
        "# save\n",
        "with open('data.pickle', 'wb') as f:\n",
        "    pickle.dump(data, f, pickle.HIGHEST_PROTOCOL) # highest_protocol : 객체 저장시 메모리가 부족할 경우 해결해준다\n",
        "\n",
        "# load\n",
        "with open('data.pickle', 'rb') as f:\n",
        "    data_res = pickle.load(f)"
      ]
    },
    {
      "cell_type": "code",
      "execution_count": null,
      "metadata": {
        "colab": {
          "base_uri": "https://localhost:8080/"
        },
        "id": "lTkif34qK54A",
        "outputId": "2950efa5-cf26-4b44-ce36-527f269bdf59"
      },
      "outputs": [
        {
          "data": {
            "text/plain": [
              "{'a': [1, 2.0, 3, (4+6j)],\n",
              " 'b': ('character string', b'byte string'),\n",
              " 'c': {False, None, True}}"
            ]
          },
          "execution_count": 9,
          "metadata": {},
          "output_type": "execute_result"
        }
      ],
      "source": [
        "data_res"
      ]
    },
    {
      "attachments": {},
      "cell_type": "markdown",
      "metadata": {
        "id": "3VR3ZMz1LIp8"
      },
      "source": [
        "gzip 이용\n",
        "\n",
        "* 파일을 압축할때 사용하는 모듈"
      ]
    },
    {
      "cell_type": "code",
      "execution_count": null,
      "metadata": {
        "id": "CmihxI8QKVXi"
      },
      "outputs": [],
      "source": [
        "import pickle\n",
        "import gzip\n",
        "\n",
        "data = {\n",
        "    'a': [1, 4+6j],\n",
        "    'b': (\"character string\", b\"byte string\"),\n",
        "    'c': {None, True, False}\n",
        "}\n",
        "\n",
        "# save and compress.\n",
        "with gzip.open('testPickleFile.pickle', 'wb') as f:\n",
        "    pickle.dump(data, f)\n",
        "\n",
        "# load and uncompress.\n",
        "with gzip.open('testPickleFile.pickle','rb') as f:\n",
        "    data_res = pickle.load(f)"
      ]
    },
    {
      "cell_type": "code",
      "execution_count": null,
      "metadata": {
        "colab": {
          "base_uri": "https://localhost:8080/"
        },
        "id": "edgucAdLK2UT",
        "outputId": "07e5a554-2444-4937-abcb-7a2ff8fe65bb"
      },
      "outputs": [
        {
          "data": {
            "text/plain": [
              "{'a': [1, (4+6j)],\n",
              " 'b': ('character string', b'byte string'),\n",
              " 'c': {False, None, True}}"
            ]
          },
          "execution_count": 11,
          "metadata": {},
          "output_type": "execute_result"
        }
      ],
      "source": [
        "data_res"
      ]
    },
    {
      "attachments": {},
      "cell_type": "markdown",
      "metadata": {
        "id": "RxMypj7FTxyf"
      },
      "source": [
        "# 2. 시간 측정 함수"
      ]
    },
    {
      "attachments": {},
      "cell_type": "markdown",
      "metadata": {
        "id": "z3hWvY3cUH1r"
      },
      "source": [
        "1. time모듈"
      ]
    },
    {
      "cell_type": "code",
      "execution_count": null,
      "metadata": {
        "colab": {
          "base_uri": "https://localhost:8080/"
        },
        "id": "DgL0rJeZTzmH",
        "outputId": "e2e959d9-8cfe-47f8-bac1-b4401859530d"
      },
      "outputs": [
        {
          "name": "stdout",
          "output_type": "stream",
          "text": [
            "1.0014 sec\n"
          ]
        }
      ],
      "source": [
        "import time # time 라이브러리 import\n",
        "start = time.time() # 시작\n",
        "\n",
        "time.sleep(1) # time.sleep : 1초간 대기하는 함수\n",
        "\n",
        "end = time.time()\n",
        "\n",
        "print(f\"{end-start:.4f} sec\") # 종료와 함께 수행시간 출력"
      ]
    },
    {
      "attachments": {},
      "cell_type": "markdown",
      "metadata": {
        "id": "uPQXqneVUrPy"
      },
      "source": [
        "2. datetime모듈을 활용하여 좀더 자세한 시간 측정"
      ]
    },
    {
      "cell_type": "code",
      "execution_count": null,
      "metadata": {
        "colab": {
          "base_uri": "https://localhost:8080/"
        },
        "id": "lHxkCdGBUkHJ",
        "outputId": "d583f911-ad14-422b-9b33-15c233848e5a"
      },
      "outputs": [
        {
          "name": "stdout",
          "output_type": "stream",
          "text": [
            "0:00:01.001486 sec\n",
            "0:00:01 sec\n"
          ]
        }
      ],
      "source": [
        "import time\n",
        "import datetime # datetime 라이브러리 import\n",
        "\n",
        "start = time.time() # 시작\n",
        "time.sleep(1)\n",
        "sec = time.time()-start # 종료 - 시작 (걸린 시간)\n",
        "\n",
        "times = str(datetime.timedelta(seconds=sec)) # 걸린시간 보기좋게 바꾸기\n",
        "short = times.split(\".\")[0] # 초 단위 까지만\n",
        "print(f\"{times} sec\")\n",
        "print(f\"{short} sec\")"
      ]
    },
    {
      "attachments": {},
      "cell_type": "markdown",
      "metadata": {
        "id": "BH0q_Ewh7o-R"
      },
      "source": [
        "# 예외 처리"
      ]
    },
    {
      "attachments": {},
      "cell_type": "markdown",
      "metadata": {
        "id": "yzVF7s3Q7z8M"
      },
      "source": [
        "try-except문\n",
        "\n",
        "```\n",
        "try:  \n",
        "    ...   \n",
        "except [발생오류 [as오류변수]]:  \n",
        "    ...  \n",
        "```"
      ]
    },
    {
      "cell_type": "code",
      "execution_count": null,
      "metadata": {
        "colab": {
          "base_uri": "https://localhost:8080/"
        },
        "id": "uRXb0AHL7q9Q",
        "outputId": "fc5c7794-763d-43ac-cf30-3041e703bf52"
      },
      "outputs": [
        {
          "name": "stdout",
          "output_type": "stream",
          "text": [
            "division by zero\n"
          ]
        }
      ],
      "source": [
        "try:\n",
        "    4/0\n",
        "except ZeroDivisionError as e: #발생오류 오타시 오류발생 가능\n",
        "    print(e)"
      ]
    },
    {
      "cell_type": "code",
      "execution_count": null,
      "metadata": {
        "colab": {
          "base_uri": "https://localhost:8080/"
        },
        "id": "AHkIVHVL9DkQ",
        "outputId": "9d218988-6d9f-4b1f-85dd-49264f10889c"
      },
      "outputs": [
        {
          "name": "stdout",
          "output_type": "stream",
          "text": [
            "list index out of range\n"
          ]
        }
      ],
      "source": [
        "#여러 except도 가능\n",
        "\n",
        "try:\n",
        "    a = [1,2]\n",
        "    print(a[3])\n",
        "    4/0\n",
        "except ZeroDivisionError as e:\n",
        "    print(e)\n",
        "except IndexError as e:\n",
        "    print(e)"
      ]
    },
    {
      "attachments": {},
      "cell_type": "markdown",
      "metadata": {
        "id": "eZeNfi8d-Ejf"
      },
      "source": [
        "try-finally\n",
        "\n",
        "* try문 수행 도중 예외 발생 여부에 상관없이 항상 실행됨"
      ]
    },
    {
      "cell_type": "code",
      "execution_count": null,
      "metadata": {
        "id": "WcYfNWYg-K3U"
      },
      "outputs": [],
      "source": [
        "try:\n",
        "    f = open('foo.txt', 'w')\n",
        "    # 무언가를 수행한다.\n",
        "\n",
        "    #(... 생략 ...)\n",
        "\n",
        "finally:\n",
        "    f.close()  # 중간에 오류가 발생하더라도 무조건 실행된다.\n"
      ]
    },
    {
      "attachments": {},
      "cell_type": "markdown",
      "metadata": {
        "id": "QofAHetU9h6n"
      },
      "source": [
        "try-else문\n",
        "\n",
        "```\n",
        "try:\n",
        "    ...\n",
        "except [발생오류 [as 오류변수]]:\n",
        "    ...\n",
        "else:  # 오류가 없을 경우에만 수행\n",
        "    ...\n",
        "```"
      ]
    },
    {
      "cell_type": "code",
      "execution_count": null,
      "metadata": {
        "colab": {
          "base_uri": "https://localhost:8080/"
        },
        "id": "F6In6gvh9sYH",
        "outputId": "559c990a-9dd9-417f-cd81-f71e8ac0d8f4"
      },
      "outputs": [
        {
          "name": "stdout",
          "output_type": "stream",
          "text": [
            "나이를 입력하세요: 10\n",
            "미성년자는 출입금지입니다.\n"
          ]
        }
      ],
      "source": [
        "try:\n",
        "    age=int(input('나이를 입력하세요: '))\n",
        "except:\n",
        "    print('입력이 정확하지 않습니다.')\n",
        "else:\n",
        "    if age <= 18:\n",
        "        print('미성년자는 출입금지입니다.')\n",
        "    else:\n",
        "        print('환영합니다.')\n"
      ]
    },
    {
      "attachments": {},
      "cell_type": "markdown",
      "metadata": {
        "id": "OJVtZAT39-HG"
      },
      "source": [
        "오류 회피하기 : pass이용"
      ]
    },
    {
      "cell_type": "code",
      "execution_count": null,
      "metadata": {
        "id": "AD955l1Z9fuB"
      },
      "outputs": [],
      "source": [
        "try:\n",
        "    f = open(\"나없는파일\", 'r')\n",
        "except FileNotFoundError:\n",
        "    pass"
      ]
    },
    {
      "attachments": {},
      "cell_type": "markdown",
      "metadata": {
        "id": "spUinb-62HSb"
      },
      "source": [
        "traceback모듈을 이용해 어떤 오류인지 확인가능"
      ]
    },
    {
      "cell_type": "code",
      "execution_count": null,
      "metadata": {
        "colab": {
          "base_uri": "https://localhost:8080/"
        },
        "id": "J5Fxr7Ay2LGd",
        "outputId": "c48505df-4ddf-428b-c144-ba992a77841a"
      },
      "outputs": [
        {
          "name": "stdout",
          "output_type": "stream",
          "text": [
            "Traceback (most recent call last):\n",
            "  File \"<ipython-input-21-bb9c303fbce5>\", line 4, in <cell line: 3>\n",
            "    4/0\n",
            "ZeroDivisionError: division by zero\n",
            "\n"
          ]
        }
      ],
      "source": [
        "import traceback\n",
        "\n",
        "try:\n",
        "    4/0\n",
        "except:\n",
        "    print(traceback.format_exc())"
      ]
    },
    {
      "attachments": {},
      "cell_type": "markdown",
      "metadata": {
        "id": "pJBMiQD_fduR"
      },
      "source": [
        "# numpy 모듈 정리"
      ]
    },
    {
      "cell_type": "code",
      "execution_count": 2,
      "metadata": {},
      "outputs": [],
      "source": [
        "import numpy as np"
      ]
    },
    {
      "attachments": {},
      "cell_type": "markdown",
      "metadata": {
        "id": "J4zP7allfmAK"
      },
      "source": [
        "## 1. np.unique\n",
        "\n",
        "* 배열내의 원소들중 고유한 값을 뽑아준다\n",
        "\n",
        "|parameter|설명|값\n",
        "|:-:|-|-|\n",
        "|return_index|각 고유 원소가 처음등장한 index반환|default = False / True, False\n",
        "|return_inverse|하단 참조|default = False / True, False\n",
        "|return_counts|각 고유 원소들이 등장하는 횟수 반환|default = False / True, False"
      ]
    },
    {
      "cell_type": "code",
      "execution_count": null,
      "metadata": {
        "colab": {
          "base_uri": "https://localhost:8080/"
        },
        "id": "Ofoln7b-ffTm",
        "outputId": "1e80732c-1a33-436c-8981-7d5a48ddd620"
      },
      "outputs": [
        {
          "data": {
            "text/plain": [
              "array([1, 2, 3, 4, 5])"
            ]
          },
          "execution_count": 1,
          "metadata": {},
          "output_type": "execute_result"
        }
      ],
      "source": [
        "np.unique([1,2,2,3,4,5,5,3,3,2,2,1])"
      ]
    },
    {
      "cell_type": "code",
      "execution_count": null,
      "metadata": {
        "colab": {
          "base_uri": "https://localhost:8080/"
        },
        "id": "6gnjvbSrf1Cb",
        "outputId": "128a7bc2-1aa6-4177-d9ea-7adefe79cec5"
      },
      "outputs": [
        {
          "data": {
            "text/plain": [
              "array([1, 2, 4, 5])"
            ]
          },
          "execution_count": 2,
          "metadata": {},
          "output_type": "execute_result"
        }
      ],
      "source": [
        "np.unique([[1,2,4],\n",
        "           [1,2,5]]) #axis를 지정해주지 않으면 1차원배열로 변환뒤 고유한값 반환"
      ]
    },
    {
      "cell_type": "code",
      "execution_count": null,
      "metadata": {
        "colab": {
          "base_uri": "https://localhost:8080/"
        },
        "id": "BiEbbiUShfn2",
        "outputId": "1bb34427-0bf9-46d5-ddac-87a141b16890"
      },
      "outputs": [
        {
          "data": {
            "text/plain": [
              "array([[1, 2, 4, 1],\n",
              "       [1, 2, 5, 1]])"
            ]
          },
          "execution_count": 14,
          "metadata": {},
          "output_type": "execute_result"
        }
      ],
      "source": [
        "np.unique([[1,2,4,1],\n",
        "           [1,2,5,1],\n",
        "           [1,2,5,1]], axis = 0)\n",
        "\n",
        "#axis를 지정해주면 axis별(블록 단위로) 고유값 반환\n",
        "# [1,2,5,1]이 겹치므로 삭제"
      ]
    },
    {
      "cell_type": "code",
      "execution_count": null,
      "metadata": {
        "colab": {
          "base_uri": "https://localhost:8080/"
        },
        "id": "eAEXN8kfiQa5",
        "outputId": "ceba7399-f83c-4f79-d0d8-9a401f1f2ac8"
      },
      "outputs": [
        {
          "data": {
            "text/plain": [
              "array([[1, 2, 4],\n",
              "       [1, 2, 5],\n",
              "       [1, 2, 5]])"
            ]
          },
          "execution_count": 15,
          "metadata": {},
          "output_type": "execute_result"
        }
      ],
      "source": [
        "np.unique([[1,2,4,1],\n",
        "           [1,2,5,1],\n",
        "           [1,2,5,1]], axis = 1)\n",
        "#위와 동일\n",
        "#[1,1,1]이 겹치므로 삭제"
      ]
    },
    {
      "attachments": {},
      "cell_type": "markdown",
      "metadata": {
        "id": "IEv06lOsipSx"
      },
      "source": [
        "return_inverse"
      ]
    },
    {
      "cell_type": "code",
      "execution_count": null,
      "metadata": {
        "colab": {
          "base_uri": "https://localhost:8080/"
        },
        "id": "e3gm9I4jiaMa",
        "outputId": "c31672ee-be41-4acb-9006-9da5be399886"
      },
      "outputs": [
        {
          "data": {
            "text/plain": [
              "(array([3, 4, 5, 8]), array([0, 2, 3, 3, 2, 2, 1]))"
            ]
          },
          "execution_count": 16,
          "metadata": {},
          "output_type": "execute_result"
        }
      ],
      "source": [
        "# 3, 4, 5, 8을 0, 1, 2, 3으로 취급했을 때, 원래 값들에 매칭되는 번호\n",
        "\n",
        "np.unique([3, 5, 8, 8, 5, 5, 4], return_inverse = True)"
      ]
    },
    {
      "attachments": {},
      "cell_type": "markdown",
      "metadata": {
        "id": "2zhXxuIAqL9s"
      },
      "source": [
        "## np.nditer\n",
        "\n",
        "* numpy객체 반복에 사용한다"
      ]
    },
    {
      "cell_type": "code",
      "execution_count": null,
      "metadata": {
        "colab": {
          "base_uri": "https://localhost:8080/"
        },
        "id": "giVwWXr4qNQ-",
        "outputId": "5475f9b6-4ff7-4e10-c87e-00ff08419a77"
      },
      "outputs": [
        {
          "name": "stdout",
          "output_type": "stream",
          "text": [
            "1\n",
            "2\n",
            "3\n",
            "3\n",
            "4\n",
            "5\n"
          ]
        }
      ],
      "source": [
        "arr = np.array([[1,2,3],\n",
        "                [3,4,5]])\n",
        "\n",
        "for row in range(0, arr.shape[0]):\n",
        "    for col in range(0, arr.shape[1]):\n",
        "        print(arr[row][col])\n",
        "\n",
        "# 차원이 2차원일때는 괜찮지만 고차원일경우 for문으로 해결하기 어려워진다"
      ]
    },
    {
      "cell_type": "code",
      "execution_count": null,
      "metadata": {
        "colab": {
          "base_uri": "https://localhost:8080/"
        },
        "id": "h_UxH-1Itln_",
        "outputId": "8797c33a-3814-426a-d4a8-fe01ff103992"
      },
      "outputs": [
        {
          "name": "stdout",
          "output_type": "stream",
          "text": [
            "1\n",
            "2\n",
            "3\n",
            "4\n",
            "5\n",
            "6\n"
          ]
        }
      ],
      "source": [
        "arr = np.array([[1,2,3],\n",
        "                [4,5,6]])\n",
        "\n",
        "it = np.nditer(arr, flags = ['multi_index'], op_flags=['readwrite']) #op_flags는 왜 쓰는지 모르겠\n",
        "\n",
        "while not it.finished:\n",
        "    idx = it.multi_index\n",
        "    print(arr[idx])\n",
        "    it.iternext()"
      ]
    },
    {
      "cell_type": "code",
      "execution_count": null,
      "metadata": {
        "colab": {
          "base_uri": "https://localhost:8080/"
        },
        "id": "_TnZzd6ZuLXJ",
        "outputId": "e59de62e-ad28-4ab3-fc1c-839260de19a0"
      },
      "outputs": [
        {
          "name": "stdout",
          "output_type": "stream",
          "text": [
            "0\n",
            "1\n",
            "2\n",
            "3\n",
            "4\n",
            "5\n",
            "6\n",
            "7\n",
            "8\n",
            "9\n"
          ]
        }
      ],
      "source": [
        "# 1차원일때\n",
        "\n",
        "arr = np.arange(10)\n",
        "it = np.nditer(arr, flags = ['c_index'])\n",
        "\n",
        "while not it.finished:\n",
        "    idx = it.index\n",
        "    print(arr[idx])\n",
        "    it.iternext()"
      ]
    },
    {
      "cell_type": "code",
      "execution_count": 6,
      "metadata": {},
      "outputs": [
        {
          "data": {
            "text/plain": [
              "7"
            ]
          },
          "execution_count": 6,
          "metadata": {},
          "output_type": "execute_result"
        }
      ],
      "source": [
        "np.argmax(np.arange(10) >= 7)"
      ]
    },
    {
      "cell_type": "markdown",
      "metadata": {},
      "source": [
        "## np.partition, np.argpartition"
      ]
    },
    {
      "cell_type": "code",
      "execution_count": 4,
      "metadata": {},
      "outputs": [],
      "source": [
        "import numpy as np\n",
        "\n",
        "np.random.seed(3)\n",
        "test_array = np.random.randint(0,20,10)"
      ]
    },
    {
      "cell_type": "code",
      "execution_count": 13,
      "metadata": {},
      "outputs": [
        {
          "data": {
            "text/plain": [
              "array([16, 16, 19,  9,  1,  1,  2, 15,  6,  9])"
            ]
          },
          "execution_count": 13,
          "metadata": {},
          "output_type": "execute_result"
        }
      ],
      "source": [
        "test_array"
      ]
    },
    {
      "cell_type": "code",
      "execution_count": 18,
      "metadata": {},
      "outputs": [
        {
          "data": {
            "text/plain": [
              "array([ 1,  1,  6,  2,  9, 16,  9, 15, 19, 16])"
            ]
          },
          "execution_count": 18,
          "metadata": {},
          "output_type": "execute_result"
        }
      ],
      "source": [
        "np.partition(test_array, 4)\n",
        "\n",
        "# 리스트에 순서 상관없이 전체 리스트에서 작은숫자 4개를 왼쪽에 둔다"
      ]
    },
    {
      "cell_type": "code",
      "execution_count": 16,
      "metadata": {},
      "outputs": [
        {
          "data": {
            "text/plain": [
              "array([ 1,  1,  6,  2,  9, 16,  9, 15, 19, 16])"
            ]
          },
          "execution_count": 16,
          "metadata": {},
          "output_type": "execute_result"
        }
      ],
      "source": [
        "test_array[np.argpartition(test_array, 4)] \n",
        "\n",
        "# 위와 동일하지만 직접 배열을 변환하지는 않고 index를 뽑아준다"
      ]
    },
    {
      "cell_type": "code",
      "execution_count": 19,
      "metadata": {},
      "outputs": [
        {
          "data": {
            "text/plain": [
              "array([ 1,  1,  6,  2,  9,  9, 15, 16, 19, 16])"
            ]
          },
          "execution_count": 19,
          "metadata": {},
          "output_type": "execute_result"
        }
      ],
      "source": [
        "np.partition(test_array, -4)\n",
        "\n",
        "# 위와 같은 매커니즘, 전체 리스트에서 가장 큰숫자 4개를 오른쪽에 놓는다"
      ]
    },
    {
      "cell_type": "code",
      "execution_count": 20,
      "metadata": {},
      "outputs": [
        {
          "data": {
            "text/plain": [
              "array([ 1,  1,  6,  2,  9, 16,  9, 15, 19, 16])"
            ]
          },
          "execution_count": 20,
          "metadata": {},
          "output_type": "execute_result"
        }
      ],
      "source": [
        "test_array[np.argpartition(test_array, 4)] \n",
        "\n",
        "# 위와 동일, 설명 생략"
      ]
    },
    {
      "attachments": {},
      "cell_type": "markdown",
      "metadata": {
        "id": "SFsKZbifMHNs"
      },
      "source": [
        "## random모듈"
      ]
    },
    {
      "attachments": {},
      "cell_type": "markdown",
      "metadata": {
        "id": "SmnTsCy6MLgj"
      },
      "source": [
        "### np.random.rand\n",
        "\n",
        "* np.random.rand(d0, d1, d2, ...)\n",
        "* d : 차원\n",
        "* 0~1사이의 균일분포"
      ]
    },
    {
      "cell_type": "code",
      "execution_count": null,
      "metadata": {
        "colab": {
          "base_uri": "https://localhost:8080/"
        },
        "id": "A9LbMH9QMJBO",
        "outputId": "aa68de84-0ed5-4a3f-9843-dcbc1829aa6d"
      },
      "outputs": [
        {
          "data": {
            "text/plain": [
              "array([[[0.62476487, 0.36116332]],\n",
              "\n",
              "       [[0.54006562, 0.34187394]]])"
            ]
          },
          "execution_count": 25,
          "metadata": {},
          "output_type": "execute_result"
        }
      ],
      "source": [
        "import numpy as np\n",
        "\n",
        "np.random.rand(2, 1,2)"
      ]
    },
    {
      "attachments": {},
      "cell_type": "markdown",
      "metadata": {
        "id": "7WJqJsEUYbVP"
      },
      "source": [
        "### np.random.choice\n",
        "\n",
        "* np.random.choice(a, size, replace, p)\n",
        "\n",
        "* a : 뽑을 대상, 그냥 정수로 주어질경우 0~a-1 중 추출\n",
        "* size : 뽑을 갯수\n",
        "* replace : 복원추출 여부\n",
        "* p : 뽑을때 확률을 다르게 줄 수 있음, 기본은 균일확률"
      ]
    },
    {
      "cell_type": "code",
      "execution_count": null,
      "metadata": {
        "colab": {
          "base_uri": "https://localhost:8080/"
        },
        "id": "EwNTJMfeYdBs",
        "outputId": "ee38f3c7-8eb0-4667-a367-296925642af8"
      },
      "outputs": [
        {
          "data": {
            "text/plain": [
              "array([59, 19, 50, 39, 81, 42, 82,  7, 63, 41])"
            ]
          },
          "execution_count": 26,
          "metadata": {},
          "output_type": "execute_result"
        }
      ],
      "source": [
        "np.random.choice(100, 10)"
      ]
    },
    {
      "attachments": {},
      "cell_type": "markdown",
      "metadata": {},
      "source": [
        "### np.random.permutation\n",
        "\n",
        "* np.random.permutation(x)  \n",
        "* x : int or array_like,  \n",
        "If x is an integer, randomly permute np.arange(x). If x is an array, make a copy and shuffle the elements randomly."
      ]
    },
    {
      "cell_type": "code",
      "execution_count": 3,
      "metadata": {},
      "outputs": [
        {
          "name": "stdout",
          "output_type": "stream",
          "text": [
            "[4 8 5 6 2 9 7 1 0 3]\n"
          ]
        }
      ],
      "source": [
        "# integer case\n",
        "\n",
        "x = np.random.permutation(10)\n",
        "print(x)"
      ]
    },
    {
      "cell_type": "code",
      "execution_count": 4,
      "metadata": {},
      "outputs": [
        {
          "name": "stdout",
          "output_type": "stream",
          "text": [
            "[2 4 1 5 3]\n"
          ]
        }
      ],
      "source": [
        "# array case\n",
        "\n",
        "x = np.random.permutation(np.array([1,2,3,4,5]))\n",
        "print(x)"
      ]
    },
    {
      "attachments": {},
      "cell_type": "markdown",
      "metadata": {
        "id": "x30ybv9PpdNy"
      },
      "source": [
        "# 데이터 처리 정리"
      ]
    },
    {
      "cell_type": "code",
      "execution_count": null,
      "metadata": {
        "id": "R0JHMEN_pehS"
      },
      "outputs": [],
      "source": [
        "import pandas as pd"
      ]
    },
    {
      "cell_type": "code",
      "execution_count": null,
      "metadata": {
        "id": "JYfUwrhEphHz"
      },
      "outputs": [],
      "source": [
        "import seaborn as sns"
      ]
    },
    {
      "cell_type": "code",
      "execution_count": null,
      "metadata": {
        "colab": {
          "base_uri": "https://localhost:8080/"
        },
        "id": "-nKQf3yRpvZ8",
        "outputId": "71570ae8-dd4e-43a5-ee36-d2b346ce42e1"
      },
      "outputs": [
        {
          "data": {
            "text/plain": [
              "['anagrams',\n",
              " 'anscombe',\n",
              " 'attention',\n",
              " 'brain_networks',\n",
              " 'car_crashes',\n",
              " 'diamonds',\n",
              " 'dots',\n",
              " 'dowjones',\n",
              " 'exercise',\n",
              " 'flights',\n",
              " 'fmri',\n",
              " 'geyser',\n",
              " 'glue',\n",
              " 'healthexp',\n",
              " 'iris',\n",
              " 'mpg',\n",
              " 'penguins',\n",
              " 'planets',\n",
              " 'seaice',\n",
              " 'taxis',\n",
              " 'tips',\n",
              " 'titanic']"
            ]
          },
          "execution_count": 6,
          "metadata": {},
          "output_type": "execute_result"
        }
      ],
      "source": [
        "sns.get_dataset_names()"
      ]
    },
    {
      "cell_type": "code",
      "execution_count": null,
      "metadata": {
        "id": "ETLDkUOQp1LF"
      },
      "outputs": [],
      "source": [
        "df = sns.load_dataset('penguins')"
      ]
    },
    {
      "attachments": {},
      "cell_type": "markdown",
      "metadata": {
        "id": "Gl9ZNhxAp_mN"
      },
      "source": [
        "## 컬럼 삭제\n",
        "\n",
        "* df.drop(['컬럼명1', '컬럼명2'], axis = 1, inplace = False)\n",
        "* df.drop(['컬럼명1', '컬럼명2'], axis = 'columns', inplace = False)\n"
      ]
    },
    {
      "cell_type": "code",
      "execution_count": null,
      "metadata": {
        "colab": {
          "base_uri": "https://localhost:8080/",
          "height": 143
        },
        "id": "fuDJjrJ8p-SF",
        "outputId": "9ce6ffe8-854d-47d4-f028-46acf4a62479"
      },
      "outputs": [
        {
          "data": {
            "text/html": [
              "\n",
              "\n",
              "  <div id=\"df-66a84a95-c375-411e-ac01-d40d0cb3d7fc\">\n",
              "    <div class=\"colab-df-container\">\n",
              "      <div>\n",
              "<style scoped>\n",
              "    .dataframe tbody tr th:only-of-type {\n",
              "        vertical-align: middle;\n",
              "    }\n",
              "\n",
              "    .dataframe tbody tr th {\n",
              "        vertical-align: top;\n",
              "    }\n",
              "\n",
              "    .dataframe thead th {\n",
              "        text-align: right;\n",
              "    }\n",
              "</style>\n",
              "<table border=\"1\" class=\"dataframe\">\n",
              "  <thead>\n",
              "    <tr style=\"text-align: right;\">\n",
              "      <th></th>\n",
              "      <th>species</th>\n",
              "      <th>island</th>\n",
              "      <th>bill_length_mm</th>\n",
              "      <th>bill_depth_mm</th>\n",
              "      <th>flipper_length_mm</th>\n",
              "      <th>body_mass_g</th>\n",
              "      <th>sex</th>\n",
              "    </tr>\n",
              "  </thead>\n",
              "  <tbody>\n",
              "    <tr>\n",
              "      <th>0</th>\n",
              "      <td>Adelie</td>\n",
              "      <td>Torgersen</td>\n",
              "      <td>39.1</td>\n",
              "      <td>18.7</td>\n",
              "      <td>181.0</td>\n",
              "      <td>3750.0</td>\n",
              "      <td>Male</td>\n",
              "    </tr>\n",
              "    <tr>\n",
              "      <th>1</th>\n",
              "      <td>Adelie</td>\n",
              "      <td>Torgersen</td>\n",
              "      <td>39.5</td>\n",
              "      <td>17.4</td>\n",
              "      <td>186.0</td>\n",
              "      <td>3800.0</td>\n",
              "      <td>Female</td>\n",
              "    </tr>\n",
              "    <tr>\n",
              "      <th>2</th>\n",
              "      <td>Adelie</td>\n",
              "      <td>Torgersen</td>\n",
              "      <td>40.3</td>\n",
              "      <td>18.0</td>\n",
              "      <td>195.0</td>\n",
              "      <td>3250.0</td>\n",
              "      <td>Female</td>\n",
              "    </tr>\n",
              "  </tbody>\n",
              "</table>\n",
              "</div>\n",
              "      <button class=\"colab-df-convert\" onclick=\"convertToInteractive('df-66a84a95-c375-411e-ac01-d40d0cb3d7fc')\"\n",
              "              title=\"Convert this dataframe to an interactive table.\"\n",
              "              style=\"display:none;\">\n",
              "\n",
              "  <svg xmlns=\"http://www.w3.org/2000/svg\" height=\"24px\"viewBox=\"0 0 24 24\"\n",
              "       width=\"24px\">\n",
              "    <path d=\"M0 0h24v24H0V0z\" fill=\"none\"/>\n",
              "    <path d=\"M18.56 5.44l.94 2.06.94-2.06 2.06-.94-2.06-.94-.94-2.06-.94 2.06-2.06.94zm-11 1L8.5 8.5l.94-2.06 2.06-.94-2.06-.94L8.5 2.5l-.94 2.06-2.06.94zm10 10l.94 2.06.94-2.06 2.06-.94-2.06-.94-.94-2.06-.94 2.06-2.06.94z\"/><path d=\"M17.41 7.96l-1.37-1.37c-.4-.4-.92-.59-1.43-.59-.52 0-1.04.2-1.43.59L10.3 9.45l-7.72 7.72c-.78.78-.78 2.05 0 2.83L4 21.41c.39.39.9.59 1.41.59.51 0 1.02-.2 1.41-.59l7.78-7.78 2.81-2.81c.8-.78.8-2.07 0-2.86zM5.41 20L4 18.59l7.72-7.72 1.47 1.35L5.41 20z\"/>\n",
              "  </svg>\n",
              "      </button>\n",
              "\n",
              "\n",
              "\n",
              "    <div id=\"df-1c11bf6b-9c07-4dd9-8523-ca610be35c18\">\n",
              "      <button class=\"colab-df-quickchart\" onclick=\"quickchart('df-1c11bf6b-9c07-4dd9-8523-ca610be35c18')\"\n",
              "              title=\"Suggest charts.\"\n",
              "              style=\"display:none;\">\n",
              "\n",
              "<svg xmlns=\"http://www.w3.org/2000/svg\" height=\"24px\"viewBox=\"0 0 24 24\"\n",
              "     width=\"24px\">\n",
              "    <g>\n",
              "        <path d=\"M19 3H5c-1.1 0-2 .9-2 2v14c0 1.1.9 2 2 2h14c1.1 0 2-.9 2-2V5c0-1.1-.9-2-2-2zM9 17H7v-7h2v7zm4 0h-2V7h2v10zm4 0h-2v-4h2v4z\"/>\n",
              "    </g>\n",
              "</svg>\n",
              "      </button>\n",
              "    </div>\n",
              "\n",
              "<style>\n",
              "  .colab-df-quickchart {\n",
              "    background-color: #E8F0FE;\n",
              "    border: none;\n",
              "    border-radius: 50%;\n",
              "    cursor: pointer;\n",
              "    display: none;\n",
              "    fill: #1967D2;\n",
              "    height: 32px;\n",
              "    padding: 0 0 0 0;\n",
              "    width: 32px;\n",
              "  }\n",
              "\n",
              "  .colab-df-quickchart:hover {\n",
              "    background-color: #E2EBFA;\n",
              "    box-shadow: 0px 1px 2px rgba(60, 64, 67, 0.3), 0px 1px 3px 1px rgba(60, 64, 67, 0.15);\n",
              "    fill: #174EA6;\n",
              "  }\n",
              "\n",
              "  [theme=dark] .colab-df-quickchart {\n",
              "    background-color: #3B4455;\n",
              "    fill: #D2E3FC;\n",
              "  }\n",
              "\n",
              "  [theme=dark] .colab-df-quickchart:hover {\n",
              "    background-color: #434B5C;\n",
              "    box-shadow: 0px 1px 3px 1px rgba(0, 0, 0, 0.15);\n",
              "    filter: drop-shadow(0px 1px 2px rgba(0, 0, 0, 0.3));\n",
              "    fill: #FFFFFF;\n",
              "  }\n",
              "</style>\n",
              "\n",
              "    <script>\n",
              "      async function quickchart(key) {\n",
              "        const containerElement = document.querySelector('#' + key);\n",
              "        const charts = await google.colab.kernel.invokeFunction(\n",
              "            'suggestCharts', [key], {});\n",
              "      }\n",
              "    </script>\n",
              "\n",
              "      <script>\n",
              "\n",
              "function displayQuickchartButton(domScope) {\n",
              "  let quickchartButtonEl =\n",
              "    domScope.querySelector('#df-1c11bf6b-9c07-4dd9-8523-ca610be35c18 button.colab-df-quickchart');\n",
              "  quickchartButtonEl.style.display =\n",
              "    google.colab.kernel.accessAllowed ? 'block' : 'none';\n",
              "}\n",
              "\n",
              "        displayQuickchartButton(document);\n",
              "      </script>\n",
              "      <style>\n",
              "    .colab-df-container {\n",
              "      display:flex;\n",
              "      flex-wrap:wrap;\n",
              "      gap: 12px;\n",
              "    }\n",
              "\n",
              "    .colab-df-convert {\n",
              "      background-color: #E8F0FE;\n",
              "      border: none;\n",
              "      border-radius: 50%;\n",
              "      cursor: pointer;\n",
              "      display: none;\n",
              "      fill: #1967D2;\n",
              "      height: 32px;\n",
              "      padding: 0 0 0 0;\n",
              "      width: 32px;\n",
              "    }\n",
              "\n",
              "    .colab-df-convert:hover {\n",
              "      background-color: #E2EBFA;\n",
              "      box-shadow: 0px 1px 2px rgba(60, 64, 67, 0.3), 0px 1px 3px 1px rgba(60, 64, 67, 0.15);\n",
              "      fill: #174EA6;\n",
              "    }\n",
              "\n",
              "    [theme=dark] .colab-df-convert {\n",
              "      background-color: #3B4455;\n",
              "      fill: #D2E3FC;\n",
              "    }\n",
              "\n",
              "    [theme=dark] .colab-df-convert:hover {\n",
              "      background-color: #434B5C;\n",
              "      box-shadow: 0px 1px 3px 1px rgba(0, 0, 0, 0.15);\n",
              "      filter: drop-shadow(0px 1px 2px rgba(0, 0, 0, 0.3));\n",
              "      fill: #FFFFFF;\n",
              "    }\n",
              "  </style>\n",
              "\n",
              "      <script>\n",
              "        const buttonEl =\n",
              "          document.querySelector('#df-66a84a95-c375-411e-ac01-d40d0cb3d7fc button.colab-df-convert');\n",
              "        buttonEl.style.display =\n",
              "          google.colab.kernel.accessAllowed ? 'block' : 'none';\n",
              "\n",
              "        async function convertToInteractive(key) {\n",
              "          const element = document.querySelector('#df-66a84a95-c375-411e-ac01-d40d0cb3d7fc');\n",
              "          const dataTable =\n",
              "            await google.colab.kernel.invokeFunction('convertToInteractive',\n",
              "                                                     [key], {});\n",
              "          if (!dataTable) return;\n",
              "\n",
              "          const docLinkHtml = 'Like what you see? Visit the ' +\n",
              "            '<a target=\"_blank\" href=https://colab.research.google.com/notebooks/data_table.ipynb>data table notebook</a>'\n",
              "            + ' to learn more about interactive tables.';\n",
              "          element.innerHTML = '';\n",
              "          dataTable['output_type'] = 'display_data';\n",
              "          await google.colab.output.renderOutput(dataTable, element);\n",
              "          const docLink = document.createElement('div');\n",
              "          docLink.innerHTML = docLinkHtml;\n",
              "          element.appendChild(docLink);\n",
              "        }\n",
              "      </script>\n",
              "    </div>\n",
              "  </div>\n"
            ],
            "text/plain": [
              "  species     island  bill_length_mm  bill_depth_mm  flipper_length_mm  \\\n",
              "0  Adelie  Torgersen            39.1           18.7              181.0   \n",
              "1  Adelie  Torgersen            39.5           17.4              186.0   \n",
              "2  Adelie  Torgersen            40.3           18.0              195.0   \n",
              "\n",
              "   body_mass_g     sex  \n",
              "0       3750.0    Male  \n",
              "1       3800.0  Female  \n",
              "2       3250.0  Female  "
            ]
          },
          "execution_count": 8,
          "metadata": {},
          "output_type": "execute_result"
        }
      ],
      "source": [
        "df.head(3)"
      ]
    },
    {
      "cell_type": "code",
      "execution_count": null,
      "metadata": {
        "colab": {
          "base_uri": "https://localhost:8080/",
          "height": 424
        },
        "id": "pmRD7hfpqWcd",
        "outputId": "23aa99c2-9e91-4a73-af2b-8bd8eab72106"
      },
      "outputs": [
        {
          "data": {
            "text/html": [
              "\n",
              "\n",
              "  <div id=\"df-39713704-0602-42a1-aed2-fb3650225f7c\">\n",
              "    <div class=\"colab-df-container\">\n",
              "      <div>\n",
              "<style scoped>\n",
              "    .dataframe tbody tr th:only-of-type {\n",
              "        vertical-align: middle;\n",
              "    }\n",
              "\n",
              "    .dataframe tbody tr th {\n",
              "        vertical-align: top;\n",
              "    }\n",
              "\n",
              "    .dataframe thead th {\n",
              "        text-align: right;\n",
              "    }\n",
              "</style>\n",
              "<table border=\"1\" class=\"dataframe\">\n",
              "  <thead>\n",
              "    <tr style=\"text-align: right;\">\n",
              "      <th></th>\n",
              "      <th>island</th>\n",
              "      <th>bill_length_mm</th>\n",
              "      <th>bill_depth_mm</th>\n",
              "      <th>flipper_length_mm</th>\n",
              "      <th>body_mass_g</th>\n",
              "      <th>sex</th>\n",
              "    </tr>\n",
              "  </thead>\n",
              "  <tbody>\n",
              "    <tr>\n",
              "      <th>0</th>\n",
              "      <td>Torgersen</td>\n",
              "      <td>39.1</td>\n",
              "      <td>18.7</td>\n",
              "      <td>181.0</td>\n",
              "      <td>3750.0</td>\n",
              "      <td>Male</td>\n",
              "    </tr>\n",
              "    <tr>\n",
              "      <th>1</th>\n",
              "      <td>Torgersen</td>\n",
              "      <td>39.5</td>\n",
              "      <td>17.4</td>\n",
              "      <td>186.0</td>\n",
              "      <td>3800.0</td>\n",
              "      <td>Female</td>\n",
              "    </tr>\n",
              "    <tr>\n",
              "      <th>2</th>\n",
              "      <td>Torgersen</td>\n",
              "      <td>40.3</td>\n",
              "      <td>18.0</td>\n",
              "      <td>195.0</td>\n",
              "      <td>3250.0</td>\n",
              "      <td>Female</td>\n",
              "    </tr>\n",
              "    <tr>\n",
              "      <th>3</th>\n",
              "      <td>Torgersen</td>\n",
              "      <td>NaN</td>\n",
              "      <td>NaN</td>\n",
              "      <td>NaN</td>\n",
              "      <td>NaN</td>\n",
              "      <td>NaN</td>\n",
              "    </tr>\n",
              "    <tr>\n",
              "      <th>4</th>\n",
              "      <td>Torgersen</td>\n",
              "      <td>36.7</td>\n",
              "      <td>19.3</td>\n",
              "      <td>193.0</td>\n",
              "      <td>3450.0</td>\n",
              "      <td>Female</td>\n",
              "    </tr>\n",
              "    <tr>\n",
              "      <th>...</th>\n",
              "      <td>...</td>\n",
              "      <td>...</td>\n",
              "      <td>...</td>\n",
              "      <td>...</td>\n",
              "      <td>...</td>\n",
              "      <td>...</td>\n",
              "    </tr>\n",
              "    <tr>\n",
              "      <th>339</th>\n",
              "      <td>Biscoe</td>\n",
              "      <td>NaN</td>\n",
              "      <td>NaN</td>\n",
              "      <td>NaN</td>\n",
              "      <td>NaN</td>\n",
              "      <td>NaN</td>\n",
              "    </tr>\n",
              "    <tr>\n",
              "      <th>340</th>\n",
              "      <td>Biscoe</td>\n",
              "      <td>46.8</td>\n",
              "      <td>14.3</td>\n",
              "      <td>215.0</td>\n",
              "      <td>4850.0</td>\n",
              "      <td>Female</td>\n",
              "    </tr>\n",
              "    <tr>\n",
              "      <th>341</th>\n",
              "      <td>Biscoe</td>\n",
              "      <td>50.4</td>\n",
              "      <td>15.7</td>\n",
              "      <td>222.0</td>\n",
              "      <td>5750.0</td>\n",
              "      <td>Male</td>\n",
              "    </tr>\n",
              "    <tr>\n",
              "      <th>342</th>\n",
              "      <td>Biscoe</td>\n",
              "      <td>45.2</td>\n",
              "      <td>14.8</td>\n",
              "      <td>212.0</td>\n",
              "      <td>5200.0</td>\n",
              "      <td>Female</td>\n",
              "    </tr>\n",
              "    <tr>\n",
              "      <th>343</th>\n",
              "      <td>Biscoe</td>\n",
              "      <td>49.9</td>\n",
              "      <td>16.1</td>\n",
              "      <td>213.0</td>\n",
              "      <td>5400.0</td>\n",
              "      <td>Male</td>\n",
              "    </tr>\n",
              "  </tbody>\n",
              "</table>\n",
              "<p>344 rows × 6 columns</p>\n",
              "</div>\n",
              "      <button class=\"colab-df-convert\" onclick=\"convertToInteractive('df-39713704-0602-42a1-aed2-fb3650225f7c')\"\n",
              "              title=\"Convert this dataframe to an interactive table.\"\n",
              "              style=\"display:none;\">\n",
              "\n",
              "  <svg xmlns=\"http://www.w3.org/2000/svg\" height=\"24px\"viewBox=\"0 0 24 24\"\n",
              "       width=\"24px\">\n",
              "    <path d=\"M0 0h24v24H0V0z\" fill=\"none\"/>\n",
              "    <path d=\"M18.56 5.44l.94 2.06.94-2.06 2.06-.94-2.06-.94-.94-2.06-.94 2.06-2.06.94zm-11 1L8.5 8.5l.94-2.06 2.06-.94-2.06-.94L8.5 2.5l-.94 2.06-2.06.94zm10 10l.94 2.06.94-2.06 2.06-.94-2.06-.94-.94-2.06-.94 2.06-2.06.94z\"/><path d=\"M17.41 7.96l-1.37-1.37c-.4-.4-.92-.59-1.43-.59-.52 0-1.04.2-1.43.59L10.3 9.45l-7.72 7.72c-.78.78-.78 2.05 0 2.83L4 21.41c.39.39.9.59 1.41.59.51 0 1.02-.2 1.41-.59l7.78-7.78 2.81-2.81c.8-.78.8-2.07 0-2.86zM5.41 20L4 18.59l7.72-7.72 1.47 1.35L5.41 20z\"/>\n",
              "  </svg>\n",
              "      </button>\n",
              "\n",
              "\n",
              "\n",
              "    <div id=\"df-d684b9c4-90a2-4960-b452-5d7b721cc248\">\n",
              "      <button class=\"colab-df-quickchart\" onclick=\"quickchart('df-d684b9c4-90a2-4960-b452-5d7b721cc248')\"\n",
              "              title=\"Suggest charts.\"\n",
              "              style=\"display:none;\">\n",
              "\n",
              "<svg xmlns=\"http://www.w3.org/2000/svg\" height=\"24px\"viewBox=\"0 0 24 24\"\n",
              "     width=\"24px\">\n",
              "    <g>\n",
              "        <path d=\"M19 3H5c-1.1 0-2 .9-2 2v14c0 1.1.9 2 2 2h14c1.1 0 2-.9 2-2V5c0-1.1-.9-2-2-2zM9 17H7v-7h2v7zm4 0h-2V7h2v10zm4 0h-2v-4h2v4z\"/>\n",
              "    </g>\n",
              "</svg>\n",
              "      </button>\n",
              "    </div>\n",
              "\n",
              "<style>\n",
              "  .colab-df-quickchart {\n",
              "    background-color: #E8F0FE;\n",
              "    border: none;\n",
              "    border-radius: 50%;\n",
              "    cursor: pointer;\n",
              "    display: none;\n",
              "    fill: #1967D2;\n",
              "    height: 32px;\n",
              "    padding: 0 0 0 0;\n",
              "    width: 32px;\n",
              "  }\n",
              "\n",
              "  .colab-df-quickchart:hover {\n",
              "    background-color: #E2EBFA;\n",
              "    box-shadow: 0px 1px 2px rgba(60, 64, 67, 0.3), 0px 1px 3px 1px rgba(60, 64, 67, 0.15);\n",
              "    fill: #174EA6;\n",
              "  }\n",
              "\n",
              "  [theme=dark] .colab-df-quickchart {\n",
              "    background-color: #3B4455;\n",
              "    fill: #D2E3FC;\n",
              "  }\n",
              "\n",
              "  [theme=dark] .colab-df-quickchart:hover {\n",
              "    background-color: #434B5C;\n",
              "    box-shadow: 0px 1px 3px 1px rgba(0, 0, 0, 0.15);\n",
              "    filter: drop-shadow(0px 1px 2px rgba(0, 0, 0, 0.3));\n",
              "    fill: #FFFFFF;\n",
              "  }\n",
              "</style>\n",
              "\n",
              "    <script>\n",
              "      async function quickchart(key) {\n",
              "        const containerElement = document.querySelector('#' + key);\n",
              "        const charts = await google.colab.kernel.invokeFunction(\n",
              "            'suggestCharts', [key], {});\n",
              "      }\n",
              "    </script>\n",
              "\n",
              "      <script>\n",
              "\n",
              "function displayQuickchartButton(domScope) {\n",
              "  let quickchartButtonEl =\n",
              "    domScope.querySelector('#df-d684b9c4-90a2-4960-b452-5d7b721cc248 button.colab-df-quickchart');\n",
              "  quickchartButtonEl.style.display =\n",
              "    google.colab.kernel.accessAllowed ? 'block' : 'none';\n",
              "}\n",
              "\n",
              "        displayQuickchartButton(document);\n",
              "      </script>\n",
              "      <style>\n",
              "    .colab-df-container {\n",
              "      display:flex;\n",
              "      flex-wrap:wrap;\n",
              "      gap: 12px;\n",
              "    }\n",
              "\n",
              "    .colab-df-convert {\n",
              "      background-color: #E8F0FE;\n",
              "      border: none;\n",
              "      border-radius: 50%;\n",
              "      cursor: pointer;\n",
              "      display: none;\n",
              "      fill: #1967D2;\n",
              "      height: 32px;\n",
              "      padding: 0 0 0 0;\n",
              "      width: 32px;\n",
              "    }\n",
              "\n",
              "    .colab-df-convert:hover {\n",
              "      background-color: #E2EBFA;\n",
              "      box-shadow: 0px 1px 2px rgba(60, 64, 67, 0.3), 0px 1px 3px 1px rgba(60, 64, 67, 0.15);\n",
              "      fill: #174EA6;\n",
              "    }\n",
              "\n",
              "    [theme=dark] .colab-df-convert {\n",
              "      background-color: #3B4455;\n",
              "      fill: #D2E3FC;\n",
              "    }\n",
              "\n",
              "    [theme=dark] .colab-df-convert:hover {\n",
              "      background-color: #434B5C;\n",
              "      box-shadow: 0px 1px 3px 1px rgba(0, 0, 0, 0.15);\n",
              "      filter: drop-shadow(0px 1px 2px rgba(0, 0, 0, 0.3));\n",
              "      fill: #FFFFFF;\n",
              "    }\n",
              "  </style>\n",
              "\n",
              "      <script>\n",
              "        const buttonEl =\n",
              "          document.querySelector('#df-39713704-0602-42a1-aed2-fb3650225f7c button.colab-df-convert');\n",
              "        buttonEl.style.display =\n",
              "          google.colab.kernel.accessAllowed ? 'block' : 'none';\n",
              "\n",
              "        async function convertToInteractive(key) {\n",
              "          const element = document.querySelector('#df-39713704-0602-42a1-aed2-fb3650225f7c');\n",
              "          const dataTable =\n",
              "            await google.colab.kernel.invokeFunction('convertToInteractive',\n",
              "                                                     [key], {});\n",
              "          if (!dataTable) return;\n",
              "\n",
              "          const docLinkHtml = 'Like what you see? Visit the ' +\n",
              "            '<a target=\"_blank\" href=https://colab.research.google.com/notebooks/data_table.ipynb>data table notebook</a>'\n",
              "            + ' to learn more about interactive tables.';\n",
              "          element.innerHTML = '';\n",
              "          dataTable['output_type'] = 'display_data';\n",
              "          await google.colab.output.renderOutput(dataTable, element);\n",
              "          const docLink = document.createElement('div');\n",
              "          docLink.innerHTML = docLinkHtml;\n",
              "          element.appendChild(docLink);\n",
              "        }\n",
              "      </script>\n",
              "    </div>\n",
              "  </div>\n"
            ],
            "text/plain": [
              "        island  bill_length_mm  bill_depth_mm  flipper_length_mm  body_mass_g  \\\n",
              "0    Torgersen            39.1           18.7              181.0       3750.0   \n",
              "1    Torgersen            39.5           17.4              186.0       3800.0   \n",
              "2    Torgersen            40.3           18.0              195.0       3250.0   \n",
              "3    Torgersen             NaN            NaN                NaN          NaN   \n",
              "4    Torgersen            36.7           19.3              193.0       3450.0   \n",
              "..         ...             ...            ...                ...          ...   \n",
              "339     Biscoe             NaN            NaN                NaN          NaN   \n",
              "340     Biscoe            46.8           14.3              215.0       4850.0   \n",
              "341     Biscoe            50.4           15.7              222.0       5750.0   \n",
              "342     Biscoe            45.2           14.8              212.0       5200.0   \n",
              "343     Biscoe            49.9           16.1              213.0       5400.0   \n",
              "\n",
              "        sex  \n",
              "0      Male  \n",
              "1    Female  \n",
              "2    Female  \n",
              "3       NaN  \n",
              "4    Female  \n",
              "..      ...  \n",
              "339     NaN  \n",
              "340  Female  \n",
              "341    Male  \n",
              "342  Female  \n",
              "343    Male  \n",
              "\n",
              "[344 rows x 6 columns]"
            ]
          },
          "execution_count": 9,
          "metadata": {},
          "output_type": "execute_result"
        }
      ],
      "source": [
        "df.drop(['species'], axis = 1)"
      ]
    },
    {
      "attachments": {},
      "cell_type": "markdown",
      "metadata": {
        "id": "J7rR55xiqmBi"
      },
      "source": [
        "## 컬럼추가\n",
        "\n",
        "* df['추가할 컬럼'] = data\n",
        "* df.assign('컬럼명1' = data1, '컬럼명2' = data2)\n",
        "* df.insert(위치 = 1, 컬럼명, data, allow_duplicates=False)\n",
        "    * allow_duplicates : 추가하는 컬럼명과 기존의 컬럼명이 동일할때 True를 사용하면 오류없이 추가 가능"
      ]
    },
    {
      "cell_type": "code",
      "execution_count": null,
      "metadata": {
        "colab": {
          "base_uri": "https://localhost:8080/",
          "height": 206
        },
        "id": "z2jocIA8rVx0",
        "outputId": "646f3df3-4c05-4a25-9448-8ab98c5cdd5b"
      },
      "outputs": [
        {
          "data": {
            "text/html": [
              "\n",
              "\n",
              "  <div id=\"df-567adbc6-1291-4c04-8ff5-724085fa221a\">\n",
              "    <div class=\"colab-df-container\">\n",
              "      <div>\n",
              "<style scoped>\n",
              "    .dataframe tbody tr th:only-of-type {\n",
              "        vertical-align: middle;\n",
              "    }\n",
              "\n",
              "    .dataframe tbody tr th {\n",
              "        vertical-align: top;\n",
              "    }\n",
              "\n",
              "    .dataframe thead th {\n",
              "        text-align: right;\n",
              "    }\n",
              "</style>\n",
              "<table border=\"1\" class=\"dataframe\">\n",
              "  <thead>\n",
              "    <tr style=\"text-align: right;\">\n",
              "      <th></th>\n",
              "      <th>species</th>\n",
              "      <th>island</th>\n",
              "      <th>bill_length_mm</th>\n",
              "      <th>bill_depth_mm</th>\n",
              "      <th>flipper_length_mm</th>\n",
              "      <th>body_mass_g</th>\n",
              "      <th>sex</th>\n",
              "      <th>a</th>\n",
              "    </tr>\n",
              "  </thead>\n",
              "  <tbody>\n",
              "    <tr>\n",
              "      <th>0</th>\n",
              "      <td>Adelie</td>\n",
              "      <td>Torgersen</td>\n",
              "      <td>39.1</td>\n",
              "      <td>18.7</td>\n",
              "      <td>181.0</td>\n",
              "      <td>3750.0</td>\n",
              "      <td>Male</td>\n",
              "      <td>1</td>\n",
              "    </tr>\n",
              "    <tr>\n",
              "      <th>1</th>\n",
              "      <td>Adelie</td>\n",
              "      <td>Torgersen</td>\n",
              "      <td>39.5</td>\n",
              "      <td>17.4</td>\n",
              "      <td>186.0</td>\n",
              "      <td>3800.0</td>\n",
              "      <td>Female</td>\n",
              "      <td>1</td>\n",
              "    </tr>\n",
              "    <tr>\n",
              "      <th>2</th>\n",
              "      <td>Adelie</td>\n",
              "      <td>Torgersen</td>\n",
              "      <td>40.3</td>\n",
              "      <td>18.0</td>\n",
              "      <td>195.0</td>\n",
              "      <td>3250.0</td>\n",
              "      <td>Female</td>\n",
              "      <td>1</td>\n",
              "    </tr>\n",
              "    <tr>\n",
              "      <th>3</th>\n",
              "      <td>Adelie</td>\n",
              "      <td>Torgersen</td>\n",
              "      <td>NaN</td>\n",
              "      <td>NaN</td>\n",
              "      <td>NaN</td>\n",
              "      <td>NaN</td>\n",
              "      <td>NaN</td>\n",
              "      <td>1</td>\n",
              "    </tr>\n",
              "    <tr>\n",
              "      <th>4</th>\n",
              "      <td>Adelie</td>\n",
              "      <td>Torgersen</td>\n",
              "      <td>36.7</td>\n",
              "      <td>19.3</td>\n",
              "      <td>193.0</td>\n",
              "      <td>3450.0</td>\n",
              "      <td>Female</td>\n",
              "      <td>1</td>\n",
              "    </tr>\n",
              "  </tbody>\n",
              "</table>\n",
              "</div>\n",
              "      <button class=\"colab-df-convert\" onclick=\"convertToInteractive('df-567adbc6-1291-4c04-8ff5-724085fa221a')\"\n",
              "              title=\"Convert this dataframe to an interactive table.\"\n",
              "              style=\"display:none;\">\n",
              "\n",
              "  <svg xmlns=\"http://www.w3.org/2000/svg\" height=\"24px\"viewBox=\"0 0 24 24\"\n",
              "       width=\"24px\">\n",
              "    <path d=\"M0 0h24v24H0V0z\" fill=\"none\"/>\n",
              "    <path d=\"M18.56 5.44l.94 2.06.94-2.06 2.06-.94-2.06-.94-.94-2.06-.94 2.06-2.06.94zm-11 1L8.5 8.5l.94-2.06 2.06-.94-2.06-.94L8.5 2.5l-.94 2.06-2.06.94zm10 10l.94 2.06.94-2.06 2.06-.94-2.06-.94-.94-2.06-.94 2.06-2.06.94z\"/><path d=\"M17.41 7.96l-1.37-1.37c-.4-.4-.92-.59-1.43-.59-.52 0-1.04.2-1.43.59L10.3 9.45l-7.72 7.72c-.78.78-.78 2.05 0 2.83L4 21.41c.39.39.9.59 1.41.59.51 0 1.02-.2 1.41-.59l7.78-7.78 2.81-2.81c.8-.78.8-2.07 0-2.86zM5.41 20L4 18.59l7.72-7.72 1.47 1.35L5.41 20z\"/>\n",
              "  </svg>\n",
              "      </button>\n",
              "\n",
              "\n",
              "\n",
              "    <div id=\"df-0f9bf861-668f-46d6-912d-266c1b82e804\">\n",
              "      <button class=\"colab-df-quickchart\" onclick=\"quickchart('df-0f9bf861-668f-46d6-912d-266c1b82e804')\"\n",
              "              title=\"Suggest charts.\"\n",
              "              style=\"display:none;\">\n",
              "\n",
              "<svg xmlns=\"http://www.w3.org/2000/svg\" height=\"24px\"viewBox=\"0 0 24 24\"\n",
              "     width=\"24px\">\n",
              "    <g>\n",
              "        <path d=\"M19 3H5c-1.1 0-2 .9-2 2v14c0 1.1.9 2 2 2h14c1.1 0 2-.9 2-2V5c0-1.1-.9-2-2-2zM9 17H7v-7h2v7zm4 0h-2V7h2v10zm4 0h-2v-4h2v4z\"/>\n",
              "    </g>\n",
              "</svg>\n",
              "      </button>\n",
              "    </div>\n",
              "\n",
              "<style>\n",
              "  .colab-df-quickchart {\n",
              "    background-color: #E8F0FE;\n",
              "    border: none;\n",
              "    border-radius: 50%;\n",
              "    cursor: pointer;\n",
              "    display: none;\n",
              "    fill: #1967D2;\n",
              "    height: 32px;\n",
              "    padding: 0 0 0 0;\n",
              "    width: 32px;\n",
              "  }\n",
              "\n",
              "  .colab-df-quickchart:hover {\n",
              "    background-color: #E2EBFA;\n",
              "    box-shadow: 0px 1px 2px rgba(60, 64, 67, 0.3), 0px 1px 3px 1px rgba(60, 64, 67, 0.15);\n",
              "    fill: #174EA6;\n",
              "  }\n",
              "\n",
              "  [theme=dark] .colab-df-quickchart {\n",
              "    background-color: #3B4455;\n",
              "    fill: #D2E3FC;\n",
              "  }\n",
              "\n",
              "  [theme=dark] .colab-df-quickchart:hover {\n",
              "    background-color: #434B5C;\n",
              "    box-shadow: 0px 1px 3px 1px rgba(0, 0, 0, 0.15);\n",
              "    filter: drop-shadow(0px 1px 2px rgba(0, 0, 0, 0.3));\n",
              "    fill: #FFFFFF;\n",
              "  }\n",
              "</style>\n",
              "\n",
              "    <script>\n",
              "      async function quickchart(key) {\n",
              "        const containerElement = document.querySelector('#' + key);\n",
              "        const charts = await google.colab.kernel.invokeFunction(\n",
              "            'suggestCharts', [key], {});\n",
              "      }\n",
              "    </script>\n",
              "\n",
              "      <script>\n",
              "\n",
              "function displayQuickchartButton(domScope) {\n",
              "  let quickchartButtonEl =\n",
              "    domScope.querySelector('#df-0f9bf861-668f-46d6-912d-266c1b82e804 button.colab-df-quickchart');\n",
              "  quickchartButtonEl.style.display =\n",
              "    google.colab.kernel.accessAllowed ? 'block' : 'none';\n",
              "}\n",
              "\n",
              "        displayQuickchartButton(document);\n",
              "      </script>\n",
              "      <style>\n",
              "    .colab-df-container {\n",
              "      display:flex;\n",
              "      flex-wrap:wrap;\n",
              "      gap: 12px;\n",
              "    }\n",
              "\n",
              "    .colab-df-convert {\n",
              "      background-color: #E8F0FE;\n",
              "      border: none;\n",
              "      border-radius: 50%;\n",
              "      cursor: pointer;\n",
              "      display: none;\n",
              "      fill: #1967D2;\n",
              "      height: 32px;\n",
              "      padding: 0 0 0 0;\n",
              "      width: 32px;\n",
              "    }\n",
              "\n",
              "    .colab-df-convert:hover {\n",
              "      background-color: #E2EBFA;\n",
              "      box-shadow: 0px 1px 2px rgba(60, 64, 67, 0.3), 0px 1px 3px 1px rgba(60, 64, 67, 0.15);\n",
              "      fill: #174EA6;\n",
              "    }\n",
              "\n",
              "    [theme=dark] .colab-df-convert {\n",
              "      background-color: #3B4455;\n",
              "      fill: #D2E3FC;\n",
              "    }\n",
              "\n",
              "    [theme=dark] .colab-df-convert:hover {\n",
              "      background-color: #434B5C;\n",
              "      box-shadow: 0px 1px 3px 1px rgba(0, 0, 0, 0.15);\n",
              "      filter: drop-shadow(0px 1px 2px rgba(0, 0, 0, 0.3));\n",
              "      fill: #FFFFFF;\n",
              "    }\n",
              "  </style>\n",
              "\n",
              "      <script>\n",
              "        const buttonEl =\n",
              "          document.querySelector('#df-567adbc6-1291-4c04-8ff5-724085fa221a button.colab-df-convert');\n",
              "        buttonEl.style.display =\n",
              "          google.colab.kernel.accessAllowed ? 'block' : 'none';\n",
              "\n",
              "        async function convertToInteractive(key) {\n",
              "          const element = document.querySelector('#df-567adbc6-1291-4c04-8ff5-724085fa221a');\n",
              "          const dataTable =\n",
              "            await google.colab.kernel.invokeFunction('convertToInteractive',\n",
              "                                                     [key], {});\n",
              "          if (!dataTable) return;\n",
              "\n",
              "          const docLinkHtml = 'Like what you see? Visit the ' +\n",
              "            '<a target=\"_blank\" href=https://colab.research.google.com/notebooks/data_table.ipynb>data table notebook</a>'\n",
              "            + ' to learn more about interactive tables.';\n",
              "          element.innerHTML = '';\n",
              "          dataTable['output_type'] = 'display_data';\n",
              "          await google.colab.output.renderOutput(dataTable, element);\n",
              "          const docLink = document.createElement('div');\n",
              "          docLink.innerHTML = docLinkHtml;\n",
              "          element.appendChild(docLink);\n",
              "        }\n",
              "      </script>\n",
              "    </div>\n",
              "  </div>\n"
            ],
            "text/plain": [
              "  species     island  bill_length_mm  bill_depth_mm  flipper_length_mm  \\\n",
              "0  Adelie  Torgersen            39.1           18.7              181.0   \n",
              "1  Adelie  Torgersen            39.5           17.4              186.0   \n",
              "2  Adelie  Torgersen            40.3           18.0              195.0   \n",
              "3  Adelie  Torgersen             NaN            NaN                NaN   \n",
              "4  Adelie  Torgersen            36.7           19.3              193.0   \n",
              "\n",
              "   body_mass_g     sex  a  \n",
              "0       3750.0    Male  1  \n",
              "1       3800.0  Female  1  \n",
              "2       3250.0  Female  1  \n",
              "3          NaN     NaN  1  \n",
              "4       3450.0  Female  1  "
            ]
          },
          "execution_count": 10,
          "metadata": {},
          "output_type": "execute_result"
        }
      ],
      "source": [
        "# 1\n",
        "\n",
        "df['a'] = 1\n",
        "df.head()"
      ]
    },
    {
      "cell_type": "code",
      "execution_count": null,
      "metadata": {
        "colab": {
          "base_uri": "https://localhost:8080/",
          "height": 143
        },
        "id": "adY-6w42rhHs",
        "outputId": "844dcce5-0534-400b-a691-c43c37343434"
      },
      "outputs": [
        {
          "data": {
            "text/html": [
              "\n",
              "\n",
              "  <div id=\"df-0d02aebf-36be-43ab-853d-ec7bcce9609b\">\n",
              "    <div class=\"colab-df-container\">\n",
              "      <div>\n",
              "<style scoped>\n",
              "    .dataframe tbody tr th:only-of-type {\n",
              "        vertical-align: middle;\n",
              "    }\n",
              "\n",
              "    .dataframe tbody tr th {\n",
              "        vertical-align: top;\n",
              "    }\n",
              "\n",
              "    .dataframe thead th {\n",
              "        text-align: right;\n",
              "    }\n",
              "</style>\n",
              "<table border=\"1\" class=\"dataframe\">\n",
              "  <thead>\n",
              "    <tr style=\"text-align: right;\">\n",
              "      <th></th>\n",
              "      <th>species</th>\n",
              "      <th>island</th>\n",
              "      <th>bill_length_mm</th>\n",
              "      <th>bill_depth_mm</th>\n",
              "      <th>flipper_length_mm</th>\n",
              "      <th>body_mass_g</th>\n",
              "      <th>sex</th>\n",
              "      <th>a</th>\n",
              "    </tr>\n",
              "  </thead>\n",
              "  <tbody>\n",
              "    <tr>\n",
              "      <th>0</th>\n",
              "      <td>Adelie</td>\n",
              "      <td>Torgersen</td>\n",
              "      <td>39.1</td>\n",
              "      <td>18.7</td>\n",
              "      <td>181.0</td>\n",
              "      <td>3750.0</td>\n",
              "      <td>Male</td>\n",
              "      <td>1</td>\n",
              "    </tr>\n",
              "    <tr>\n",
              "      <th>1</th>\n",
              "      <td>Adelie</td>\n",
              "      <td>Torgersen</td>\n",
              "      <td>39.5</td>\n",
              "      <td>17.4</td>\n",
              "      <td>186.0</td>\n",
              "      <td>3800.0</td>\n",
              "      <td>Female</td>\n",
              "      <td>1</td>\n",
              "    </tr>\n",
              "    <tr>\n",
              "      <th>2</th>\n",
              "      <td>Adelie</td>\n",
              "      <td>Torgersen</td>\n",
              "      <td>40.3</td>\n",
              "      <td>18.0</td>\n",
              "      <td>195.0</td>\n",
              "      <td>3250.0</td>\n",
              "      <td>Female</td>\n",
              "      <td>1</td>\n",
              "    </tr>\n",
              "  </tbody>\n",
              "</table>\n",
              "</div>\n",
              "      <button class=\"colab-df-convert\" onclick=\"convertToInteractive('df-0d02aebf-36be-43ab-853d-ec7bcce9609b')\"\n",
              "              title=\"Convert this dataframe to an interactive table.\"\n",
              "              style=\"display:none;\">\n",
              "\n",
              "  <svg xmlns=\"http://www.w3.org/2000/svg\" height=\"24px\"viewBox=\"0 0 24 24\"\n",
              "       width=\"24px\">\n",
              "    <path d=\"M0 0h24v24H0V0z\" fill=\"none\"/>\n",
              "    <path d=\"M18.56 5.44l.94 2.06.94-2.06 2.06-.94-2.06-.94-.94-2.06-.94 2.06-2.06.94zm-11 1L8.5 8.5l.94-2.06 2.06-.94-2.06-.94L8.5 2.5l-.94 2.06-2.06.94zm10 10l.94 2.06.94-2.06 2.06-.94-2.06-.94-.94-2.06-.94 2.06-2.06.94z\"/><path d=\"M17.41 7.96l-1.37-1.37c-.4-.4-.92-.59-1.43-.59-.52 0-1.04.2-1.43.59L10.3 9.45l-7.72 7.72c-.78.78-.78 2.05 0 2.83L4 21.41c.39.39.9.59 1.41.59.51 0 1.02-.2 1.41-.59l7.78-7.78 2.81-2.81c.8-.78.8-2.07 0-2.86zM5.41 20L4 18.59l7.72-7.72 1.47 1.35L5.41 20z\"/>\n",
              "  </svg>\n",
              "      </button>\n",
              "\n",
              "\n",
              "\n",
              "    <div id=\"df-99e6cb7a-9a02-4952-afd3-3ba81ab4a392\">\n",
              "      <button class=\"colab-df-quickchart\" onclick=\"quickchart('df-99e6cb7a-9a02-4952-afd3-3ba81ab4a392')\"\n",
              "              title=\"Suggest charts.\"\n",
              "              style=\"display:none;\">\n",
              "\n",
              "<svg xmlns=\"http://www.w3.org/2000/svg\" height=\"24px\"viewBox=\"0 0 24 24\"\n",
              "     width=\"24px\">\n",
              "    <g>\n",
              "        <path d=\"M19 3H5c-1.1 0-2 .9-2 2v14c0 1.1.9 2 2 2h14c1.1 0 2-.9 2-2V5c0-1.1-.9-2-2-2zM9 17H7v-7h2v7zm4 0h-2V7h2v10zm4 0h-2v-4h2v4z\"/>\n",
              "    </g>\n",
              "</svg>\n",
              "      </button>\n",
              "    </div>\n",
              "\n",
              "<style>\n",
              "  .colab-df-quickchart {\n",
              "    background-color: #E8F0FE;\n",
              "    border: none;\n",
              "    border-radius: 50%;\n",
              "    cursor: pointer;\n",
              "    display: none;\n",
              "    fill: #1967D2;\n",
              "    height: 32px;\n",
              "    padding: 0 0 0 0;\n",
              "    width: 32px;\n",
              "  }\n",
              "\n",
              "  .colab-df-quickchart:hover {\n",
              "    background-color: #E2EBFA;\n",
              "    box-shadow: 0px 1px 2px rgba(60, 64, 67, 0.3), 0px 1px 3px 1px rgba(60, 64, 67, 0.15);\n",
              "    fill: #174EA6;\n",
              "  }\n",
              "\n",
              "  [theme=dark] .colab-df-quickchart {\n",
              "    background-color: #3B4455;\n",
              "    fill: #D2E3FC;\n",
              "  }\n",
              "\n",
              "  [theme=dark] .colab-df-quickchart:hover {\n",
              "    background-color: #434B5C;\n",
              "    box-shadow: 0px 1px 3px 1px rgba(0, 0, 0, 0.15);\n",
              "    filter: drop-shadow(0px 1px 2px rgba(0, 0, 0, 0.3));\n",
              "    fill: #FFFFFF;\n",
              "  }\n",
              "</style>\n",
              "\n",
              "    <script>\n",
              "      async function quickchart(key) {\n",
              "        const containerElement = document.querySelector('#' + key);\n",
              "        const charts = await google.colab.kernel.invokeFunction(\n",
              "            'suggestCharts', [key], {});\n",
              "      }\n",
              "    </script>\n",
              "\n",
              "      <script>\n",
              "\n",
              "function displayQuickchartButton(domScope) {\n",
              "  let quickchartButtonEl =\n",
              "    domScope.querySelector('#df-99e6cb7a-9a02-4952-afd3-3ba81ab4a392 button.colab-df-quickchart');\n",
              "  quickchartButtonEl.style.display =\n",
              "    google.colab.kernel.accessAllowed ? 'block' : 'none';\n",
              "}\n",
              "\n",
              "        displayQuickchartButton(document);\n",
              "      </script>\n",
              "      <style>\n",
              "    .colab-df-container {\n",
              "      display:flex;\n",
              "      flex-wrap:wrap;\n",
              "      gap: 12px;\n",
              "    }\n",
              "\n",
              "    .colab-df-convert {\n",
              "      background-color: #E8F0FE;\n",
              "      border: none;\n",
              "      border-radius: 50%;\n",
              "      cursor: pointer;\n",
              "      display: none;\n",
              "      fill: #1967D2;\n",
              "      height: 32px;\n",
              "      padding: 0 0 0 0;\n",
              "      width: 32px;\n",
              "    }\n",
              "\n",
              "    .colab-df-convert:hover {\n",
              "      background-color: #E2EBFA;\n",
              "      box-shadow: 0px 1px 2px rgba(60, 64, 67, 0.3), 0px 1px 3px 1px rgba(60, 64, 67, 0.15);\n",
              "      fill: #174EA6;\n",
              "    }\n",
              "\n",
              "    [theme=dark] .colab-df-convert {\n",
              "      background-color: #3B4455;\n",
              "      fill: #D2E3FC;\n",
              "    }\n",
              "\n",
              "    [theme=dark] .colab-df-convert:hover {\n",
              "      background-color: #434B5C;\n",
              "      box-shadow: 0px 1px 3px 1px rgba(0, 0, 0, 0.15);\n",
              "      filter: drop-shadow(0px 1px 2px rgba(0, 0, 0, 0.3));\n",
              "      fill: #FFFFFF;\n",
              "    }\n",
              "  </style>\n",
              "\n",
              "      <script>\n",
              "        const buttonEl =\n",
              "          document.querySelector('#df-0d02aebf-36be-43ab-853d-ec7bcce9609b button.colab-df-convert');\n",
              "        buttonEl.style.display =\n",
              "          google.colab.kernel.accessAllowed ? 'block' : 'none';\n",
              "\n",
              "        async function convertToInteractive(key) {\n",
              "          const element = document.querySelector('#df-0d02aebf-36be-43ab-853d-ec7bcce9609b');\n",
              "          const dataTable =\n",
              "            await google.colab.kernel.invokeFunction('convertToInteractive',\n",
              "                                                     [key], {});\n",
              "          if (!dataTable) return;\n",
              "\n",
              "          const docLinkHtml = 'Like what you see? Visit the ' +\n",
              "            '<a target=\"_blank\" href=https://colab.research.google.com/notebooks/data_table.ipynb>data table notebook</a>'\n",
              "            + ' to learn more about interactive tables.';\n",
              "          element.innerHTML = '';\n",
              "          dataTable['output_type'] = 'display_data';\n",
              "          await google.colab.output.renderOutput(dataTable, element);\n",
              "          const docLink = document.createElement('div');\n",
              "          docLink.innerHTML = docLinkHtml;\n",
              "          element.appendChild(docLink);\n",
              "        }\n",
              "      </script>\n",
              "    </div>\n",
              "  </div>\n"
            ],
            "text/plain": [
              "  species     island  bill_length_mm  bill_depth_mm  flipper_length_mm  \\\n",
              "0  Adelie  Torgersen            39.1           18.7              181.0   \n",
              "1  Adelie  Torgersen            39.5           17.4              186.0   \n",
              "2  Adelie  Torgersen            40.3           18.0              195.0   \n",
              "\n",
              "   body_mass_g     sex  a  \n",
              "0       3750.0    Male  1  \n",
              "1       3800.0  Female  1  \n",
              "2       3250.0  Female  1  "
            ]
          },
          "execution_count": 13,
          "metadata": {},
          "output_type": "execute_result"
        }
      ],
      "source": [
        "# 2\n",
        "\n",
        "df.assign(b = 1, c = 1)\n",
        "df.head(3)"
      ]
    },
    {
      "cell_type": "code",
      "execution_count": null,
      "metadata": {
        "colab": {
          "base_uri": "https://localhost:8080/",
          "height": 424
        },
        "id": "bhNLZAPgrpYw",
        "outputId": "4511a9ad-a689-4fe5-9899-f441626490f8"
      },
      "outputs": [
        {
          "data": {
            "text/html": [
              "\n",
              "\n",
              "  <div id=\"df-864088f4-08b5-4198-8250-f8b7928a9d6c\">\n",
              "    <div class=\"colab-df-container\">\n",
              "      <div>\n",
              "<style scoped>\n",
              "    .dataframe tbody tr th:only-of-type {\n",
              "        vertical-align: middle;\n",
              "    }\n",
              "\n",
              "    .dataframe tbody tr th {\n",
              "        vertical-align: top;\n",
              "    }\n",
              "\n",
              "    .dataframe thead th {\n",
              "        text-align: right;\n",
              "    }\n",
              "</style>\n",
              "<table border=\"1\" class=\"dataframe\">\n",
              "  <thead>\n",
              "    <tr style=\"text-align: right;\">\n",
              "      <th></th>\n",
              "      <th>species</th>\n",
              "      <th>island</th>\n",
              "      <th>bill_length_mm</th>\n",
              "      <th>bill_depth_mm</th>\n",
              "      <th>flipper_length_mm</th>\n",
              "      <th>body_mass_g</th>\n",
              "      <th>sex</th>\n",
              "      <th>a</th>\n",
              "      <th>b</th>\n",
              "      <th>c</th>\n",
              "      <th>inplace</th>\n",
              "    </tr>\n",
              "  </thead>\n",
              "  <tbody>\n",
              "    <tr>\n",
              "      <th>0</th>\n",
              "      <td>Adelie</td>\n",
              "      <td>Torgersen</td>\n",
              "      <td>39.1</td>\n",
              "      <td>18.7</td>\n",
              "      <td>181.0</td>\n",
              "      <td>3750.0</td>\n",
              "      <td>Male</td>\n",
              "      <td>1</td>\n",
              "      <td>1</td>\n",
              "      <td>2</td>\n",
              "      <td>True</td>\n",
              "    </tr>\n",
              "    <tr>\n",
              "      <th>1</th>\n",
              "      <td>Adelie</td>\n",
              "      <td>Torgersen</td>\n",
              "      <td>39.5</td>\n",
              "      <td>17.4</td>\n",
              "      <td>186.0</td>\n",
              "      <td>3800.0</td>\n",
              "      <td>Female</td>\n",
              "      <td>1</td>\n",
              "      <td>1</td>\n",
              "      <td>2</td>\n",
              "      <td>True</td>\n",
              "    </tr>\n",
              "    <tr>\n",
              "      <th>2</th>\n",
              "      <td>Adelie</td>\n",
              "      <td>Torgersen</td>\n",
              "      <td>40.3</td>\n",
              "      <td>18.0</td>\n",
              "      <td>195.0</td>\n",
              "      <td>3250.0</td>\n",
              "      <td>Female</td>\n",
              "      <td>1</td>\n",
              "      <td>1</td>\n",
              "      <td>2</td>\n",
              "      <td>True</td>\n",
              "    </tr>\n",
              "    <tr>\n",
              "      <th>3</th>\n",
              "      <td>Adelie</td>\n",
              "      <td>Torgersen</td>\n",
              "      <td>NaN</td>\n",
              "      <td>NaN</td>\n",
              "      <td>NaN</td>\n",
              "      <td>NaN</td>\n",
              "      <td>NaN</td>\n",
              "      <td>1</td>\n",
              "      <td>1</td>\n",
              "      <td>2</td>\n",
              "      <td>True</td>\n",
              "    </tr>\n",
              "    <tr>\n",
              "      <th>4</th>\n",
              "      <td>Adelie</td>\n",
              "      <td>Torgersen</td>\n",
              "      <td>36.7</td>\n",
              "      <td>19.3</td>\n",
              "      <td>193.0</td>\n",
              "      <td>3450.0</td>\n",
              "      <td>Female</td>\n",
              "      <td>1</td>\n",
              "      <td>1</td>\n",
              "      <td>2</td>\n",
              "      <td>True</td>\n",
              "    </tr>\n",
              "    <tr>\n",
              "      <th>...</th>\n",
              "      <td>...</td>\n",
              "      <td>...</td>\n",
              "      <td>...</td>\n",
              "      <td>...</td>\n",
              "      <td>...</td>\n",
              "      <td>...</td>\n",
              "      <td>...</td>\n",
              "      <td>...</td>\n",
              "      <td>...</td>\n",
              "      <td>...</td>\n",
              "      <td>...</td>\n",
              "    </tr>\n",
              "    <tr>\n",
              "      <th>339</th>\n",
              "      <td>Gentoo</td>\n",
              "      <td>Biscoe</td>\n",
              "      <td>NaN</td>\n",
              "      <td>NaN</td>\n",
              "      <td>NaN</td>\n",
              "      <td>NaN</td>\n",
              "      <td>NaN</td>\n",
              "      <td>1</td>\n",
              "      <td>1</td>\n",
              "      <td>2</td>\n",
              "      <td>True</td>\n",
              "    </tr>\n",
              "    <tr>\n",
              "      <th>340</th>\n",
              "      <td>Gentoo</td>\n",
              "      <td>Biscoe</td>\n",
              "      <td>46.8</td>\n",
              "      <td>14.3</td>\n",
              "      <td>215.0</td>\n",
              "      <td>4850.0</td>\n",
              "      <td>Female</td>\n",
              "      <td>1</td>\n",
              "      <td>1</td>\n",
              "      <td>2</td>\n",
              "      <td>True</td>\n",
              "    </tr>\n",
              "    <tr>\n",
              "      <th>341</th>\n",
              "      <td>Gentoo</td>\n",
              "      <td>Biscoe</td>\n",
              "      <td>50.4</td>\n",
              "      <td>15.7</td>\n",
              "      <td>222.0</td>\n",
              "      <td>5750.0</td>\n",
              "      <td>Male</td>\n",
              "      <td>1</td>\n",
              "      <td>1</td>\n",
              "      <td>2</td>\n",
              "      <td>True</td>\n",
              "    </tr>\n",
              "    <tr>\n",
              "      <th>342</th>\n",
              "      <td>Gentoo</td>\n",
              "      <td>Biscoe</td>\n",
              "      <td>45.2</td>\n",
              "      <td>14.8</td>\n",
              "      <td>212.0</td>\n",
              "      <td>5200.0</td>\n",
              "      <td>Female</td>\n",
              "      <td>1</td>\n",
              "      <td>1</td>\n",
              "      <td>2</td>\n",
              "      <td>True</td>\n",
              "    </tr>\n",
              "    <tr>\n",
              "      <th>343</th>\n",
              "      <td>Gentoo</td>\n",
              "      <td>Biscoe</td>\n",
              "      <td>49.9</td>\n",
              "      <td>16.1</td>\n",
              "      <td>213.0</td>\n",
              "      <td>5400.0</td>\n",
              "      <td>Male</td>\n",
              "      <td>1</td>\n",
              "      <td>1</td>\n",
              "      <td>2</td>\n",
              "      <td>True</td>\n",
              "    </tr>\n",
              "  </tbody>\n",
              "</table>\n",
              "<p>344 rows × 11 columns</p>\n",
              "</div>\n",
              "      <button class=\"colab-df-convert\" onclick=\"convertToInteractive('df-864088f4-08b5-4198-8250-f8b7928a9d6c')\"\n",
              "              title=\"Convert this dataframe to an interactive table.\"\n",
              "              style=\"display:none;\">\n",
              "\n",
              "  <svg xmlns=\"http://www.w3.org/2000/svg\" height=\"24px\"viewBox=\"0 0 24 24\"\n",
              "       width=\"24px\">\n",
              "    <path d=\"M0 0h24v24H0V0z\" fill=\"none\"/>\n",
              "    <path d=\"M18.56 5.44l.94 2.06.94-2.06 2.06-.94-2.06-.94-.94-2.06-.94 2.06-2.06.94zm-11 1L8.5 8.5l.94-2.06 2.06-.94-2.06-.94L8.5 2.5l-.94 2.06-2.06.94zm10 10l.94 2.06.94-2.06 2.06-.94-2.06-.94-.94-2.06-.94 2.06-2.06.94z\"/><path d=\"M17.41 7.96l-1.37-1.37c-.4-.4-.92-.59-1.43-.59-.52 0-1.04.2-1.43.59L10.3 9.45l-7.72 7.72c-.78.78-.78 2.05 0 2.83L4 21.41c.39.39.9.59 1.41.59.51 0 1.02-.2 1.41-.59l7.78-7.78 2.81-2.81c.8-.78.8-2.07 0-2.86zM5.41 20L4 18.59l7.72-7.72 1.47 1.35L5.41 20z\"/>\n",
              "  </svg>\n",
              "      </button>\n",
              "\n",
              "\n",
              "\n",
              "    <div id=\"df-b043d7de-b718-4973-962f-2aa1ebcb8b09\">\n",
              "      <button class=\"colab-df-quickchart\" onclick=\"quickchart('df-b043d7de-b718-4973-962f-2aa1ebcb8b09')\"\n",
              "              title=\"Suggest charts.\"\n",
              "              style=\"display:none;\">\n",
              "\n",
              "<svg xmlns=\"http://www.w3.org/2000/svg\" height=\"24px\"viewBox=\"0 0 24 24\"\n",
              "     width=\"24px\">\n",
              "    <g>\n",
              "        <path d=\"M19 3H5c-1.1 0-2 .9-2 2v14c0 1.1.9 2 2 2h14c1.1 0 2-.9 2-2V5c0-1.1-.9-2-2-2zM9 17H7v-7h2v7zm4 0h-2V7h2v10zm4 0h-2v-4h2v4z\"/>\n",
              "    </g>\n",
              "</svg>\n",
              "      </button>\n",
              "    </div>\n",
              "\n",
              "<style>\n",
              "  .colab-df-quickchart {\n",
              "    background-color: #E8F0FE;\n",
              "    border: none;\n",
              "    border-radius: 50%;\n",
              "    cursor: pointer;\n",
              "    display: none;\n",
              "    fill: #1967D2;\n",
              "    height: 32px;\n",
              "    padding: 0 0 0 0;\n",
              "    width: 32px;\n",
              "  }\n",
              "\n",
              "  .colab-df-quickchart:hover {\n",
              "    background-color: #E2EBFA;\n",
              "    box-shadow: 0px 1px 2px rgba(60, 64, 67, 0.3), 0px 1px 3px 1px rgba(60, 64, 67, 0.15);\n",
              "    fill: #174EA6;\n",
              "  }\n",
              "\n",
              "  [theme=dark] .colab-df-quickchart {\n",
              "    background-color: #3B4455;\n",
              "    fill: #D2E3FC;\n",
              "  }\n",
              "\n",
              "  [theme=dark] .colab-df-quickchart:hover {\n",
              "    background-color: #434B5C;\n",
              "    box-shadow: 0px 1px 3px 1px rgba(0, 0, 0, 0.15);\n",
              "    filter: drop-shadow(0px 1px 2px rgba(0, 0, 0, 0.3));\n",
              "    fill: #FFFFFF;\n",
              "  }\n",
              "</style>\n",
              "\n",
              "    <script>\n",
              "      async function quickchart(key) {\n",
              "        const containerElement = document.querySelector('#' + key);\n",
              "        const charts = await google.colab.kernel.invokeFunction(\n",
              "            'suggestCharts', [key], {});\n",
              "      }\n",
              "    </script>\n",
              "\n",
              "      <script>\n",
              "\n",
              "function displayQuickchartButton(domScope) {\n",
              "  let quickchartButtonEl =\n",
              "    domScope.querySelector('#df-b043d7de-b718-4973-962f-2aa1ebcb8b09 button.colab-df-quickchart');\n",
              "  quickchartButtonEl.style.display =\n",
              "    google.colab.kernel.accessAllowed ? 'block' : 'none';\n",
              "}\n",
              "\n",
              "        displayQuickchartButton(document);\n",
              "      </script>\n",
              "      <style>\n",
              "    .colab-df-container {\n",
              "      display:flex;\n",
              "      flex-wrap:wrap;\n",
              "      gap: 12px;\n",
              "    }\n",
              "\n",
              "    .colab-df-convert {\n",
              "      background-color: #E8F0FE;\n",
              "      border: none;\n",
              "      border-radius: 50%;\n",
              "      cursor: pointer;\n",
              "      display: none;\n",
              "      fill: #1967D2;\n",
              "      height: 32px;\n",
              "      padding: 0 0 0 0;\n",
              "      width: 32px;\n",
              "    }\n",
              "\n",
              "    .colab-df-convert:hover {\n",
              "      background-color: #E2EBFA;\n",
              "      box-shadow: 0px 1px 2px rgba(60, 64, 67, 0.3), 0px 1px 3px 1px rgba(60, 64, 67, 0.15);\n",
              "      fill: #174EA6;\n",
              "    }\n",
              "\n",
              "    [theme=dark] .colab-df-convert {\n",
              "      background-color: #3B4455;\n",
              "      fill: #D2E3FC;\n",
              "    }\n",
              "\n",
              "    [theme=dark] .colab-df-convert:hover {\n",
              "      background-color: #434B5C;\n",
              "      box-shadow: 0px 1px 3px 1px rgba(0, 0, 0, 0.15);\n",
              "      filter: drop-shadow(0px 1px 2px rgba(0, 0, 0, 0.3));\n",
              "      fill: #FFFFFF;\n",
              "    }\n",
              "  </style>\n",
              "\n",
              "      <script>\n",
              "        const buttonEl =\n",
              "          document.querySelector('#df-864088f4-08b5-4198-8250-f8b7928a9d6c button.colab-df-convert');\n",
              "        buttonEl.style.display =\n",
              "          google.colab.kernel.accessAllowed ? 'block' : 'none';\n",
              "\n",
              "        async function convertToInteractive(key) {\n",
              "          const element = document.querySelector('#df-864088f4-08b5-4198-8250-f8b7928a9d6c');\n",
              "          const dataTable =\n",
              "            await google.colab.kernel.invokeFunction('convertToInteractive',\n",
              "                                                     [key], {});\n",
              "          if (!dataTable) return;\n",
              "\n",
              "          const docLinkHtml = 'Like what you see? Visit the ' +\n",
              "            '<a target=\"_blank\" href=https://colab.research.google.com/notebooks/data_table.ipynb>data table notebook</a>'\n",
              "            + ' to learn more about interactive tables.';\n",
              "          element.innerHTML = '';\n",
              "          dataTable['output_type'] = 'display_data';\n",
              "          await google.colab.output.renderOutput(dataTable, element);\n",
              "          const docLink = document.createElement('div');\n",
              "          docLink.innerHTML = docLinkHtml;\n",
              "          element.appendChild(docLink);\n",
              "        }\n",
              "      </script>\n",
              "    </div>\n",
              "  </div>\n"
            ],
            "text/plain": [
              "    species     island  bill_length_mm  bill_depth_mm  flipper_length_mm  \\\n",
              "0    Adelie  Torgersen            39.1           18.7              181.0   \n",
              "1    Adelie  Torgersen            39.5           17.4              186.0   \n",
              "2    Adelie  Torgersen            40.3           18.0              195.0   \n",
              "3    Adelie  Torgersen             NaN            NaN                NaN   \n",
              "4    Adelie  Torgersen            36.7           19.3              193.0   \n",
              "..      ...        ...             ...            ...                ...   \n",
              "339  Gentoo     Biscoe             NaN            NaN                NaN   \n",
              "340  Gentoo     Biscoe            46.8           14.3              215.0   \n",
              "341  Gentoo     Biscoe            50.4           15.7              222.0   \n",
              "342  Gentoo     Biscoe            45.2           14.8              212.0   \n",
              "343  Gentoo     Biscoe            49.9           16.1              213.0   \n",
              "\n",
              "     body_mass_g     sex  a  b  c  inplace  \n",
              "0         3750.0    Male  1  1  2     True  \n",
              "1         3800.0  Female  1  1  2     True  \n",
              "2         3250.0  Female  1  1  2     True  \n",
              "3            NaN     NaN  1  1  2     True  \n",
              "4         3450.0  Female  1  1  2     True  \n",
              "..           ...     ... .. .. ..      ...  \n",
              "339          NaN     NaN  1  1  2     True  \n",
              "340       4850.0  Female  1  1  2     True  \n",
              "341       5750.0    Male  1  1  2     True  \n",
              "342       5200.0  Female  1  1  2     True  \n",
              "343       5400.0    Male  1  1  2     True  \n",
              "\n",
              "[344 rows x 11 columns]"
            ]
          },
          "execution_count": 14,
          "metadata": {},
          "output_type": "execute_result"
        }
      ],
      "source": [
        "df.assign(b=1, c=2, inplace = True) #inplace를 사용 불가, 새로운 열 이름으로 할당해줘야함"
      ]
    },
    {
      "cell_type": "code",
      "execution_count": null,
      "metadata": {
        "id": "9B1dpSFNr0u8"
      },
      "outputs": [],
      "source": [
        "df1 = df.assign(b=1, c=2)"
      ]
    },
    {
      "cell_type": "code",
      "execution_count": null,
      "metadata": {
        "colab": {
          "base_uri": "https://localhost:8080/",
          "height": 206
        },
        "id": "1XV5hh-_r4np",
        "outputId": "0e00ea17-59f9-4bc3-87e0-00d28f603d3c"
      },
      "outputs": [
        {
          "data": {
            "text/html": [
              "\n",
              "\n",
              "  <div id=\"df-87b3c739-b554-4292-bad7-d14fb1363ddd\">\n",
              "    <div class=\"colab-df-container\">\n",
              "      <div>\n",
              "<style scoped>\n",
              "    .dataframe tbody tr th:only-of-type {\n",
              "        vertical-align: middle;\n",
              "    }\n",
              "\n",
              "    .dataframe tbody tr th {\n",
              "        vertical-align: top;\n",
              "    }\n",
              "\n",
              "    .dataframe thead th {\n",
              "        text-align: right;\n",
              "    }\n",
              "</style>\n",
              "<table border=\"1\" class=\"dataframe\">\n",
              "  <thead>\n",
              "    <tr style=\"text-align: right;\">\n",
              "      <th></th>\n",
              "      <th>species</th>\n",
              "      <th>island</th>\n",
              "      <th>bill_length_mm</th>\n",
              "      <th>bill_depth_mm</th>\n",
              "      <th>flipper_length_mm</th>\n",
              "      <th>body_mass_g</th>\n",
              "      <th>sex</th>\n",
              "      <th>a</th>\n",
              "      <th>b</th>\n",
              "      <th>c</th>\n",
              "    </tr>\n",
              "  </thead>\n",
              "  <tbody>\n",
              "    <tr>\n",
              "      <th>0</th>\n",
              "      <td>Adelie</td>\n",
              "      <td>Torgersen</td>\n",
              "      <td>39.1</td>\n",
              "      <td>18.7</td>\n",
              "      <td>181.0</td>\n",
              "      <td>3750.0</td>\n",
              "      <td>Male</td>\n",
              "      <td>1</td>\n",
              "      <td>1</td>\n",
              "      <td>2</td>\n",
              "    </tr>\n",
              "    <tr>\n",
              "      <th>1</th>\n",
              "      <td>Adelie</td>\n",
              "      <td>Torgersen</td>\n",
              "      <td>39.5</td>\n",
              "      <td>17.4</td>\n",
              "      <td>186.0</td>\n",
              "      <td>3800.0</td>\n",
              "      <td>Female</td>\n",
              "      <td>1</td>\n",
              "      <td>1</td>\n",
              "      <td>2</td>\n",
              "    </tr>\n",
              "    <tr>\n",
              "      <th>2</th>\n",
              "      <td>Adelie</td>\n",
              "      <td>Torgersen</td>\n",
              "      <td>40.3</td>\n",
              "      <td>18.0</td>\n",
              "      <td>195.0</td>\n",
              "      <td>3250.0</td>\n",
              "      <td>Female</td>\n",
              "      <td>1</td>\n",
              "      <td>1</td>\n",
              "      <td>2</td>\n",
              "    </tr>\n",
              "    <tr>\n",
              "      <th>3</th>\n",
              "      <td>Adelie</td>\n",
              "      <td>Torgersen</td>\n",
              "      <td>NaN</td>\n",
              "      <td>NaN</td>\n",
              "      <td>NaN</td>\n",
              "      <td>NaN</td>\n",
              "      <td>NaN</td>\n",
              "      <td>1</td>\n",
              "      <td>1</td>\n",
              "      <td>2</td>\n",
              "    </tr>\n",
              "    <tr>\n",
              "      <th>4</th>\n",
              "      <td>Adelie</td>\n",
              "      <td>Torgersen</td>\n",
              "      <td>36.7</td>\n",
              "      <td>19.3</td>\n",
              "      <td>193.0</td>\n",
              "      <td>3450.0</td>\n",
              "      <td>Female</td>\n",
              "      <td>1</td>\n",
              "      <td>1</td>\n",
              "      <td>2</td>\n",
              "    </tr>\n",
              "  </tbody>\n",
              "</table>\n",
              "</div>\n",
              "      <button class=\"colab-df-convert\" onclick=\"convertToInteractive('df-87b3c739-b554-4292-bad7-d14fb1363ddd')\"\n",
              "              title=\"Convert this dataframe to an interactive table.\"\n",
              "              style=\"display:none;\">\n",
              "\n",
              "  <svg xmlns=\"http://www.w3.org/2000/svg\" height=\"24px\"viewBox=\"0 0 24 24\"\n",
              "       width=\"24px\">\n",
              "    <path d=\"M0 0h24v24H0V0z\" fill=\"none\"/>\n",
              "    <path d=\"M18.56 5.44l.94 2.06.94-2.06 2.06-.94-2.06-.94-.94-2.06-.94 2.06-2.06.94zm-11 1L8.5 8.5l.94-2.06 2.06-.94-2.06-.94L8.5 2.5l-.94 2.06-2.06.94zm10 10l.94 2.06.94-2.06 2.06-.94-2.06-.94-.94-2.06-.94 2.06-2.06.94z\"/><path d=\"M17.41 7.96l-1.37-1.37c-.4-.4-.92-.59-1.43-.59-.52 0-1.04.2-1.43.59L10.3 9.45l-7.72 7.72c-.78.78-.78 2.05 0 2.83L4 21.41c.39.39.9.59 1.41.59.51 0 1.02-.2 1.41-.59l7.78-7.78 2.81-2.81c.8-.78.8-2.07 0-2.86zM5.41 20L4 18.59l7.72-7.72 1.47 1.35L5.41 20z\"/>\n",
              "  </svg>\n",
              "      </button>\n",
              "\n",
              "\n",
              "\n",
              "    <div id=\"df-405589fe-7911-4ec9-bd5b-3f34ba5c4e12\">\n",
              "      <button class=\"colab-df-quickchart\" onclick=\"quickchart('df-405589fe-7911-4ec9-bd5b-3f34ba5c4e12')\"\n",
              "              title=\"Suggest charts.\"\n",
              "              style=\"display:none;\">\n",
              "\n",
              "<svg xmlns=\"http://www.w3.org/2000/svg\" height=\"24px\"viewBox=\"0 0 24 24\"\n",
              "     width=\"24px\">\n",
              "    <g>\n",
              "        <path d=\"M19 3H5c-1.1 0-2 .9-2 2v14c0 1.1.9 2 2 2h14c1.1 0 2-.9 2-2V5c0-1.1-.9-2-2-2zM9 17H7v-7h2v7zm4 0h-2V7h2v10zm4 0h-2v-4h2v4z\"/>\n",
              "    </g>\n",
              "</svg>\n",
              "      </button>\n",
              "    </div>\n",
              "\n",
              "<style>\n",
              "  .colab-df-quickchart {\n",
              "    background-color: #E8F0FE;\n",
              "    border: none;\n",
              "    border-radius: 50%;\n",
              "    cursor: pointer;\n",
              "    display: none;\n",
              "    fill: #1967D2;\n",
              "    height: 32px;\n",
              "    padding: 0 0 0 0;\n",
              "    width: 32px;\n",
              "  }\n",
              "\n",
              "  .colab-df-quickchart:hover {\n",
              "    background-color: #E2EBFA;\n",
              "    box-shadow: 0px 1px 2px rgba(60, 64, 67, 0.3), 0px 1px 3px 1px rgba(60, 64, 67, 0.15);\n",
              "    fill: #174EA6;\n",
              "  }\n",
              "\n",
              "  [theme=dark] .colab-df-quickchart {\n",
              "    background-color: #3B4455;\n",
              "    fill: #D2E3FC;\n",
              "  }\n",
              "\n",
              "  [theme=dark] .colab-df-quickchart:hover {\n",
              "    background-color: #434B5C;\n",
              "    box-shadow: 0px 1px 3px 1px rgba(0, 0, 0, 0.15);\n",
              "    filter: drop-shadow(0px 1px 2px rgba(0, 0, 0, 0.3));\n",
              "    fill: #FFFFFF;\n",
              "  }\n",
              "</style>\n",
              "\n",
              "    <script>\n",
              "      async function quickchart(key) {\n",
              "        const containerElement = document.querySelector('#' + key);\n",
              "        const charts = await google.colab.kernel.invokeFunction(\n",
              "            'suggestCharts', [key], {});\n",
              "      }\n",
              "    </script>\n",
              "\n",
              "      <script>\n",
              "\n",
              "function displayQuickchartButton(domScope) {\n",
              "  let quickchartButtonEl =\n",
              "    domScope.querySelector('#df-405589fe-7911-4ec9-bd5b-3f34ba5c4e12 button.colab-df-quickchart');\n",
              "  quickchartButtonEl.style.display =\n",
              "    google.colab.kernel.accessAllowed ? 'block' : 'none';\n",
              "}\n",
              "\n",
              "        displayQuickchartButton(document);\n",
              "      </script>\n",
              "      <style>\n",
              "    .colab-df-container {\n",
              "      display:flex;\n",
              "      flex-wrap:wrap;\n",
              "      gap: 12px;\n",
              "    }\n",
              "\n",
              "    .colab-df-convert {\n",
              "      background-color: #E8F0FE;\n",
              "      border: none;\n",
              "      border-radius: 50%;\n",
              "      cursor: pointer;\n",
              "      display: none;\n",
              "      fill: #1967D2;\n",
              "      height: 32px;\n",
              "      padding: 0 0 0 0;\n",
              "      width: 32px;\n",
              "    }\n",
              "\n",
              "    .colab-df-convert:hover {\n",
              "      background-color: #E2EBFA;\n",
              "      box-shadow: 0px 1px 2px rgba(60, 64, 67, 0.3), 0px 1px 3px 1px rgba(60, 64, 67, 0.15);\n",
              "      fill: #174EA6;\n",
              "    }\n",
              "\n",
              "    [theme=dark] .colab-df-convert {\n",
              "      background-color: #3B4455;\n",
              "      fill: #D2E3FC;\n",
              "    }\n",
              "\n",
              "    [theme=dark] .colab-df-convert:hover {\n",
              "      background-color: #434B5C;\n",
              "      box-shadow: 0px 1px 3px 1px rgba(0, 0, 0, 0.15);\n",
              "      filter: drop-shadow(0px 1px 2px rgba(0, 0, 0, 0.3));\n",
              "      fill: #FFFFFF;\n",
              "    }\n",
              "  </style>\n",
              "\n",
              "      <script>\n",
              "        const buttonEl =\n",
              "          document.querySelector('#df-87b3c739-b554-4292-bad7-d14fb1363ddd button.colab-df-convert');\n",
              "        buttonEl.style.display =\n",
              "          google.colab.kernel.accessAllowed ? 'block' : 'none';\n",
              "\n",
              "        async function convertToInteractive(key) {\n",
              "          const element = document.querySelector('#df-87b3c739-b554-4292-bad7-d14fb1363ddd');\n",
              "          const dataTable =\n",
              "            await google.colab.kernel.invokeFunction('convertToInteractive',\n",
              "                                                     [key], {});\n",
              "          if (!dataTable) return;\n",
              "\n",
              "          const docLinkHtml = 'Like what you see? Visit the ' +\n",
              "            '<a target=\"_blank\" href=https://colab.research.google.com/notebooks/data_table.ipynb>data table notebook</a>'\n",
              "            + ' to learn more about interactive tables.';\n",
              "          element.innerHTML = '';\n",
              "          dataTable['output_type'] = 'display_data';\n",
              "          await google.colab.output.renderOutput(dataTable, element);\n",
              "          const docLink = document.createElement('div');\n",
              "          docLink.innerHTML = docLinkHtml;\n",
              "          element.appendChild(docLink);\n",
              "        }\n",
              "      </script>\n",
              "    </div>\n",
              "  </div>\n"
            ],
            "text/plain": [
              "  species     island  bill_length_mm  bill_depth_mm  flipper_length_mm  \\\n",
              "0  Adelie  Torgersen            39.1           18.7              181.0   \n",
              "1  Adelie  Torgersen            39.5           17.4              186.0   \n",
              "2  Adelie  Torgersen            40.3           18.0              195.0   \n",
              "3  Adelie  Torgersen             NaN            NaN                NaN   \n",
              "4  Adelie  Torgersen            36.7           19.3              193.0   \n",
              "\n",
              "   body_mass_g     sex  a  b  c  \n",
              "0       3750.0    Male  1  1  2  \n",
              "1       3800.0  Female  1  1  2  \n",
              "2       3250.0  Female  1  1  2  \n",
              "3          NaN     NaN  1  1  2  \n",
              "4       3450.0  Female  1  1  2  "
            ]
          },
          "execution_count": 16,
          "metadata": {},
          "output_type": "execute_result"
        }
      ],
      "source": [
        "df1.head()"
      ]
    },
    {
      "cell_type": "code",
      "execution_count": null,
      "metadata": {
        "colab": {
          "base_uri": "https://localhost:8080/",
          "height": 143
        },
        "id": "q7_pxbN0r5YY",
        "outputId": "732e3ece-5920-4e94-8dec-691924191dbe"
      },
      "outputs": [
        {
          "data": {
            "text/html": [
              "\n",
              "\n",
              "  <div id=\"df-6947bba1-6fe9-41ce-9088-41a1698acdac\">\n",
              "    <div class=\"colab-df-container\">\n",
              "      <div>\n",
              "<style scoped>\n",
              "    .dataframe tbody tr th:only-of-type {\n",
              "        vertical-align: middle;\n",
              "    }\n",
              "\n",
              "    .dataframe tbody tr th {\n",
              "        vertical-align: top;\n",
              "    }\n",
              "\n",
              "    .dataframe thead th {\n",
              "        text-align: right;\n",
              "    }\n",
              "</style>\n",
              "<table border=\"1\" class=\"dataframe\">\n",
              "  <thead>\n",
              "    <tr style=\"text-align: right;\">\n",
              "      <th></th>\n",
              "      <th>species</th>\n",
              "      <th>island</th>\n",
              "      <th>bill_length_mm</th>\n",
              "      <th>bill_depth_mm</th>\n",
              "      <th>flipper_length_mm</th>\n",
              "      <th>body_mass_g</th>\n",
              "      <th>sex</th>\n",
              "      <th>a</th>\n",
              "      <th>b</th>\n",
              "      <th>c</th>\n",
              "      <th>d</th>\n",
              "    </tr>\n",
              "  </thead>\n",
              "  <tbody>\n",
              "    <tr>\n",
              "      <th>0</th>\n",
              "      <td>Adelie</td>\n",
              "      <td>Torgersen</td>\n",
              "      <td>39.1</td>\n",
              "      <td>18.7</td>\n",
              "      <td>181.0</td>\n",
              "      <td>3750.0</td>\n",
              "      <td>Male</td>\n",
              "      <td>1</td>\n",
              "      <td>1</td>\n",
              "      <td>2</td>\n",
              "      <td>2</td>\n",
              "    </tr>\n",
              "    <tr>\n",
              "      <th>1</th>\n",
              "      <td>Adelie</td>\n",
              "      <td>Torgersen</td>\n",
              "      <td>39.5</td>\n",
              "      <td>17.4</td>\n",
              "      <td>186.0</td>\n",
              "      <td>3800.0</td>\n",
              "      <td>Female</td>\n",
              "      <td>1</td>\n",
              "      <td>1</td>\n",
              "      <td>2</td>\n",
              "      <td>2</td>\n",
              "    </tr>\n",
              "    <tr>\n",
              "      <th>2</th>\n",
              "      <td>Adelie</td>\n",
              "      <td>Torgersen</td>\n",
              "      <td>40.3</td>\n",
              "      <td>18.0</td>\n",
              "      <td>195.0</td>\n",
              "      <td>3250.0</td>\n",
              "      <td>Female</td>\n",
              "      <td>1</td>\n",
              "      <td>1</td>\n",
              "      <td>2</td>\n",
              "      <td>2</td>\n",
              "    </tr>\n",
              "  </tbody>\n",
              "</table>\n",
              "</div>\n",
              "      <button class=\"colab-df-convert\" onclick=\"convertToInteractive('df-6947bba1-6fe9-41ce-9088-41a1698acdac')\"\n",
              "              title=\"Convert this dataframe to an interactive table.\"\n",
              "              style=\"display:none;\">\n",
              "\n",
              "  <svg xmlns=\"http://www.w3.org/2000/svg\" height=\"24px\"viewBox=\"0 0 24 24\"\n",
              "       width=\"24px\">\n",
              "    <path d=\"M0 0h24v24H0V0z\" fill=\"none\"/>\n",
              "    <path d=\"M18.56 5.44l.94 2.06.94-2.06 2.06-.94-2.06-.94-.94-2.06-.94 2.06-2.06.94zm-11 1L8.5 8.5l.94-2.06 2.06-.94-2.06-.94L8.5 2.5l-.94 2.06-2.06.94zm10 10l.94 2.06.94-2.06 2.06-.94-2.06-.94-.94-2.06-.94 2.06-2.06.94z\"/><path d=\"M17.41 7.96l-1.37-1.37c-.4-.4-.92-.59-1.43-.59-.52 0-1.04.2-1.43.59L10.3 9.45l-7.72 7.72c-.78.78-.78 2.05 0 2.83L4 21.41c.39.39.9.59 1.41.59.51 0 1.02-.2 1.41-.59l7.78-7.78 2.81-2.81c.8-.78.8-2.07 0-2.86zM5.41 20L4 18.59l7.72-7.72 1.47 1.35L5.41 20z\"/>\n",
              "  </svg>\n",
              "      </button>\n",
              "\n",
              "\n",
              "\n",
              "    <div id=\"df-bd7f688f-13d7-4c6d-a690-f32794957b86\">\n",
              "      <button class=\"colab-df-quickchart\" onclick=\"quickchart('df-bd7f688f-13d7-4c6d-a690-f32794957b86')\"\n",
              "              title=\"Suggest charts.\"\n",
              "              style=\"display:none;\">\n",
              "\n",
              "<svg xmlns=\"http://www.w3.org/2000/svg\" height=\"24px\"viewBox=\"0 0 24 24\"\n",
              "     width=\"24px\">\n",
              "    <g>\n",
              "        <path d=\"M19 3H5c-1.1 0-2 .9-2 2v14c0 1.1.9 2 2 2h14c1.1 0 2-.9 2-2V5c0-1.1-.9-2-2-2zM9 17H7v-7h2v7zm4 0h-2V7h2v10zm4 0h-2v-4h2v4z\"/>\n",
              "    </g>\n",
              "</svg>\n",
              "      </button>\n",
              "    </div>\n",
              "\n",
              "<style>\n",
              "  .colab-df-quickchart {\n",
              "    background-color: #E8F0FE;\n",
              "    border: none;\n",
              "    border-radius: 50%;\n",
              "    cursor: pointer;\n",
              "    display: none;\n",
              "    fill: #1967D2;\n",
              "    height: 32px;\n",
              "    padding: 0 0 0 0;\n",
              "    width: 32px;\n",
              "  }\n",
              "\n",
              "  .colab-df-quickchart:hover {\n",
              "    background-color: #E2EBFA;\n",
              "    box-shadow: 0px 1px 2px rgba(60, 64, 67, 0.3), 0px 1px 3px 1px rgba(60, 64, 67, 0.15);\n",
              "    fill: #174EA6;\n",
              "  }\n",
              "\n",
              "  [theme=dark] .colab-df-quickchart {\n",
              "    background-color: #3B4455;\n",
              "    fill: #D2E3FC;\n",
              "  }\n",
              "\n",
              "  [theme=dark] .colab-df-quickchart:hover {\n",
              "    background-color: #434B5C;\n",
              "    box-shadow: 0px 1px 3px 1px rgba(0, 0, 0, 0.15);\n",
              "    filter: drop-shadow(0px 1px 2px rgba(0, 0, 0, 0.3));\n",
              "    fill: #FFFFFF;\n",
              "  }\n",
              "</style>\n",
              "\n",
              "    <script>\n",
              "      async function quickchart(key) {\n",
              "        const containerElement = document.querySelector('#' + key);\n",
              "        const charts = await google.colab.kernel.invokeFunction(\n",
              "            'suggestCharts', [key], {});\n",
              "      }\n",
              "    </script>\n",
              "\n",
              "      <script>\n",
              "\n",
              "function displayQuickchartButton(domScope) {\n",
              "  let quickchartButtonEl =\n",
              "    domScope.querySelector('#df-bd7f688f-13d7-4c6d-a690-f32794957b86 button.colab-df-quickchart');\n",
              "  quickchartButtonEl.style.display =\n",
              "    google.colab.kernel.accessAllowed ? 'block' : 'none';\n",
              "}\n",
              "\n",
              "        displayQuickchartButton(document);\n",
              "      </script>\n",
              "      <style>\n",
              "    .colab-df-container {\n",
              "      display:flex;\n",
              "      flex-wrap:wrap;\n",
              "      gap: 12px;\n",
              "    }\n",
              "\n",
              "    .colab-df-convert {\n",
              "      background-color: #E8F0FE;\n",
              "      border: none;\n",
              "      border-radius: 50%;\n",
              "      cursor: pointer;\n",
              "      display: none;\n",
              "      fill: #1967D2;\n",
              "      height: 32px;\n",
              "      padding: 0 0 0 0;\n",
              "      width: 32px;\n",
              "    }\n",
              "\n",
              "    .colab-df-convert:hover {\n",
              "      background-color: #E2EBFA;\n",
              "      box-shadow: 0px 1px 2px rgba(60, 64, 67, 0.3), 0px 1px 3px 1px rgba(60, 64, 67, 0.15);\n",
              "      fill: #174EA6;\n",
              "    }\n",
              "\n",
              "    [theme=dark] .colab-df-convert {\n",
              "      background-color: #3B4455;\n",
              "      fill: #D2E3FC;\n",
              "    }\n",
              "\n",
              "    [theme=dark] .colab-df-convert:hover {\n",
              "      background-color: #434B5C;\n",
              "      box-shadow: 0px 1px 3px 1px rgba(0, 0, 0, 0.15);\n",
              "      filter: drop-shadow(0px 1px 2px rgba(0, 0, 0, 0.3));\n",
              "      fill: #FFFFFF;\n",
              "    }\n",
              "  </style>\n",
              "\n",
              "      <script>\n",
              "        const buttonEl =\n",
              "          document.querySelector('#df-6947bba1-6fe9-41ce-9088-41a1698acdac button.colab-df-convert');\n",
              "        buttonEl.style.display =\n",
              "          google.colab.kernel.accessAllowed ? 'block' : 'none';\n",
              "\n",
              "        async function convertToInteractive(key) {\n",
              "          const element = document.querySelector('#df-6947bba1-6fe9-41ce-9088-41a1698acdac');\n",
              "          const dataTable =\n",
              "            await google.colab.kernel.invokeFunction('convertToInteractive',\n",
              "                                                     [key], {});\n",
              "          if (!dataTable) return;\n",
              "\n",
              "          const docLinkHtml = 'Like what you see? Visit the ' +\n",
              "            '<a target=\"_blank\" href=https://colab.research.google.com/notebooks/data_table.ipynb>data table notebook</a>'\n",
              "            + ' to learn more about interactive tables.';\n",
              "          element.innerHTML = '';\n",
              "          dataTable['output_type'] = 'display_data';\n",
              "          await google.colab.output.renderOutput(dataTable, element);\n",
              "          const docLink = document.createElement('div');\n",
              "          docLink.innerHTML = docLinkHtml;\n",
              "          element.appendChild(docLink);\n",
              "        }\n",
              "      </script>\n",
              "    </div>\n",
              "  </div>\n"
            ],
            "text/plain": [
              "  species     island  bill_length_mm  bill_depth_mm  flipper_length_mm  \\\n",
              "0  Adelie  Torgersen            39.1           18.7              181.0   \n",
              "1  Adelie  Torgersen            39.5           17.4              186.0   \n",
              "2  Adelie  Torgersen            40.3           18.0              195.0   \n",
              "\n",
              "   body_mass_g     sex  a  b  c  d  \n",
              "0       3750.0    Male  1  1  2  2  \n",
              "1       3800.0  Female  1  1  2  2  \n",
              "2       3250.0  Female  1  1  2  2  "
            ]
          },
          "execution_count": 19,
          "metadata": {},
          "output_type": "execute_result"
        }
      ],
      "source": [
        "# lambda 사용\n",
        "\n",
        "df1.assign(d = lambda x : x['a'] + x['b']).head(3)"
      ]
    },
    {
      "cell_type": "code",
      "execution_count": null,
      "metadata": {
        "id": "fb1GqlivsO-t"
      },
      "outputs": [],
      "source": [
        "# 3\n",
        "\n",
        "df1.insert(loc = 0, column = 'e', value = 1)"
      ]
    },
    {
      "cell_type": "code",
      "execution_count": null,
      "metadata": {
        "colab": {
          "base_uri": "https://localhost:8080/",
          "height": 424
        },
        "id": "EEVBkBTasZ0w",
        "outputId": "3f379bec-41ec-4c8f-d4ad-839f58a1ae63"
      },
      "outputs": [
        {
          "data": {
            "text/html": [
              "\n",
              "\n",
              "  <div id=\"df-eb2b30e4-3d36-481f-91d6-47828f26a157\">\n",
              "    <div class=\"colab-df-container\">\n",
              "      <div>\n",
              "<style scoped>\n",
              "    .dataframe tbody tr th:only-of-type {\n",
              "        vertical-align: middle;\n",
              "    }\n",
              "\n",
              "    .dataframe tbody tr th {\n",
              "        vertical-align: top;\n",
              "    }\n",
              "\n",
              "    .dataframe thead th {\n",
              "        text-align: right;\n",
              "    }\n",
              "</style>\n",
              "<table border=\"1\" class=\"dataframe\">\n",
              "  <thead>\n",
              "    <tr style=\"text-align: right;\">\n",
              "      <th></th>\n",
              "      <th>e</th>\n",
              "      <th>species</th>\n",
              "      <th>island</th>\n",
              "      <th>bill_length_mm</th>\n",
              "      <th>bill_depth_mm</th>\n",
              "      <th>flipper_length_mm</th>\n",
              "      <th>body_mass_g</th>\n",
              "      <th>sex</th>\n",
              "      <th>a</th>\n",
              "      <th>b</th>\n",
              "      <th>c</th>\n",
              "    </tr>\n",
              "  </thead>\n",
              "  <tbody>\n",
              "    <tr>\n",
              "      <th>0</th>\n",
              "      <td>1</td>\n",
              "      <td>Adelie</td>\n",
              "      <td>Torgersen</td>\n",
              "      <td>39.1</td>\n",
              "      <td>18.7</td>\n",
              "      <td>181.0</td>\n",
              "      <td>3750.0</td>\n",
              "      <td>Male</td>\n",
              "      <td>1</td>\n",
              "      <td>1</td>\n",
              "      <td>2</td>\n",
              "    </tr>\n",
              "    <tr>\n",
              "      <th>1</th>\n",
              "      <td>1</td>\n",
              "      <td>Adelie</td>\n",
              "      <td>Torgersen</td>\n",
              "      <td>39.5</td>\n",
              "      <td>17.4</td>\n",
              "      <td>186.0</td>\n",
              "      <td>3800.0</td>\n",
              "      <td>Female</td>\n",
              "      <td>1</td>\n",
              "      <td>1</td>\n",
              "      <td>2</td>\n",
              "    </tr>\n",
              "    <tr>\n",
              "      <th>2</th>\n",
              "      <td>1</td>\n",
              "      <td>Adelie</td>\n",
              "      <td>Torgersen</td>\n",
              "      <td>40.3</td>\n",
              "      <td>18.0</td>\n",
              "      <td>195.0</td>\n",
              "      <td>3250.0</td>\n",
              "      <td>Female</td>\n",
              "      <td>1</td>\n",
              "      <td>1</td>\n",
              "      <td>2</td>\n",
              "    </tr>\n",
              "    <tr>\n",
              "      <th>3</th>\n",
              "      <td>1</td>\n",
              "      <td>Adelie</td>\n",
              "      <td>Torgersen</td>\n",
              "      <td>NaN</td>\n",
              "      <td>NaN</td>\n",
              "      <td>NaN</td>\n",
              "      <td>NaN</td>\n",
              "      <td>NaN</td>\n",
              "      <td>1</td>\n",
              "      <td>1</td>\n",
              "      <td>2</td>\n",
              "    </tr>\n",
              "    <tr>\n",
              "      <th>4</th>\n",
              "      <td>1</td>\n",
              "      <td>Adelie</td>\n",
              "      <td>Torgersen</td>\n",
              "      <td>36.7</td>\n",
              "      <td>19.3</td>\n",
              "      <td>193.0</td>\n",
              "      <td>3450.0</td>\n",
              "      <td>Female</td>\n",
              "      <td>1</td>\n",
              "      <td>1</td>\n",
              "      <td>2</td>\n",
              "    </tr>\n",
              "    <tr>\n",
              "      <th>...</th>\n",
              "      <td>...</td>\n",
              "      <td>...</td>\n",
              "      <td>...</td>\n",
              "      <td>...</td>\n",
              "      <td>...</td>\n",
              "      <td>...</td>\n",
              "      <td>...</td>\n",
              "      <td>...</td>\n",
              "      <td>...</td>\n",
              "      <td>...</td>\n",
              "      <td>...</td>\n",
              "    </tr>\n",
              "    <tr>\n",
              "      <th>339</th>\n",
              "      <td>1</td>\n",
              "      <td>Gentoo</td>\n",
              "      <td>Biscoe</td>\n",
              "      <td>NaN</td>\n",
              "      <td>NaN</td>\n",
              "      <td>NaN</td>\n",
              "      <td>NaN</td>\n",
              "      <td>NaN</td>\n",
              "      <td>1</td>\n",
              "      <td>1</td>\n",
              "      <td>2</td>\n",
              "    </tr>\n",
              "    <tr>\n",
              "      <th>340</th>\n",
              "      <td>1</td>\n",
              "      <td>Gentoo</td>\n",
              "      <td>Biscoe</td>\n",
              "      <td>46.8</td>\n",
              "      <td>14.3</td>\n",
              "      <td>215.0</td>\n",
              "      <td>4850.0</td>\n",
              "      <td>Female</td>\n",
              "      <td>1</td>\n",
              "      <td>1</td>\n",
              "      <td>2</td>\n",
              "    </tr>\n",
              "    <tr>\n",
              "      <th>341</th>\n",
              "      <td>1</td>\n",
              "      <td>Gentoo</td>\n",
              "      <td>Biscoe</td>\n",
              "      <td>50.4</td>\n",
              "      <td>15.7</td>\n",
              "      <td>222.0</td>\n",
              "      <td>5750.0</td>\n",
              "      <td>Male</td>\n",
              "      <td>1</td>\n",
              "      <td>1</td>\n",
              "      <td>2</td>\n",
              "    </tr>\n",
              "    <tr>\n",
              "      <th>342</th>\n",
              "      <td>1</td>\n",
              "      <td>Gentoo</td>\n",
              "      <td>Biscoe</td>\n",
              "      <td>45.2</td>\n",
              "      <td>14.8</td>\n",
              "      <td>212.0</td>\n",
              "      <td>5200.0</td>\n",
              "      <td>Female</td>\n",
              "      <td>1</td>\n",
              "      <td>1</td>\n",
              "      <td>2</td>\n",
              "    </tr>\n",
              "    <tr>\n",
              "      <th>343</th>\n",
              "      <td>1</td>\n",
              "      <td>Gentoo</td>\n",
              "      <td>Biscoe</td>\n",
              "      <td>49.9</td>\n",
              "      <td>16.1</td>\n",
              "      <td>213.0</td>\n",
              "      <td>5400.0</td>\n",
              "      <td>Male</td>\n",
              "      <td>1</td>\n",
              "      <td>1</td>\n",
              "      <td>2</td>\n",
              "    </tr>\n",
              "  </tbody>\n",
              "</table>\n",
              "<p>344 rows × 11 columns</p>\n",
              "</div>\n",
              "      <button class=\"colab-df-convert\" onclick=\"convertToInteractive('df-eb2b30e4-3d36-481f-91d6-47828f26a157')\"\n",
              "              title=\"Convert this dataframe to an interactive table.\"\n",
              "              style=\"display:none;\">\n",
              "\n",
              "  <svg xmlns=\"http://www.w3.org/2000/svg\" height=\"24px\"viewBox=\"0 0 24 24\"\n",
              "       width=\"24px\">\n",
              "    <path d=\"M0 0h24v24H0V0z\" fill=\"none\"/>\n",
              "    <path d=\"M18.56 5.44l.94 2.06.94-2.06 2.06-.94-2.06-.94-.94-2.06-.94 2.06-2.06.94zm-11 1L8.5 8.5l.94-2.06 2.06-.94-2.06-.94L8.5 2.5l-.94 2.06-2.06.94zm10 10l.94 2.06.94-2.06 2.06-.94-2.06-.94-.94-2.06-.94 2.06-2.06.94z\"/><path d=\"M17.41 7.96l-1.37-1.37c-.4-.4-.92-.59-1.43-.59-.52 0-1.04.2-1.43.59L10.3 9.45l-7.72 7.72c-.78.78-.78 2.05 0 2.83L4 21.41c.39.39.9.59 1.41.59.51 0 1.02-.2 1.41-.59l7.78-7.78 2.81-2.81c.8-.78.8-2.07 0-2.86zM5.41 20L4 18.59l7.72-7.72 1.47 1.35L5.41 20z\"/>\n",
              "  </svg>\n",
              "      </button>\n",
              "\n",
              "\n",
              "\n",
              "    <div id=\"df-d6629316-8c50-4e1a-b21a-7b1032f13e27\">\n",
              "      <button class=\"colab-df-quickchart\" onclick=\"quickchart('df-d6629316-8c50-4e1a-b21a-7b1032f13e27')\"\n",
              "              title=\"Suggest charts.\"\n",
              "              style=\"display:none;\">\n",
              "\n",
              "<svg xmlns=\"http://www.w3.org/2000/svg\" height=\"24px\"viewBox=\"0 0 24 24\"\n",
              "     width=\"24px\">\n",
              "    <g>\n",
              "        <path d=\"M19 3H5c-1.1 0-2 .9-2 2v14c0 1.1.9 2 2 2h14c1.1 0 2-.9 2-2V5c0-1.1-.9-2-2-2zM9 17H7v-7h2v7zm4 0h-2V7h2v10zm4 0h-2v-4h2v4z\"/>\n",
              "    </g>\n",
              "</svg>\n",
              "      </button>\n",
              "    </div>\n",
              "\n",
              "<style>\n",
              "  .colab-df-quickchart {\n",
              "    background-color: #E8F0FE;\n",
              "    border: none;\n",
              "    border-radius: 50%;\n",
              "    cursor: pointer;\n",
              "    display: none;\n",
              "    fill: #1967D2;\n",
              "    height: 32px;\n",
              "    padding: 0 0 0 0;\n",
              "    width: 32px;\n",
              "  }\n",
              "\n",
              "  .colab-df-quickchart:hover {\n",
              "    background-color: #E2EBFA;\n",
              "    box-shadow: 0px 1px 2px rgba(60, 64, 67, 0.3), 0px 1px 3px 1px rgba(60, 64, 67, 0.15);\n",
              "    fill: #174EA6;\n",
              "  }\n",
              "\n",
              "  [theme=dark] .colab-df-quickchart {\n",
              "    background-color: #3B4455;\n",
              "    fill: #D2E3FC;\n",
              "  }\n",
              "\n",
              "  [theme=dark] .colab-df-quickchart:hover {\n",
              "    background-color: #434B5C;\n",
              "    box-shadow: 0px 1px 3px 1px rgba(0, 0, 0, 0.15);\n",
              "    filter: drop-shadow(0px 1px 2px rgba(0, 0, 0, 0.3));\n",
              "    fill: #FFFFFF;\n",
              "  }\n",
              "</style>\n",
              "\n",
              "    <script>\n",
              "      async function quickchart(key) {\n",
              "        const containerElement = document.querySelector('#' + key);\n",
              "        const charts = await google.colab.kernel.invokeFunction(\n",
              "            'suggestCharts', [key], {});\n",
              "      }\n",
              "    </script>\n",
              "\n",
              "      <script>\n",
              "\n",
              "function displayQuickchartButton(domScope) {\n",
              "  let quickchartButtonEl =\n",
              "    domScope.querySelector('#df-d6629316-8c50-4e1a-b21a-7b1032f13e27 button.colab-df-quickchart');\n",
              "  quickchartButtonEl.style.display =\n",
              "    google.colab.kernel.accessAllowed ? 'block' : 'none';\n",
              "}\n",
              "\n",
              "        displayQuickchartButton(document);\n",
              "      </script>\n",
              "      <style>\n",
              "    .colab-df-container {\n",
              "      display:flex;\n",
              "      flex-wrap:wrap;\n",
              "      gap: 12px;\n",
              "    }\n",
              "\n",
              "    .colab-df-convert {\n",
              "      background-color: #E8F0FE;\n",
              "      border: none;\n",
              "      border-radius: 50%;\n",
              "      cursor: pointer;\n",
              "      display: none;\n",
              "      fill: #1967D2;\n",
              "      height: 32px;\n",
              "      padding: 0 0 0 0;\n",
              "      width: 32px;\n",
              "    }\n",
              "\n",
              "    .colab-df-convert:hover {\n",
              "      background-color: #E2EBFA;\n",
              "      box-shadow: 0px 1px 2px rgba(60, 64, 67, 0.3), 0px 1px 3px 1px rgba(60, 64, 67, 0.15);\n",
              "      fill: #174EA6;\n",
              "    }\n",
              "\n",
              "    [theme=dark] .colab-df-convert {\n",
              "      background-color: #3B4455;\n",
              "      fill: #D2E3FC;\n",
              "    }\n",
              "\n",
              "    [theme=dark] .colab-df-convert:hover {\n",
              "      background-color: #434B5C;\n",
              "      box-shadow: 0px 1px 3px 1px rgba(0, 0, 0, 0.15);\n",
              "      filter: drop-shadow(0px 1px 2px rgba(0, 0, 0, 0.3));\n",
              "      fill: #FFFFFF;\n",
              "    }\n",
              "  </style>\n",
              "\n",
              "      <script>\n",
              "        const buttonEl =\n",
              "          document.querySelector('#df-eb2b30e4-3d36-481f-91d6-47828f26a157 button.colab-df-convert');\n",
              "        buttonEl.style.display =\n",
              "          google.colab.kernel.accessAllowed ? 'block' : 'none';\n",
              "\n",
              "        async function convertToInteractive(key) {\n",
              "          const element = document.querySelector('#df-eb2b30e4-3d36-481f-91d6-47828f26a157');\n",
              "          const dataTable =\n",
              "            await google.colab.kernel.invokeFunction('convertToInteractive',\n",
              "                                                     [key], {});\n",
              "          if (!dataTable) return;\n",
              "\n",
              "          const docLinkHtml = 'Like what you see? Visit the ' +\n",
              "            '<a target=\"_blank\" href=https://colab.research.google.com/notebooks/data_table.ipynb>data table notebook</a>'\n",
              "            + ' to learn more about interactive tables.';\n",
              "          element.innerHTML = '';\n",
              "          dataTable['output_type'] = 'display_data';\n",
              "          await google.colab.output.renderOutput(dataTable, element);\n",
              "          const docLink = document.createElement('div');\n",
              "          docLink.innerHTML = docLinkHtml;\n",
              "          element.appendChild(docLink);\n",
              "        }\n",
              "      </script>\n",
              "    </div>\n",
              "  </div>\n"
            ],
            "text/plain": [
              "     e species     island  bill_length_mm  bill_depth_mm  flipper_length_mm  \\\n",
              "0    1  Adelie  Torgersen            39.1           18.7              181.0   \n",
              "1    1  Adelie  Torgersen            39.5           17.4              186.0   \n",
              "2    1  Adelie  Torgersen            40.3           18.0              195.0   \n",
              "3    1  Adelie  Torgersen             NaN            NaN                NaN   \n",
              "4    1  Adelie  Torgersen            36.7           19.3              193.0   \n",
              "..  ..     ...        ...             ...            ...                ...   \n",
              "339  1  Gentoo     Biscoe             NaN            NaN                NaN   \n",
              "340  1  Gentoo     Biscoe            46.8           14.3              215.0   \n",
              "341  1  Gentoo     Biscoe            50.4           15.7              222.0   \n",
              "342  1  Gentoo     Biscoe            45.2           14.8              212.0   \n",
              "343  1  Gentoo     Biscoe            49.9           16.1              213.0   \n",
              "\n",
              "     body_mass_g     sex  a  b  c  \n",
              "0         3750.0    Male  1  1  2  \n",
              "1         3800.0  Female  1  1  2  \n",
              "2         3250.0  Female  1  1  2  \n",
              "3            NaN     NaN  1  1  2  \n",
              "4         3450.0  Female  1  1  2  \n",
              "..           ...     ... .. .. ..  \n",
              "339          NaN     NaN  1  1  2  \n",
              "340       4850.0  Female  1  1  2  \n",
              "341       5750.0    Male  1  1  2  \n",
              "342       5200.0  Female  1  1  2  \n",
              "343       5400.0    Male  1  1  2  \n",
              "\n",
              "[344 rows x 11 columns]"
            ]
          },
          "execution_count": 21,
          "metadata": {},
          "output_type": "execute_result"
        }
      ],
      "source": [
        "df1 #inplace나, 새로운 변수로 할당할필요없이 바로 바꿔줌"
      ]
    },
    {
      "attachments": {},
      "cell_type": "markdown",
      "metadata": {
        "id": "GFaGEyv5taNd"
      },
      "source": [
        "## 컬럼명 변경\n",
        "\n",
        "* `df.rename(columns = {'기존컬럼명1' : '바꿀컬럼명1',   '기존컬럼명2':'바꿀컬럼명2'}`\n",
        "\n",
        "* 바뀐결과를 적용하려면 새로운 변수명으로 할당 필요"
      ]
    },
    {
      "cell_type": "code",
      "execution_count": null,
      "metadata": {
        "colab": {
          "base_uri": "https://localhost:8080/",
          "height": 424
        },
        "id": "jIo5ENJrtpZC",
        "outputId": "27958b13-f369-4625-d650-3eef2e12d23a"
      },
      "outputs": [
        {
          "data": {
            "text/html": [
              "\n",
              "\n",
              "  <div id=\"df-15c05112-eca2-4ce1-8749-0dc6ba01eb2d\">\n",
              "    <div class=\"colab-df-container\">\n",
              "      <div>\n",
              "<style scoped>\n",
              "    .dataframe tbody tr th:only-of-type {\n",
              "        vertical-align: middle;\n",
              "    }\n",
              "\n",
              "    .dataframe tbody tr th {\n",
              "        vertical-align: top;\n",
              "    }\n",
              "\n",
              "    .dataframe thead th {\n",
              "        text-align: right;\n",
              "    }\n",
              "</style>\n",
              "<table border=\"1\" class=\"dataframe\">\n",
              "  <thead>\n",
              "    <tr style=\"text-align: right;\">\n",
              "      <th></th>\n",
              "      <th>e</th>\n",
              "      <th>species</th>\n",
              "      <th>island</th>\n",
              "      <th>bill_length_mm</th>\n",
              "      <th>bill_depth_mm</th>\n",
              "      <th>flipper_length_mm</th>\n",
              "      <th>body_mass_g</th>\n",
              "      <th>sex</th>\n",
              "      <th>aa</th>\n",
              "      <th>bb</th>\n",
              "      <th>c</th>\n",
              "    </tr>\n",
              "  </thead>\n",
              "  <tbody>\n",
              "    <tr>\n",
              "      <th>0</th>\n",
              "      <td>1</td>\n",
              "      <td>Adelie</td>\n",
              "      <td>Torgersen</td>\n",
              "      <td>39.1</td>\n",
              "      <td>18.7</td>\n",
              "      <td>181.0</td>\n",
              "      <td>3750.0</td>\n",
              "      <td>Male</td>\n",
              "      <td>1</td>\n",
              "      <td>1</td>\n",
              "      <td>2</td>\n",
              "    </tr>\n",
              "    <tr>\n",
              "      <th>1</th>\n",
              "      <td>1</td>\n",
              "      <td>Adelie</td>\n",
              "      <td>Torgersen</td>\n",
              "      <td>39.5</td>\n",
              "      <td>17.4</td>\n",
              "      <td>186.0</td>\n",
              "      <td>3800.0</td>\n",
              "      <td>Female</td>\n",
              "      <td>1</td>\n",
              "      <td>1</td>\n",
              "      <td>2</td>\n",
              "    </tr>\n",
              "    <tr>\n",
              "      <th>2</th>\n",
              "      <td>1</td>\n",
              "      <td>Adelie</td>\n",
              "      <td>Torgersen</td>\n",
              "      <td>40.3</td>\n",
              "      <td>18.0</td>\n",
              "      <td>195.0</td>\n",
              "      <td>3250.0</td>\n",
              "      <td>Female</td>\n",
              "      <td>1</td>\n",
              "      <td>1</td>\n",
              "      <td>2</td>\n",
              "    </tr>\n",
              "    <tr>\n",
              "      <th>3</th>\n",
              "      <td>1</td>\n",
              "      <td>Adelie</td>\n",
              "      <td>Torgersen</td>\n",
              "      <td>NaN</td>\n",
              "      <td>NaN</td>\n",
              "      <td>NaN</td>\n",
              "      <td>NaN</td>\n",
              "      <td>NaN</td>\n",
              "      <td>1</td>\n",
              "      <td>1</td>\n",
              "      <td>2</td>\n",
              "    </tr>\n",
              "    <tr>\n",
              "      <th>4</th>\n",
              "      <td>1</td>\n",
              "      <td>Adelie</td>\n",
              "      <td>Torgersen</td>\n",
              "      <td>36.7</td>\n",
              "      <td>19.3</td>\n",
              "      <td>193.0</td>\n",
              "      <td>3450.0</td>\n",
              "      <td>Female</td>\n",
              "      <td>1</td>\n",
              "      <td>1</td>\n",
              "      <td>2</td>\n",
              "    </tr>\n",
              "    <tr>\n",
              "      <th>...</th>\n",
              "      <td>...</td>\n",
              "      <td>...</td>\n",
              "      <td>...</td>\n",
              "      <td>...</td>\n",
              "      <td>...</td>\n",
              "      <td>...</td>\n",
              "      <td>...</td>\n",
              "      <td>...</td>\n",
              "      <td>...</td>\n",
              "      <td>...</td>\n",
              "      <td>...</td>\n",
              "    </tr>\n",
              "    <tr>\n",
              "      <th>339</th>\n",
              "      <td>1</td>\n",
              "      <td>Gentoo</td>\n",
              "      <td>Biscoe</td>\n",
              "      <td>NaN</td>\n",
              "      <td>NaN</td>\n",
              "      <td>NaN</td>\n",
              "      <td>NaN</td>\n",
              "      <td>NaN</td>\n",
              "      <td>1</td>\n",
              "      <td>1</td>\n",
              "      <td>2</td>\n",
              "    </tr>\n",
              "    <tr>\n",
              "      <th>340</th>\n",
              "      <td>1</td>\n",
              "      <td>Gentoo</td>\n",
              "      <td>Biscoe</td>\n",
              "      <td>46.8</td>\n",
              "      <td>14.3</td>\n",
              "      <td>215.0</td>\n",
              "      <td>4850.0</td>\n",
              "      <td>Female</td>\n",
              "      <td>1</td>\n",
              "      <td>1</td>\n",
              "      <td>2</td>\n",
              "    </tr>\n",
              "    <tr>\n",
              "      <th>341</th>\n",
              "      <td>1</td>\n",
              "      <td>Gentoo</td>\n",
              "      <td>Biscoe</td>\n",
              "      <td>50.4</td>\n",
              "      <td>15.7</td>\n",
              "      <td>222.0</td>\n",
              "      <td>5750.0</td>\n",
              "      <td>Male</td>\n",
              "      <td>1</td>\n",
              "      <td>1</td>\n",
              "      <td>2</td>\n",
              "    </tr>\n",
              "    <tr>\n",
              "      <th>342</th>\n",
              "      <td>1</td>\n",
              "      <td>Gentoo</td>\n",
              "      <td>Biscoe</td>\n",
              "      <td>45.2</td>\n",
              "      <td>14.8</td>\n",
              "      <td>212.0</td>\n",
              "      <td>5200.0</td>\n",
              "      <td>Female</td>\n",
              "      <td>1</td>\n",
              "      <td>1</td>\n",
              "      <td>2</td>\n",
              "    </tr>\n",
              "    <tr>\n",
              "      <th>343</th>\n",
              "      <td>1</td>\n",
              "      <td>Gentoo</td>\n",
              "      <td>Biscoe</td>\n",
              "      <td>49.9</td>\n",
              "      <td>16.1</td>\n",
              "      <td>213.0</td>\n",
              "      <td>5400.0</td>\n",
              "      <td>Male</td>\n",
              "      <td>1</td>\n",
              "      <td>1</td>\n",
              "      <td>2</td>\n",
              "    </tr>\n",
              "  </tbody>\n",
              "</table>\n",
              "<p>344 rows × 11 columns</p>\n",
              "</div>\n",
              "      <button class=\"colab-df-convert\" onclick=\"convertToInteractive('df-15c05112-eca2-4ce1-8749-0dc6ba01eb2d')\"\n",
              "              title=\"Convert this dataframe to an interactive table.\"\n",
              "              style=\"display:none;\">\n",
              "\n",
              "  <svg xmlns=\"http://www.w3.org/2000/svg\" height=\"24px\"viewBox=\"0 0 24 24\"\n",
              "       width=\"24px\">\n",
              "    <path d=\"M0 0h24v24H0V0z\" fill=\"none\"/>\n",
              "    <path d=\"M18.56 5.44l.94 2.06.94-2.06 2.06-.94-2.06-.94-.94-2.06-.94 2.06-2.06.94zm-11 1L8.5 8.5l.94-2.06 2.06-.94-2.06-.94L8.5 2.5l-.94 2.06-2.06.94zm10 10l.94 2.06.94-2.06 2.06-.94-2.06-.94-.94-2.06-.94 2.06-2.06.94z\"/><path d=\"M17.41 7.96l-1.37-1.37c-.4-.4-.92-.59-1.43-.59-.52 0-1.04.2-1.43.59L10.3 9.45l-7.72 7.72c-.78.78-.78 2.05 0 2.83L4 21.41c.39.39.9.59 1.41.59.51 0 1.02-.2 1.41-.59l7.78-7.78 2.81-2.81c.8-.78.8-2.07 0-2.86zM5.41 20L4 18.59l7.72-7.72 1.47 1.35L5.41 20z\"/>\n",
              "  </svg>\n",
              "      </button>\n",
              "\n",
              "\n",
              "\n",
              "    <div id=\"df-21bce023-0e6b-40ad-9404-c3960b64eb98\">\n",
              "      <button class=\"colab-df-quickchart\" onclick=\"quickchart('df-21bce023-0e6b-40ad-9404-c3960b64eb98')\"\n",
              "              title=\"Suggest charts.\"\n",
              "              style=\"display:none;\">\n",
              "\n",
              "<svg xmlns=\"http://www.w3.org/2000/svg\" height=\"24px\"viewBox=\"0 0 24 24\"\n",
              "     width=\"24px\">\n",
              "    <g>\n",
              "        <path d=\"M19 3H5c-1.1 0-2 .9-2 2v14c0 1.1.9 2 2 2h14c1.1 0 2-.9 2-2V5c0-1.1-.9-2-2-2zM9 17H7v-7h2v7zm4 0h-2V7h2v10zm4 0h-2v-4h2v4z\"/>\n",
              "    </g>\n",
              "</svg>\n",
              "      </button>\n",
              "    </div>\n",
              "\n",
              "<style>\n",
              "  .colab-df-quickchart {\n",
              "    background-color: #E8F0FE;\n",
              "    border: none;\n",
              "    border-radius: 50%;\n",
              "    cursor: pointer;\n",
              "    display: none;\n",
              "    fill: #1967D2;\n",
              "    height: 32px;\n",
              "    padding: 0 0 0 0;\n",
              "    width: 32px;\n",
              "  }\n",
              "\n",
              "  .colab-df-quickchart:hover {\n",
              "    background-color: #E2EBFA;\n",
              "    box-shadow: 0px 1px 2px rgba(60, 64, 67, 0.3), 0px 1px 3px 1px rgba(60, 64, 67, 0.15);\n",
              "    fill: #174EA6;\n",
              "  }\n",
              "\n",
              "  [theme=dark] .colab-df-quickchart {\n",
              "    background-color: #3B4455;\n",
              "    fill: #D2E3FC;\n",
              "  }\n",
              "\n",
              "  [theme=dark] .colab-df-quickchart:hover {\n",
              "    background-color: #434B5C;\n",
              "    box-shadow: 0px 1px 3px 1px rgba(0, 0, 0, 0.15);\n",
              "    filter: drop-shadow(0px 1px 2px rgba(0, 0, 0, 0.3));\n",
              "    fill: #FFFFFF;\n",
              "  }\n",
              "</style>\n",
              "\n",
              "    <script>\n",
              "      async function quickchart(key) {\n",
              "        const containerElement = document.querySelector('#' + key);\n",
              "        const charts = await google.colab.kernel.invokeFunction(\n",
              "            'suggestCharts', [key], {});\n",
              "      }\n",
              "    </script>\n",
              "\n",
              "      <script>\n",
              "\n",
              "function displayQuickchartButton(domScope) {\n",
              "  let quickchartButtonEl =\n",
              "    domScope.querySelector('#df-21bce023-0e6b-40ad-9404-c3960b64eb98 button.colab-df-quickchart');\n",
              "  quickchartButtonEl.style.display =\n",
              "    google.colab.kernel.accessAllowed ? 'block' : 'none';\n",
              "}\n",
              "\n",
              "        displayQuickchartButton(document);\n",
              "      </script>\n",
              "      <style>\n",
              "    .colab-df-container {\n",
              "      display:flex;\n",
              "      flex-wrap:wrap;\n",
              "      gap: 12px;\n",
              "    }\n",
              "\n",
              "    .colab-df-convert {\n",
              "      background-color: #E8F0FE;\n",
              "      border: none;\n",
              "      border-radius: 50%;\n",
              "      cursor: pointer;\n",
              "      display: none;\n",
              "      fill: #1967D2;\n",
              "      height: 32px;\n",
              "      padding: 0 0 0 0;\n",
              "      width: 32px;\n",
              "    }\n",
              "\n",
              "    .colab-df-convert:hover {\n",
              "      background-color: #E2EBFA;\n",
              "      box-shadow: 0px 1px 2px rgba(60, 64, 67, 0.3), 0px 1px 3px 1px rgba(60, 64, 67, 0.15);\n",
              "      fill: #174EA6;\n",
              "    }\n",
              "\n",
              "    [theme=dark] .colab-df-convert {\n",
              "      background-color: #3B4455;\n",
              "      fill: #D2E3FC;\n",
              "    }\n",
              "\n",
              "    [theme=dark] .colab-df-convert:hover {\n",
              "      background-color: #434B5C;\n",
              "      box-shadow: 0px 1px 3px 1px rgba(0, 0, 0, 0.15);\n",
              "      filter: drop-shadow(0px 1px 2px rgba(0, 0, 0, 0.3));\n",
              "      fill: #FFFFFF;\n",
              "    }\n",
              "  </style>\n",
              "\n",
              "      <script>\n",
              "        const buttonEl =\n",
              "          document.querySelector('#df-15c05112-eca2-4ce1-8749-0dc6ba01eb2d button.colab-df-convert');\n",
              "        buttonEl.style.display =\n",
              "          google.colab.kernel.accessAllowed ? 'block' : 'none';\n",
              "\n",
              "        async function convertToInteractive(key) {\n",
              "          const element = document.querySelector('#df-15c05112-eca2-4ce1-8749-0dc6ba01eb2d');\n",
              "          const dataTable =\n",
              "            await google.colab.kernel.invokeFunction('convertToInteractive',\n",
              "                                                     [key], {});\n",
              "          if (!dataTable) return;\n",
              "\n",
              "          const docLinkHtml = 'Like what you see? Visit the ' +\n",
              "            '<a target=\"_blank\" href=https://colab.research.google.com/notebooks/data_table.ipynb>data table notebook</a>'\n",
              "            + ' to learn more about interactive tables.';\n",
              "          element.innerHTML = '';\n",
              "          dataTable['output_type'] = 'display_data';\n",
              "          await google.colab.output.renderOutput(dataTable, element);\n",
              "          const docLink = document.createElement('div');\n",
              "          docLink.innerHTML = docLinkHtml;\n",
              "          element.appendChild(docLink);\n",
              "        }\n",
              "      </script>\n",
              "    </div>\n",
              "  </div>\n"
            ],
            "text/plain": [
              "     e species     island  bill_length_mm  bill_depth_mm  flipper_length_mm  \\\n",
              "0    1  Adelie  Torgersen            39.1           18.7              181.0   \n",
              "1    1  Adelie  Torgersen            39.5           17.4              186.0   \n",
              "2    1  Adelie  Torgersen            40.3           18.0              195.0   \n",
              "3    1  Adelie  Torgersen             NaN            NaN                NaN   \n",
              "4    1  Adelie  Torgersen            36.7           19.3              193.0   \n",
              "..  ..     ...        ...             ...            ...                ...   \n",
              "339  1  Gentoo     Biscoe             NaN            NaN                NaN   \n",
              "340  1  Gentoo     Biscoe            46.8           14.3              215.0   \n",
              "341  1  Gentoo     Biscoe            50.4           15.7              222.0   \n",
              "342  1  Gentoo     Biscoe            45.2           14.8              212.0   \n",
              "343  1  Gentoo     Biscoe            49.9           16.1              213.0   \n",
              "\n",
              "     body_mass_g     sex  aa  bb  c  \n",
              "0         3750.0    Male   1   1  2  \n",
              "1         3800.0  Female   1   1  2  \n",
              "2         3250.0  Female   1   1  2  \n",
              "3            NaN     NaN   1   1  2  \n",
              "4         3450.0  Female   1   1  2  \n",
              "..           ...     ...  ..  .. ..  \n",
              "339          NaN     NaN   1   1  2  \n",
              "340       4850.0  Female   1   1  2  \n",
              "341       5750.0    Male   1   1  2  \n",
              "342       5200.0  Female   1   1  2  \n",
              "343       5400.0    Male   1   1  2  \n",
              "\n",
              "[344 rows x 11 columns]"
            ]
          },
          "execution_count": 23,
          "metadata": {},
          "output_type": "execute_result"
        }
      ],
      "source": [
        "df2 = df1.rename(columns = {'a' : 'aa',\n",
        "                            'b' : 'bb'})\n",
        "df2"
      ]
    },
    {
      "attachments": {},
      "cell_type": "markdown",
      "metadata": {
        "id": "LybZBSSCu9Ia"
      },
      "source": [
        "## 중복행 제거\n",
        "\n",
        "* drop_duplicates\n",
        "\n",
        "|parameter|설명|값|\n",
        "|:-:|-|-|\n",
        "|subset|중복값을 검사할 열, 기본적으로 모든 열을 검사|default = 'None'|\n",
        "|keep|중복 제거를 할때 남길 행, first면 첫값을 남기고, last면 마지막 값을 남김|default = 'first', 'last'|\n",
        "|inplace|원본 변경 여부|default = False|\n",
        "|ingore_index|원래 index를 무시할지 여부, True일 경우 새로운 인덱스가 0~n으로 부여됨|default = False|"
      ]
    },
    {
      "cell_type": "code",
      "execution_count": 1,
      "metadata": {
        "colab": {
          "base_uri": "https://localhost:8080/",
          "height": 206
        },
        "id": "AL62aqTevAzn",
        "outputId": "4ec0e9d3-b555-43fa-9b64-155442c54383"
      },
      "outputs": [
        {
          "data": {
            "text/html": [
              "<div>\n",
              "<style scoped>\n",
              "    .dataframe tbody tr th:only-of-type {\n",
              "        vertical-align: middle;\n",
              "    }\n",
              "\n",
              "    .dataframe tbody tr th {\n",
              "        vertical-align: top;\n",
              "    }\n",
              "\n",
              "    .dataframe thead th {\n",
              "        text-align: right;\n",
              "    }\n",
              "</style>\n",
              "<table border=\"1\" class=\"dataframe\">\n",
              "  <thead>\n",
              "    <tr style=\"text-align: right;\">\n",
              "      <th></th>\n",
              "      <th>col1</th>\n",
              "      <th>col2</th>\n",
              "      <th>col3</th>\n",
              "    </tr>\n",
              "  </thead>\n",
              "  <tbody>\n",
              "    <tr>\n",
              "      <th>0</th>\n",
              "      <td>A</td>\n",
              "      <td>x</td>\n",
              "      <td>-</td>\n",
              "    </tr>\n",
              "    <tr>\n",
              "      <th>1</th>\n",
              "      <td>A</td>\n",
              "      <td>x</td>\n",
              "      <td>-</td>\n",
              "    </tr>\n",
              "    <tr>\n",
              "      <th>2</th>\n",
              "      <td>B</td>\n",
              "      <td>x</td>\n",
              "      <td>앞</td>\n",
              "    </tr>\n",
              "    <tr>\n",
              "      <th>3</th>\n",
              "      <td>B</td>\n",
              "      <td>y</td>\n",
              "      <td>-</td>\n",
              "    </tr>\n",
              "    <tr>\n",
              "      <th>4</th>\n",
              "      <td>B</td>\n",
              "      <td>y</td>\n",
              "      <td>뒤</td>\n",
              "    </tr>\n",
              "  </tbody>\n",
              "</table>\n",
              "</div>"
            ],
            "text/plain": [
              "  col1 col2 col3\n",
              "0    A    x    -\n",
              "1    A    x    -\n",
              "2    B    x    앞\n",
              "3    B    y    -\n",
              "4    B    y    뒤"
            ]
          },
          "execution_count": 1,
          "metadata": {},
          "output_type": "execute_result"
        }
      ],
      "source": [
        "import pandas as pd\n",
        "\n",
        "col = ['col1','col2','col3']\n",
        "data = [['A','x','-'],['A','x','-'],['B','x','앞'],['B','y','-'],['B','y','뒤']]\n",
        "df = pd.DataFrame(data=data, columns=col)\n",
        "df"
      ]
    },
    {
      "cell_type": "code",
      "execution_count": null,
      "metadata": {
        "colab": {
          "base_uri": "https://localhost:8080/",
          "height": 175
        },
        "id": "Zan-ks-LwuZz",
        "outputId": "be948cf2-b799-426f-cc40-ec82df1ba5e8"
      },
      "outputs": [
        {
          "data": {
            "text/html": [
              "\n",
              "\n",
              "  <div id=\"df-cb801cdc-77a3-4e4c-8d1e-27cad3fb9a90\">\n",
              "    <div class=\"colab-df-container\">\n",
              "      <div>\n",
              "<style scoped>\n",
              "    .dataframe tbody tr th:only-of-type {\n",
              "        vertical-align: middle;\n",
              "    }\n",
              "\n",
              "    .dataframe tbody tr th {\n",
              "        vertical-align: top;\n",
              "    }\n",
              "\n",
              "    .dataframe thead th {\n",
              "        text-align: right;\n",
              "    }\n",
              "</style>\n",
              "<table border=\"1\" class=\"dataframe\">\n",
              "  <thead>\n",
              "    <tr style=\"text-align: right;\">\n",
              "      <th></th>\n",
              "      <th>col1</th>\n",
              "      <th>col2</th>\n",
              "      <th>col3</th>\n",
              "    </tr>\n",
              "  </thead>\n",
              "  <tbody>\n",
              "    <tr>\n",
              "      <th>0</th>\n",
              "      <td>A</td>\n",
              "      <td>x</td>\n",
              "      <td>-</td>\n",
              "    </tr>\n",
              "    <tr>\n",
              "      <th>2</th>\n",
              "      <td>B</td>\n",
              "      <td>x</td>\n",
              "      <td>앞</td>\n",
              "    </tr>\n",
              "    <tr>\n",
              "      <th>3</th>\n",
              "      <td>B</td>\n",
              "      <td>y</td>\n",
              "      <td>-</td>\n",
              "    </tr>\n",
              "    <tr>\n",
              "      <th>4</th>\n",
              "      <td>B</td>\n",
              "      <td>y</td>\n",
              "      <td>뒤</td>\n",
              "    </tr>\n",
              "  </tbody>\n",
              "</table>\n",
              "</div>\n",
              "      <button class=\"colab-df-convert\" onclick=\"convertToInteractive('df-cb801cdc-77a3-4e4c-8d1e-27cad3fb9a90')\"\n",
              "              title=\"Convert this dataframe to an interactive table.\"\n",
              "              style=\"display:none;\">\n",
              "\n",
              "  <svg xmlns=\"http://www.w3.org/2000/svg\" height=\"24px\"viewBox=\"0 0 24 24\"\n",
              "       width=\"24px\">\n",
              "    <path d=\"M0 0h24v24H0V0z\" fill=\"none\"/>\n",
              "    <path d=\"M18.56 5.44l.94 2.06.94-2.06 2.06-.94-2.06-.94-.94-2.06-.94 2.06-2.06.94zm-11 1L8.5 8.5l.94-2.06 2.06-.94-2.06-.94L8.5 2.5l-.94 2.06-2.06.94zm10 10l.94 2.06.94-2.06 2.06-.94-2.06-.94-.94-2.06-.94 2.06-2.06.94z\"/><path d=\"M17.41 7.96l-1.37-1.37c-.4-.4-.92-.59-1.43-.59-.52 0-1.04.2-1.43.59L10.3 9.45l-7.72 7.72c-.78.78-.78 2.05 0 2.83L4 21.41c.39.39.9.59 1.41.59.51 0 1.02-.2 1.41-.59l7.78-7.78 2.81-2.81c.8-.78.8-2.07 0-2.86zM5.41 20L4 18.59l7.72-7.72 1.47 1.35L5.41 20z\"/>\n",
              "  </svg>\n",
              "      </button>\n",
              "\n",
              "\n",
              "\n",
              "    <div id=\"df-91140540-96a2-4273-9964-8f6ae80728ab\">\n",
              "      <button class=\"colab-df-quickchart\" onclick=\"quickchart('df-91140540-96a2-4273-9964-8f6ae80728ab')\"\n",
              "              title=\"Suggest charts.\"\n",
              "              style=\"display:none;\">\n",
              "\n",
              "<svg xmlns=\"http://www.w3.org/2000/svg\" height=\"24px\"viewBox=\"0 0 24 24\"\n",
              "     width=\"24px\">\n",
              "    <g>\n",
              "        <path d=\"M19 3H5c-1.1 0-2 .9-2 2v14c0 1.1.9 2 2 2h14c1.1 0 2-.9 2-2V5c0-1.1-.9-2-2-2zM9 17H7v-7h2v7zm4 0h-2V7h2v10zm4 0h-2v-4h2v4z\"/>\n",
              "    </g>\n",
              "</svg>\n",
              "      </button>\n",
              "    </div>\n",
              "\n",
              "<style>\n",
              "  .colab-df-quickchart {\n",
              "    background-color: #E8F0FE;\n",
              "    border: none;\n",
              "    border-radius: 50%;\n",
              "    cursor: pointer;\n",
              "    display: none;\n",
              "    fill: #1967D2;\n",
              "    height: 32px;\n",
              "    padding: 0 0 0 0;\n",
              "    width: 32px;\n",
              "  }\n",
              "\n",
              "  .colab-df-quickchart:hover {\n",
              "    background-color: #E2EBFA;\n",
              "    box-shadow: 0px 1px 2px rgba(60, 64, 67, 0.3), 0px 1px 3px 1px rgba(60, 64, 67, 0.15);\n",
              "    fill: #174EA6;\n",
              "  }\n",
              "\n",
              "  [theme=dark] .colab-df-quickchart {\n",
              "    background-color: #3B4455;\n",
              "    fill: #D2E3FC;\n",
              "  }\n",
              "\n",
              "  [theme=dark] .colab-df-quickchart:hover {\n",
              "    background-color: #434B5C;\n",
              "    box-shadow: 0px 1px 3px 1px rgba(0, 0, 0, 0.15);\n",
              "    filter: drop-shadow(0px 1px 2px rgba(0, 0, 0, 0.3));\n",
              "    fill: #FFFFFF;\n",
              "  }\n",
              "</style>\n",
              "\n",
              "    <script>\n",
              "      async function quickchart(key) {\n",
              "        const containerElement = document.querySelector('#' + key);\n",
              "        const charts = await google.colab.kernel.invokeFunction(\n",
              "            'suggestCharts', [key], {});\n",
              "      }\n",
              "    </script>\n",
              "\n",
              "      <script>\n",
              "\n",
              "function displayQuickchartButton(domScope) {\n",
              "  let quickchartButtonEl =\n",
              "    domScope.querySelector('#df-91140540-96a2-4273-9964-8f6ae80728ab button.colab-df-quickchart');\n",
              "  quickchartButtonEl.style.display =\n",
              "    google.colab.kernel.accessAllowed ? 'block' : 'none';\n",
              "}\n",
              "\n",
              "        displayQuickchartButton(document);\n",
              "      </script>\n",
              "      <style>\n",
              "    .colab-df-container {\n",
              "      display:flex;\n",
              "      flex-wrap:wrap;\n",
              "      gap: 12px;\n",
              "    }\n",
              "\n",
              "    .colab-df-convert {\n",
              "      background-color: #E8F0FE;\n",
              "      border: none;\n",
              "      border-radius: 50%;\n",
              "      cursor: pointer;\n",
              "      display: none;\n",
              "      fill: #1967D2;\n",
              "      height: 32px;\n",
              "      padding: 0 0 0 0;\n",
              "      width: 32px;\n",
              "    }\n",
              "\n",
              "    .colab-df-convert:hover {\n",
              "      background-color: #E2EBFA;\n",
              "      box-shadow: 0px 1px 2px rgba(60, 64, 67, 0.3), 0px 1px 3px 1px rgba(60, 64, 67, 0.15);\n",
              "      fill: #174EA6;\n",
              "    }\n",
              "\n",
              "    [theme=dark] .colab-df-convert {\n",
              "      background-color: #3B4455;\n",
              "      fill: #D2E3FC;\n",
              "    }\n",
              "\n",
              "    [theme=dark] .colab-df-convert:hover {\n",
              "      background-color: #434B5C;\n",
              "      box-shadow: 0px 1px 3px 1px rgba(0, 0, 0, 0.15);\n",
              "      filter: drop-shadow(0px 1px 2px rgba(0, 0, 0, 0.3));\n",
              "      fill: #FFFFFF;\n",
              "    }\n",
              "  </style>\n",
              "\n",
              "      <script>\n",
              "        const buttonEl =\n",
              "          document.querySelector('#df-cb801cdc-77a3-4e4c-8d1e-27cad3fb9a90 button.colab-df-convert');\n",
              "        buttonEl.style.display =\n",
              "          google.colab.kernel.accessAllowed ? 'block' : 'none';\n",
              "\n",
              "        async function convertToInteractive(key) {\n",
              "          const element = document.querySelector('#df-cb801cdc-77a3-4e4c-8d1e-27cad3fb9a90');\n",
              "          const dataTable =\n",
              "            await google.colab.kernel.invokeFunction('convertToInteractive',\n",
              "                                                     [key], {});\n",
              "          if (!dataTable) return;\n",
              "\n",
              "          const docLinkHtml = 'Like what you see? Visit the ' +\n",
              "            '<a target=\"_blank\" href=https://colab.research.google.com/notebooks/data_table.ipynb>data table notebook</a>'\n",
              "            + ' to learn more about interactive tables.';\n",
              "          element.innerHTML = '';\n",
              "          dataTable['output_type'] = 'display_data';\n",
              "          await google.colab.output.renderOutput(dataTable, element);\n",
              "          const docLink = document.createElement('div');\n",
              "          docLink.innerHTML = docLinkHtml;\n",
              "          element.appendChild(docLink);\n",
              "        }\n",
              "      </script>\n",
              "    </div>\n",
              "  </div>\n"
            ],
            "text/plain": [
              "  col1 col2 col3\n",
              "0    A    x    -\n",
              "2    B    x    앞\n",
              "3    B    y    -\n",
              "4    B    y    뒤"
            ]
          },
          "execution_count": 2,
          "metadata": {},
          "output_type": "execute_result"
        }
      ],
      "source": [
        "df.drop_duplicates() #따로 인자를 주지않았기 때문에 모든 열에대해 값이 중복인 값을 제거"
      ]
    },
    {
      "cell_type": "code",
      "execution_count": null,
      "metadata": {
        "colab": {
          "base_uri": "https://localhost:8080/",
          "height": 112
        },
        "id": "k6VYuhCLw9O6",
        "outputId": "6c7e3848-99ee-491d-cb4d-c62158b3e8f1"
      },
      "outputs": [
        {
          "data": {
            "text/html": [
              "\n",
              "\n",
              "  <div id=\"df-8b8d52d6-40bb-4b95-9185-6817af75c231\">\n",
              "    <div class=\"colab-df-container\">\n",
              "      <div>\n",
              "<style scoped>\n",
              "    .dataframe tbody tr th:only-of-type {\n",
              "        vertical-align: middle;\n",
              "    }\n",
              "\n",
              "    .dataframe tbody tr th {\n",
              "        vertical-align: top;\n",
              "    }\n",
              "\n",
              "    .dataframe thead th {\n",
              "        text-align: right;\n",
              "    }\n",
              "</style>\n",
              "<table border=\"1\" class=\"dataframe\">\n",
              "  <thead>\n",
              "    <tr style=\"text-align: right;\">\n",
              "      <th></th>\n",
              "      <th>col1</th>\n",
              "      <th>col2</th>\n",
              "      <th>col3</th>\n",
              "    </tr>\n",
              "  </thead>\n",
              "  <tbody>\n",
              "    <tr>\n",
              "      <th>0</th>\n",
              "      <td>A</td>\n",
              "      <td>x</td>\n",
              "      <td>-</td>\n",
              "    </tr>\n",
              "    <tr>\n",
              "      <th>2</th>\n",
              "      <td>B</td>\n",
              "      <td>x</td>\n",
              "      <td>앞</td>\n",
              "    </tr>\n",
              "  </tbody>\n",
              "</table>\n",
              "</div>\n",
              "      <button class=\"colab-df-convert\" onclick=\"convertToInteractive('df-8b8d52d6-40bb-4b95-9185-6817af75c231')\"\n",
              "              title=\"Convert this dataframe to an interactive table.\"\n",
              "              style=\"display:none;\">\n",
              "\n",
              "  <svg xmlns=\"http://www.w3.org/2000/svg\" height=\"24px\"viewBox=\"0 0 24 24\"\n",
              "       width=\"24px\">\n",
              "    <path d=\"M0 0h24v24H0V0z\" fill=\"none\"/>\n",
              "    <path d=\"M18.56 5.44l.94 2.06.94-2.06 2.06-.94-2.06-.94-.94-2.06-.94 2.06-2.06.94zm-11 1L8.5 8.5l.94-2.06 2.06-.94-2.06-.94L8.5 2.5l-.94 2.06-2.06.94zm10 10l.94 2.06.94-2.06 2.06-.94-2.06-.94-.94-2.06-.94 2.06-2.06.94z\"/><path d=\"M17.41 7.96l-1.37-1.37c-.4-.4-.92-.59-1.43-.59-.52 0-1.04.2-1.43.59L10.3 9.45l-7.72 7.72c-.78.78-.78 2.05 0 2.83L4 21.41c.39.39.9.59 1.41.59.51 0 1.02-.2 1.41-.59l7.78-7.78 2.81-2.81c.8-.78.8-2.07 0-2.86zM5.41 20L4 18.59l7.72-7.72 1.47 1.35L5.41 20z\"/>\n",
              "  </svg>\n",
              "      </button>\n",
              "\n",
              "\n",
              "\n",
              "    <div id=\"df-589e532c-13ca-44cf-9521-df64e95d060b\">\n",
              "      <button class=\"colab-df-quickchart\" onclick=\"quickchart('df-589e532c-13ca-44cf-9521-df64e95d060b')\"\n",
              "              title=\"Suggest charts.\"\n",
              "              style=\"display:none;\">\n",
              "\n",
              "<svg xmlns=\"http://www.w3.org/2000/svg\" height=\"24px\"viewBox=\"0 0 24 24\"\n",
              "     width=\"24px\">\n",
              "    <g>\n",
              "        <path d=\"M19 3H5c-1.1 0-2 .9-2 2v14c0 1.1.9 2 2 2h14c1.1 0 2-.9 2-2V5c0-1.1-.9-2-2-2zM9 17H7v-7h2v7zm4 0h-2V7h2v10zm4 0h-2v-4h2v4z\"/>\n",
              "    </g>\n",
              "</svg>\n",
              "      </button>\n",
              "    </div>\n",
              "\n",
              "<style>\n",
              "  .colab-df-quickchart {\n",
              "    background-color: #E8F0FE;\n",
              "    border: none;\n",
              "    border-radius: 50%;\n",
              "    cursor: pointer;\n",
              "    display: none;\n",
              "    fill: #1967D2;\n",
              "    height: 32px;\n",
              "    padding: 0 0 0 0;\n",
              "    width: 32px;\n",
              "  }\n",
              "\n",
              "  .colab-df-quickchart:hover {\n",
              "    background-color: #E2EBFA;\n",
              "    box-shadow: 0px 1px 2px rgba(60, 64, 67, 0.3), 0px 1px 3px 1px rgba(60, 64, 67, 0.15);\n",
              "    fill: #174EA6;\n",
              "  }\n",
              "\n",
              "  [theme=dark] .colab-df-quickchart {\n",
              "    background-color: #3B4455;\n",
              "    fill: #D2E3FC;\n",
              "  }\n",
              "\n",
              "  [theme=dark] .colab-df-quickchart:hover {\n",
              "    background-color: #434B5C;\n",
              "    box-shadow: 0px 1px 3px 1px rgba(0, 0, 0, 0.15);\n",
              "    filter: drop-shadow(0px 1px 2px rgba(0, 0, 0, 0.3));\n",
              "    fill: #FFFFFF;\n",
              "  }\n",
              "</style>\n",
              "\n",
              "    <script>\n",
              "      async function quickchart(key) {\n",
              "        const containerElement = document.querySelector('#' + key);\n",
              "        const charts = await google.colab.kernel.invokeFunction(\n",
              "            'suggestCharts', [key], {});\n",
              "      }\n",
              "    </script>\n",
              "\n",
              "      <script>\n",
              "\n",
              "function displayQuickchartButton(domScope) {\n",
              "  let quickchartButtonEl =\n",
              "    domScope.querySelector('#df-589e532c-13ca-44cf-9521-df64e95d060b button.colab-df-quickchart');\n",
              "  quickchartButtonEl.style.display =\n",
              "    google.colab.kernel.accessAllowed ? 'block' : 'none';\n",
              "}\n",
              "\n",
              "        displayQuickchartButton(document);\n",
              "      </script>\n",
              "      <style>\n",
              "    .colab-df-container {\n",
              "      display:flex;\n",
              "      flex-wrap:wrap;\n",
              "      gap: 12px;\n",
              "    }\n",
              "\n",
              "    .colab-df-convert {\n",
              "      background-color: #E8F0FE;\n",
              "      border: none;\n",
              "      border-radius: 50%;\n",
              "      cursor: pointer;\n",
              "      display: none;\n",
              "      fill: #1967D2;\n",
              "      height: 32px;\n",
              "      padding: 0 0 0 0;\n",
              "      width: 32px;\n",
              "    }\n",
              "\n",
              "    .colab-df-convert:hover {\n",
              "      background-color: #E2EBFA;\n",
              "      box-shadow: 0px 1px 2px rgba(60, 64, 67, 0.3), 0px 1px 3px 1px rgba(60, 64, 67, 0.15);\n",
              "      fill: #174EA6;\n",
              "    }\n",
              "\n",
              "    [theme=dark] .colab-df-convert {\n",
              "      background-color: #3B4455;\n",
              "      fill: #D2E3FC;\n",
              "    }\n",
              "\n",
              "    [theme=dark] .colab-df-convert:hover {\n",
              "      background-color: #434B5C;\n",
              "      box-shadow: 0px 1px 3px 1px rgba(0, 0, 0, 0.15);\n",
              "      filter: drop-shadow(0px 1px 2px rgba(0, 0, 0, 0.3));\n",
              "      fill: #FFFFFF;\n",
              "    }\n",
              "  </style>\n",
              "\n",
              "      <script>\n",
              "        const buttonEl =\n",
              "          document.querySelector('#df-8b8d52d6-40bb-4b95-9185-6817af75c231 button.colab-df-convert');\n",
              "        buttonEl.style.display =\n",
              "          google.colab.kernel.accessAllowed ? 'block' : 'none';\n",
              "\n",
              "        async function convertToInteractive(key) {\n",
              "          const element = document.querySelector('#df-8b8d52d6-40bb-4b95-9185-6817af75c231');\n",
              "          const dataTable =\n",
              "            await google.colab.kernel.invokeFunction('convertToInteractive',\n",
              "                                                     [key], {});\n",
              "          if (!dataTable) return;\n",
              "\n",
              "          const docLinkHtml = 'Like what you see? Visit the ' +\n",
              "            '<a target=\"_blank\" href=https://colab.research.google.com/notebooks/data_table.ipynb>data table notebook</a>'\n",
              "            + ' to learn more about interactive tables.';\n",
              "          element.innerHTML = '';\n",
              "          dataTable['output_type'] = 'display_data';\n",
              "          await google.colab.output.renderOutput(dataTable, element);\n",
              "          const docLink = document.createElement('div');\n",
              "          docLink.innerHTML = docLinkHtml;\n",
              "          element.appendChild(docLink);\n",
              "        }\n",
              "      </script>\n",
              "    </div>\n",
              "  </div>\n"
            ],
            "text/plain": [
              "  col1 col2 col3\n",
              "0    A    x    -\n",
              "2    B    x    앞"
            ]
          },
          "execution_count": 4,
          "metadata": {},
          "output_type": "execute_result"
        }
      ],
      "source": [
        "df.drop_duplicates(subset = 'col1') #col1기준으로 중복인 값을 제거"
      ]
    },
    {
      "cell_type": "code",
      "execution_count": null,
      "metadata": {
        "colab": {
          "base_uri": "https://localhost:8080/",
          "height": 143
        },
        "id": "lfdIeAKTxFf1",
        "outputId": "51f699f6-5476-47d8-e974-a7ac73a4d9be"
      },
      "outputs": [
        {
          "data": {
            "text/html": [
              "\n",
              "\n",
              "  <div id=\"df-81487b2c-df1f-4143-a3f2-b0bd51cf7d60\">\n",
              "    <div class=\"colab-df-container\">\n",
              "      <div>\n",
              "<style scoped>\n",
              "    .dataframe tbody tr th:only-of-type {\n",
              "        vertical-align: middle;\n",
              "    }\n",
              "\n",
              "    .dataframe tbody tr th {\n",
              "        vertical-align: top;\n",
              "    }\n",
              "\n",
              "    .dataframe thead th {\n",
              "        text-align: right;\n",
              "    }\n",
              "</style>\n",
              "<table border=\"1\" class=\"dataframe\">\n",
              "  <thead>\n",
              "    <tr style=\"text-align: right;\">\n",
              "      <th></th>\n",
              "      <th>col1</th>\n",
              "      <th>col2</th>\n",
              "      <th>col3</th>\n",
              "    </tr>\n",
              "  </thead>\n",
              "  <tbody>\n",
              "    <tr>\n",
              "      <th>0</th>\n",
              "      <td>A</td>\n",
              "      <td>x</td>\n",
              "      <td>-</td>\n",
              "    </tr>\n",
              "    <tr>\n",
              "      <th>2</th>\n",
              "      <td>B</td>\n",
              "      <td>x</td>\n",
              "      <td>앞</td>\n",
              "    </tr>\n",
              "    <tr>\n",
              "      <th>3</th>\n",
              "      <td>B</td>\n",
              "      <td>y</td>\n",
              "      <td>-</td>\n",
              "    </tr>\n",
              "  </tbody>\n",
              "</table>\n",
              "</div>\n",
              "      <button class=\"colab-df-convert\" onclick=\"convertToInteractive('df-81487b2c-df1f-4143-a3f2-b0bd51cf7d60')\"\n",
              "              title=\"Convert this dataframe to an interactive table.\"\n",
              "              style=\"display:none;\">\n",
              "\n",
              "  <svg xmlns=\"http://www.w3.org/2000/svg\" height=\"24px\"viewBox=\"0 0 24 24\"\n",
              "       width=\"24px\">\n",
              "    <path d=\"M0 0h24v24H0V0z\" fill=\"none\"/>\n",
              "    <path d=\"M18.56 5.44l.94 2.06.94-2.06 2.06-.94-2.06-.94-.94-2.06-.94 2.06-2.06.94zm-11 1L8.5 8.5l.94-2.06 2.06-.94-2.06-.94L8.5 2.5l-.94 2.06-2.06.94zm10 10l.94 2.06.94-2.06 2.06-.94-2.06-.94-.94-2.06-.94 2.06-2.06.94z\"/><path d=\"M17.41 7.96l-1.37-1.37c-.4-.4-.92-.59-1.43-.59-.52 0-1.04.2-1.43.59L10.3 9.45l-7.72 7.72c-.78.78-.78 2.05 0 2.83L4 21.41c.39.39.9.59 1.41.59.51 0 1.02-.2 1.41-.59l7.78-7.78 2.81-2.81c.8-.78.8-2.07 0-2.86zM5.41 20L4 18.59l7.72-7.72 1.47 1.35L5.41 20z\"/>\n",
              "  </svg>\n",
              "      </button>\n",
              "\n",
              "\n",
              "\n",
              "    <div id=\"df-a0566201-8f7f-4dae-a724-2a1eedafa723\">\n",
              "      <button class=\"colab-df-quickchart\" onclick=\"quickchart('df-a0566201-8f7f-4dae-a724-2a1eedafa723')\"\n",
              "              title=\"Suggest charts.\"\n",
              "              style=\"display:none;\">\n",
              "\n",
              "<svg xmlns=\"http://www.w3.org/2000/svg\" height=\"24px\"viewBox=\"0 0 24 24\"\n",
              "     width=\"24px\">\n",
              "    <g>\n",
              "        <path d=\"M19 3H5c-1.1 0-2 .9-2 2v14c0 1.1.9 2 2 2h14c1.1 0 2-.9 2-2V5c0-1.1-.9-2-2-2zM9 17H7v-7h2v7zm4 0h-2V7h2v10zm4 0h-2v-4h2v4z\"/>\n",
              "    </g>\n",
              "</svg>\n",
              "      </button>\n",
              "    </div>\n",
              "\n",
              "<style>\n",
              "  .colab-df-quickchart {\n",
              "    background-color: #E8F0FE;\n",
              "    border: none;\n",
              "    border-radius: 50%;\n",
              "    cursor: pointer;\n",
              "    display: none;\n",
              "    fill: #1967D2;\n",
              "    height: 32px;\n",
              "    padding: 0 0 0 0;\n",
              "    width: 32px;\n",
              "  }\n",
              "\n",
              "  .colab-df-quickchart:hover {\n",
              "    background-color: #E2EBFA;\n",
              "    box-shadow: 0px 1px 2px rgba(60, 64, 67, 0.3), 0px 1px 3px 1px rgba(60, 64, 67, 0.15);\n",
              "    fill: #174EA6;\n",
              "  }\n",
              "\n",
              "  [theme=dark] .colab-df-quickchart {\n",
              "    background-color: #3B4455;\n",
              "    fill: #D2E3FC;\n",
              "  }\n",
              "\n",
              "  [theme=dark] .colab-df-quickchart:hover {\n",
              "    background-color: #434B5C;\n",
              "    box-shadow: 0px 1px 3px 1px rgba(0, 0, 0, 0.15);\n",
              "    filter: drop-shadow(0px 1px 2px rgba(0, 0, 0, 0.3));\n",
              "    fill: #FFFFFF;\n",
              "  }\n",
              "</style>\n",
              "\n",
              "    <script>\n",
              "      async function quickchart(key) {\n",
              "        const containerElement = document.querySelector('#' + key);\n",
              "        const charts = await google.colab.kernel.invokeFunction(\n",
              "            'suggestCharts', [key], {});\n",
              "      }\n",
              "    </script>\n",
              "\n",
              "      <script>\n",
              "\n",
              "function displayQuickchartButton(domScope) {\n",
              "  let quickchartButtonEl =\n",
              "    domScope.querySelector('#df-a0566201-8f7f-4dae-a724-2a1eedafa723 button.colab-df-quickchart');\n",
              "  quickchartButtonEl.style.display =\n",
              "    google.colab.kernel.accessAllowed ? 'block' : 'none';\n",
              "}\n",
              "\n",
              "        displayQuickchartButton(document);\n",
              "      </script>\n",
              "      <style>\n",
              "    .colab-df-container {\n",
              "      display:flex;\n",
              "      flex-wrap:wrap;\n",
              "      gap: 12px;\n",
              "    }\n",
              "\n",
              "    .colab-df-convert {\n",
              "      background-color: #E8F0FE;\n",
              "      border: none;\n",
              "      border-radius: 50%;\n",
              "      cursor: pointer;\n",
              "      display: none;\n",
              "      fill: #1967D2;\n",
              "      height: 32px;\n",
              "      padding: 0 0 0 0;\n",
              "      width: 32px;\n",
              "    }\n",
              "\n",
              "    .colab-df-convert:hover {\n",
              "      background-color: #E2EBFA;\n",
              "      box-shadow: 0px 1px 2px rgba(60, 64, 67, 0.3), 0px 1px 3px 1px rgba(60, 64, 67, 0.15);\n",
              "      fill: #174EA6;\n",
              "    }\n",
              "\n",
              "    [theme=dark] .colab-df-convert {\n",
              "      background-color: #3B4455;\n",
              "      fill: #D2E3FC;\n",
              "    }\n",
              "\n",
              "    [theme=dark] .colab-df-convert:hover {\n",
              "      background-color: #434B5C;\n",
              "      box-shadow: 0px 1px 3px 1px rgba(0, 0, 0, 0.15);\n",
              "      filter: drop-shadow(0px 1px 2px rgba(0, 0, 0, 0.3));\n",
              "      fill: #FFFFFF;\n",
              "    }\n",
              "  </style>\n",
              "\n",
              "      <script>\n",
              "        const buttonEl =\n",
              "          document.querySelector('#df-81487b2c-df1f-4143-a3f2-b0bd51cf7d60 button.colab-df-convert');\n",
              "        buttonEl.style.display =\n",
              "          google.colab.kernel.accessAllowed ? 'block' : 'none';\n",
              "\n",
              "        async function convertToInteractive(key) {\n",
              "          const element = document.querySelector('#df-81487b2c-df1f-4143-a3f2-b0bd51cf7d60');\n",
              "          const dataTable =\n",
              "            await google.colab.kernel.invokeFunction('convertToInteractive',\n",
              "                                                     [key], {});\n",
              "          if (!dataTable) return;\n",
              "\n",
              "          const docLinkHtml = 'Like what you see? Visit the ' +\n",
              "            '<a target=\"_blank\" href=https://colab.research.google.com/notebooks/data_table.ipynb>data table notebook</a>'\n",
              "            + ' to learn more about interactive tables.';\n",
              "          element.innerHTML = '';\n",
              "          dataTable['output_type'] = 'display_data';\n",
              "          await google.colab.output.renderOutput(dataTable, element);\n",
              "          const docLink = document.createElement('div');\n",
              "          docLink.innerHTML = docLinkHtml;\n",
              "          element.appendChild(docLink);\n",
              "        }\n",
              "      </script>\n",
              "    </div>\n",
              "  </div>\n"
            ],
            "text/plain": [
              "  col1 col2 col3\n",
              "0    A    x    -\n",
              "2    B    x    앞\n",
              "3    B    y    -"
            ]
          },
          "execution_count": 5,
          "metadata": {},
          "output_type": "execute_result"
        }
      ],
      "source": [
        "df.drop_duplicates(subset = ['col1', 'col2']) #col1, col2 기준으로 중복인 값을 제거"
      ]
    },
    {
      "cell_type": "markdown",
      "metadata": {},
      "source": [
        "## 변수 타입별 데이터 추출\n",
        "2023-08-30\n",
        "\n",
        "* select_dtypes()"
      ]
    },
    {
      "cell_type": "code",
      "execution_count": 1,
      "metadata": {},
      "outputs": [
        {
          "data": {
            "text/html": [
              "<div>\n",
              "<style scoped>\n",
              "    .dataframe tbody tr th:only-of-type {\n",
              "        vertical-align: middle;\n",
              "    }\n",
              "\n",
              "    .dataframe tbody tr th {\n",
              "        vertical-align: top;\n",
              "    }\n",
              "\n",
              "    .dataframe thead th {\n",
              "        text-align: right;\n",
              "    }\n",
              "</style>\n",
              "<table border=\"1\" class=\"dataframe\">\n",
              "  <thead>\n",
              "    <tr style=\"text-align: right;\">\n",
              "      <th></th>\n",
              "      <th>object</th>\n",
              "      <th>bool</th>\n",
              "      <th>int</th>\n",
              "    </tr>\n",
              "  </thead>\n",
              "  <tbody>\n",
              "    <tr>\n",
              "      <th>0</th>\n",
              "      <td>abc</td>\n",
              "      <td>True</td>\n",
              "      <td>1234</td>\n",
              "    </tr>\n",
              "    <tr>\n",
              "      <th>1</th>\n",
              "      <td>defg</td>\n",
              "      <td>False</td>\n",
              "      <td>5678</td>\n",
              "    </tr>\n",
              "    <tr>\n",
              "      <th>2</th>\n",
              "      <td>aaa</td>\n",
              "      <td>True</td>\n",
              "      <td>13</td>\n",
              "    </tr>\n",
              "  </tbody>\n",
              "</table>\n",
              "</div>"
            ],
            "text/plain": [
              "  object   bool   int\n",
              "0    abc   True  1234\n",
              "1   defg  False  5678\n",
              "2    aaa   True    13"
            ]
          },
          "execution_count": 1,
          "metadata": {},
          "output_type": "execute_result"
        }
      ],
      "source": [
        "import pandas as pd\n",
        "\n",
        "df = pd.DataFrame({'object' : ['abc', 'defg', 'aaa'],\n",
        "                   'bool' : [True, False, True],\n",
        "                   'int' : [1234, 5678, 13]})\n",
        "\n",
        "df"
      ]
    },
    {
      "cell_type": "code",
      "execution_count": 3,
      "metadata": {},
      "outputs": [
        {
          "data": {
            "text/plain": [
              "object    object\n",
              "bool        bool\n",
              "int        int64\n",
              "dtype: object"
            ]
          },
          "execution_count": 3,
          "metadata": {},
          "output_type": "execute_result"
        }
      ],
      "source": [
        "df.dtypes"
      ]
    },
    {
      "cell_type": "code",
      "execution_count": 2,
      "metadata": {},
      "outputs": [
        {
          "data": {
            "text/html": [
              "<div>\n",
              "<style scoped>\n",
              "    .dataframe tbody tr th:only-of-type {\n",
              "        vertical-align: middle;\n",
              "    }\n",
              "\n",
              "    .dataframe tbody tr th {\n",
              "        vertical-align: top;\n",
              "    }\n",
              "\n",
              "    .dataframe thead th {\n",
              "        text-align: right;\n",
              "    }\n",
              "</style>\n",
              "<table border=\"1\" class=\"dataframe\">\n",
              "  <thead>\n",
              "    <tr style=\"text-align: right;\">\n",
              "      <th></th>\n",
              "      <th>object</th>\n",
              "    </tr>\n",
              "  </thead>\n",
              "  <tbody>\n",
              "    <tr>\n",
              "      <th>0</th>\n",
              "      <td>abc</td>\n",
              "    </tr>\n",
              "    <tr>\n",
              "      <th>1</th>\n",
              "      <td>defg</td>\n",
              "    </tr>\n",
              "    <tr>\n",
              "      <th>2</th>\n",
              "      <td>aaa</td>\n",
              "    </tr>\n",
              "  </tbody>\n",
              "</table>\n",
              "</div>"
            ],
            "text/plain": [
              "  object\n",
              "0    abc\n",
              "1   defg\n",
              "2    aaa"
            ]
          },
          "execution_count": 2,
          "metadata": {},
          "output_type": "execute_result"
        }
      ],
      "source": [
        "df.select_dtypes(include = 'object')"
      ]
    },
    {
      "cell_type": "code",
      "execution_count": 4,
      "metadata": {},
      "outputs": [
        {
          "data": {
            "text/html": [
              "<div>\n",
              "<style scoped>\n",
              "    .dataframe tbody tr th:only-of-type {\n",
              "        vertical-align: middle;\n",
              "    }\n",
              "\n",
              "    .dataframe tbody tr th {\n",
              "        vertical-align: top;\n",
              "    }\n",
              "\n",
              "    .dataframe thead th {\n",
              "        text-align: right;\n",
              "    }\n",
              "</style>\n",
              "<table border=\"1\" class=\"dataframe\">\n",
              "  <thead>\n",
              "    <tr style=\"text-align: right;\">\n",
              "      <th></th>\n",
              "      <th>bool</th>\n",
              "    </tr>\n",
              "  </thead>\n",
              "  <tbody>\n",
              "    <tr>\n",
              "      <th>0</th>\n",
              "      <td>True</td>\n",
              "    </tr>\n",
              "    <tr>\n",
              "      <th>1</th>\n",
              "      <td>False</td>\n",
              "    </tr>\n",
              "    <tr>\n",
              "      <th>2</th>\n",
              "      <td>True</td>\n",
              "    </tr>\n",
              "  </tbody>\n",
              "</table>\n",
              "</div>"
            ],
            "text/plain": [
              "    bool\n",
              "0   True\n",
              "1  False\n",
              "2   True"
            ]
          },
          "execution_count": 4,
          "metadata": {},
          "output_type": "execute_result"
        }
      ],
      "source": [
        "df.select_dtypes(include = 'bool')"
      ]
    },
    {
      "cell_type": "code",
      "execution_count": 6,
      "metadata": {},
      "outputs": [
        {
          "data": {
            "text/html": [
              "<div>\n",
              "<style scoped>\n",
              "    .dataframe tbody tr th:only-of-type {\n",
              "        vertical-align: middle;\n",
              "    }\n",
              "\n",
              "    .dataframe tbody tr th {\n",
              "        vertical-align: top;\n",
              "    }\n",
              "\n",
              "    .dataframe thead th {\n",
              "        text-align: right;\n",
              "    }\n",
              "</style>\n",
              "<table border=\"1\" class=\"dataframe\">\n",
              "  <thead>\n",
              "    <tr style=\"text-align: right;\">\n",
              "      <th></th>\n",
              "      <th>bool</th>\n",
              "      <th>int</th>\n",
              "    </tr>\n",
              "  </thead>\n",
              "  <tbody>\n",
              "    <tr>\n",
              "      <th>0</th>\n",
              "      <td>True</td>\n",
              "      <td>1234</td>\n",
              "    </tr>\n",
              "    <tr>\n",
              "      <th>1</th>\n",
              "      <td>False</td>\n",
              "      <td>5678</td>\n",
              "    </tr>\n",
              "    <tr>\n",
              "      <th>2</th>\n",
              "      <td>True</td>\n",
              "      <td>13</td>\n",
              "    </tr>\n",
              "  </tbody>\n",
              "</table>\n",
              "</div>"
            ],
            "text/plain": [
              "    bool   int\n",
              "0   True  1234\n",
              "1  False  5678\n",
              "2   True    13"
            ]
          },
          "execution_count": 6,
          "metadata": {},
          "output_type": "execute_result"
        }
      ],
      "source": [
        "df.select_dtypes(exclude = 'object')"
      ]
    },
    {
      "cell_type": "markdown",
      "metadata": {},
      "source": [
        "## 특정 문자열을 포함하는 데이터 추출\n",
        "2023/09/04\n",
        "\n",
        "* `df.str.contains()`\n",
        "* `df.str.startswith()`\n",
        "* `df.str.endswith()`"
      ]
    },
    {
      "cell_type": "markdown",
      "metadata": {},
      "source": [
        "## pandas 날짜 처리 함수 정리\n",
        "2023/10/26  \n",
        "참고 : https://docs.python.org/ko/3/library/datetime.html#timedelta-objects"
      ]
    },
    {
      "cell_type": "code",
      "execution_count": 7,
      "metadata": {},
      "outputs": [],
      "source": [
        "import pandas as pd\n",
        "from datetime import datetime, timedelta\n",
        "import random"
      ]
    },
    {
      "cell_type": "code",
      "execution_count": 10,
      "metadata": {},
      "outputs": [
        {
          "data": {
            "text/html": [
              "<div>\n",
              "<style scoped>\n",
              "    .dataframe tbody tr th:only-of-type {\n",
              "        vertical-align: middle;\n",
              "    }\n",
              "\n",
              "    .dataframe tbody tr th {\n",
              "        vertical-align: top;\n",
              "    }\n",
              "\n",
              "    .dataframe thead th {\n",
              "        text-align: right;\n",
              "    }\n",
              "</style>\n",
              "<table border=\"1\" class=\"dataframe\">\n",
              "  <thead>\n",
              "    <tr style=\"text-align: right;\">\n",
              "      <th></th>\n",
              "      <th>Date</th>\n",
              "    </tr>\n",
              "  </thead>\n",
              "  <tbody>\n",
              "    <tr>\n",
              "      <th>0</th>\n",
              "      <td>2023-01-01 12:44:28</td>\n",
              "    </tr>\n",
              "    <tr>\n",
              "      <th>1</th>\n",
              "      <td>2023-01-02 12:20:39</td>\n",
              "    </tr>\n",
              "    <tr>\n",
              "      <th>2</th>\n",
              "      <td>2023-01-03 18:59:21</td>\n",
              "    </tr>\n",
              "    <tr>\n",
              "      <th>3</th>\n",
              "      <td>2023-01-04 20:06:50</td>\n",
              "    </tr>\n",
              "    <tr>\n",
              "      <th>4</th>\n",
              "      <td>2023-01-05 03:41:19</td>\n",
              "    </tr>\n",
              "    <tr>\n",
              "      <th>5</th>\n",
              "      <td>2023-01-06 22:34:45</td>\n",
              "    </tr>\n",
              "    <tr>\n",
              "      <th>6</th>\n",
              "      <td>2023-01-07 16:19:11</td>\n",
              "    </tr>\n",
              "    <tr>\n",
              "      <th>7</th>\n",
              "      <td>2023-01-08 07:58:59</td>\n",
              "    </tr>\n",
              "    <tr>\n",
              "      <th>8</th>\n",
              "      <td>2023-01-09 05:40:01</td>\n",
              "    </tr>\n",
              "    <tr>\n",
              "      <th>9</th>\n",
              "      <td>2023-01-10 06:23:04</td>\n",
              "    </tr>\n",
              "  </tbody>\n",
              "</table>\n",
              "</div>"
            ],
            "text/plain": [
              "                 Date\n",
              "0 2023-01-01 12:44:28\n",
              "1 2023-01-02 12:20:39\n",
              "2 2023-01-03 18:59:21\n",
              "3 2023-01-04 20:06:50\n",
              "4 2023-01-05 03:41:19\n",
              "5 2023-01-06 22:34:45\n",
              "6 2023-01-07 16:19:11\n",
              "7 2023-01-08 07:58:59\n",
              "8 2023-01-09 05:40:01\n",
              "9 2023-01-10 06:23:04"
            ]
          },
          "execution_count": 10,
          "metadata": {},
          "output_type": "execute_result"
        }
      ],
      "source": [
        "# 날짜 생성\n",
        "\n",
        "random.seed(2023)\n",
        "start_date = datetime(2023,1,1)\n",
        "date_series = [start_date + timedelta(days=x, hours=random.randint(0, 23), minutes=random.randint(0, 59), seconds=random.randint(0, 59)) for x in range(10)]\n",
        "date_df = pd.DataFrame({'Date' : date_series})\n",
        "date_df"
      ]
    },
    {
      "cell_type": "code",
      "execution_count": 11,
      "metadata": {},
      "outputs": [
        {
          "data": {
            "text/html": [
              "<div>\n",
              "<style scoped>\n",
              "    .dataframe tbody tr th:only-of-type {\n",
              "        vertical-align: middle;\n",
              "    }\n",
              "\n",
              "    .dataframe tbody tr th {\n",
              "        vertical-align: top;\n",
              "    }\n",
              "\n",
              "    .dataframe thead th {\n",
              "        text-align: right;\n",
              "    }\n",
              "</style>\n",
              "<table border=\"1\" class=\"dataframe\">\n",
              "  <thead>\n",
              "    <tr style=\"text-align: right;\">\n",
              "      <th></th>\n",
              "      <th>Date</th>\n",
              "      <th>Date_str</th>\n",
              "      <th>Date_year</th>\n",
              "      <th>Date_month</th>\n",
              "      <th>Date_day</th>\n",
              "      <th>Date_time</th>\n",
              "      <th>Date_hour</th>\n",
              "      <th>Date_minute</th>\n",
              "      <th>Date_second</th>\n",
              "    </tr>\n",
              "  </thead>\n",
              "  <tbody>\n",
              "    <tr>\n",
              "      <th>0</th>\n",
              "      <td>2023-01-01 12:44:28</td>\n",
              "      <td>2023-01-01</td>\n",
              "      <td>2023</td>\n",
              "      <td>1</td>\n",
              "      <td>1</td>\n",
              "      <td>12:44:28</td>\n",
              "      <td>12</td>\n",
              "      <td>44</td>\n",
              "      <td>28</td>\n",
              "    </tr>\n",
              "    <tr>\n",
              "      <th>1</th>\n",
              "      <td>2023-01-02 12:20:39</td>\n",
              "      <td>2023-01-02</td>\n",
              "      <td>2023</td>\n",
              "      <td>1</td>\n",
              "      <td>2</td>\n",
              "      <td>12:20:39</td>\n",
              "      <td>12</td>\n",
              "      <td>20</td>\n",
              "      <td>39</td>\n",
              "    </tr>\n",
              "    <tr>\n",
              "      <th>2</th>\n",
              "      <td>2023-01-03 18:59:21</td>\n",
              "      <td>2023-01-03</td>\n",
              "      <td>2023</td>\n",
              "      <td>1</td>\n",
              "      <td>3</td>\n",
              "      <td>18:59:21</td>\n",
              "      <td>18</td>\n",
              "      <td>59</td>\n",
              "      <td>21</td>\n",
              "    </tr>\n",
              "    <tr>\n",
              "      <th>3</th>\n",
              "      <td>2023-01-04 20:06:50</td>\n",
              "      <td>2023-01-04</td>\n",
              "      <td>2023</td>\n",
              "      <td>1</td>\n",
              "      <td>4</td>\n",
              "      <td>20:06:50</td>\n",
              "      <td>20</td>\n",
              "      <td>6</td>\n",
              "      <td>50</td>\n",
              "    </tr>\n",
              "    <tr>\n",
              "      <th>4</th>\n",
              "      <td>2023-01-05 03:41:19</td>\n",
              "      <td>2023-01-05</td>\n",
              "      <td>2023</td>\n",
              "      <td>1</td>\n",
              "      <td>5</td>\n",
              "      <td>03:41:19</td>\n",
              "      <td>3</td>\n",
              "      <td>41</td>\n",
              "      <td>19</td>\n",
              "    </tr>\n",
              "    <tr>\n",
              "      <th>5</th>\n",
              "      <td>2023-01-06 22:34:45</td>\n",
              "      <td>2023-01-06</td>\n",
              "      <td>2023</td>\n",
              "      <td>1</td>\n",
              "      <td>6</td>\n",
              "      <td>22:34:45</td>\n",
              "      <td>22</td>\n",
              "      <td>34</td>\n",
              "      <td>45</td>\n",
              "    </tr>\n",
              "    <tr>\n",
              "      <th>6</th>\n",
              "      <td>2023-01-07 16:19:11</td>\n",
              "      <td>2023-01-07</td>\n",
              "      <td>2023</td>\n",
              "      <td>1</td>\n",
              "      <td>7</td>\n",
              "      <td>16:19:11</td>\n",
              "      <td>16</td>\n",
              "      <td>19</td>\n",
              "      <td>11</td>\n",
              "    </tr>\n",
              "    <tr>\n",
              "      <th>7</th>\n",
              "      <td>2023-01-08 07:58:59</td>\n",
              "      <td>2023-01-08</td>\n",
              "      <td>2023</td>\n",
              "      <td>1</td>\n",
              "      <td>8</td>\n",
              "      <td>07:58:59</td>\n",
              "      <td>7</td>\n",
              "      <td>58</td>\n",
              "      <td>59</td>\n",
              "    </tr>\n",
              "    <tr>\n",
              "      <th>8</th>\n",
              "      <td>2023-01-09 05:40:01</td>\n",
              "      <td>2023-01-09</td>\n",
              "      <td>2023</td>\n",
              "      <td>1</td>\n",
              "      <td>9</td>\n",
              "      <td>05:40:01</td>\n",
              "      <td>5</td>\n",
              "      <td>40</td>\n",
              "      <td>1</td>\n",
              "    </tr>\n",
              "    <tr>\n",
              "      <th>9</th>\n",
              "      <td>2023-01-10 06:23:04</td>\n",
              "      <td>2023-01-10</td>\n",
              "      <td>2023</td>\n",
              "      <td>1</td>\n",
              "      <td>10</td>\n",
              "      <td>06:23:04</td>\n",
              "      <td>6</td>\n",
              "      <td>23</td>\n",
              "      <td>4</td>\n",
              "    </tr>\n",
              "  </tbody>\n",
              "</table>\n",
              "</div>"
            ],
            "text/plain": [
              "                 Date    Date_str  Date_year  Date_month  Date_day Date_time  \\\n",
              "0 2023-01-01 12:44:28  2023-01-01       2023           1         1  12:44:28   \n",
              "1 2023-01-02 12:20:39  2023-01-02       2023           1         2  12:20:39   \n",
              "2 2023-01-03 18:59:21  2023-01-03       2023           1         3  18:59:21   \n",
              "3 2023-01-04 20:06:50  2023-01-04       2023           1         4  20:06:50   \n",
              "4 2023-01-05 03:41:19  2023-01-05       2023           1         5  03:41:19   \n",
              "5 2023-01-06 22:34:45  2023-01-06       2023           1         6  22:34:45   \n",
              "6 2023-01-07 16:19:11  2023-01-07       2023           1         7  16:19:11   \n",
              "7 2023-01-08 07:58:59  2023-01-08       2023           1         8  07:58:59   \n",
              "8 2023-01-09 05:40:01  2023-01-09       2023           1         9  05:40:01   \n",
              "9 2023-01-10 06:23:04  2023-01-10       2023           1        10  06:23:04   \n",
              "\n",
              "   Date_hour  Date_minute  Date_second  \n",
              "0         12           44           28  \n",
              "1         12           20           39  \n",
              "2         18           59           21  \n",
              "3         20            6           50  \n",
              "4          3           41           19  \n",
              "5         22           34           45  \n",
              "6         16           19           11  \n",
              "7          7           58           59  \n",
              "8          5           40            1  \n",
              "9          6           23            4  "
            ]
          },
          "execution_count": 11,
          "metadata": {},
          "output_type": "execute_result"
        }
      ],
      "source": [
        "date_df['Date_str'] = date_df['Date'].dt.date\n",
        "date_df['Date_year'] = date_df['Date'].dt.year\n",
        "date_df['Date_month'] = date_df['Date'].dt.month\n",
        "date_df['Date_day'] = date_df['Date'].dt.day\n",
        "date_df['Date_time'] = date_df['Date'].dt.time\n",
        "date_df['Date_hour'] = date_df['Date'].dt.hour\n",
        "date_df['Date_minute'] = date_df['Date'].dt.minute\n",
        "date_df['Date_second'] = date_df['Date'].dt.second\n",
        "date_df"
      ]
    },
    {
      "cell_type": "code",
      "execution_count": 12,
      "metadata": {},
      "outputs": [
        {
          "data": {
            "text/plain": [
              "Date           datetime64[ns]\n",
              "Date_str               object\n",
              "Date_year               int32\n",
              "Date_month              int32\n",
              "Date_day                int32\n",
              "Date_time              object\n",
              "Date_hour               int32\n",
              "Date_minute             int32\n",
              "Date_second             int32\n",
              "dtype: object"
            ]
          },
          "execution_count": 12,
          "metadata": {},
          "output_type": "execute_result"
        }
      ],
      "source": [
        "# date type 확인\n",
        "date_df.dtypes "
      ]
    },
    {
      "cell_type": "code",
      "execution_count": 27,
      "metadata": {},
      "outputs": [
        {
          "data": {
            "text/html": [
              "<div>\n",
              "<style scoped>\n",
              "    .dataframe tbody tr th:only-of-type {\n",
              "        vertical-align: middle;\n",
              "    }\n",
              "\n",
              "    .dataframe tbody tr th {\n",
              "        vertical-align: top;\n",
              "    }\n",
              "\n",
              "    .dataframe thead th {\n",
              "        text-align: right;\n",
              "    }\n",
              "</style>\n",
              "<table border=\"1\" class=\"dataframe\">\n",
              "  <thead>\n",
              "    <tr style=\"text-align: right;\">\n",
              "      <th></th>\n",
              "      <th>Date</th>\n",
              "    </tr>\n",
              "  </thead>\n",
              "  <tbody>\n",
              "    <tr>\n",
              "      <th>0</th>\n",
              "      <td>2023-07-16 22:28:54</td>\n",
              "    </tr>\n",
              "    <tr>\n",
              "      <th>1</th>\n",
              "      <td>2023-07-19 10:39:36</td>\n",
              "    </tr>\n",
              "    <tr>\n",
              "      <th>2</th>\n",
              "      <td>2023-06-22 20:06:50</td>\n",
              "    </tr>\n",
              "    <tr>\n",
              "      <th>3</th>\n",
              "      <td>2023-03-05 20:19:53</td>\n",
              "    </tr>\n",
              "    <tr>\n",
              "      <th>4</th>\n",
              "      <td>2023-12-23 17:45:33</td>\n",
              "    </tr>\n",
              "    <tr>\n",
              "      <th>5</th>\n",
              "      <td>2023-06-04 05:14:58</td>\n",
              "    </tr>\n",
              "    <tr>\n",
              "      <th>6</th>\n",
              "      <td>2023-04-01 20:01:13</td>\n",
              "    </tr>\n",
              "    <tr>\n",
              "      <th>7</th>\n",
              "      <td>2023-07-05 02:39:08</td>\n",
              "    </tr>\n",
              "    <tr>\n",
              "      <th>8</th>\n",
              "      <td>2023-12-27 01:12:09</td>\n",
              "    </tr>\n",
              "    <tr>\n",
              "      <th>9</th>\n",
              "      <td>2023-09-03 14:34:21</td>\n",
              "    </tr>\n",
              "  </tbody>\n",
              "</table>\n",
              "</div>"
            ],
            "text/plain": [
              "                 Date\n",
              "0 2023-07-16 22:28:54\n",
              "1 2023-07-19 10:39:36\n",
              "2 2023-06-22 20:06:50\n",
              "3 2023-03-05 20:19:53\n",
              "4 2023-12-23 17:45:33\n",
              "5 2023-06-04 05:14:58\n",
              "6 2023-04-01 20:01:13\n",
              "7 2023-07-05 02:39:08\n",
              "8 2023-12-27 01:12:09\n",
              "9 2023-09-03 14:34:21"
            ]
          },
          "execution_count": 27,
          "metadata": {},
          "output_type": "execute_result"
        }
      ],
      "source": [
        "random.seed(2023)\n",
        "start_date = datetime(2023,1,1)\n",
        "date_series = [start_date + timedelta(days=random.randint(0, 365), hours=random.randint(0, 23), minutes=random.randint(0, 59), seconds=random.randint(0, 59)) for x in range(10)]\n",
        "date_df2 = pd.DataFrame({'Date' : date_series})\n",
        "date_df2"
      ]
    },
    {
      "cell_type": "code",
      "execution_count": 29,
      "metadata": {},
      "outputs": [
        {
          "data": {
            "text/html": [
              "<div>\n",
              "<style scoped>\n",
              "    .dataframe tbody tr th:only-of-type {\n",
              "        vertical-align: middle;\n",
              "    }\n",
              "\n",
              "    .dataframe tbody tr th {\n",
              "        vertical-align: top;\n",
              "    }\n",
              "\n",
              "    .dataframe thead th {\n",
              "        text-align: right;\n",
              "    }\n",
              "</style>\n",
              "<table border=\"1\" class=\"dataframe\">\n",
              "  <thead>\n",
              "    <tr style=\"text-align: right;\">\n",
              "      <th></th>\n",
              "      <th>Date</th>\n",
              "      <th>Date_quarter</th>\n",
              "      <th>Date_day_name</th>\n",
              "      <th>Date_weekday</th>\n",
              "      <th>Date_dayofweek</th>\n",
              "      <th>Date_dayofyear</th>\n",
              "      <th>Date_day_in_month</th>\n",
              "    </tr>\n",
              "  </thead>\n",
              "  <tbody>\n",
              "    <tr>\n",
              "      <th>0</th>\n",
              "      <td>2023-07-16 22:28:54</td>\n",
              "      <td>3</td>\n",
              "      <td>Sunday</td>\n",
              "      <td>6</td>\n",
              "      <td>6</td>\n",
              "      <td>197</td>\n",
              "      <td>31</td>\n",
              "    </tr>\n",
              "    <tr>\n",
              "      <th>1</th>\n",
              "      <td>2023-07-19 10:39:36</td>\n",
              "      <td>3</td>\n",
              "      <td>Wednesday</td>\n",
              "      <td>2</td>\n",
              "      <td>2</td>\n",
              "      <td>200</td>\n",
              "      <td>31</td>\n",
              "    </tr>\n",
              "    <tr>\n",
              "      <th>2</th>\n",
              "      <td>2023-06-22 20:06:50</td>\n",
              "      <td>2</td>\n",
              "      <td>Thursday</td>\n",
              "      <td>3</td>\n",
              "      <td>3</td>\n",
              "      <td>173</td>\n",
              "      <td>30</td>\n",
              "    </tr>\n",
              "    <tr>\n",
              "      <th>3</th>\n",
              "      <td>2023-03-05 20:19:53</td>\n",
              "      <td>1</td>\n",
              "      <td>Sunday</td>\n",
              "      <td>6</td>\n",
              "      <td>6</td>\n",
              "      <td>64</td>\n",
              "      <td>31</td>\n",
              "    </tr>\n",
              "    <tr>\n",
              "      <th>4</th>\n",
              "      <td>2023-12-23 17:45:33</td>\n",
              "      <td>4</td>\n",
              "      <td>Saturday</td>\n",
              "      <td>5</td>\n",
              "      <td>5</td>\n",
              "      <td>357</td>\n",
              "      <td>31</td>\n",
              "    </tr>\n",
              "    <tr>\n",
              "      <th>5</th>\n",
              "      <td>2023-06-04 05:14:58</td>\n",
              "      <td>2</td>\n",
              "      <td>Sunday</td>\n",
              "      <td>6</td>\n",
              "      <td>6</td>\n",
              "      <td>155</td>\n",
              "      <td>30</td>\n",
              "    </tr>\n",
              "    <tr>\n",
              "      <th>6</th>\n",
              "      <td>2023-04-01 20:01:13</td>\n",
              "      <td>2</td>\n",
              "      <td>Saturday</td>\n",
              "      <td>5</td>\n",
              "      <td>5</td>\n",
              "      <td>91</td>\n",
              "      <td>30</td>\n",
              "    </tr>\n",
              "    <tr>\n",
              "      <th>7</th>\n",
              "      <td>2023-07-05 02:39:08</td>\n",
              "      <td>3</td>\n",
              "      <td>Wednesday</td>\n",
              "      <td>2</td>\n",
              "      <td>2</td>\n",
              "      <td>186</td>\n",
              "      <td>31</td>\n",
              "    </tr>\n",
              "    <tr>\n",
              "      <th>8</th>\n",
              "      <td>2023-12-27 01:12:09</td>\n",
              "      <td>4</td>\n",
              "      <td>Wednesday</td>\n",
              "      <td>2</td>\n",
              "      <td>2</td>\n",
              "      <td>361</td>\n",
              "      <td>31</td>\n",
              "    </tr>\n",
              "    <tr>\n",
              "      <th>9</th>\n",
              "      <td>2023-09-03 14:34:21</td>\n",
              "      <td>3</td>\n",
              "      <td>Sunday</td>\n",
              "      <td>6</td>\n",
              "      <td>6</td>\n",
              "      <td>246</td>\n",
              "      <td>30</td>\n",
              "    </tr>\n",
              "  </tbody>\n",
              "</table>\n",
              "</div>"
            ],
            "text/plain": [
              "                 Date  Date_quarter Date_day_name  Date_weekday  \\\n",
              "0 2023-07-16 22:28:54             3        Sunday             6   \n",
              "1 2023-07-19 10:39:36             3     Wednesday             2   \n",
              "2 2023-06-22 20:06:50             2      Thursday             3   \n",
              "3 2023-03-05 20:19:53             1        Sunday             6   \n",
              "4 2023-12-23 17:45:33             4      Saturday             5   \n",
              "5 2023-06-04 05:14:58             2        Sunday             6   \n",
              "6 2023-04-01 20:01:13             2      Saturday             5   \n",
              "7 2023-07-05 02:39:08             3     Wednesday             2   \n",
              "8 2023-12-27 01:12:09             4     Wednesday             2   \n",
              "9 2023-09-03 14:34:21             3        Sunday             6   \n",
              "\n",
              "   Date_dayofweek  Date_dayofyear  Date_day_in_month  \n",
              "0               6             197                 31  \n",
              "1               2             200                 31  \n",
              "2               3             173                 30  \n",
              "3               6              64                 31  \n",
              "4               5             357                 31  \n",
              "5               6             155                 30  \n",
              "6               5              91                 30  \n",
              "7               2             186                 31  \n",
              "8               2             361                 31  \n",
              "9               6             246                 30  "
            ]
          },
          "execution_count": 29,
          "metadata": {},
          "output_type": "execute_result"
        }
      ],
      "source": [
        "date_df2['Date_quarter'] = date_df2['Date'].dt.quarter\n",
        "date_df2['Date_day_name'] = date_df2['Date'].dt.day_name()\n",
        "date_df2['Date_weekday'] = date_df2['Date'].dt.weekday\n",
        "date_df2['Date_dayofweek'] = date_df2['Date'].dt.dayofweek\n",
        "date_df2['Date_dayofyear'] = date_df2['Date'].dt.dayofyear\n",
        "date_df2['Date_day_in_month'] = date_df2['Date'].dt.days_in_month\n",
        "date_df2"
      ]
    },
    {
      "cell_type": "code",
      "execution_count": 33,
      "metadata": {},
      "outputs": [
        {
          "data": {
            "text/html": [
              "<div>\n",
              "<style scoped>\n",
              "    .dataframe tbody tr th:only-of-type {\n",
              "        vertical-align: middle;\n",
              "    }\n",
              "\n",
              "    .dataframe tbody tr th {\n",
              "        vertical-align: top;\n",
              "    }\n",
              "\n",
              "    .dataframe thead th {\n",
              "        text-align: right;\n",
              "    }\n",
              "</style>\n",
              "<table border=\"1\" class=\"dataframe\">\n",
              "  <thead>\n",
              "    <tr style=\"text-align: right;\">\n",
              "      <th></th>\n",
              "      <th>Date</th>\n",
              "    </tr>\n",
              "  </thead>\n",
              "  <tbody>\n",
              "    <tr>\n",
              "      <th>0</th>\n",
              "      <td>2023-07-16 22:28:54</td>\n",
              "    </tr>\n",
              "    <tr>\n",
              "      <th>1</th>\n",
              "      <td>2023-07-19 10:39:36</td>\n",
              "    </tr>\n",
              "    <tr>\n",
              "      <th>2</th>\n",
              "      <td>2023-06-22 20:06:50</td>\n",
              "    </tr>\n",
              "    <tr>\n",
              "      <th>3</th>\n",
              "      <td>2023-03-05 20:19:53</td>\n",
              "    </tr>\n",
              "    <tr>\n",
              "      <th>4</th>\n",
              "      <td>2023-12-23 17:45:33</td>\n",
              "    </tr>\n",
              "    <tr>\n",
              "      <th>5</th>\n",
              "      <td>2023-06-04 05:14:58</td>\n",
              "    </tr>\n",
              "    <tr>\n",
              "      <th>6</th>\n",
              "      <td>2023-04-01 20:01:13</td>\n",
              "    </tr>\n",
              "    <tr>\n",
              "      <th>7</th>\n",
              "      <td>2023-07-05 02:39:08</td>\n",
              "    </tr>\n",
              "    <tr>\n",
              "      <th>8</th>\n",
              "      <td>2023-12-27 01:12:09</td>\n",
              "    </tr>\n",
              "    <tr>\n",
              "      <th>9</th>\n",
              "      <td>2023-09-03 14:34:21</td>\n",
              "    </tr>\n",
              "  </tbody>\n",
              "</table>\n",
              "</div>"
            ],
            "text/plain": [
              "                 Date\n",
              "0 2023-07-16 22:28:54\n",
              "1 2023-07-19 10:39:36\n",
              "2 2023-06-22 20:06:50\n",
              "3 2023-03-05 20:19:53\n",
              "4 2023-12-23 17:45:33\n",
              "5 2023-06-04 05:14:58\n",
              "6 2023-04-01 20:01:13\n",
              "7 2023-07-05 02:39:08\n",
              "8 2023-12-27 01:12:09\n",
              "9 2023-09-03 14:34:21"
            ]
          },
          "execution_count": 33,
          "metadata": {},
          "output_type": "execute_result"
        }
      ],
      "source": [
        "random.seed(2023)\n",
        "start_date = datetime(2023,1,1)\n",
        "date_series = [start_date + timedelta(days=random.randint(0, 365), hours=random.randint(0, 23), minutes=random.randint(0, 59), seconds=random.randint(0, 59)) for x in range(10)]\n",
        "date_df3 = pd.DataFrame({'Date' : date_series})\n",
        "date_df3"
      ]
    },
    {
      "cell_type": "code",
      "execution_count": 34,
      "metadata": {},
      "outputs": [
        {
          "data": {
            "text/html": [
              "<div>\n",
              "<style scoped>\n",
              "    .dataframe tbody tr th:only-of-type {\n",
              "        vertical-align: middle;\n",
              "    }\n",
              "\n",
              "    .dataframe tbody tr th {\n",
              "        vertical-align: top;\n",
              "    }\n",
              "\n",
              "    .dataframe thead th {\n",
              "        text-align: right;\n",
              "    }\n",
              "</style>\n",
              "<table border=\"1\" class=\"dataframe\">\n",
              "  <thead>\n",
              "    <tr style=\"text-align: right;\">\n",
              "      <th></th>\n",
              "      <th>Date</th>\n",
              "      <th>Date_is_leap_year</th>\n",
              "      <th>Date_is_month_start</th>\n",
              "      <th>Date_is_is_month_end</th>\n",
              "      <th>Date_is_quarter_start</th>\n",
              "      <th>Date_is_quarter_end</th>\n",
              "      <th>Date_is_year_start</th>\n",
              "    </tr>\n",
              "  </thead>\n",
              "  <tbody>\n",
              "    <tr>\n",
              "      <th>0</th>\n",
              "      <td>2023-07-16 22:28:54</td>\n",
              "      <td>False</td>\n",
              "      <td>False</td>\n",
              "      <td>False</td>\n",
              "      <td>False</td>\n",
              "      <td>False</td>\n",
              "      <td>False</td>\n",
              "    </tr>\n",
              "    <tr>\n",
              "      <th>1</th>\n",
              "      <td>2023-07-19 10:39:36</td>\n",
              "      <td>False</td>\n",
              "      <td>False</td>\n",
              "      <td>False</td>\n",
              "      <td>False</td>\n",
              "      <td>False</td>\n",
              "      <td>False</td>\n",
              "    </tr>\n",
              "    <tr>\n",
              "      <th>2</th>\n",
              "      <td>2023-06-22 20:06:50</td>\n",
              "      <td>False</td>\n",
              "      <td>False</td>\n",
              "      <td>False</td>\n",
              "      <td>False</td>\n",
              "      <td>False</td>\n",
              "      <td>False</td>\n",
              "    </tr>\n",
              "    <tr>\n",
              "      <th>3</th>\n",
              "      <td>2023-03-05 20:19:53</td>\n",
              "      <td>False</td>\n",
              "      <td>False</td>\n",
              "      <td>False</td>\n",
              "      <td>False</td>\n",
              "      <td>False</td>\n",
              "      <td>False</td>\n",
              "    </tr>\n",
              "    <tr>\n",
              "      <th>4</th>\n",
              "      <td>2023-12-23 17:45:33</td>\n",
              "      <td>False</td>\n",
              "      <td>False</td>\n",
              "      <td>False</td>\n",
              "      <td>False</td>\n",
              "      <td>False</td>\n",
              "      <td>False</td>\n",
              "    </tr>\n",
              "    <tr>\n",
              "      <th>5</th>\n",
              "      <td>2023-06-04 05:14:58</td>\n",
              "      <td>False</td>\n",
              "      <td>False</td>\n",
              "      <td>False</td>\n",
              "      <td>False</td>\n",
              "      <td>False</td>\n",
              "      <td>False</td>\n",
              "    </tr>\n",
              "    <tr>\n",
              "      <th>6</th>\n",
              "      <td>2023-04-01 20:01:13</td>\n",
              "      <td>False</td>\n",
              "      <td>True</td>\n",
              "      <td>False</td>\n",
              "      <td>True</td>\n",
              "      <td>False</td>\n",
              "      <td>False</td>\n",
              "    </tr>\n",
              "    <tr>\n",
              "      <th>7</th>\n",
              "      <td>2023-07-05 02:39:08</td>\n",
              "      <td>False</td>\n",
              "      <td>False</td>\n",
              "      <td>False</td>\n",
              "      <td>False</td>\n",
              "      <td>False</td>\n",
              "      <td>False</td>\n",
              "    </tr>\n",
              "    <tr>\n",
              "      <th>8</th>\n",
              "      <td>2023-12-27 01:12:09</td>\n",
              "      <td>False</td>\n",
              "      <td>False</td>\n",
              "      <td>False</td>\n",
              "      <td>False</td>\n",
              "      <td>False</td>\n",
              "      <td>False</td>\n",
              "    </tr>\n",
              "    <tr>\n",
              "      <th>9</th>\n",
              "      <td>2023-09-03 14:34:21</td>\n",
              "      <td>False</td>\n",
              "      <td>False</td>\n",
              "      <td>False</td>\n",
              "      <td>False</td>\n",
              "      <td>False</td>\n",
              "      <td>False</td>\n",
              "    </tr>\n",
              "  </tbody>\n",
              "</table>\n",
              "</div>"
            ],
            "text/plain": [
              "                 Date  Date_is_leap_year  Date_is_month_start  \\\n",
              "0 2023-07-16 22:28:54              False                False   \n",
              "1 2023-07-19 10:39:36              False                False   \n",
              "2 2023-06-22 20:06:50              False                False   \n",
              "3 2023-03-05 20:19:53              False                False   \n",
              "4 2023-12-23 17:45:33              False                False   \n",
              "5 2023-06-04 05:14:58              False                False   \n",
              "6 2023-04-01 20:01:13              False                 True   \n",
              "7 2023-07-05 02:39:08              False                False   \n",
              "8 2023-12-27 01:12:09              False                False   \n",
              "9 2023-09-03 14:34:21              False                False   \n",
              "\n",
              "   Date_is_is_month_end  Date_is_quarter_start  Date_is_quarter_end  \\\n",
              "0                 False                  False                False   \n",
              "1                 False                  False                False   \n",
              "2                 False                  False                False   \n",
              "3                 False                  False                False   \n",
              "4                 False                  False                False   \n",
              "5                 False                  False                False   \n",
              "6                 False                   True                False   \n",
              "7                 False                  False                False   \n",
              "8                 False                  False                False   \n",
              "9                 False                  False                False   \n",
              "\n",
              "   Date_is_year_start  \n",
              "0               False  \n",
              "1               False  \n",
              "2               False  \n",
              "3               False  \n",
              "4               False  \n",
              "5               False  \n",
              "6               False  \n",
              "7               False  \n",
              "8               False  \n",
              "9               False  "
            ]
          },
          "execution_count": 34,
          "metadata": {},
          "output_type": "execute_result"
        }
      ],
      "source": [
        "date_df3['Date_is_leap_year'] = date_df3['Date'].dt.is_leap_year     # 윤년 여부\n",
        "date_df3['Date_is_month_start'] = date_df3['Date'].dt.is_month_start   # 월 시작일 여부\n",
        "date_df3['Date_is_is_month_end'] = date_df3['Date'].dt.is_month_end     # 월 마지막일 여부\n",
        "date_df3['Date_is_quarter_start'] = date_df3['Date'].dt.is_quarter_start # 분기 시작일 여부\n",
        "date_df3['Date_is_quarter_end'] = date_df3['Date'].dt.is_quarter_end   # 분기 마지막일 여부\n",
        "date_df3['Date_is_year_start'] = date_df3['Date'].dt.is_year_start    # 연 시작일 여부\n",
        "date_df3"
      ]
    },
    {
      "cell_type": "code",
      "execution_count": 36,
      "metadata": {},
      "outputs": [
        {
          "name": "stdout",
          "output_type": "stream",
          "text": [
            "2023-10-26 00:00:00\n",
            "<class 'datetime.datetime'>\n",
            "2023-10-26\n",
            "<class 'str'>\n"
          ]
        }
      ],
      "source": [
        "temp_date = '2023-10-26'\n",
        "date_test = datetime.strptime(temp_date, '%Y-%m-%d')\n",
        "print(date_test)\n",
        "print(type(date_test))\n",
        "\n",
        "date_test2 = date_test.strftime('%Y-%m-%d')\n",
        "print(date_test2)\n",
        "print(type(date_test2))"
      ]
    },
    {
      "cell_type": "markdown",
      "metadata": {},
      "source": [
        "## map, apply, applymap 함수\n",
        "\n",
        "2023-08-28\n",
        "\n",
        "* map은 단일 series에 적용\n",
        "    * ex) df['columns'].map(lambda x : x ** 2)\n",
        "\n",
        "* apply는 데이터프레임에서 행 혹은 열단위로 적용\n",
        "\n",
        "* applymap은 데이터프레임에서 개별 원소에 적용"
      ]
    },
    {
      "cell_type": "markdown",
      "metadata": {},
      "source": [
        "### map\n",
        "\n",
        "* key값을 활용한 Series간 mapping을 할때 많이 사용됨"
      ]
    },
    {
      "cell_type": "code",
      "execution_count": 2,
      "metadata": {},
      "outputs": [],
      "source": [
        "import pandas as pd \n",
        "\n",
        "x = pd.Series({'one' : 1, 'two' : 2, 'three' :3})\n",
        "y = pd.Series({1 : 'triangle', 2:'square', 3: 'circle'})"
      ]
    },
    {
      "cell_type": "code",
      "execution_count": 75,
      "metadata": {},
      "outputs": [
        {
          "data": {
            "text/plain": [
              "one      triangle\n",
              "two        square\n",
              "three      circle\n",
              "dtype: object"
            ]
          },
          "execution_count": 75,
          "metadata": {},
          "output_type": "execute_result"
        }
      ],
      "source": [
        "x.map(y)"
      ]
    },
    {
      "cell_type": "code",
      "execution_count": 76,
      "metadata": {},
      "outputs": [
        {
          "data": {
            "text/plain": [
              "one      1\n",
              "two      4\n",
              "three    9\n",
              "dtype: int64"
            ]
          },
          "execution_count": 76,
          "metadata": {},
          "output_type": "execute_result"
        }
      ],
      "source": [
        "x.map(lambda x : x ** 2)"
      ]
    },
    {
      "cell_type": "code",
      "execution_count": 12,
      "metadata": {},
      "outputs": [
        {
          "data": {
            "text/plain": [
              "1   NaN\n",
              "2   NaN\n",
              "3   NaN\n",
              "dtype: float64"
            ]
          },
          "execution_count": 12,
          "metadata": {},
          "output_type": "execute_result"
        }
      ],
      "source": [
        "y.map(x)"
      ]
    },
    {
      "cell_type": "code",
      "execution_count": 13,
      "metadata": {},
      "outputs": [
        {
          "data": {
            "text/plain": [
              "one      triangle\n",
              "two        square\n",
              "three         NaN\n",
              "dtype: object"
            ]
          },
          "execution_count": 13,
          "metadata": {},
          "output_type": "execute_result"
        }
      ],
      "source": [
        "y1 = pd.Series({1 : 'triangle' , 2 : 'square'})\n",
        "x.map(y1)"
      ]
    },
    {
      "cell_type": "markdown",
      "metadata": {},
      "source": [
        "### apply"
      ]
    },
    {
      "cell_type": "code",
      "execution_count": 18,
      "metadata": {},
      "outputs": [
        {
          "data": {
            "text/plain": [
              "one      2\n",
              "two      4\n",
              "three    6\n",
              "dtype: int64"
            ]
          },
          "execution_count": 18,
          "metadata": {},
          "output_type": "execute_result"
        }
      ],
      "source": [
        "x.apply(lambda x : x*2)"
      ]
    },
    {
      "cell_type": "code",
      "execution_count": 19,
      "metadata": {},
      "outputs": [
        {
          "data": {
            "text/html": [
              "<div>\n",
              "<style scoped>\n",
              "    .dataframe tbody tr th:only-of-type {\n",
              "        vertical-align: middle;\n",
              "    }\n",
              "\n",
              "    .dataframe tbody tr th {\n",
              "        vertical-align: top;\n",
              "    }\n",
              "\n",
              "    .dataframe thead th {\n",
              "        text-align: right;\n",
              "    }\n",
              "</style>\n",
              "<table border=\"1\" class=\"dataframe\">\n",
              "  <thead>\n",
              "    <tr style=\"text-align: right;\">\n",
              "      <th></th>\n",
              "      <th>a</th>\n",
              "      <th>b</th>\n",
              "      <th>c</th>\n",
              "    </tr>\n",
              "  </thead>\n",
              "  <tbody>\n",
              "    <tr>\n",
              "      <th>0</th>\n",
              "      <td>0</td>\n",
              "      <td>1</td>\n",
              "      <td>2</td>\n",
              "    </tr>\n",
              "    <tr>\n",
              "      <th>1</th>\n",
              "      <td>3</td>\n",
              "      <td>4</td>\n",
              "      <td>5</td>\n",
              "    </tr>\n",
              "    <tr>\n",
              "      <th>2</th>\n",
              "      <td>6</td>\n",
              "      <td>7</td>\n",
              "      <td>8</td>\n",
              "    </tr>\n",
              "    <tr>\n",
              "      <th>3</th>\n",
              "      <td>9</td>\n",
              "      <td>10</td>\n",
              "      <td>11</td>\n",
              "    </tr>\n",
              "  </tbody>\n",
              "</table>\n",
              "</div>"
            ],
            "text/plain": [
              "   a   b   c\n",
              "0  0   1   2\n",
              "1  3   4   5\n",
              "2  6   7   8\n",
              "3  9  10  11"
            ]
          },
          "execution_count": 19,
          "metadata": {},
          "output_type": "execute_result"
        }
      ],
      "source": [
        "# dataframe case\n",
        "\n",
        "import numpy as np\n",
        "\n",
        "df = pd.DataFrame(np.arange(12).reshape(4,3), columns = ['a','b','c'])\n",
        "df"
      ]
    },
    {
      "cell_type": "code",
      "execution_count": 20,
      "metadata": {},
      "outputs": [
        {
          "data": {
            "text/plain": [
              "a    18\n",
              "b    22\n",
              "c    26\n",
              "dtype: int64"
            ]
          },
          "execution_count": 20,
          "metadata": {},
          "output_type": "execute_result"
        }
      ],
      "source": [
        "df.apply(lambda x : x.sum(), axis = 0)"
      ]
    },
    {
      "cell_type": "code",
      "execution_count": 21,
      "metadata": {},
      "outputs": [
        {
          "data": {
            "text/plain": [
              "0     3\n",
              "1    12\n",
              "2    21\n",
              "3    30\n",
              "dtype: int64"
            ]
          },
          "execution_count": 21,
          "metadata": {},
          "output_type": "execute_result"
        }
      ],
      "source": [
        "df.apply(lambda x : x.sum(), axis = 1)"
      ]
    },
    {
      "cell_type": "code",
      "execution_count": 23,
      "metadata": {},
      "outputs": [
        {
          "data": {
            "text/html": [
              "<div>\n",
              "<style scoped>\n",
              "    .dataframe tbody tr th:only-of-type {\n",
              "        vertical-align: middle;\n",
              "    }\n",
              "\n",
              "    .dataframe tbody tr th {\n",
              "        vertical-align: top;\n",
              "    }\n",
              "\n",
              "    .dataframe thead th {\n",
              "        text-align: right;\n",
              "    }\n",
              "</style>\n",
              "<table border=\"1\" class=\"dataframe\">\n",
              "  <thead>\n",
              "    <tr style=\"text-align: right;\">\n",
              "      <th></th>\n",
              "      <th>a</th>\n",
              "      <th>b</th>\n",
              "      <th>c</th>\n",
              "      <th>a+b</th>\n",
              "    </tr>\n",
              "  </thead>\n",
              "  <tbody>\n",
              "    <tr>\n",
              "      <th>0</th>\n",
              "      <td>0</td>\n",
              "      <td>1</td>\n",
              "      <td>2</td>\n",
              "      <td>1</td>\n",
              "    </tr>\n",
              "    <tr>\n",
              "      <th>1</th>\n",
              "      <td>3</td>\n",
              "      <td>4</td>\n",
              "      <td>5</td>\n",
              "      <td>7</td>\n",
              "    </tr>\n",
              "    <tr>\n",
              "      <th>2</th>\n",
              "      <td>6</td>\n",
              "      <td>7</td>\n",
              "      <td>8</td>\n",
              "      <td>13</td>\n",
              "    </tr>\n",
              "    <tr>\n",
              "      <th>3</th>\n",
              "      <td>9</td>\n",
              "      <td>10</td>\n",
              "      <td>11</td>\n",
              "      <td>19</td>\n",
              "    </tr>\n",
              "  </tbody>\n",
              "</table>\n",
              "</div>"
            ],
            "text/plain": [
              "   a   b   c  a+b\n",
              "0  0   1   2    1\n",
              "1  3   4   5    7\n",
              "2  6   7   8   13\n",
              "3  9  10  11   19"
            ]
          },
          "execution_count": 23,
          "metadata": {},
          "output_type": "execute_result"
        }
      ],
      "source": [
        "df['a+b'] = df.apply(lambda x : x.a + x.b, axis = 1)\n",
        "df"
      ]
    },
    {
      "cell_type": "markdown",
      "metadata": {},
      "source": [
        "### applymap\n",
        "\n",
        "* apply는 행이나 열로 접근하는데 applymap은 개별 데이터에 접근하는형식"
      ]
    },
    {
      "cell_type": "code",
      "execution_count": 3,
      "metadata": {},
      "outputs": [
        {
          "data": {
            "text/html": [
              "<div>\n",
              "<style scoped>\n",
              "    .dataframe tbody tr th:only-of-type {\n",
              "        vertical-align: middle;\n",
              "    }\n",
              "\n",
              "    .dataframe tbody tr th {\n",
              "        vertical-align: top;\n",
              "    }\n",
              "\n",
              "    .dataframe thead th {\n",
              "        text-align: right;\n",
              "    }\n",
              "</style>\n",
              "<table border=\"1\" class=\"dataframe\">\n",
              "  <thead>\n",
              "    <tr style=\"text-align: right;\">\n",
              "      <th></th>\n",
              "      <th>급여</th>\n",
              "      <th>상여</th>\n",
              "      <th>특보</th>\n",
              "    </tr>\n",
              "  </thead>\n",
              "  <tbody>\n",
              "    <tr>\n",
              "      <th>0</th>\n",
              "      <td>100원</td>\n",
              "      <td>10원</td>\n",
              "      <td>1원</td>\n",
              "    </tr>\n",
              "    <tr>\n",
              "      <th>1</th>\n",
              "      <td>200원</td>\n",
              "      <td>20원</td>\n",
              "      <td>2원</td>\n",
              "    </tr>\n",
              "    <tr>\n",
              "      <th>2</th>\n",
              "      <td>300원</td>\n",
              "      <td>30원</td>\n",
              "      <td>3원</td>\n",
              "    </tr>\n",
              "  </tbody>\n",
              "</table>\n",
              "</div>"
            ],
            "text/plain": [
              "     급여   상여  특보\n",
              "0  100원  10원  1원\n",
              "1  200원  20원  2원\n",
              "2  300원  30원  3원"
            ]
          },
          "execution_count": 3,
          "metadata": {},
          "output_type": "execute_result"
        }
      ],
      "source": [
        "df = pd.DataFrame({'급여' : [i + '원' for i in ['100', '200', '300']],\n",
        "                  '상여' : [j + '원' for j in ['10','20','30']],\n",
        "                  '특보' : ['1원', '2원', '3원']})\n",
        "df"
      ]
    },
    {
      "cell_type": "code",
      "execution_count": 4,
      "metadata": {},
      "outputs": [
        {
          "data": {
            "text/html": [
              "<div>\n",
              "<style scoped>\n",
              "    .dataframe tbody tr th:only-of-type {\n",
              "        vertical-align: middle;\n",
              "    }\n",
              "\n",
              "    .dataframe tbody tr th {\n",
              "        vertical-align: top;\n",
              "    }\n",
              "\n",
              "    .dataframe thead th {\n",
              "        text-align: right;\n",
              "    }\n",
              "</style>\n",
              "<table border=\"1\" class=\"dataframe\">\n",
              "  <thead>\n",
              "    <tr style=\"text-align: right;\">\n",
              "      <th></th>\n",
              "      <th>급여</th>\n",
              "      <th>상여</th>\n",
              "    </tr>\n",
              "  </thead>\n",
              "  <tbody>\n",
              "    <tr>\n",
              "      <th>0</th>\n",
              "      <td>100원</td>\n",
              "      <td>10원</td>\n",
              "    </tr>\n",
              "    <tr>\n",
              "      <th>1</th>\n",
              "      <td>200원</td>\n",
              "      <td>20원</td>\n",
              "    </tr>\n",
              "    <tr>\n",
              "      <th>2</th>\n",
              "      <td>300원</td>\n",
              "      <td>30원</td>\n",
              "    </tr>\n",
              "  </tbody>\n",
              "</table>\n",
              "</div>"
            ],
            "text/plain": [
              "     급여   상여\n",
              "0  100원  10원\n",
              "1  200원  20원\n",
              "2  300원  30원"
            ]
          },
          "execution_count": 4,
          "metadata": {},
          "output_type": "execute_result"
        }
      ],
      "source": [
        "df.apply(lambda x : x[:2], axis = 1)\n",
        "\n",
        "# axis에 따라 행 or 열단위로 계산됨\n",
        "# 지금은 특정열을 지정하지 않았기 때문에 axis = 1 기준으로 적용됨"
      ]
    },
    {
      "cell_type": "code",
      "execution_count": 32,
      "metadata": {},
      "outputs": [
        {
          "data": {
            "text/html": [
              "<div>\n",
              "<style scoped>\n",
              "    .dataframe tbody tr th:only-of-type {\n",
              "        vertical-align: middle;\n",
              "    }\n",
              "\n",
              "    .dataframe tbody tr th {\n",
              "        vertical-align: top;\n",
              "    }\n",
              "\n",
              "    .dataframe thead th {\n",
              "        text-align: right;\n",
              "    }\n",
              "</style>\n",
              "<table border=\"1\" class=\"dataframe\">\n",
              "  <thead>\n",
              "    <tr style=\"text-align: right;\">\n",
              "      <th></th>\n",
              "      <th>급여</th>\n",
              "      <th>상여</th>\n",
              "      <th>특보</th>\n",
              "    </tr>\n",
              "  </thead>\n",
              "  <tbody>\n",
              "    <tr>\n",
              "      <th>0</th>\n",
              "      <td>10</td>\n",
              "      <td>10</td>\n",
              "      <td>1원</td>\n",
              "    </tr>\n",
              "    <tr>\n",
              "      <th>1</th>\n",
              "      <td>20</td>\n",
              "      <td>20</td>\n",
              "      <td>2원</td>\n",
              "    </tr>\n",
              "    <tr>\n",
              "      <th>2</th>\n",
              "      <td>30</td>\n",
              "      <td>30</td>\n",
              "      <td>3원</td>\n",
              "    </tr>\n",
              "  </tbody>\n",
              "</table>\n",
              "</div>"
            ],
            "text/plain": [
              "   급여  상여  특보\n",
              "0  10  10  1원\n",
              "1  20  20  2원\n",
              "2  30  30  3원"
            ]
          },
          "execution_count": 32,
          "metadata": {},
          "output_type": "execute_result"
        }
      ],
      "source": [
        "df.applymap(lambda x : x[:2])\n",
        "\n",
        "# 각 원소(데이터)에 적용이 된다"
      ]
    },
    {
      "cell_type": "markdown",
      "metadata": {},
      "source": [
        "## 데이터 집계\n",
        "2023-08-30\n"
      ]
    },
    {
      "cell_type": "markdown",
      "metadata": {},
      "source": [
        "### groupby\n",
        "\n",
        "* `groupby(by = None, axis = 0, as_index = True, ...)`  \n",
        "    * by : group화 대상 \n",
        "    * axis : 어떤 axis로 그룹화 할지\n",
        "    * as_index : group화 대상을 index로 사용할지 여부\n",
        "    * groupby().agg 형태로 많이 사용함\n",
        "\n",
        "\n",
        "\n",
        "\n",
        "참고 : https://pandas.pydata.org/docs/reference/api/pandas.core.groupby.DataFrameGroupBy.agg.html"
      ]
    },
    {
      "cell_type": "code",
      "execution_count": 52,
      "metadata": {},
      "outputs": [],
      "source": [
        "import pandas as pd\n",
        "\n",
        "df = pd.DataFrame(\n",
        "    {\n",
        "        \"A\": [1, 1, 2, 2, 3, 3, 4, 5],\n",
        "        \"B\": [1, 2, 3, 4, 4, 5, 6, 7],\n",
        "        \"C\": [0.362838, 0.227877, 1.267767, -0.562860, 1.2, 3.3 , 2.1 , 4.5],\n",
        "        \"D\": ['a','a','b','b','c','c','d','e']\n",
        "    }\n",
        ")"
      ]
    },
    {
      "cell_type": "code",
      "execution_count": 12,
      "metadata": {},
      "outputs": [
        {
          "data": {
            "text/html": [
              "<div>\n",
              "<style scoped>\n",
              "    .dataframe tbody tr th:only-of-type {\n",
              "        vertical-align: middle;\n",
              "    }\n",
              "\n",
              "    .dataframe tbody tr th {\n",
              "        vertical-align: top;\n",
              "    }\n",
              "\n",
              "    .dataframe thead th {\n",
              "        text-align: right;\n",
              "    }\n",
              "</style>\n",
              "<table border=\"1\" class=\"dataframe\">\n",
              "  <thead>\n",
              "    <tr style=\"text-align: right;\">\n",
              "      <th></th>\n",
              "      <th>A</th>\n",
              "      <th>B</th>\n",
              "      <th>C</th>\n",
              "      <th>D</th>\n",
              "    </tr>\n",
              "  </thead>\n",
              "  <tbody>\n",
              "    <tr>\n",
              "      <th>0</th>\n",
              "      <td>1</td>\n",
              "      <td>1</td>\n",
              "      <td>0.362838</td>\n",
              "      <td>a</td>\n",
              "    </tr>\n",
              "    <tr>\n",
              "      <th>1</th>\n",
              "      <td>1</td>\n",
              "      <td>2</td>\n",
              "      <td>0.227877</td>\n",
              "      <td>a</td>\n",
              "    </tr>\n",
              "    <tr>\n",
              "      <th>2</th>\n",
              "      <td>2</td>\n",
              "      <td>3</td>\n",
              "      <td>1.267767</td>\n",
              "      <td>b</td>\n",
              "    </tr>\n",
              "    <tr>\n",
              "      <th>3</th>\n",
              "      <td>2</td>\n",
              "      <td>4</td>\n",
              "      <td>-0.562860</td>\n",
              "      <td>b</td>\n",
              "    </tr>\n",
              "  </tbody>\n",
              "</table>\n",
              "</div>"
            ],
            "text/plain": [
              "   A  B         C  D\n",
              "0  1  1  0.362838  a\n",
              "1  1  2  0.227877  a\n",
              "2  2  3  1.267767  b\n",
              "3  2  4 -0.562860  b"
            ]
          },
          "execution_count": 12,
          "metadata": {},
          "output_type": "execute_result"
        }
      ],
      "source": [
        "df"
      ]
    },
    {
      "cell_type": "code",
      "execution_count": 13,
      "metadata": {},
      "outputs": [
        {
          "data": {
            "text/plain": [
              "<pandas.core.groupby.generic.DataFrameGroupBy object at 0x1238d3a10>"
            ]
          },
          "execution_count": 13,
          "metadata": {},
          "output_type": "execute_result"
        }
      ],
      "source": [
        "df.groupby('A') # groupby객체 생성"
      ]
    },
    {
      "cell_type": "code",
      "execution_count": 66,
      "metadata": {},
      "outputs": [
        {
          "data": {
            "text/html": [
              "<div>\n",
              "<style scoped>\n",
              "    .dataframe tbody tr th:only-of-type {\n",
              "        vertical-align: middle;\n",
              "    }\n",
              "\n",
              "    .dataframe tbody tr th {\n",
              "        vertical-align: top;\n",
              "    }\n",
              "\n",
              "    .dataframe thead th {\n",
              "        text-align: right;\n",
              "    }\n",
              "</style>\n",
              "<table border=\"1\" class=\"dataframe\">\n",
              "  <thead>\n",
              "    <tr style=\"text-align: right;\">\n",
              "      <th></th>\n",
              "      <th>A</th>\n",
              "      <th>B</th>\n",
              "      <th>C</th>\n",
              "    </tr>\n",
              "    <tr>\n",
              "      <th>D</th>\n",
              "      <th></th>\n",
              "      <th></th>\n",
              "      <th></th>\n",
              "    </tr>\n",
              "  </thead>\n",
              "  <tbody>\n",
              "    <tr>\n",
              "      <th>a</th>\n",
              "      <td>1.0</td>\n",
              "      <td>1.5</td>\n",
              "      <td>0.295357</td>\n",
              "    </tr>\n",
              "    <tr>\n",
              "      <th>b</th>\n",
              "      <td>2.0</td>\n",
              "      <td>3.5</td>\n",
              "      <td>0.352454</td>\n",
              "    </tr>\n",
              "    <tr>\n",
              "      <th>c</th>\n",
              "      <td>3.0</td>\n",
              "      <td>4.5</td>\n",
              "      <td>2.250000</td>\n",
              "    </tr>\n",
              "    <tr>\n",
              "      <th>d</th>\n",
              "      <td>4.0</td>\n",
              "      <td>6.0</td>\n",
              "      <td>2.100000</td>\n",
              "    </tr>\n",
              "    <tr>\n",
              "      <th>e</th>\n",
              "      <td>5.0</td>\n",
              "      <td>7.0</td>\n",
              "      <td>4.500000</td>\n",
              "    </tr>\n",
              "  </tbody>\n",
              "</table>\n",
              "</div>"
            ],
            "text/plain": [
              "     A    B         C\n",
              "D                    \n",
              "a  1.0  1.5  0.295357\n",
              "b  2.0  3.5  0.352454\n",
              "c  3.0  4.5  2.250000\n",
              "d  4.0  6.0  2.100000\n",
              "e  5.0  7.0  4.500000"
            ]
          },
          "execution_count": 66,
          "metadata": {},
          "output_type": "execute_result"
        }
      ],
      "source": [
        "df.groupby('D').mean() # agg를 사용하지 않고 단순하게 쓸수 있음, groupby 대상 column이 index가 됨"
      ]
    },
    {
      "cell_type": "code",
      "execution_count": 65,
      "metadata": {},
      "outputs": [
        {
          "data": {
            "text/html": [
              "<div>\n",
              "<style scoped>\n",
              "    .dataframe tbody tr th:only-of-type {\n",
              "        vertical-align: middle;\n",
              "    }\n",
              "\n",
              "    .dataframe tbody tr th {\n",
              "        vertical-align: top;\n",
              "    }\n",
              "\n",
              "    .dataframe thead th {\n",
              "        text-align: right;\n",
              "    }\n",
              "</style>\n",
              "<table border=\"1\" class=\"dataframe\">\n",
              "  <thead>\n",
              "    <tr style=\"text-align: right;\">\n",
              "      <th></th>\n",
              "      <th>D</th>\n",
              "      <th>A</th>\n",
              "      <th>B</th>\n",
              "      <th>C</th>\n",
              "    </tr>\n",
              "  </thead>\n",
              "  <tbody>\n",
              "    <tr>\n",
              "      <th>0</th>\n",
              "      <td>a</td>\n",
              "      <td>1.0</td>\n",
              "      <td>1.5</td>\n",
              "      <td>0.295357</td>\n",
              "    </tr>\n",
              "    <tr>\n",
              "      <th>1</th>\n",
              "      <td>b</td>\n",
              "      <td>2.0</td>\n",
              "      <td>3.5</td>\n",
              "      <td>0.352454</td>\n",
              "    </tr>\n",
              "    <tr>\n",
              "      <th>2</th>\n",
              "      <td>c</td>\n",
              "      <td>3.0</td>\n",
              "      <td>4.5</td>\n",
              "      <td>2.250000</td>\n",
              "    </tr>\n",
              "    <tr>\n",
              "      <th>3</th>\n",
              "      <td>d</td>\n",
              "      <td>4.0</td>\n",
              "      <td>6.0</td>\n",
              "      <td>2.100000</td>\n",
              "    </tr>\n",
              "    <tr>\n",
              "      <th>4</th>\n",
              "      <td>e</td>\n",
              "      <td>5.0</td>\n",
              "      <td>7.0</td>\n",
              "      <td>4.500000</td>\n",
              "    </tr>\n",
              "  </tbody>\n",
              "</table>\n",
              "</div>"
            ],
            "text/plain": [
              "   D    A    B         C\n",
              "0  a  1.0  1.5  0.295357\n",
              "1  b  2.0  3.5  0.352454\n",
              "2  c  3.0  4.5  2.250000\n",
              "3  d  4.0  6.0  2.100000\n",
              "4  e  5.0  7.0  4.500000"
            ]
          },
          "execution_count": 65,
          "metadata": {},
          "output_type": "execute_result"
        }
      ],
      "source": [
        "df.groupby('D', as_index=False).mean() # as_index"
      ]
    },
    {
      "cell_type": "code",
      "execution_count": 17,
      "metadata": {},
      "outputs": [
        {
          "data": {
            "text/html": [
              "<div>\n",
              "<style scoped>\n",
              "    .dataframe tbody tr th:only-of-type {\n",
              "        vertical-align: middle;\n",
              "    }\n",
              "\n",
              "    .dataframe tbody tr th {\n",
              "        vertical-align: top;\n",
              "    }\n",
              "\n",
              "    .dataframe thead th {\n",
              "        text-align: right;\n",
              "    }\n",
              "</style>\n",
              "<table border=\"1\" class=\"dataframe\">\n",
              "  <thead>\n",
              "    <tr style=\"text-align: right;\">\n",
              "      <th></th>\n",
              "      <th>A</th>\n",
              "      <th>B</th>\n",
              "      <th>C</th>\n",
              "    </tr>\n",
              "    <tr>\n",
              "      <th>D</th>\n",
              "      <th></th>\n",
              "      <th></th>\n",
              "      <th></th>\n",
              "    </tr>\n",
              "  </thead>\n",
              "  <tbody>\n",
              "    <tr>\n",
              "      <th>a</th>\n",
              "      <td>1</td>\n",
              "      <td>1</td>\n",
              "      <td>0.227877</td>\n",
              "    </tr>\n",
              "    <tr>\n",
              "      <th>b</th>\n",
              "      <td>2</td>\n",
              "      <td>3</td>\n",
              "      <td>-0.562860</td>\n",
              "    </tr>\n",
              "  </tbody>\n",
              "</table>\n",
              "</div>"
            ],
            "text/plain": [
              "   A  B         C\n",
              "D                \n",
              "a  1  1  0.227877\n",
              "b  2  3 -0.562860"
            ]
          },
          "execution_count": 17,
          "metadata": {},
          "output_type": "execute_result"
        }
      ],
      "source": [
        "df.groupby('D').agg('min')"
      ]
    },
    {
      "cell_type": "code",
      "execution_count": 20,
      "metadata": {},
      "outputs": [
        {
          "data": {
            "text/html": [
              "<div>\n",
              "<style scoped>\n",
              "    .dataframe tbody tr th:only-of-type {\n",
              "        vertical-align: middle;\n",
              "    }\n",
              "\n",
              "    .dataframe tbody tr th {\n",
              "        vertical-align: top;\n",
              "    }\n",
              "\n",
              "    .dataframe thead tr th {\n",
              "        text-align: left;\n",
              "    }\n",
              "\n",
              "    .dataframe thead tr:last-of-type th {\n",
              "        text-align: right;\n",
              "    }\n",
              "</style>\n",
              "<table border=\"1\" class=\"dataframe\">\n",
              "  <thead>\n",
              "    <tr>\n",
              "      <th></th>\n",
              "      <th colspan=\"2\" halign=\"left\">A</th>\n",
              "      <th colspan=\"2\" halign=\"left\">B</th>\n",
              "      <th colspan=\"2\" halign=\"left\">C</th>\n",
              "    </tr>\n",
              "    <tr>\n",
              "      <th></th>\n",
              "      <th>min</th>\n",
              "      <th>max</th>\n",
              "      <th>min</th>\n",
              "      <th>max</th>\n",
              "      <th>min</th>\n",
              "      <th>max</th>\n",
              "    </tr>\n",
              "    <tr>\n",
              "      <th>D</th>\n",
              "      <th></th>\n",
              "      <th></th>\n",
              "      <th></th>\n",
              "      <th></th>\n",
              "      <th></th>\n",
              "      <th></th>\n",
              "    </tr>\n",
              "  </thead>\n",
              "  <tbody>\n",
              "    <tr>\n",
              "      <th>a</th>\n",
              "      <td>1</td>\n",
              "      <td>1</td>\n",
              "      <td>1</td>\n",
              "      <td>2</td>\n",
              "      <td>0.227877</td>\n",
              "      <td>0.362838</td>\n",
              "    </tr>\n",
              "    <tr>\n",
              "      <th>b</th>\n",
              "      <td>2</td>\n",
              "      <td>2</td>\n",
              "      <td>3</td>\n",
              "      <td>4</td>\n",
              "      <td>-0.562860</td>\n",
              "      <td>1.267767</td>\n",
              "    </tr>\n",
              "  </tbody>\n",
              "</table>\n",
              "</div>"
            ],
            "text/plain": [
              "    A       B             C          \n",
              "  min max min max       min       max\n",
              "D                                    \n",
              "a   1   1   1   2  0.227877  0.362838\n",
              "b   2   2   3   4 -0.562860  1.267767"
            ]
          },
          "execution_count": 20,
          "metadata": {},
          "output_type": "execute_result"
        }
      ],
      "source": [
        "df.groupby('D').agg(['min', 'max']) # 대괄호를 빼먹으면 안됨 / df.groupby('D').agg('min', 'max') / 오류는 안생기는데 맨앞 함수만 인식하는거 같음"
      ]
    },
    {
      "cell_type": "code",
      "execution_count": 21,
      "metadata": {},
      "outputs": [
        {
          "data": {
            "text/html": [
              "<div>\n",
              "<style scoped>\n",
              "    .dataframe tbody tr th:only-of-type {\n",
              "        vertical-align: middle;\n",
              "    }\n",
              "\n",
              "    .dataframe tbody tr th {\n",
              "        vertical-align: top;\n",
              "    }\n",
              "\n",
              "    .dataframe thead th {\n",
              "        text-align: right;\n",
              "    }\n",
              "</style>\n",
              "<table border=\"1\" class=\"dataframe\">\n",
              "  <thead>\n",
              "    <tr style=\"text-align: right;\">\n",
              "      <th></th>\n",
              "      <th>min</th>\n",
              "      <th>max</th>\n",
              "    </tr>\n",
              "    <tr>\n",
              "      <th>D</th>\n",
              "      <th></th>\n",
              "      <th></th>\n",
              "    </tr>\n",
              "  </thead>\n",
              "  <tbody>\n",
              "    <tr>\n",
              "      <th>a</th>\n",
              "      <td>1</td>\n",
              "      <td>2</td>\n",
              "    </tr>\n",
              "    <tr>\n",
              "      <th>b</th>\n",
              "      <td>3</td>\n",
              "      <td>4</td>\n",
              "    </tr>\n",
              "  </tbody>\n",
              "</table>\n",
              "</div>"
            ],
            "text/plain": [
              "   min  max\n",
              "D          \n",
              "a    1    2\n",
              "b    3    4"
            ]
          },
          "execution_count": 21,
          "metadata": {},
          "output_type": "execute_result"
        }
      ],
      "source": [
        "df.groupby('D').B.agg(['min', 'max']) # 특정 열을 지정해서 집계할 수 있음"
      ]
    },
    {
      "cell_type": "code",
      "execution_count": 24,
      "metadata": {},
      "outputs": [
        {
          "data": {
            "text/html": [
              "<div>\n",
              "<style scoped>\n",
              "    .dataframe tbody tr th:only-of-type {\n",
              "        vertical-align: middle;\n",
              "    }\n",
              "\n",
              "    .dataframe tbody tr th {\n",
              "        vertical-align: top;\n",
              "    }\n",
              "\n",
              "    .dataframe thead th {\n",
              "        text-align: right;\n",
              "    }\n",
              "</style>\n",
              "<table border=\"1\" class=\"dataframe\">\n",
              "  <thead>\n",
              "    <tr style=\"text-align: right;\">\n",
              "      <th></th>\n",
              "      <th>A</th>\n",
              "      <th>B</th>\n",
              "      <th>C</th>\n",
              "    </tr>\n",
              "    <tr>\n",
              "      <th>D</th>\n",
              "      <th></th>\n",
              "      <th></th>\n",
              "      <th></th>\n",
              "    </tr>\n",
              "  </thead>\n",
              "  <tbody>\n",
              "    <tr>\n",
              "      <th>a</th>\n",
              "      <td>4</td>\n",
              "      <td>6</td>\n",
              "      <td>1.181430</td>\n",
              "    </tr>\n",
              "    <tr>\n",
              "      <th>b</th>\n",
              "      <td>8</td>\n",
              "      <td>14</td>\n",
              "      <td>1.409814</td>\n",
              "    </tr>\n",
              "  </tbody>\n",
              "</table>\n",
              "</div>"
            ],
            "text/plain": [
              "   A   B         C\n",
              "D                 \n",
              "a  4   6  1.181430\n",
              "b  8  14  1.409814"
            ]
          },
          "execution_count": 24,
          "metadata": {},
          "output_type": "execute_result"
        }
      ],
      "source": [
        "df.groupby('D').agg(lambda x : sum(x) * 2) # lambda함수도 적용가능"
      ]
    },
    {
      "cell_type": "code",
      "execution_count": 26,
      "metadata": {},
      "outputs": [
        {
          "data": {
            "text/html": [
              "<div>\n",
              "<style scoped>\n",
              "    .dataframe tbody tr th:only-of-type {\n",
              "        vertical-align: middle;\n",
              "    }\n",
              "\n",
              "    .dataframe tbody tr th {\n",
              "        vertical-align: top;\n",
              "    }\n",
              "\n",
              "    .dataframe thead tr th {\n",
              "        text-align: left;\n",
              "    }\n",
              "\n",
              "    .dataframe thead tr:last-of-type th {\n",
              "        text-align: right;\n",
              "    }\n",
              "</style>\n",
              "<table border=\"1\" class=\"dataframe\">\n",
              "  <thead>\n",
              "    <tr>\n",
              "      <th></th>\n",
              "      <th colspan=\"2\" halign=\"left\">B</th>\n",
              "      <th>C</th>\n",
              "    </tr>\n",
              "    <tr>\n",
              "      <th></th>\n",
              "      <th>min</th>\n",
              "      <th>max</th>\n",
              "      <th>sum</th>\n",
              "    </tr>\n",
              "    <tr>\n",
              "      <th>A</th>\n",
              "      <th></th>\n",
              "      <th></th>\n",
              "      <th></th>\n",
              "    </tr>\n",
              "  </thead>\n",
              "  <tbody>\n",
              "    <tr>\n",
              "      <th>1</th>\n",
              "      <td>1</td>\n",
              "      <td>2</td>\n",
              "      <td>0.590715</td>\n",
              "    </tr>\n",
              "    <tr>\n",
              "      <th>2</th>\n",
              "      <td>3</td>\n",
              "      <td>4</td>\n",
              "      <td>0.704907</td>\n",
              "    </tr>\n",
              "  </tbody>\n",
              "</table>\n",
              "</div>"
            ],
            "text/plain": [
              "    B             C\n",
              "  min max       sum\n",
              "A                  \n",
              "1   1   2  0.590715\n",
              "2   3   4  0.704907"
            ]
          },
          "execution_count": 26,
          "metadata": {},
          "output_type": "execute_result"
        }
      ],
      "source": [
        "df.groupby('A').agg({'B' : ['min', 'max'],\n",
        "                    'C' : 'sum'}) # 중괄호 넣어줘야함"
      ]
    },
    {
      "cell_type": "markdown",
      "metadata": {},
      "source": [
        "`pd.NamedAgg`이용 "
      ]
    },
    {
      "cell_type": "code",
      "execution_count": 75,
      "metadata": {},
      "outputs": [
        {
          "data": {
            "text/html": [
              "<div>\n",
              "<style scoped>\n",
              "    .dataframe tbody tr th:only-of-type {\n",
              "        vertical-align: middle;\n",
              "    }\n",
              "\n",
              "    .dataframe tbody tr th {\n",
              "        vertical-align: top;\n",
              "    }\n",
              "\n",
              "    .dataframe thead th {\n",
              "        text-align: right;\n",
              "    }\n",
              "</style>\n",
              "<table border=\"1\" class=\"dataframe\">\n",
              "  <thead>\n",
              "    <tr style=\"text-align: right;\">\n",
              "      <th></th>\n",
              "      <th>new1</th>\n",
              "      <th>new2</th>\n",
              "    </tr>\n",
              "    <tr>\n",
              "      <th>D</th>\n",
              "      <th></th>\n",
              "      <th></th>\n",
              "    </tr>\n",
              "  </thead>\n",
              "  <tbody>\n",
              "    <tr>\n",
              "      <th>a</th>\n",
              "      <td>[1, 2]</td>\n",
              "      <td>2</td>\n",
              "    </tr>\n",
              "    <tr>\n",
              "      <th>b</th>\n",
              "      <td>[3, 4]</td>\n",
              "      <td>4</td>\n",
              "    </tr>\n",
              "    <tr>\n",
              "      <th>c</th>\n",
              "      <td>[4, 5]</td>\n",
              "      <td>5</td>\n",
              "    </tr>\n",
              "    <tr>\n",
              "      <th>d</th>\n",
              "      <td>[6]</td>\n",
              "      <td>6</td>\n",
              "    </tr>\n",
              "    <tr>\n",
              "      <th>e</th>\n",
              "      <td>[7]</td>\n",
              "      <td>7</td>\n",
              "    </tr>\n",
              "  </tbody>\n",
              "</table>\n",
              "</div>"
            ],
            "text/plain": [
              "     new1  new2\n",
              "D              \n",
              "a  [1, 2]     2\n",
              "b  [3, 4]     4\n",
              "c  [4, 5]     5\n",
              "d     [6]     6\n",
              "e     [7]     7"
            ]
          },
          "execution_count": 75,
          "metadata": {},
          "output_type": "execute_result"
        }
      ],
      "source": [
        "df.groupby('D').agg(\n",
        "    new1 = pd.NamedAgg(column='B', aggfunc='unique'),\n",
        "    new2 = pd.NamedAgg(column='B', aggfunc=lambda x : x.max())\n",
        "    )"
      ]
    },
    {
      "cell_type": "code",
      "execution_count": 76,
      "metadata": {},
      "outputs": [
        {
          "name": "stdout",
          "output_type": "stream",
          "text": [
            "Must produce aggregated value\n"
          ]
        }
      ],
      "source": [
        "try:\n",
        "    df.groupby('D').agg(\n",
        "        a_min = pd.NamedAgg(column='B', aggfunc='unique'),\n",
        "        b_uniq = pd.NamedAgg(column='B', aggfunc= lambda x : x.unique()) # x.unique를 쓰면 오류 발생 이유는 모르겠음\n",
        "        )\n",
        "except:\n",
        "    print('Must produce aggregated value')"
      ]
    },
    {
      "cell_type": "code",
      "execution_count": 79,
      "metadata": {},
      "outputs": [
        {
          "data": {
            "text/html": [
              "<div>\n",
              "<style scoped>\n",
              "    .dataframe tbody tr th:only-of-type {\n",
              "        vertical-align: middle;\n",
              "    }\n",
              "\n",
              "    .dataframe tbody tr th {\n",
              "        vertical-align: top;\n",
              "    }\n",
              "\n",
              "    .dataframe thead th {\n",
              "        text-align: right;\n",
              "    }\n",
              "</style>\n",
              "<table border=\"1\" class=\"dataframe\">\n",
              "  <thead>\n",
              "    <tr style=\"text-align: right;\">\n",
              "      <th></th>\n",
              "      <th>a_min</th>\n",
              "      <th>b_uniq</th>\n",
              "    </tr>\n",
              "    <tr>\n",
              "      <th>D</th>\n",
              "      <th></th>\n",
              "      <th></th>\n",
              "    </tr>\n",
              "  </thead>\n",
              "  <tbody>\n",
              "    <tr>\n",
              "      <th>a</th>\n",
              "      <td>[1, 2]</td>\n",
              "      <td>[1, 2]</td>\n",
              "    </tr>\n",
              "    <tr>\n",
              "      <th>b</th>\n",
              "      <td>[3, 4]</td>\n",
              "      <td>[3, 4]</td>\n",
              "    </tr>\n",
              "    <tr>\n",
              "      <th>c</th>\n",
              "      <td>[4, 5]</td>\n",
              "      <td>[4, 5]</td>\n",
              "    </tr>\n",
              "    <tr>\n",
              "      <th>d</th>\n",
              "      <td>[6]</td>\n",
              "      <td>[6]</td>\n",
              "    </tr>\n",
              "    <tr>\n",
              "      <th>e</th>\n",
              "      <td>[7]</td>\n",
              "      <td>[7]</td>\n",
              "    </tr>\n",
              "  </tbody>\n",
              "</table>\n",
              "</div>"
            ],
            "text/plain": [
              "    a_min  b_uniq\n",
              "D                \n",
              "a  [1, 2]  [1, 2]\n",
              "b  [3, 4]  [3, 4]\n",
              "c  [4, 5]  [4, 5]\n",
              "d     [6]     [6]\n",
              "e     [7]     [7]"
            ]
          },
          "execution_count": 79,
          "metadata": {},
          "output_type": "execute_result"
        }
      ],
      "source": [
        "df.groupby('D').agg(\n",
        "    a_min = pd.NamedAgg(column='B', aggfunc='unique'),\n",
        "    b_uniq = pd.NamedAgg(column='B', aggfunc= lambda x : list(x.unique())) # x.unique list를 붙이면 되긴하는데...\n",
        "    )\n"
      ]
    },
    {
      "cell_type": "code",
      "execution_count": 80,
      "metadata": {},
      "outputs": [
        {
          "data": {
            "text/html": [
              "<div>\n",
              "<style scoped>\n",
              "    .dataframe tbody tr th:only-of-type {\n",
              "        vertical-align: middle;\n",
              "    }\n",
              "\n",
              "    .dataframe tbody tr th {\n",
              "        vertical-align: top;\n",
              "    }\n",
              "\n",
              "    .dataframe thead th {\n",
              "        text-align: right;\n",
              "    }\n",
              "</style>\n",
              "<table border=\"1\" class=\"dataframe\">\n",
              "  <thead>\n",
              "    <tr style=\"text-align: right;\">\n",
              "      <th></th>\n",
              "      <th>a_min</th>\n",
              "      <th>b_uniq</th>\n",
              "    </tr>\n",
              "    <tr>\n",
              "      <th>D</th>\n",
              "      <th></th>\n",
              "      <th></th>\n",
              "    </tr>\n",
              "  </thead>\n",
              "  <tbody>\n",
              "    <tr>\n",
              "      <th>a</th>\n",
              "      <td>[1, 2]</td>\n",
              "      <td>2</td>\n",
              "    </tr>\n",
              "    <tr>\n",
              "      <th>b</th>\n",
              "      <td>[3, 4]</td>\n",
              "      <td>2</td>\n",
              "    </tr>\n",
              "    <tr>\n",
              "      <th>c</th>\n",
              "      <td>[4, 5]</td>\n",
              "      <td>2</td>\n",
              "    </tr>\n",
              "    <tr>\n",
              "      <th>d</th>\n",
              "      <td>[6]</td>\n",
              "      <td>1</td>\n",
              "    </tr>\n",
              "    <tr>\n",
              "      <th>e</th>\n",
              "      <td>[7]</td>\n",
              "      <td>1</td>\n",
              "    </tr>\n",
              "  </tbody>\n",
              "</table>\n",
              "</div>"
            ],
            "text/plain": [
              "    a_min  b_uniq\n",
              "D                \n",
              "a  [1, 2]       2\n",
              "b  [3, 4]       2\n",
              "c  [4, 5]       2\n",
              "d     [6]       1\n",
              "e     [7]       1"
            ]
          },
          "execution_count": 80,
          "metadata": {},
          "output_type": "execute_result"
        }
      ],
      "source": [
        "df.groupby('D').agg(\n",
        "    a_min = pd.NamedAgg(column='B', aggfunc='unique'),\n",
        "    b_uniq = pd.NamedAgg(column='B', aggfunc= lambda x : len(x.unique()))\n",
        "    )"
      ]
    },
    {
      "cell_type": "markdown",
      "metadata": {},
      "source": [
        "### value_count\n",
        "2023-09-04\n",
        "\n",
        "`Series.value_counts(normalize=False, sort=True, ascending=False, bins=None, dropna=True)`\n"
      ]
    },
    {
      "cell_type": "code",
      "execution_count": 7,
      "metadata": {},
      "outputs": [],
      "source": [
        "import pandas as pd\n",
        "import numpy as np\n",
        "\n",
        "s = pd.Series([3, 1, 2, 3, 4, np.nan])"
      ]
    },
    {
      "cell_type": "code",
      "execution_count": 8,
      "metadata": {},
      "outputs": [
        {
          "data": {
            "text/plain": [
              "3.0    2\n",
              "1.0    1\n",
              "2.0    1\n",
              "4.0    1\n",
              "dtype: int64"
            ]
          },
          "execution_count": 8,
          "metadata": {},
          "output_type": "execute_result"
        }
      ],
      "source": [
        "s.value_counts()"
      ]
    },
    {
      "cell_type": "code",
      "execution_count": 11,
      "metadata": {},
      "outputs": [
        {
          "data": {
            "text/plain": [
              "3.0    0.4\n",
              "1.0    0.2\n",
              "2.0    0.2\n",
              "4.0    0.2\n",
              "dtype: float64"
            ]
          },
          "execution_count": 11,
          "metadata": {},
          "output_type": "execute_result"
        }
      ],
      "source": [
        "s.value_counts(normalize=True)"
      ]
    },
    {
      "cell_type": "code",
      "execution_count": 12,
      "metadata": {},
      "outputs": [
        {
          "data": {
            "text/plain": [
              "3.0    2\n",
              "1.0    1\n",
              "2.0    1\n",
              "4.0    1\n",
              "dtype: int64"
            ]
          },
          "execution_count": 12,
          "metadata": {},
          "output_type": "execute_result"
        }
      ],
      "source": [
        "s.value_counts(sort = True)"
      ]
    },
    {
      "cell_type": "code",
      "execution_count": 13,
      "metadata": {},
      "outputs": [
        {
          "data": {
            "text/plain": [
              "(0.996, 2.0]    2\n",
              "(2.0, 3.0]      2\n",
              "(3.0, 4.0]      1\n",
              "dtype: int64"
            ]
          },
          "execution_count": 13,
          "metadata": {},
          "output_type": "execute_result"
        }
      ],
      "source": [
        "s.value_counts(bins = 3)\n",
        "\n",
        "# 연속형 데이터일때 유용하게 확인가능함"
      ]
    },
    {
      "cell_type": "code",
      "execution_count": 14,
      "metadata": {},
      "outputs": [
        {
          "data": {
            "text/plain": [
              "3.0    2\n",
              "1.0    1\n",
              "2.0    1\n",
              "4.0    1\n",
              "NaN    1\n",
              "dtype: int64"
            ]
          },
          "execution_count": 14,
          "metadata": {},
          "output_type": "execute_result"
        }
      ],
      "source": [
        "s.value_counts(dropna=False)\n",
        "\n",
        "# Na값도 같이 집계해준다"
      ]
    },
    {
      "cell_type": "markdown",
      "metadata": {},
      "source": [
        "### True False 반전시키는 방법\n",
        "\n",
        "* list\n",
        "\n",
        "* np.array\n",
        "\n",
        "* pd.series"
      ]
    },
    {
      "cell_type": "code",
      "execution_count": 10,
      "metadata": {},
      "outputs": [
        {
          "data": {
            "text/plain": [
              "[False, True, True, False]"
            ]
          },
          "execution_count": 10,
          "metadata": {},
          "output_type": "execute_result"
        }
      ],
      "source": [
        "# list case\n",
        "\n",
        "a = [True, False, False, True]\n",
        "[not x for x in a]\n",
        "\n",
        "# -> 리스트 켐프리헨션 사용, not a는 안됨\n"
      ]
    },
    {
      "cell_type": "code",
      "execution_count": 14,
      "metadata": {},
      "outputs": [
        {
          "name": "stdout",
          "output_type": "stream",
          "text": [
            "[False  True  True False]\n",
            "[ True False False  True]\n"
          ]
        }
      ],
      "source": [
        "# np.array case\n",
        "import numpy as np\n",
        "\n",
        "b = np.array(a)\n",
        "print(np.logical_not(b))\n",
        "print(b)\n",
        "\n",
        "# -> 새로운 배열에 할당해줘야된다"
      ]
    },
    {
      "cell_type": "code",
      "execution_count": 15,
      "metadata": {},
      "outputs": [
        {
          "data": {
            "text/plain": [
              "0    False\n",
              "1     True\n",
              "2     True\n",
              "3    False\n",
              "dtype: bool"
            ]
          },
          "execution_count": 15,
          "metadata": {},
          "output_type": "execute_result"
        }
      ],
      "source": [
        "# pd.series case\n",
        "\n",
        "import pandas as pd\n",
        "\n",
        "c = pd.Series(a)\n",
        "~c"
      ]
    },
    {
      "cell_type": "code",
      "execution_count": 13,
      "metadata": {},
      "outputs": [
        {
          "data": {
            "text/plain": [
              "array([ True, False, False,  True])"
            ]
          },
          "execution_count": 13,
          "metadata": {},
          "output_type": "execute_result"
        }
      ],
      "source": [
        "b"
      ]
    },
    {
      "cell_type": "markdown",
      "metadata": {},
      "source": [
        "## 이중 리스트 제거 방법\n",
        "2023-10-4"
      ]
    },
    {
      "cell_type": "code",
      "execution_count": 1,
      "metadata": {},
      "outputs": [],
      "source": [
        "list_of_lists = [[1,2,3], [4,5,6]]"
      ]
    },
    {
      "cell_type": "code",
      "execution_count": 7,
      "metadata": {},
      "outputs": [
        {
          "data": {
            "text/plain": [
              "[1, 2, 3, 4, 5, 6]"
            ]
          },
          "execution_count": 7,
          "metadata": {},
          "output_type": "execute_result"
        }
      ],
      "source": [
        "# itertool.chains\n",
        "from itertools import chain\n",
        "\n",
        "list(chain(*list_of_lists))"
      ]
    },
    {
      "cell_type": "code",
      "execution_count": 8,
      "metadata": {},
      "outputs": [
        {
          "data": {
            "text/plain": [
              "[1, 2, 3, 4, 5, 6]"
            ]
          },
          "execution_count": 8,
          "metadata": {},
          "output_type": "execute_result"
        }
      ],
      "source": [
        "# 리스트 컴프리헨션 이용\n",
        "\n",
        "[item for sublist in list_of_lists for item in sublist]"
      ]
    },
    {
      "cell_type": "markdown",
      "metadata": {},
      "source": [
        "## 데이터프레임 피봇팅"
      ]
    },
    {
      "cell_type": "code",
      "execution_count": 9,
      "metadata": {},
      "outputs": [
        {
          "name": "stdout",
          "output_type": "stream",
          "text": [
            "Category     A   B\n",
            "Date              \n",
            "2023-01-01  10  20\n",
            "2023-01-02  15  25\n"
          ]
        }
      ],
      "source": [
        "import pandas as pd\n",
        "\n",
        "# 샘플 데이터프레임 생성\n",
        "data = {'Date': ['2023-01-01', '2023-01-01', '2023-01-02', '2023-01-02'],\n",
        "        'Category': ['A', 'B', 'A', 'B'],\n",
        "        'Value': [10, 20, 15, 25]}\n",
        "df = pd.DataFrame(data)\n",
        "\n",
        "# 피봇팅\n",
        "pivot_df = df.pivot(index='Date', columns='Category', values='Value')\n",
        "\n",
        "print(pivot_df)"
      ]
    },
    {
      "cell_type": "code",
      "execution_count": 10,
      "metadata": {},
      "outputs": [
        {
          "data": {
            "text/html": [
              "<div>\n",
              "<style scoped>\n",
              "    .dataframe tbody tr th:only-of-type {\n",
              "        vertical-align: middle;\n",
              "    }\n",
              "\n",
              "    .dataframe tbody tr th {\n",
              "        vertical-align: top;\n",
              "    }\n",
              "\n",
              "    .dataframe thead th {\n",
              "        text-align: right;\n",
              "    }\n",
              "</style>\n",
              "<table border=\"1\" class=\"dataframe\">\n",
              "  <thead>\n",
              "    <tr style=\"text-align: right;\">\n",
              "      <th>Category</th>\n",
              "      <th>A</th>\n",
              "      <th>B</th>\n",
              "    </tr>\n",
              "    <tr>\n",
              "      <th>Date</th>\n",
              "      <th></th>\n",
              "      <th></th>\n",
              "    </tr>\n",
              "  </thead>\n",
              "  <tbody>\n",
              "    <tr>\n",
              "      <th>2023-01-01</th>\n",
              "      <td>1</td>\n",
              "      <td>1</td>\n",
              "    </tr>\n",
              "    <tr>\n",
              "      <th>2023-01-02</th>\n",
              "      <td>1</td>\n",
              "      <td>1</td>\n",
              "    </tr>\n",
              "  </tbody>\n",
              "</table>\n",
              "</div>"
            ],
            "text/plain": [
              "Category    A  B\n",
              "Date            \n",
              "2023-01-01  1  1\n",
              "2023-01-02  1  1"
            ]
          },
          "execution_count": 10,
          "metadata": {},
          "output_type": "execute_result"
        }
      ],
      "source": [
        "# 위에서 value값을 안주고 카운팅을 할 수 도 있다\n",
        "# values에는 아무값이나 주면된다, index와 columns로 지정된 열 제외하고\n",
        "\n",
        "pivot_df = df.pivot_table(index='Date', columns='Category', values='Value', aggfunc = 'count')\n",
        "pivot_df"
      ]
    },
    {
      "cell_type": "code",
      "execution_count": 11,
      "metadata": {},
      "outputs": [
        {
          "data": {
            "text/html": [
              "<div>\n",
              "<style scoped>\n",
              "    .dataframe tbody tr th:only-of-type {\n",
              "        vertical-align: middle;\n",
              "    }\n",
              "\n",
              "    .dataframe tbody tr th {\n",
              "        vertical-align: top;\n",
              "    }\n",
              "\n",
              "    .dataframe thead th {\n",
              "        text-align: right;\n",
              "    }\n",
              "</style>\n",
              "<table border=\"1\" class=\"dataframe\">\n",
              "  <thead>\n",
              "    <tr style=\"text-align: right;\">\n",
              "      <th>Category</th>\n",
              "      <th>Date</th>\n",
              "      <th>A</th>\n",
              "      <th>B</th>\n",
              "    </tr>\n",
              "  </thead>\n",
              "  <tbody>\n",
              "    <tr>\n",
              "      <th>0</th>\n",
              "      <td>2023-01-01</td>\n",
              "      <td>1</td>\n",
              "      <td>1</td>\n",
              "    </tr>\n",
              "    <tr>\n",
              "      <th>1</th>\n",
              "      <td>2023-01-02</td>\n",
              "      <td>1</td>\n",
              "      <td>1</td>\n",
              "    </tr>\n",
              "  </tbody>\n",
              "</table>\n",
              "</div>"
            ],
            "text/plain": [
              "Category        Date  A  B\n",
              "0         2023-01-01  1  1\n",
              "1         2023-01-02  1  1"
            ]
          },
          "execution_count": 11,
          "metadata": {},
          "output_type": "execute_result"
        }
      ],
      "source": [
        "# index명 제거하는 방법\n",
        "\n",
        "pivot_df.reset_index() # category가 계속 남는다"
      ]
    },
    {
      "cell_type": "code",
      "execution_count": 12,
      "metadata": {},
      "outputs": [
        {
          "data": {
            "text/html": [
              "<div>\n",
              "<style scoped>\n",
              "    .dataframe tbody tr th:only-of-type {\n",
              "        vertical-align: middle;\n",
              "    }\n",
              "\n",
              "    .dataframe tbody tr th {\n",
              "        vertical-align: top;\n",
              "    }\n",
              "\n",
              "    .dataframe thead th {\n",
              "        text-align: right;\n",
              "    }\n",
              "</style>\n",
              "<table border=\"1\" class=\"dataframe\">\n",
              "  <thead>\n",
              "    <tr style=\"text-align: right;\">\n",
              "      <th></th>\n",
              "      <th>Date</th>\n",
              "      <th>A</th>\n",
              "      <th>B</th>\n",
              "    </tr>\n",
              "  </thead>\n",
              "  <tbody>\n",
              "    <tr>\n",
              "      <th>0</th>\n",
              "      <td>2023-01-01</td>\n",
              "      <td>1</td>\n",
              "      <td>1</td>\n",
              "    </tr>\n",
              "    <tr>\n",
              "      <th>1</th>\n",
              "      <td>2023-01-02</td>\n",
              "      <td>1</td>\n",
              "      <td>1</td>\n",
              "    </tr>\n",
              "  </tbody>\n",
              "</table>\n",
              "</div>"
            ],
            "text/plain": [
              "         Date  A  B\n",
              "0  2023-01-01  1  1\n",
              "1  2023-01-02  1  1"
            ]
          },
          "execution_count": 12,
          "metadata": {},
          "output_type": "execute_result"
        }
      ],
      "source": [
        "temp_df = pivot_df.reset_index()\n",
        "temp_df.columns.name = '' # column name을 초기화하면 인덱스명을 제거할 수 있다\n",
        "temp_df "
      ]
    },
    {
      "attachments": {},
      "cell_type": "markdown",
      "metadata": {
        "id": "h0NnaPyTQfng"
      },
      "source": [
        "# 정렬\n",
        "\n",
        "1. 데이터프레임 정렬  \n",
        "    * df.sort_values()\n",
        "2. 리스트 정렬\n",
        "    * list.sort()\n",
        "    * sorted(list)"
      ]
    },
    {
      "attachments": {},
      "cell_type": "markdown",
      "metadata": {
        "id": "uGj7vUy-RAOt"
      },
      "source": [
        "## 데이터 프레임 정렬\n",
        "\n",
        "|parameter|설명|값\n",
        "|:-:|-|-|\n",
        "|by|정렬할 기준 변수(필수)|default = None/column_name\n",
        "|axis|index기준 : 0, column 기준 : 1|default = 0|\n",
        "|ascending|오름차순, 내림차순 설정|default = True\n",
        "|inplace|내부 적용 여부|default = False\n",
        "|na_position|결측값 위치|default = 'last'/first"
      ]
    },
    {
      "cell_type": "code",
      "execution_count": null,
      "metadata": {
        "colab": {
          "base_uri": "https://localhost:8080/",
          "height": 143
        },
        "id": "Mv6Nd3G7QzLL",
        "outputId": "7df7fc11-9972-44a7-99a3-44e09861358c"
      },
      "outputs": [
        {
          "data": {
            "text/html": [
              "\n",
              "\n",
              "  <div id=\"df-a33fa131-c0e9-4a8f-919c-3f64d9a344e9\">\n",
              "    <div class=\"colab-df-container\">\n",
              "      <div>\n",
              "<style scoped>\n",
              "    .dataframe tbody tr th:only-of-type {\n",
              "        vertical-align: middle;\n",
              "    }\n",
              "\n",
              "    .dataframe tbody tr th {\n",
              "        vertical-align: top;\n",
              "    }\n",
              "\n",
              "    .dataframe thead th {\n",
              "        text-align: right;\n",
              "    }\n",
              "</style>\n",
              "<table border=\"1\" class=\"dataframe\">\n",
              "  <thead>\n",
              "    <tr style=\"text-align: right;\">\n",
              "      <th></th>\n",
              "      <th>sequence</th>\n",
              "      <th>name</th>\n",
              "      <th>age</th>\n",
              "      <th>home</th>\n",
              "    </tr>\n",
              "  </thead>\n",
              "  <tbody>\n",
              "    <tr>\n",
              "      <th>0</th>\n",
              "      <td>1</td>\n",
              "      <td>park</td>\n",
              "      <td>30</td>\n",
              "      <td>seoul</td>\n",
              "    </tr>\n",
              "    <tr>\n",
              "      <th>1</th>\n",
              "      <td>3</td>\n",
              "      <td>lee</td>\n",
              "      <td>20</td>\n",
              "      <td>NaN</td>\n",
              "    </tr>\n",
              "    <tr>\n",
              "      <th>2</th>\n",
              "      <td>2</td>\n",
              "      <td>choi</td>\n",
              "      <td>40</td>\n",
              "      <td>NaN</td>\n",
              "    </tr>\n",
              "  </tbody>\n",
              "</table>\n",
              "</div>\n",
              "      <button class=\"colab-df-convert\" onclick=\"convertToInteractive('df-a33fa131-c0e9-4a8f-919c-3f64d9a344e9')\"\n",
              "              title=\"Convert this dataframe to an interactive table.\"\n",
              "              style=\"display:none;\">\n",
              "\n",
              "  <svg xmlns=\"http://www.w3.org/2000/svg\" height=\"24px\"viewBox=\"0 0 24 24\"\n",
              "       width=\"24px\">\n",
              "    <path d=\"M0 0h24v24H0V0z\" fill=\"none\"/>\n",
              "    <path d=\"M18.56 5.44l.94 2.06.94-2.06 2.06-.94-2.06-.94-.94-2.06-.94 2.06-2.06.94zm-11 1L8.5 8.5l.94-2.06 2.06-.94-2.06-.94L8.5 2.5l-.94 2.06-2.06.94zm10 10l.94 2.06.94-2.06 2.06-.94-2.06-.94-.94-2.06-.94 2.06-2.06.94z\"/><path d=\"M17.41 7.96l-1.37-1.37c-.4-.4-.92-.59-1.43-.59-.52 0-1.04.2-1.43.59L10.3 9.45l-7.72 7.72c-.78.78-.78 2.05 0 2.83L4 21.41c.39.39.9.59 1.41.59.51 0 1.02-.2 1.41-.59l7.78-7.78 2.81-2.81c.8-.78.8-2.07 0-2.86zM5.41 20L4 18.59l7.72-7.72 1.47 1.35L5.41 20z\"/>\n",
              "  </svg>\n",
              "      </button>\n",
              "\n",
              "\n",
              "\n",
              "    <div id=\"df-3db66802-f1e2-4ea1-bf6f-0298477cc027\">\n",
              "      <button class=\"colab-df-quickchart\" onclick=\"quickchart('df-3db66802-f1e2-4ea1-bf6f-0298477cc027')\"\n",
              "              title=\"Suggest charts.\"\n",
              "              style=\"display:none;\">\n",
              "\n",
              "<svg xmlns=\"http://www.w3.org/2000/svg\" height=\"24px\"viewBox=\"0 0 24 24\"\n",
              "     width=\"24px\">\n",
              "    <g>\n",
              "        <path d=\"M19 3H5c-1.1 0-2 .9-2 2v14c0 1.1.9 2 2 2h14c1.1 0 2-.9 2-2V5c0-1.1-.9-2-2-2zM9 17H7v-7h2v7zm4 0h-2V7h2v10zm4 0h-2v-4h2v4z\"/>\n",
              "    </g>\n",
              "</svg>\n",
              "      </button>\n",
              "    </div>\n",
              "\n",
              "<style>\n",
              "  .colab-df-quickchart {\n",
              "    background-color: #E8F0FE;\n",
              "    border: none;\n",
              "    border-radius: 50%;\n",
              "    cursor: pointer;\n",
              "    display: none;\n",
              "    fill: #1967D2;\n",
              "    height: 32px;\n",
              "    padding: 0 0 0 0;\n",
              "    width: 32px;\n",
              "  }\n",
              "\n",
              "  .colab-df-quickchart:hover {\n",
              "    background-color: #E2EBFA;\n",
              "    box-shadow: 0px 1px 2px rgba(60, 64, 67, 0.3), 0px 1px 3px 1px rgba(60, 64, 67, 0.15);\n",
              "    fill: #174EA6;\n",
              "  }\n",
              "\n",
              "  [theme=dark] .colab-df-quickchart {\n",
              "    background-color: #3B4455;\n",
              "    fill: #D2E3FC;\n",
              "  }\n",
              "\n",
              "  [theme=dark] .colab-df-quickchart:hover {\n",
              "    background-color: #434B5C;\n",
              "    box-shadow: 0px 1px 3px 1px rgba(0, 0, 0, 0.15);\n",
              "    filter: drop-shadow(0px 1px 2px rgba(0, 0, 0, 0.3));\n",
              "    fill: #FFFFFF;\n",
              "  }\n",
              "</style>\n",
              "\n",
              "    <script>\n",
              "      async function quickchart(key) {\n",
              "        const containerElement = document.querySelector('#' + key);\n",
              "        const charts = await google.colab.kernel.invokeFunction(\n",
              "            'suggestCharts', [key], {});\n",
              "      }\n",
              "    </script>\n",
              "\n",
              "      <script>\n",
              "\n",
              "function displayQuickchartButton(domScope) {\n",
              "  let quickchartButtonEl =\n",
              "    domScope.querySelector('#df-3db66802-f1e2-4ea1-bf6f-0298477cc027 button.colab-df-quickchart');\n",
              "  quickchartButtonEl.style.display =\n",
              "    google.colab.kernel.accessAllowed ? 'block' : 'none';\n",
              "}\n",
              "\n",
              "        displayQuickchartButton(document);\n",
              "      </script>\n",
              "      <style>\n",
              "    .colab-df-container {\n",
              "      display:flex;\n",
              "      flex-wrap:wrap;\n",
              "      gap: 12px;\n",
              "    }\n",
              "\n",
              "    .colab-df-convert {\n",
              "      background-color: #E8F0FE;\n",
              "      border: none;\n",
              "      border-radius: 50%;\n",
              "      cursor: pointer;\n",
              "      display: none;\n",
              "      fill: #1967D2;\n",
              "      height: 32px;\n",
              "      padding: 0 0 0 0;\n",
              "      width: 32px;\n",
              "    }\n",
              "\n",
              "    .colab-df-convert:hover {\n",
              "      background-color: #E2EBFA;\n",
              "      box-shadow: 0px 1px 2px rgba(60, 64, 67, 0.3), 0px 1px 3px 1px rgba(60, 64, 67, 0.15);\n",
              "      fill: #174EA6;\n",
              "    }\n",
              "\n",
              "    [theme=dark] .colab-df-convert {\n",
              "      background-color: #3B4455;\n",
              "      fill: #D2E3FC;\n",
              "    }\n",
              "\n",
              "    [theme=dark] .colab-df-convert:hover {\n",
              "      background-color: #434B5C;\n",
              "      box-shadow: 0px 1px 3px 1px rgba(0, 0, 0, 0.15);\n",
              "      filter: drop-shadow(0px 1px 2px rgba(0, 0, 0, 0.3));\n",
              "      fill: #FFFFFF;\n",
              "    }\n",
              "  </style>\n",
              "\n",
              "      <script>\n",
              "        const buttonEl =\n",
              "          document.querySelector('#df-a33fa131-c0e9-4a8f-919c-3f64d9a344e9 button.colab-df-convert');\n",
              "        buttonEl.style.display =\n",
              "          google.colab.kernel.accessAllowed ? 'block' : 'none';\n",
              "\n",
              "        async function convertToInteractive(key) {\n",
              "          const element = document.querySelector('#df-a33fa131-c0e9-4a8f-919c-3f64d9a344e9');\n",
              "          const dataTable =\n",
              "            await google.colab.kernel.invokeFunction('convertToInteractive',\n",
              "                                                     [key], {});\n",
              "          if (!dataTable) return;\n",
              "\n",
              "          const docLinkHtml = 'Like what you see? Visit the ' +\n",
              "            '<a target=\"_blank\" href=https://colab.research.google.com/notebooks/data_table.ipynb>data table notebook</a>'\n",
              "            + ' to learn more about interactive tables.';\n",
              "          element.innerHTML = '';\n",
              "          dataTable['output_type'] = 'display_data';\n",
              "          await google.colab.output.renderOutput(dataTable, element);\n",
              "          const docLink = document.createElement('div');\n",
              "          docLink.innerHTML = docLinkHtml;\n",
              "          element.appendChild(docLink);\n",
              "        }\n",
              "      </script>\n",
              "    </div>\n",
              "  </div>\n"
            ],
            "text/plain": [
              "   sequence  name  age   home\n",
              "0         1  park   30  seoul\n",
              "1         3   lee   20    NaN\n",
              "2         2  choi   40    NaN"
            ]
          },
          "execution_count": 3,
          "metadata": {},
          "output_type": "execute_result"
        }
      ],
      "source": [
        "import numpy as np\n",
        "import pandas as pd\n",
        "\n",
        "df = pd.DataFrame({'sequence': [1, 3, 2],\n",
        "                   'name': ['park', 'lee', 'choi'],\n",
        "                   'age': [30, 20, 40],\n",
        "                   'home' : ['seoul', np.nan, np.nan]})\n",
        "df"
      ]
    },
    {
      "cell_type": "code",
      "execution_count": null,
      "metadata": {
        "colab": {
          "base_uri": "https://localhost:8080/",
          "height": 143
        },
        "id": "QGJ3vd0WQ-Kd",
        "outputId": "d348e3ce-f40f-4a90-aba2-c2712df69a92"
      },
      "outputs": [
        {
          "data": {
            "text/html": [
              "\n",
              "\n",
              "  <div id=\"df-6f470bdf-1019-42da-b39f-a301a2c66c7f\">\n",
              "    <div class=\"colab-df-container\">\n",
              "      <div>\n",
              "<style scoped>\n",
              "    .dataframe tbody tr th:only-of-type {\n",
              "        vertical-align: middle;\n",
              "    }\n",
              "\n",
              "    .dataframe tbody tr th {\n",
              "        vertical-align: top;\n",
              "    }\n",
              "\n",
              "    .dataframe thead th {\n",
              "        text-align: right;\n",
              "    }\n",
              "</style>\n",
              "<table border=\"1\" class=\"dataframe\">\n",
              "  <thead>\n",
              "    <tr style=\"text-align: right;\">\n",
              "      <th></th>\n",
              "      <th>sequence</th>\n",
              "      <th>name</th>\n",
              "      <th>age</th>\n",
              "      <th>home</th>\n",
              "    </tr>\n",
              "  </thead>\n",
              "  <tbody>\n",
              "    <tr>\n",
              "      <th>0</th>\n",
              "      <td>1</td>\n",
              "      <td>park</td>\n",
              "      <td>30</td>\n",
              "      <td>seoul</td>\n",
              "    </tr>\n",
              "    <tr>\n",
              "      <th>2</th>\n",
              "      <td>2</td>\n",
              "      <td>choi</td>\n",
              "      <td>40</td>\n",
              "      <td>NaN</td>\n",
              "    </tr>\n",
              "    <tr>\n",
              "      <th>1</th>\n",
              "      <td>3</td>\n",
              "      <td>lee</td>\n",
              "      <td>20</td>\n",
              "      <td>NaN</td>\n",
              "    </tr>\n",
              "  </tbody>\n",
              "</table>\n",
              "</div>\n",
              "      <button class=\"colab-df-convert\" onclick=\"convertToInteractive('df-6f470bdf-1019-42da-b39f-a301a2c66c7f')\"\n",
              "              title=\"Convert this dataframe to an interactive table.\"\n",
              "              style=\"display:none;\">\n",
              "\n",
              "  <svg xmlns=\"http://www.w3.org/2000/svg\" height=\"24px\"viewBox=\"0 0 24 24\"\n",
              "       width=\"24px\">\n",
              "    <path d=\"M0 0h24v24H0V0z\" fill=\"none\"/>\n",
              "    <path d=\"M18.56 5.44l.94 2.06.94-2.06 2.06-.94-2.06-.94-.94-2.06-.94 2.06-2.06.94zm-11 1L8.5 8.5l.94-2.06 2.06-.94-2.06-.94L8.5 2.5l-.94 2.06-2.06.94zm10 10l.94 2.06.94-2.06 2.06-.94-2.06-.94-.94-2.06-.94 2.06-2.06.94z\"/><path d=\"M17.41 7.96l-1.37-1.37c-.4-.4-.92-.59-1.43-.59-.52 0-1.04.2-1.43.59L10.3 9.45l-7.72 7.72c-.78.78-.78 2.05 0 2.83L4 21.41c.39.39.9.59 1.41.59.51 0 1.02-.2 1.41-.59l7.78-7.78 2.81-2.81c.8-.78.8-2.07 0-2.86zM5.41 20L4 18.59l7.72-7.72 1.47 1.35L5.41 20z\"/>\n",
              "  </svg>\n",
              "      </button>\n",
              "\n",
              "\n",
              "\n",
              "    <div id=\"df-62b607bc-824f-47bb-ae27-359b50afd75d\">\n",
              "      <button class=\"colab-df-quickchart\" onclick=\"quickchart('df-62b607bc-824f-47bb-ae27-359b50afd75d')\"\n",
              "              title=\"Suggest charts.\"\n",
              "              style=\"display:none;\">\n",
              "\n",
              "<svg xmlns=\"http://www.w3.org/2000/svg\" height=\"24px\"viewBox=\"0 0 24 24\"\n",
              "     width=\"24px\">\n",
              "    <g>\n",
              "        <path d=\"M19 3H5c-1.1 0-2 .9-2 2v14c0 1.1.9 2 2 2h14c1.1 0 2-.9 2-2V5c0-1.1-.9-2-2-2zM9 17H7v-7h2v7zm4 0h-2V7h2v10zm4 0h-2v-4h2v4z\"/>\n",
              "    </g>\n",
              "</svg>\n",
              "      </button>\n",
              "    </div>\n",
              "\n",
              "<style>\n",
              "  .colab-df-quickchart {\n",
              "    background-color: #E8F0FE;\n",
              "    border: none;\n",
              "    border-radius: 50%;\n",
              "    cursor: pointer;\n",
              "    display: none;\n",
              "    fill: #1967D2;\n",
              "    height: 32px;\n",
              "    padding: 0 0 0 0;\n",
              "    width: 32px;\n",
              "  }\n",
              "\n",
              "  .colab-df-quickchart:hover {\n",
              "    background-color: #E2EBFA;\n",
              "    box-shadow: 0px 1px 2px rgba(60, 64, 67, 0.3), 0px 1px 3px 1px rgba(60, 64, 67, 0.15);\n",
              "    fill: #174EA6;\n",
              "  }\n",
              "\n",
              "  [theme=dark] .colab-df-quickchart {\n",
              "    background-color: #3B4455;\n",
              "    fill: #D2E3FC;\n",
              "  }\n",
              "\n",
              "  [theme=dark] .colab-df-quickchart:hover {\n",
              "    background-color: #434B5C;\n",
              "    box-shadow: 0px 1px 3px 1px rgba(0, 0, 0, 0.15);\n",
              "    filter: drop-shadow(0px 1px 2px rgba(0, 0, 0, 0.3));\n",
              "    fill: #FFFFFF;\n",
              "  }\n",
              "</style>\n",
              "\n",
              "    <script>\n",
              "      async function quickchart(key) {\n",
              "        const containerElement = document.querySelector('#' + key);\n",
              "        const charts = await google.colab.kernel.invokeFunction(\n",
              "            'suggestCharts', [key], {});\n",
              "      }\n",
              "    </script>\n",
              "\n",
              "      <script>\n",
              "\n",
              "function displayQuickchartButton(domScope) {\n",
              "  let quickchartButtonEl =\n",
              "    domScope.querySelector('#df-62b607bc-824f-47bb-ae27-359b50afd75d button.colab-df-quickchart');\n",
              "  quickchartButtonEl.style.display =\n",
              "    google.colab.kernel.accessAllowed ? 'block' : 'none';\n",
              "}\n",
              "\n",
              "        displayQuickchartButton(document);\n",
              "      </script>\n",
              "      <style>\n",
              "    .colab-df-container {\n",
              "      display:flex;\n",
              "      flex-wrap:wrap;\n",
              "      gap: 12px;\n",
              "    }\n",
              "\n",
              "    .colab-df-convert {\n",
              "      background-color: #E8F0FE;\n",
              "      border: none;\n",
              "      border-radius: 50%;\n",
              "      cursor: pointer;\n",
              "      display: none;\n",
              "      fill: #1967D2;\n",
              "      height: 32px;\n",
              "      padding: 0 0 0 0;\n",
              "      width: 32px;\n",
              "    }\n",
              "\n",
              "    .colab-df-convert:hover {\n",
              "      background-color: #E2EBFA;\n",
              "      box-shadow: 0px 1px 2px rgba(60, 64, 67, 0.3), 0px 1px 3px 1px rgba(60, 64, 67, 0.15);\n",
              "      fill: #174EA6;\n",
              "    }\n",
              "\n",
              "    [theme=dark] .colab-df-convert {\n",
              "      background-color: #3B4455;\n",
              "      fill: #D2E3FC;\n",
              "    }\n",
              "\n",
              "    [theme=dark] .colab-df-convert:hover {\n",
              "      background-color: #434B5C;\n",
              "      box-shadow: 0px 1px 3px 1px rgba(0, 0, 0, 0.15);\n",
              "      filter: drop-shadow(0px 1px 2px rgba(0, 0, 0, 0.3));\n",
              "      fill: #FFFFFF;\n",
              "    }\n",
              "  </style>\n",
              "\n",
              "      <script>\n",
              "        const buttonEl =\n",
              "          document.querySelector('#df-6f470bdf-1019-42da-b39f-a301a2c66c7f button.colab-df-convert');\n",
              "        buttonEl.style.display =\n",
              "          google.colab.kernel.accessAllowed ? 'block' : 'none';\n",
              "\n",
              "        async function convertToInteractive(key) {\n",
              "          const element = document.querySelector('#df-6f470bdf-1019-42da-b39f-a301a2c66c7f');\n",
              "          const dataTable =\n",
              "            await google.colab.kernel.invokeFunction('convertToInteractive',\n",
              "                                                     [key], {});\n",
              "          if (!dataTable) return;\n",
              "\n",
              "          const docLinkHtml = 'Like what you see? Visit the ' +\n",
              "            '<a target=\"_blank\" href=https://colab.research.google.com/notebooks/data_table.ipynb>data table notebook</a>'\n",
              "            + ' to learn more about interactive tables.';\n",
              "          element.innerHTML = '';\n",
              "          dataTable['output_type'] = 'display_data';\n",
              "          await google.colab.output.renderOutput(dataTable, element);\n",
              "          const docLink = document.createElement('div');\n",
              "          docLink.innerHTML = docLinkHtml;\n",
              "          element.appendChild(docLink);\n",
              "        }\n",
              "      </script>\n",
              "    </div>\n",
              "  </div>\n"
            ],
            "text/plain": [
              "   sequence  name  age   home\n",
              "0         1  park   30  seoul\n",
              "2         2  choi   40    NaN\n",
              "1         3   lee   20    NaN"
            ]
          },
          "execution_count": 5,
          "metadata": {},
          "output_type": "execute_result"
        }
      ],
      "source": [
        "df.sort_values(by = 'sequence')"
      ]
    },
    {
      "cell_type": "code",
      "execution_count": null,
      "metadata": {
        "colab": {
          "base_uri": "https://localhost:8080/",
          "height": 143
        },
        "id": "VKF_sgfESoMX",
        "outputId": "0c055468-5df0-49a7-a878-ded64ba54fb5"
      },
      "outputs": [
        {
          "data": {
            "text/html": [
              "\n",
              "\n",
              "  <div id=\"df-757384b9-2bcc-4777-9e2c-673a288ead8b\">\n",
              "    <div class=\"colab-df-container\">\n",
              "      <div>\n",
              "<style scoped>\n",
              "    .dataframe tbody tr th:only-of-type {\n",
              "        vertical-align: middle;\n",
              "    }\n",
              "\n",
              "    .dataframe tbody tr th {\n",
              "        vertical-align: top;\n",
              "    }\n",
              "\n",
              "    .dataframe thead th {\n",
              "        text-align: right;\n",
              "    }\n",
              "</style>\n",
              "<table border=\"1\" class=\"dataframe\">\n",
              "  <thead>\n",
              "    <tr style=\"text-align: right;\">\n",
              "      <th></th>\n",
              "      <th>sequence</th>\n",
              "      <th>name</th>\n",
              "      <th>age</th>\n",
              "      <th>home</th>\n",
              "    </tr>\n",
              "  </thead>\n",
              "  <tbody>\n",
              "    <tr>\n",
              "      <th>1</th>\n",
              "      <td>3</td>\n",
              "      <td>lee</td>\n",
              "      <td>20</td>\n",
              "      <td>NaN</td>\n",
              "    </tr>\n",
              "    <tr>\n",
              "      <th>2</th>\n",
              "      <td>2</td>\n",
              "      <td>choi</td>\n",
              "      <td>40</td>\n",
              "      <td>NaN</td>\n",
              "    </tr>\n",
              "    <tr>\n",
              "      <th>0</th>\n",
              "      <td>1</td>\n",
              "      <td>park</td>\n",
              "      <td>30</td>\n",
              "      <td>seoul</td>\n",
              "    </tr>\n",
              "  </tbody>\n",
              "</table>\n",
              "</div>\n",
              "      <button class=\"colab-df-convert\" onclick=\"convertToInteractive('df-757384b9-2bcc-4777-9e2c-673a288ead8b')\"\n",
              "              title=\"Convert this dataframe to an interactive table.\"\n",
              "              style=\"display:none;\">\n",
              "\n",
              "  <svg xmlns=\"http://www.w3.org/2000/svg\" height=\"24px\"viewBox=\"0 0 24 24\"\n",
              "       width=\"24px\">\n",
              "    <path d=\"M0 0h24v24H0V0z\" fill=\"none\"/>\n",
              "    <path d=\"M18.56 5.44l.94 2.06.94-2.06 2.06-.94-2.06-.94-.94-2.06-.94 2.06-2.06.94zm-11 1L8.5 8.5l.94-2.06 2.06-.94-2.06-.94L8.5 2.5l-.94 2.06-2.06.94zm10 10l.94 2.06.94-2.06 2.06-.94-2.06-.94-.94-2.06-.94 2.06-2.06.94z\"/><path d=\"M17.41 7.96l-1.37-1.37c-.4-.4-.92-.59-1.43-.59-.52 0-1.04.2-1.43.59L10.3 9.45l-7.72 7.72c-.78.78-.78 2.05 0 2.83L4 21.41c.39.39.9.59 1.41.59.51 0 1.02-.2 1.41-.59l7.78-7.78 2.81-2.81c.8-.78.8-2.07 0-2.86zM5.41 20L4 18.59l7.72-7.72 1.47 1.35L5.41 20z\"/>\n",
              "  </svg>\n",
              "      </button>\n",
              "\n",
              "\n",
              "\n",
              "    <div id=\"df-68dcfa02-d37b-46a0-a4e9-ed96ac267d51\">\n",
              "      <button class=\"colab-df-quickchart\" onclick=\"quickchart('df-68dcfa02-d37b-46a0-a4e9-ed96ac267d51')\"\n",
              "              title=\"Suggest charts.\"\n",
              "              style=\"display:none;\">\n",
              "\n",
              "<svg xmlns=\"http://www.w3.org/2000/svg\" height=\"24px\"viewBox=\"0 0 24 24\"\n",
              "     width=\"24px\">\n",
              "    <g>\n",
              "        <path d=\"M19 3H5c-1.1 0-2 .9-2 2v14c0 1.1.9 2 2 2h14c1.1 0 2-.9 2-2V5c0-1.1-.9-2-2-2zM9 17H7v-7h2v7zm4 0h-2V7h2v10zm4 0h-2v-4h2v4z\"/>\n",
              "    </g>\n",
              "</svg>\n",
              "      </button>\n",
              "    </div>\n",
              "\n",
              "<style>\n",
              "  .colab-df-quickchart {\n",
              "    background-color: #E8F0FE;\n",
              "    border: none;\n",
              "    border-radius: 50%;\n",
              "    cursor: pointer;\n",
              "    display: none;\n",
              "    fill: #1967D2;\n",
              "    height: 32px;\n",
              "    padding: 0 0 0 0;\n",
              "    width: 32px;\n",
              "  }\n",
              "\n",
              "  .colab-df-quickchart:hover {\n",
              "    background-color: #E2EBFA;\n",
              "    box-shadow: 0px 1px 2px rgba(60, 64, 67, 0.3), 0px 1px 3px 1px rgba(60, 64, 67, 0.15);\n",
              "    fill: #174EA6;\n",
              "  }\n",
              "\n",
              "  [theme=dark] .colab-df-quickchart {\n",
              "    background-color: #3B4455;\n",
              "    fill: #D2E3FC;\n",
              "  }\n",
              "\n",
              "  [theme=dark] .colab-df-quickchart:hover {\n",
              "    background-color: #434B5C;\n",
              "    box-shadow: 0px 1px 3px 1px rgba(0, 0, 0, 0.15);\n",
              "    filter: drop-shadow(0px 1px 2px rgba(0, 0, 0, 0.3));\n",
              "    fill: #FFFFFF;\n",
              "  }\n",
              "</style>\n",
              "\n",
              "    <script>\n",
              "      async function quickchart(key) {\n",
              "        const containerElement = document.querySelector('#' + key);\n",
              "        const charts = await google.colab.kernel.invokeFunction(\n",
              "            'suggestCharts', [key], {});\n",
              "      }\n",
              "    </script>\n",
              "\n",
              "      <script>\n",
              "\n",
              "function displayQuickchartButton(domScope) {\n",
              "  let quickchartButtonEl =\n",
              "    domScope.querySelector('#df-68dcfa02-d37b-46a0-a4e9-ed96ac267d51 button.colab-df-quickchart');\n",
              "  quickchartButtonEl.style.display =\n",
              "    google.colab.kernel.accessAllowed ? 'block' : 'none';\n",
              "}\n",
              "\n",
              "        displayQuickchartButton(document);\n",
              "      </script>\n",
              "      <style>\n",
              "    .colab-df-container {\n",
              "      display:flex;\n",
              "      flex-wrap:wrap;\n",
              "      gap: 12px;\n",
              "    }\n",
              "\n",
              "    .colab-df-convert {\n",
              "      background-color: #E8F0FE;\n",
              "      border: none;\n",
              "      border-radius: 50%;\n",
              "      cursor: pointer;\n",
              "      display: none;\n",
              "      fill: #1967D2;\n",
              "      height: 32px;\n",
              "      padding: 0 0 0 0;\n",
              "      width: 32px;\n",
              "    }\n",
              "\n",
              "    .colab-df-convert:hover {\n",
              "      background-color: #E2EBFA;\n",
              "      box-shadow: 0px 1px 2px rgba(60, 64, 67, 0.3), 0px 1px 3px 1px rgba(60, 64, 67, 0.15);\n",
              "      fill: #174EA6;\n",
              "    }\n",
              "\n",
              "    [theme=dark] .colab-df-convert {\n",
              "      background-color: #3B4455;\n",
              "      fill: #D2E3FC;\n",
              "    }\n",
              "\n",
              "    [theme=dark] .colab-df-convert:hover {\n",
              "      background-color: #434B5C;\n",
              "      box-shadow: 0px 1px 3px 1px rgba(0, 0, 0, 0.15);\n",
              "      filter: drop-shadow(0px 1px 2px rgba(0, 0, 0, 0.3));\n",
              "      fill: #FFFFFF;\n",
              "    }\n",
              "  </style>\n",
              "\n",
              "      <script>\n",
              "        const buttonEl =\n",
              "          document.querySelector('#df-757384b9-2bcc-4777-9e2c-673a288ead8b button.colab-df-convert');\n",
              "        buttonEl.style.display =\n",
              "          google.colab.kernel.accessAllowed ? 'block' : 'none';\n",
              "\n",
              "        async function convertToInteractive(key) {\n",
              "          const element = document.querySelector('#df-757384b9-2bcc-4777-9e2c-673a288ead8b');\n",
              "          const dataTable =\n",
              "            await google.colab.kernel.invokeFunction('convertToInteractive',\n",
              "                                                     [key], {});\n",
              "          if (!dataTable) return;\n",
              "\n",
              "          const docLinkHtml = 'Like what you see? Visit the ' +\n",
              "            '<a target=\"_blank\" href=https://colab.research.google.com/notebooks/data_table.ipynb>data table notebook</a>'\n",
              "            + ' to learn more about interactive tables.';\n",
              "          element.innerHTML = '';\n",
              "          dataTable['output_type'] = 'display_data';\n",
              "          await google.colab.output.renderOutput(dataTable, element);\n",
              "          const docLink = document.createElement('div');\n",
              "          docLink.innerHTML = docLinkHtml;\n",
              "          element.appendChild(docLink);\n",
              "        }\n",
              "      </script>\n",
              "    </div>\n",
              "  </div>\n"
            ],
            "text/plain": [
              "   sequence  name  age   home\n",
              "1         3   lee   20    NaN\n",
              "2         2  choi   40    NaN\n",
              "0         1  park   30  seoul"
            ]
          },
          "execution_count": 6,
          "metadata": {},
          "output_type": "execute_result"
        }
      ],
      "source": [
        "df.sort_values(by = 'home', na_position = 'first')"
      ]
    },
    {
      "attachments": {},
      "cell_type": "markdown",
      "metadata": {
        "id": "hHr9kHUrStfx"
      },
      "source": [
        "## 리스트 정렬\n",
        "\n",
        "`sorted(iterable, reverse = False)`"
      ]
    },
    {
      "cell_type": "code",
      "execution_count": 4,
      "metadata": {
        "id": "qeXM8F9JSuVE"
      },
      "outputs": [],
      "source": [
        "a1 = [1,2,3,4,5,1,3,3,2,2,4,4]"
      ]
    },
    {
      "cell_type": "code",
      "execution_count": null,
      "metadata": {
        "id": "N134DuldS1XO"
      },
      "outputs": [],
      "source": [
        "a1.sort()"
      ]
    },
    {
      "cell_type": "code",
      "execution_count": null,
      "metadata": {
        "colab": {
          "base_uri": "https://localhost:8080/"
        },
        "id": "X-ynthx-S2jg",
        "outputId": "1d0b2c87-cbf9-4566-ffe5-95256d1ea30f"
      },
      "outputs": [
        {
          "data": {
            "text/plain": [
              "[1, 1, 2, 2, 2, 3, 3, 3, 4, 4, 4, 5]"
            ]
          },
          "execution_count": 9,
          "metadata": {},
          "output_type": "execute_result"
        }
      ],
      "source": [
        "a1"
      ]
    },
    {
      "cell_type": "code",
      "execution_count": null,
      "metadata": {
        "id": "yzGfX8gtS3C2"
      },
      "outputs": [],
      "source": [
        "b1 = [1,2,2,2,5,9,1,2,3]"
      ]
    },
    {
      "cell_type": "code",
      "execution_count": null,
      "metadata": {
        "colab": {
          "base_uri": "https://localhost:8080/"
        },
        "id": "7H44OBxaS7ML",
        "outputId": "8a159996-33db-44a0-d04e-2bbedadbf988"
      },
      "outputs": [
        {
          "data": {
            "text/plain": [
              "[1, 1, 2, 2, 2, 2, 3, 5, 9]"
            ]
          },
          "execution_count": 11,
          "metadata": {},
          "output_type": "execute_result"
        }
      ],
      "source": [
        "sorted(b1)"
      ]
    },
    {
      "cell_type": "code",
      "execution_count": null,
      "metadata": {
        "colab": {
          "base_uri": "https://localhost:8080/"
        },
        "id": "tXyrRSimS9WZ",
        "outputId": "ecebd7e0-ca0c-4dab-d35c-9591fe57bf04"
      },
      "outputs": [
        {
          "data": {
            "text/plain": [
              "[1, 2, 2, 2, 5, 9, 1, 2, 3]"
            ]
          },
          "execution_count": 12,
          "metadata": {},
          "output_type": "execute_result"
        }
      ],
      "source": [
        "b1"
      ]
    },
    {
      "attachments": {},
      "cell_type": "markdown",
      "metadata": {
        "id": "G5LANT33bABY"
      },
      "source": [
        "# 함수 내부 구조 보기\n",
        "\n",
        "* inspect모듈"
      ]
    },
    {
      "cell_type": "code",
      "execution_count": null,
      "metadata": {
        "id": "zflnRq_cbDGT"
      },
      "outputs": [],
      "source": [
        "import inspect"
      ]
    },
    {
      "cell_type": "code",
      "execution_count": null,
      "metadata": {
        "id": "GsXJkM74bFSA"
      },
      "outputs": [],
      "source": [
        "import numpy as np"
      ]
    },
    {
      "cell_type": "code",
      "execution_count": null,
      "metadata": {
        "colab": {
          "base_uri": "https://localhost:8080/"
        },
        "id": "RdHF1aZGbHDf",
        "outputId": "8845e6d4-c14c-4b67-876b-3993a8768ebf"
      },
      "outputs": [
        {
          "name": "stdout",
          "output_type": "stream",
          "text": [
            "@array_function_dispatch(_mean_dispatcher)\n",
            "def mean(a, axis=None, dtype=None, out=None, keepdims=np._NoValue, *,\n",
            "         where=np._NoValue):\n",
            "    \"\"\"\n",
            "    Compute the arithmetic mean along the specified axis.\n",
            "\n",
            "    Returns the average of the array elements.  The average is taken over\n",
            "    the flattened array by default, otherwise over the specified axis.\n",
            "    `float64` intermediate and return values are used for integer inputs.\n",
            "\n",
            "    Parameters\n",
            "    ----------\n",
            "    a : array_like\n",
            "        Array containing numbers whose mean is desired. If `a` is not an\n",
            "        array, a conversion is attempted.\n",
            "    axis : None or int or tuple of ints, optional\n",
            "        Axis or axes along which the means are computed. The default is to\n",
            "        compute the mean of the flattened array.\n",
            "\n",
            "        .. versionadded:: 1.7.0\n",
            "\n",
            "        If this is a tuple of ints, a mean is performed over multiple axes,\n",
            "        instead of a single axis or all the axes as before.\n",
            "    dtype : data-type, optional\n",
            "        Type to use in computing the mean.  For integer inputs, the default\n",
            "        is `float64`; for floating point inputs, it is the same as the\n",
            "        input dtype.\n",
            "    out : ndarray, optional\n",
            "        Alternate output array in which to place the result.  The default\n",
            "        is ``None``; if provided, it must have the same shape as the\n",
            "        expected output, but the type will be cast if necessary.\n",
            "        See :ref:`ufuncs-output-type` for more details.\n",
            "\n",
            "    keepdims : bool, optional\n",
            "        If this is set to True, the axes which are reduced are left\n",
            "        in the result as dimensions with size one. With this option,\n",
            "        the result will broadcast correctly against the input array.\n",
            "\n",
            "        If the default value is passed, then `keepdims` will not be\n",
            "        passed through to the `mean` method of sub-classes of\n",
            "        `ndarray`, however any non-default value will be.  If the\n",
            "        sub-class' method does not implement `keepdims` any\n",
            "        exceptions will be raised.\n",
            "\n",
            "    where : array_like of bool, optional\n",
            "        Elements to include in the mean. See `~numpy.ufunc.reduce` for details.\n",
            "\n",
            "        .. versionadded:: 1.20.0\n",
            "\n",
            "    Returns\n",
            "    -------\n",
            "    m : ndarray, see dtype parameter above\n",
            "        If `out=None`, returns a new array containing the mean values,\n",
            "        otherwise a reference to the output array is returned.\n",
            "\n",
            "    See Also\n",
            "    --------\n",
            "    average : Weighted average\n",
            "    std, var, nanmean, nanstd, nanvar\n",
            "\n",
            "    Notes\n",
            "    -----\n",
            "    The arithmetic mean is the sum of the elements along the axis divided\n",
            "    by the number of elements.\n",
            "\n",
            "    Note that for floating-point input, the mean is computed using the\n",
            "    same precision the input has.  Depending on the input data, this can\n",
            "    cause the results to be inaccurate, especially for `float32` (see\n",
            "    example below).  Specifying a higher-precision accumulator using the\n",
            "    `dtype` keyword can alleviate this issue.\n",
            "\n",
            "    By default, `float16` results are computed using `float32` intermediates\n",
            "    for extra precision.\n",
            "\n",
            "    Examples\n",
            "    --------\n",
            "    >>> a = np.array([[1, 2], [3, 4]])\n",
            "    >>> np.mean(a)\n",
            "    2.5\n",
            "    >>> np.mean(a, axis=0)\n",
            "    array([2., 3.])\n",
            "    >>> np.mean(a, axis=1)\n",
            "    array([1.5, 3.5])\n",
            "\n",
            "    In single precision, `mean` can be inaccurate:\n",
            "\n",
            "    >>> a = np.zeros((2, 512*512), dtype=np.float32)\n",
            "    >>> a[0, :] = 1.0\n",
            "    >>> a[1, :] = 0.1\n",
            "    >>> np.mean(a)\n",
            "    0.54999924\n",
            "\n",
            "    Computing the mean in float64 is more accurate:\n",
            "\n",
            "    >>> np.mean(a, dtype=np.float64)\n",
            "    0.55000000074505806 # may vary\n",
            "\n",
            "    Specifying a where argument:\n",
            "    >>> a = np.array([[5, 9, 13], [14, 10, 12], [11, 15, 19]])\n",
            "    >>> np.mean(a)\n",
            "    12.0\n",
            "    >>> np.mean(a, where=[[True], [False], [False]])\n",
            "    9.0\n",
            "\n",
            "    \"\"\"\n",
            "    kwargs = {}\n",
            "    if keepdims is not np._NoValue:\n",
            "        kwargs['keepdims'] = keepdims\n",
            "    if where is not np._NoValue:\n",
            "        kwargs['where'] = where\n",
            "    if type(a) is not mu.ndarray:\n",
            "        try:\n",
            "            mean = a.mean\n",
            "        except AttributeError:\n",
            "            pass\n",
            "        else:\n",
            "            return mean(axis=axis, dtype=dtype, out=out, **kwargs)\n",
            "\n",
            "    return _methods._mean(a, axis=axis, dtype=dtype,\n",
            "                          out=out, **kwargs)\n",
            "\n"
          ]
        }
      ],
      "source": [
        "code = inspect.getsource(np.mean)\n",
        "print(code)"
      ]
    },
    {
      "cell_type": "markdown",
      "metadata": {},
      "source": [
        "# itertuples\n",
        "\n",
        "* itertuples 메서드는 데이터의 인덱서, 열-값 정보를 map 오브젝트의 튜플 형태로 반환하는 메서드입니다\n",
        "* name 인수를 통해 원하는 named tuple로 출력이 가능합니다\n",
        "---\n",
        "\n",
        "형태\n",
        "* df.itertuples(index = True, name = 'pandas')\n",
        "    * index를 출력할지 여부\n",
        "    * 출력하게 될 named tuple의 이름을 지정 / None으로 하면 일밭 튜플로 출력되며 기본값은 Pandas이다"
      ]
    },
    {
      "cell_type": "code",
      "execution_count": 1,
      "metadata": {},
      "outputs": [
        {
          "name": "stdout",
          "output_type": "stream",
          "text": [
            "      col1  col2\n",
            "row1     1     3\n",
            "row2     2     4\n"
          ]
        }
      ],
      "source": [
        "# 예시\n",
        "import pandas as pd\n",
        "\n",
        "data = {'col1' : [1,2],\n",
        "        'col2' : [3,4]}\n",
        "idx = ['row1', 'row2']\n",
        "df = pd.DataFrame(data = data, index = idx)\n",
        "print(df)"
      ]
    },
    {
      "cell_type": "code",
      "execution_count": 2,
      "metadata": {},
      "outputs": [
        {
          "data": {
            "text/plain": [
              "<map at 0x123879780>"
            ]
          },
          "execution_count": 2,
          "metadata": {},
          "output_type": "execute_result"
        }
      ],
      "source": [
        "df.itertuples() #map 형태"
      ]
    },
    {
      "cell_type": "code",
      "execution_count": 3,
      "metadata": {},
      "outputs": [
        {
          "name": "stdout",
          "output_type": "stream",
          "text": [
            "[Pandas(Index='row1', col1=1, col2=3), Pandas(Index='row2', col1=2, col2=4)]\n"
          ]
        }
      ],
      "source": [
        "print(list(df.itertuples()))"
      ]
    },
    {
      "cell_type": "code",
      "execution_count": 4,
      "metadata": {},
      "outputs": [
        {
          "name": "stdout",
          "output_type": "stream",
          "text": [
            "[Pandas(col1=1, col2=3), Pandas(col1=2, col2=4)]\n"
          ]
        }
      ],
      "source": [
        "print(list(df.itertuples(index = False)))"
      ]
    },
    {
      "cell_type": "code",
      "execution_count": 5,
      "metadata": {},
      "outputs": [
        {
          "name": "stdout",
          "output_type": "stream",
          "text": [
            "[('row1', 1, 3), ('row2', 2, 4)]\n"
          ]
        }
      ],
      "source": [
        "print(list(df.itertuples(name = None)))"
      ]
    },
    {
      "cell_type": "code",
      "execution_count": 6,
      "metadata": {},
      "outputs": [
        {
          "name": "stdout",
          "output_type": "stream",
          "text": [
            "Pandas(Index='row1', col1=1, col2=3)\n",
            "Pandas(Index='row2', col1=2, col2=4)\n"
          ]
        }
      ],
      "source": [
        "for i in df.itertuples():\n",
        "    print(i)"
      ]
    },
    {
      "cell_type": "code",
      "execution_count": 8,
      "metadata": {},
      "outputs": [
        {
          "data": {
            "text/plain": [
              "{1: 3, 2: 4}"
            ]
          },
          "execution_count": 8,
          "metadata": {},
          "output_type": "execute_result"
        }
      ],
      "source": [
        "# iter tuple을 이용\n",
        "\n",
        "ex_dict = {}\n",
        "\n",
        "for i in df.itertuples():\n",
        "    ex_dict[i.col1] = i.col2\n",
        "\n",
        "ex_dict"
      ]
    },
    {
      "cell_type": "markdown",
      "metadata": {},
      "source": [
        "# ipaddress 라이브러리\n",
        "2023-08-29\n",
        "\n",
        "* python에서 기본적으로 제공하는 표준 라이브러리"
      ]
    },
    {
      "cell_type": "code",
      "execution_count": 2,
      "metadata": {},
      "outputs": [],
      "source": [
        "import ipaddress"
      ]
    },
    {
      "cell_type": "markdown",
      "metadata": {},
      "source": [
        "## Ip_address 객체\n",
        "\n",
        "* ip string을 ip address 객체로 반환\n",
        "* 받은 ip가 정상적인지 확인하고 정상적인 ip일 경우 ip객체로 반환"
      ]
    },
    {
      "cell_type": "code",
      "execution_count": 3,
      "metadata": {},
      "outputs": [
        {
          "data": {
            "text/plain": [
              "IPv4Address('10.10.10.10')"
            ]
          },
          "execution_count": 3,
          "metadata": {},
          "output_type": "execute_result"
        }
      ],
      "source": [
        "ipaddress.ip_address('10.10.10.10')"
      ]
    },
    {
      "cell_type": "code",
      "execution_count": 37,
      "metadata": {},
      "outputs": [
        {
          "name": "stdout",
          "output_type": "stream",
          "text": [
            "error\n"
          ]
        }
      ],
      "source": [
        "try:\n",
        "    print(ipaddress.ip_address('1000.1000.10.10'))\n",
        "except:\n",
        "    print('error')\n"
      ]
    },
    {
      "cell_type": "markdown",
      "metadata": {},
      "source": [
        "### is_private, is_global\n",
        "\n",
        "* ip 주소의 사설/공인 여부를 판단하여 결과를 반환합니다"
      ]
    },
    {
      "cell_type": "code",
      "execution_count": 38,
      "metadata": {},
      "outputs": [
        {
          "data": {
            "text/plain": [
              "True"
            ]
          },
          "execution_count": 38,
          "metadata": {},
          "output_type": "execute_result"
        }
      ],
      "source": [
        "ipaddress.ip_address('10.10.10.10').is_private"
      ]
    },
    {
      "cell_type": "code",
      "execution_count": 39,
      "metadata": {},
      "outputs": [
        {
          "data": {
            "text/plain": [
              "False"
            ]
          },
          "execution_count": 39,
          "metadata": {},
          "output_type": "execute_result"
        }
      ],
      "source": [
        "ipaddress.ip_address('14.14.14.14').is_private"
      ]
    },
    {
      "cell_type": "code",
      "execution_count": 40,
      "metadata": {},
      "outputs": [
        {
          "data": {
            "text/plain": [
              "False"
            ]
          },
          "execution_count": 40,
          "metadata": {},
          "output_type": "execute_result"
        }
      ],
      "source": [
        "ipaddress.ip_address('10.10.10.10').is_global"
      ]
    },
    {
      "cell_type": "code",
      "execution_count": 41,
      "metadata": {},
      "outputs": [
        {
          "data": {
            "text/plain": [
              "True"
            ]
          },
          "execution_count": 41,
          "metadata": {},
          "output_type": "execute_result"
        }
      ],
      "source": [
        "ipaddress.ip_address('14.14.14.14').is_global"
      ]
    },
    {
      "cell_type": "markdown",
      "metadata": {},
      "source": [
        "## IP Network 객체\n",
        "\n",
        "* 서브넷이라고도 한다"
      ]
    },
    {
      "cell_type": "code",
      "execution_count": 4,
      "metadata": {},
      "outputs": [
        {
          "data": {
            "text/plain": [
              "IPv4Network('10.10.10.10/32')"
            ]
          },
          "execution_count": 4,
          "metadata": {},
          "output_type": "execute_result"
        }
      ],
      "source": [
        "ipaddress.ip_network('10.10.10.10')"
      ]
    },
    {
      "cell_type": "code",
      "execution_count": 44,
      "metadata": {},
      "outputs": [
        {
          "data": {
            "text/plain": [
              "IPv4Network('10.10.10.0/24')"
            ]
          },
          "execution_count": 44,
          "metadata": {},
          "output_type": "execute_result"
        }
      ],
      "source": [
        "ipaddress.ip_network('10.10.10.0/24')\n"
      ]
    },
    {
      "cell_type": "code",
      "execution_count": 46,
      "metadata": {},
      "outputs": [
        {
          "name": "stdout",
          "output_type": "stream",
          "text": [
            "error\n"
          ]
        }
      ],
      "source": [
        "try: \n",
        "    ipaddress.ip_network('10.10.10.10/24')\n",
        "except:\n",
        "    print('error')\n",
        "    \n",
        "# ip subnet을 표기할때는 0으로 해야함 10.10.10.0/24가 올바른 표기 \n",
        "# 이 형태는 C클래스 "
      ]
    },
    {
      "cell_type": "code",
      "execution_count": 50,
      "metadata": {},
      "outputs": [
        {
          "data": {
            "text/plain": [
              "IPv4Network('10.10.0.0/16')"
            ]
          },
          "execution_count": 50,
          "metadata": {},
          "output_type": "execute_result"
        }
      ],
      "source": [
        "ipaddress.ip_network('10.10.0.0/16')\n",
        "\n",
        "# B클래스"
      ]
    },
    {
      "cell_type": "code",
      "execution_count": 51,
      "metadata": {},
      "outputs": [
        {
          "data": {
            "text/plain": [
              "IPv4Network('10.0.0.0/8')"
            ]
          },
          "execution_count": 51,
          "metadata": {},
          "output_type": "execute_result"
        }
      ],
      "source": [
        "ipaddress.ip_network('10.0.0.0/8')\n",
        "\n",
        "# A클래스"
      ]
    },
    {
      "cell_type": "markdown",
      "metadata": {},
      "source": [
        "### num_addresses, hosts()\n",
        "\n",
        "* num_addresses : 네트워크의 사용 가능한 주소(호스트)의 수를 반환함\n",
        "* hosts() : 사용 가능한 주소(호스트)를 리스트 형태로 모두 반환"
      ]
    },
    {
      "cell_type": "code",
      "execution_count": 53,
      "metadata": {},
      "outputs": [
        {
          "data": {
            "text/plain": [
              "256"
            ]
          },
          "execution_count": 53,
          "metadata": {},
          "output_type": "execute_result"
        }
      ],
      "source": [
        "ipaddress.ip_network('10.10.10.0/24').num_addresses"
      ]
    },
    {
      "cell_type": "code",
      "execution_count": 56,
      "metadata": {},
      "outputs": [
        {
          "data": {
            "text/plain": [
              "32"
            ]
          },
          "execution_count": 56,
          "metadata": {},
          "output_type": "execute_result"
        }
      ],
      "source": [
        "ipaddress.ip_network('10.10.10.0/27').num_addresses\n",
        "\n",
        "# 8단위, 24, 16, 8 등이 아닌 숫자도 가능하다"
      ]
    },
    {
      "cell_type": "code",
      "execution_count": 58,
      "metadata": {},
      "outputs": [
        {
          "data": {
            "text/plain": [
              "4294967296"
            ]
          },
          "execution_count": 58,
          "metadata": {},
          "output_type": "execute_result"
        }
      ],
      "source": [
        "ipaddress.ip_network('0.0.0.0/0').num_addresses\n",
        "\n",
        "# 256^4"
      ]
    },
    {
      "cell_type": "code",
      "execution_count": 9,
      "metadata": {},
      "outputs": [
        {
          "data": {
            "text/plain": [
              "<generator object _BaseNetwork.hosts at 0x1108e3970>"
            ]
          },
          "execution_count": 9,
          "metadata": {},
          "output_type": "execute_result"
        }
      ],
      "source": [
        "list(ipaddress.ip_network('10.10.10.0/28').hosts())"
      ]
    },
    {
      "cell_type": "code",
      "execution_count": 8,
      "metadata": {},
      "outputs": [
        {
          "data": {
            "text/plain": [
              "IPv4Network('10.10.10.0/26')"
            ]
          },
          "execution_count": 8,
          "metadata": {},
          "output_type": "execute_result"
        }
      ],
      "source": [
        "list(ipaddress.ip_network('10.10.10.0/26'))\n",
        "\n",
        "#위와 동일한 결과. host를 왜 쓸까?"
      ]
    },
    {
      "cell_type": "code",
      "execution_count": 19,
      "metadata": {},
      "outputs": [
        {
          "name": "stdout",
          "output_type": "stream",
          "text": [
            "[IPv4Address('1.209.204.0'), IPv4Address('1.209.204.1'), IPv4Address('1.209.204.2'), IPv4Address('1.209.204.3'), IPv4Address('1.209.204.4'), IPv4Address('1.209.204.5'), IPv4Address('1.209.204.6'), IPv4Address('1.209.204.7'), IPv4Address('1.209.204.8'), IPv4Address('1.209.204.9'), IPv4Address('1.209.204.10'), IPv4Address('1.209.204.11'), IPv4Address('1.209.204.12'), IPv4Address('1.209.204.13'), IPv4Address('1.209.204.14'), IPv4Address('1.209.204.15'), IPv4Address('1.209.204.16'), IPv4Address('1.209.204.17'), IPv4Address('1.209.204.18'), IPv4Address('1.209.204.19'), IPv4Address('1.209.204.20'), IPv4Address('1.209.204.21'), IPv4Address('1.209.204.22'), IPv4Address('1.209.204.23'), IPv4Address('1.209.204.24'), IPv4Address('1.209.204.25'), IPv4Address('1.209.204.26'), IPv4Address('1.209.204.27'), IPv4Address('1.209.204.28'), IPv4Address('1.209.204.29'), IPv4Address('1.209.204.30'), IPv4Address('1.209.204.31'), IPv4Address('1.209.204.32'), IPv4Address('1.209.204.33'), IPv4Address('1.209.204.34'), IPv4Address('1.209.204.35'), IPv4Address('1.209.204.36'), IPv4Address('1.209.204.37'), IPv4Address('1.209.204.38'), IPv4Address('1.209.204.39'), IPv4Address('1.209.204.40'), IPv4Address('1.209.204.41'), IPv4Address('1.209.204.42'), IPv4Address('1.209.204.43'), IPv4Address('1.209.204.44'), IPv4Address('1.209.204.45'), IPv4Address('1.209.204.46'), IPv4Address('1.209.204.47'), IPv4Address('1.209.204.48'), IPv4Address('1.209.204.49'), IPv4Address('1.209.204.50'), IPv4Address('1.209.204.51'), IPv4Address('1.209.204.52'), IPv4Address('1.209.204.53'), IPv4Address('1.209.204.54'), IPv4Address('1.209.204.55'), IPv4Address('1.209.204.56'), IPv4Address('1.209.204.57'), IPv4Address('1.209.204.58'), IPv4Address('1.209.204.59'), IPv4Address('1.209.204.60'), IPv4Address('1.209.204.61'), IPv4Address('1.209.204.62'), IPv4Address('1.209.204.63'), IPv4Address('1.209.204.64'), IPv4Address('1.209.204.65'), IPv4Address('1.209.204.66'), IPv4Address('1.209.204.67'), IPv4Address('1.209.204.68'), IPv4Address('1.209.204.69'), IPv4Address('1.209.204.70'), IPv4Address('1.209.204.71'), IPv4Address('1.209.204.72'), IPv4Address('1.209.204.73'), IPv4Address('1.209.204.74'), IPv4Address('1.209.204.75'), IPv4Address('1.209.204.76'), IPv4Address('1.209.204.77'), IPv4Address('1.209.204.78'), IPv4Address('1.209.204.79'), IPv4Address('1.209.204.80'), IPv4Address('1.209.204.81'), IPv4Address('1.209.204.82'), IPv4Address('1.209.204.83'), IPv4Address('1.209.204.84'), IPv4Address('1.209.204.85'), IPv4Address('1.209.204.86'), IPv4Address('1.209.204.87'), IPv4Address('1.209.204.88'), IPv4Address('1.209.204.89'), IPv4Address('1.209.204.90'), IPv4Address('1.209.204.91'), IPv4Address('1.209.204.92'), IPv4Address('1.209.204.93'), IPv4Address('1.209.204.94'), IPv4Address('1.209.204.95'), IPv4Address('1.209.204.96'), IPv4Address('1.209.204.97'), IPv4Address('1.209.204.98'), IPv4Address('1.209.204.99'), IPv4Address('1.209.204.100'), IPv4Address('1.209.204.101'), IPv4Address('1.209.204.102'), IPv4Address('1.209.204.103'), IPv4Address('1.209.204.104'), IPv4Address('1.209.204.105'), IPv4Address('1.209.204.106'), IPv4Address('1.209.204.107'), IPv4Address('1.209.204.108'), IPv4Address('1.209.204.109'), IPv4Address('1.209.204.110'), IPv4Address('1.209.204.111'), IPv4Address('1.209.204.112'), IPv4Address('1.209.204.113'), IPv4Address('1.209.204.114'), IPv4Address('1.209.204.115'), IPv4Address('1.209.204.116'), IPv4Address('1.209.204.117'), IPv4Address('1.209.204.118'), IPv4Address('1.209.204.119'), IPv4Address('1.209.204.120'), IPv4Address('1.209.204.121'), IPv4Address('1.209.204.122'), IPv4Address('1.209.204.123'), IPv4Address('1.209.204.124'), IPv4Address('1.209.204.125'), IPv4Address('1.209.204.126'), IPv4Address('1.209.204.127'), IPv4Address('1.209.204.128'), IPv4Address('1.209.204.129'), IPv4Address('1.209.204.130'), IPv4Address('1.209.204.131'), IPv4Address('1.209.204.132'), IPv4Address('1.209.204.133'), IPv4Address('1.209.204.134'), IPv4Address('1.209.204.135'), IPv4Address('1.209.204.136'), IPv4Address('1.209.204.137'), IPv4Address('1.209.204.138'), IPv4Address('1.209.204.139'), IPv4Address('1.209.204.140'), IPv4Address('1.209.204.141'), IPv4Address('1.209.204.142'), IPv4Address('1.209.204.143'), IPv4Address('1.209.204.144'), IPv4Address('1.209.204.145'), IPv4Address('1.209.204.146'), IPv4Address('1.209.204.147'), IPv4Address('1.209.204.148'), IPv4Address('1.209.204.149'), IPv4Address('1.209.204.150'), IPv4Address('1.209.204.151'), IPv4Address('1.209.204.152'), IPv4Address('1.209.204.153'), IPv4Address('1.209.204.154'), IPv4Address('1.209.204.155'), IPv4Address('1.209.204.156'), IPv4Address('1.209.204.157'), IPv4Address('1.209.204.158'), IPv4Address('1.209.204.159'), IPv4Address('1.209.204.160'), IPv4Address('1.209.204.161'), IPv4Address('1.209.204.162'), IPv4Address('1.209.204.163'), IPv4Address('1.209.204.164'), IPv4Address('1.209.204.165'), IPv4Address('1.209.204.166'), IPv4Address('1.209.204.167'), IPv4Address('1.209.204.168'), IPv4Address('1.209.204.169'), IPv4Address('1.209.204.170'), IPv4Address('1.209.204.171'), IPv4Address('1.209.204.172'), IPv4Address('1.209.204.173'), IPv4Address('1.209.204.174'), IPv4Address('1.209.204.175'), IPv4Address('1.209.204.176'), IPv4Address('1.209.204.177'), IPv4Address('1.209.204.178'), IPv4Address('1.209.204.179'), IPv4Address('1.209.204.180'), IPv4Address('1.209.204.181'), IPv4Address('1.209.204.182'), IPv4Address('1.209.204.183'), IPv4Address('1.209.204.184'), IPv4Address('1.209.204.185'), IPv4Address('1.209.204.186'), IPv4Address('1.209.204.187'), IPv4Address('1.209.204.188'), IPv4Address('1.209.204.189'), IPv4Address('1.209.204.190'), IPv4Address('1.209.204.191'), IPv4Address('1.209.204.192'), IPv4Address('1.209.204.193'), IPv4Address('1.209.204.194'), IPv4Address('1.209.204.195'), IPv4Address('1.209.204.196'), IPv4Address('1.209.204.197'), IPv4Address('1.209.204.198'), IPv4Address('1.209.204.199'), IPv4Address('1.209.204.200'), IPv4Address('1.209.204.201'), IPv4Address('1.209.204.202'), IPv4Address('1.209.204.203'), IPv4Address('1.209.204.204'), IPv4Address('1.209.204.205'), IPv4Address('1.209.204.206'), IPv4Address('1.209.204.207'), IPv4Address('1.209.204.208'), IPv4Address('1.209.204.209'), IPv4Address('1.209.204.210'), IPv4Address('1.209.204.211'), IPv4Address('1.209.204.212'), IPv4Address('1.209.204.213'), IPv4Address('1.209.204.214'), IPv4Address('1.209.204.215'), IPv4Address('1.209.204.216'), IPv4Address('1.209.204.217'), IPv4Address('1.209.204.218'), IPv4Address('1.209.204.219'), IPv4Address('1.209.204.220'), IPv4Address('1.209.204.221'), IPv4Address('1.209.204.222'), IPv4Address('1.209.204.223'), IPv4Address('1.209.204.224'), IPv4Address('1.209.204.225'), IPv4Address('1.209.204.226'), IPv4Address('1.209.204.227'), IPv4Address('1.209.204.228'), IPv4Address('1.209.204.229'), IPv4Address('1.209.204.230'), IPv4Address('1.209.204.231'), IPv4Address('1.209.204.232'), IPv4Address('1.209.204.233'), IPv4Address('1.209.204.234'), IPv4Address('1.209.204.235'), IPv4Address('1.209.204.236'), IPv4Address('1.209.204.237'), IPv4Address('1.209.204.238'), IPv4Address('1.209.204.239'), IPv4Address('1.209.204.240'), IPv4Address('1.209.204.241'), IPv4Address('1.209.204.242'), IPv4Address('1.209.204.243'), IPv4Address('1.209.204.244'), IPv4Address('1.209.204.245'), IPv4Address('1.209.204.246'), IPv4Address('1.209.204.247'), IPv4Address('1.209.204.248'), IPv4Address('1.209.204.249'), IPv4Address('1.209.204.250'), IPv4Address('1.209.204.251'), IPv4Address('1.209.204.252'), IPv4Address('1.209.204.253'), IPv4Address('1.209.204.254'), IPv4Address('1.209.204.255'), IPv4Address('121.130.46.0'), IPv4Address('121.130.46.1'), IPv4Address('121.130.46.2'), IPv4Address('121.130.46.3'), IPv4Address('121.130.46.4'), IPv4Address('121.130.46.5'), IPv4Address('121.130.46.6'), IPv4Address('121.130.46.7'), IPv4Address('121.130.46.8'), IPv4Address('121.130.46.9'), IPv4Address('121.130.46.10'), IPv4Address('121.130.46.11'), IPv4Address('121.130.46.12'), IPv4Address('121.130.46.13'), IPv4Address('121.130.46.14'), IPv4Address('121.130.46.15'), IPv4Address('121.130.46.16'), IPv4Address('121.130.46.17'), IPv4Address('121.130.46.18'), IPv4Address('121.130.46.19'), IPv4Address('121.130.46.20'), IPv4Address('121.130.46.21'), IPv4Address('121.130.46.22'), IPv4Address('121.130.46.23'), IPv4Address('121.130.46.24'), IPv4Address('121.130.46.25'), IPv4Address('121.130.46.26'), IPv4Address('121.130.46.27'), IPv4Address('121.130.46.28'), IPv4Address('121.130.46.29'), IPv4Address('121.130.46.30'), IPv4Address('121.130.46.31'), IPv4Address('121.130.46.32'), IPv4Address('121.130.46.33'), IPv4Address('121.130.46.34'), IPv4Address('121.130.46.35'), IPv4Address('121.130.46.36'), IPv4Address('121.130.46.37'), IPv4Address('121.130.46.38'), IPv4Address('121.130.46.39'), IPv4Address('121.130.46.40'), IPv4Address('121.130.46.41'), IPv4Address('121.130.46.42'), IPv4Address('121.130.46.43'), IPv4Address('121.130.46.44'), IPv4Address('121.130.46.45'), IPv4Address('121.130.46.46'), IPv4Address('121.130.46.47'), IPv4Address('121.130.46.48'), IPv4Address('121.130.46.49'), IPv4Address('121.130.46.50'), IPv4Address('121.130.46.51'), IPv4Address('121.130.46.52'), IPv4Address('121.130.46.53'), IPv4Address('121.130.46.54'), IPv4Address('121.130.46.55'), IPv4Address('121.130.46.56'), IPv4Address('121.130.46.57'), IPv4Address('121.130.46.58'), IPv4Address('121.130.46.59'), IPv4Address('121.130.46.60'), IPv4Address('121.130.46.61'), IPv4Address('121.130.46.62'), IPv4Address('121.130.46.63'), IPv4Address('121.130.46.64'), IPv4Address('121.130.46.65'), IPv4Address('121.130.46.66'), IPv4Address('121.130.46.67'), IPv4Address('121.130.46.68'), IPv4Address('121.130.46.69'), IPv4Address('121.130.46.70'), IPv4Address('121.130.46.71'), IPv4Address('121.130.46.72'), IPv4Address('121.130.46.73'), IPv4Address('121.130.46.74'), IPv4Address('121.130.46.75'), IPv4Address('121.130.46.76'), IPv4Address('121.130.46.77'), IPv4Address('121.130.46.78'), IPv4Address('121.130.46.79'), IPv4Address('121.130.46.80'), IPv4Address('121.130.46.81'), IPv4Address('121.130.46.82'), IPv4Address('121.130.46.83'), IPv4Address('121.130.46.84'), IPv4Address('121.130.46.85'), IPv4Address('121.130.46.86'), IPv4Address('121.130.46.87'), IPv4Address('121.130.46.88'), IPv4Address('121.130.46.89'), IPv4Address('121.130.46.90'), IPv4Address('121.130.46.91'), IPv4Address('121.130.46.92'), IPv4Address('121.130.46.93'), IPv4Address('121.130.46.94'), IPv4Address('121.130.46.95'), IPv4Address('121.130.46.96'), IPv4Address('121.130.46.97'), IPv4Address('121.130.46.98'), IPv4Address('121.130.46.99'), IPv4Address('121.130.46.100'), IPv4Address('121.130.46.101'), IPv4Address('121.130.46.102'), IPv4Address('121.130.46.103'), IPv4Address('121.130.46.104'), IPv4Address('121.130.46.105'), IPv4Address('121.130.46.106'), IPv4Address('121.130.46.107'), IPv4Address('121.130.46.108'), IPv4Address('121.130.46.109'), IPv4Address('121.130.46.110'), IPv4Address('121.130.46.111'), IPv4Address('121.130.46.112'), IPv4Address('121.130.46.113'), IPv4Address('121.130.46.114'), IPv4Address('121.130.46.115'), IPv4Address('121.130.46.116'), IPv4Address('121.130.46.117'), IPv4Address('121.130.46.118'), IPv4Address('121.130.46.119'), IPv4Address('121.130.46.120'), IPv4Address('121.130.46.121'), IPv4Address('121.130.46.122'), IPv4Address('121.130.46.123'), IPv4Address('121.130.46.124'), IPv4Address('121.130.46.125'), IPv4Address('121.130.46.126'), IPv4Address('121.130.46.127'), IPv4Address('121.130.46.128'), IPv4Address('121.130.46.129'), IPv4Address('121.130.46.130'), IPv4Address('121.130.46.131'), IPv4Address('121.130.46.132'), IPv4Address('121.130.46.133'), IPv4Address('121.130.46.134'), IPv4Address('121.130.46.135'), IPv4Address('121.130.46.136'), IPv4Address('121.130.46.137'), IPv4Address('121.130.46.138'), IPv4Address('121.130.46.139'), IPv4Address('121.130.46.140'), IPv4Address('121.130.46.141'), IPv4Address('121.130.46.142'), IPv4Address('121.130.46.143'), IPv4Address('121.130.46.144'), IPv4Address('121.130.46.145'), IPv4Address('121.130.46.146'), IPv4Address('121.130.46.147'), IPv4Address('121.130.46.148'), IPv4Address('121.130.46.149'), IPv4Address('121.130.46.150'), IPv4Address('121.130.46.151'), IPv4Address('121.130.46.152'), IPv4Address('121.130.46.153'), IPv4Address('121.130.46.154'), IPv4Address('121.130.46.155'), IPv4Address('121.130.46.156'), IPv4Address('121.130.46.157'), IPv4Address('121.130.46.158'), IPv4Address('121.130.46.159'), IPv4Address('121.130.46.160'), IPv4Address('121.130.46.161'), IPv4Address('121.130.46.162'), IPv4Address('121.130.46.163'), IPv4Address('121.130.46.164'), IPv4Address('121.130.46.165'), IPv4Address('121.130.46.166'), IPv4Address('121.130.46.167'), IPv4Address('121.130.46.168'), IPv4Address('121.130.46.169'), IPv4Address('121.130.46.170'), IPv4Address('121.130.46.171'), IPv4Address('121.130.46.172'), IPv4Address('121.130.46.173'), IPv4Address('121.130.46.174'), IPv4Address('121.130.46.175'), IPv4Address('121.130.46.176'), IPv4Address('121.130.46.177'), IPv4Address('121.130.46.178'), IPv4Address('121.130.46.179'), IPv4Address('121.130.46.180'), IPv4Address('121.130.46.181'), IPv4Address('121.130.46.182'), IPv4Address('121.130.46.183'), IPv4Address('121.130.46.184'), IPv4Address('121.130.46.185'), IPv4Address('121.130.46.186'), IPv4Address('121.130.46.187'), IPv4Address('121.130.46.188'), IPv4Address('121.130.46.189'), IPv4Address('121.130.46.190'), IPv4Address('121.130.46.191'), IPv4Address('121.130.46.192'), IPv4Address('121.130.46.193'), IPv4Address('121.130.46.194'), IPv4Address('121.130.46.195'), IPv4Address('121.130.46.196'), IPv4Address('121.130.46.197'), IPv4Address('121.130.46.198'), IPv4Address('121.130.46.199'), IPv4Address('121.130.46.200'), IPv4Address('121.130.46.201'), IPv4Address('121.130.46.202'), IPv4Address('121.130.46.203'), IPv4Address('121.130.46.204'), IPv4Address('121.130.46.205'), IPv4Address('121.130.46.206'), IPv4Address('121.130.46.207'), IPv4Address('121.130.46.208'), IPv4Address('121.130.46.209'), IPv4Address('121.130.46.210'), IPv4Address('121.130.46.211'), IPv4Address('121.130.46.212'), IPv4Address('121.130.46.213'), IPv4Address('121.130.46.214'), IPv4Address('121.130.46.215'), IPv4Address('121.130.46.216'), IPv4Address('121.130.46.217'), IPv4Address('121.130.46.218'), IPv4Address('121.130.46.219'), IPv4Address('121.130.46.220'), IPv4Address('121.130.46.221'), IPv4Address('121.130.46.222'), IPv4Address('121.130.46.223'), IPv4Address('121.130.46.224'), IPv4Address('121.130.46.225'), IPv4Address('121.130.46.226'), IPv4Address('121.130.46.227'), IPv4Address('121.130.46.228'), IPv4Address('121.130.46.229'), IPv4Address('121.130.46.230'), IPv4Address('121.130.46.231'), IPv4Address('121.130.46.232'), IPv4Address('121.130.46.233'), IPv4Address('121.130.46.234'), IPv4Address('121.130.46.235'), IPv4Address('121.130.46.236'), IPv4Address('121.130.46.237'), IPv4Address('121.130.46.238'), IPv4Address('121.130.46.239'), IPv4Address('121.130.46.240'), IPv4Address('121.130.46.241'), IPv4Address('121.130.46.242'), IPv4Address('121.130.46.243'), IPv4Address('121.130.46.244'), IPv4Address('121.130.46.245'), IPv4Address('121.130.46.246'), IPv4Address('121.130.46.247'), IPv4Address('121.130.46.248'), IPv4Address('121.130.46.249'), IPv4Address('121.130.46.250'), IPv4Address('121.130.46.251'), IPv4Address('121.130.46.252'), IPv4Address('121.130.46.253'), IPv4Address('121.130.46.254'), IPv4Address('121.130.46.255'), IPv4Address('121.130.47.0'), IPv4Address('121.130.47.1'), IPv4Address('121.130.47.2'), IPv4Address('121.130.47.3'), IPv4Address('121.130.47.4'), IPv4Address('121.130.47.5'), IPv4Address('121.130.47.6'), IPv4Address('121.130.47.7'), IPv4Address('121.130.47.8'), IPv4Address('121.130.47.9'), IPv4Address('121.130.47.10'), IPv4Address('121.130.47.11'), IPv4Address('121.130.47.12'), IPv4Address('121.130.47.13'), IPv4Address('121.130.47.14'), IPv4Address('121.130.47.15'), IPv4Address('121.130.47.16'), IPv4Address('121.130.47.17'), IPv4Address('121.130.47.18'), IPv4Address('121.130.47.19'), IPv4Address('121.130.47.20'), IPv4Address('121.130.47.21'), IPv4Address('121.130.47.22'), IPv4Address('121.130.47.23'), IPv4Address('121.130.47.24'), IPv4Address('121.130.47.25'), IPv4Address('121.130.47.26'), IPv4Address('121.130.47.27'), IPv4Address('121.130.47.28'), IPv4Address('121.130.47.29'), IPv4Address('121.130.47.30'), IPv4Address('121.130.47.31'), IPv4Address('121.130.47.32'), IPv4Address('121.130.47.33'), IPv4Address('121.130.47.34'), IPv4Address('121.130.47.35'), IPv4Address('121.130.47.36'), IPv4Address('121.130.47.37'), IPv4Address('121.130.47.38'), IPv4Address('121.130.47.39'), IPv4Address('121.130.47.40'), IPv4Address('121.130.47.41'), IPv4Address('121.130.47.42'), IPv4Address('121.130.47.43'), IPv4Address('121.130.47.44'), IPv4Address('121.130.47.45'), IPv4Address('121.130.47.46'), IPv4Address('121.130.47.47'), IPv4Address('121.130.47.48'), IPv4Address('121.130.47.49'), IPv4Address('121.130.47.50'), IPv4Address('121.130.47.51'), IPv4Address('121.130.47.52'), IPv4Address('121.130.47.53'), IPv4Address('121.130.47.54'), IPv4Address('121.130.47.55'), IPv4Address('121.130.47.56'), IPv4Address('121.130.47.57'), IPv4Address('121.130.47.58'), IPv4Address('121.130.47.59'), IPv4Address('121.130.47.60'), IPv4Address('121.130.47.61'), IPv4Address('121.130.47.62'), IPv4Address('121.130.47.63'), IPv4Address('121.130.47.64'), IPv4Address('121.130.47.65'), IPv4Address('121.130.47.66'), IPv4Address('121.130.47.67'), IPv4Address('121.130.47.68'), IPv4Address('121.130.47.69'), IPv4Address('121.130.47.70'), IPv4Address('121.130.47.71'), IPv4Address('121.130.47.72'), IPv4Address('121.130.47.73'), IPv4Address('121.130.47.74'), IPv4Address('121.130.47.75'), IPv4Address('121.130.47.76'), IPv4Address('121.130.47.77'), IPv4Address('121.130.47.78'), IPv4Address('121.130.47.79'), IPv4Address('121.130.47.80'), IPv4Address('121.130.47.81'), IPv4Address('121.130.47.82'), IPv4Address('121.130.47.83'), IPv4Address('121.130.47.84'), IPv4Address('121.130.47.85'), IPv4Address('121.130.47.86'), IPv4Address('121.130.47.87'), IPv4Address('121.130.47.88'), IPv4Address('121.130.47.89'), IPv4Address('121.130.47.90'), IPv4Address('121.130.47.91'), IPv4Address('121.130.47.92'), IPv4Address('121.130.47.93'), IPv4Address('121.130.47.94'), IPv4Address('121.130.47.95'), IPv4Address('121.130.47.96'), IPv4Address('121.130.47.97'), IPv4Address('121.130.47.98'), IPv4Address('121.130.47.99'), IPv4Address('121.130.47.100'), IPv4Address('121.130.47.101'), IPv4Address('121.130.47.102'), IPv4Address('121.130.47.103'), IPv4Address('121.130.47.104'), IPv4Address('121.130.47.105'), IPv4Address('121.130.47.106'), IPv4Address('121.130.47.107'), IPv4Address('121.130.47.108'), IPv4Address('121.130.47.109'), IPv4Address('121.130.47.110'), IPv4Address('121.130.47.111'), IPv4Address('121.130.47.112'), IPv4Address('121.130.47.113'), IPv4Address('121.130.47.114'), IPv4Address('121.130.47.115'), IPv4Address('121.130.47.116'), IPv4Address('121.130.47.117'), IPv4Address('121.130.47.118'), IPv4Address('121.130.47.119'), IPv4Address('121.130.47.120'), IPv4Address('121.130.47.121'), IPv4Address('121.130.47.122'), IPv4Address('121.130.47.123'), IPv4Address('121.130.47.124'), IPv4Address('121.130.47.125'), IPv4Address('121.130.47.126'), IPv4Address('121.130.47.127'), IPv4Address('121.130.47.128'), IPv4Address('121.130.47.129'), IPv4Address('121.130.47.130'), IPv4Address('121.130.47.131'), IPv4Address('121.130.47.132'), IPv4Address('121.130.47.133'), IPv4Address('121.130.47.134'), IPv4Address('121.130.47.135'), IPv4Address('121.130.47.136'), IPv4Address('121.130.47.137'), IPv4Address('121.130.47.138'), IPv4Address('121.130.47.139'), IPv4Address('121.130.47.140'), IPv4Address('121.130.47.141'), IPv4Address('121.130.47.142'), IPv4Address('121.130.47.143'), IPv4Address('121.130.47.144'), IPv4Address('121.130.47.145'), IPv4Address('121.130.47.146'), IPv4Address('121.130.47.147'), IPv4Address('121.130.47.148'), IPv4Address('121.130.47.149'), IPv4Address('121.130.47.150'), IPv4Address('121.130.47.151'), IPv4Address('121.130.47.152'), IPv4Address('121.130.47.153'), IPv4Address('121.130.47.154'), IPv4Address('121.130.47.155'), IPv4Address('121.130.47.156'), IPv4Address('121.130.47.157'), IPv4Address('121.130.47.158'), IPv4Address('121.130.47.159'), IPv4Address('121.130.47.160'), IPv4Address('121.130.47.161'), IPv4Address('121.130.47.162'), IPv4Address('121.130.47.163'), IPv4Address('121.130.47.164'), IPv4Address('121.130.47.165'), IPv4Address('121.130.47.166'), IPv4Address('121.130.47.167'), IPv4Address('121.130.47.168'), IPv4Address('121.130.47.169'), IPv4Address('121.130.47.170'), IPv4Address('121.130.47.171'), IPv4Address('121.130.47.172'), IPv4Address('121.130.47.173'), IPv4Address('121.130.47.174'), IPv4Address('121.130.47.175'), IPv4Address('121.130.47.176'), IPv4Address('121.130.47.177'), IPv4Address('121.130.47.178'), IPv4Address('121.130.47.179'), IPv4Address('121.130.47.180'), IPv4Address('121.130.47.181'), IPv4Address('121.130.47.182'), IPv4Address('121.130.47.183'), IPv4Address('121.130.47.184'), IPv4Address('121.130.47.185'), IPv4Address('121.130.47.186'), IPv4Address('121.130.47.187'), IPv4Address('121.130.47.188'), IPv4Address('121.130.47.189'), IPv4Address('121.130.47.190'), IPv4Address('121.130.47.191'), IPv4Address('121.130.47.192'), IPv4Address('121.130.47.193'), IPv4Address('121.130.47.194'), IPv4Address('121.130.47.195'), IPv4Address('121.130.47.196'), IPv4Address('121.130.47.197'), IPv4Address('121.130.47.198'), IPv4Address('121.130.47.199'), IPv4Address('121.130.47.200'), IPv4Address('121.130.47.201'), IPv4Address('121.130.47.202'), IPv4Address('121.130.47.203'), IPv4Address('121.130.47.204'), IPv4Address('121.130.47.205'), IPv4Address('121.130.47.206'), IPv4Address('121.130.47.207'), IPv4Address('121.130.47.208'), IPv4Address('121.130.47.209'), IPv4Address('121.130.47.210'), IPv4Address('121.130.47.211'), IPv4Address('121.130.47.212'), IPv4Address('121.130.47.213'), IPv4Address('121.130.47.214'), IPv4Address('121.130.47.215'), IPv4Address('121.130.47.216'), IPv4Address('121.130.47.217'), IPv4Address('121.130.47.218'), IPv4Address('121.130.47.219'), IPv4Address('121.130.47.220'), IPv4Address('121.130.47.221'), IPv4Address('121.130.47.222'), IPv4Address('121.130.47.223'), IPv4Address('121.130.47.224'), IPv4Address('121.130.47.225'), IPv4Address('121.130.47.226'), IPv4Address('121.130.47.227'), IPv4Address('121.130.47.228'), IPv4Address('121.130.47.229'), IPv4Address('121.130.47.230'), IPv4Address('121.130.47.231'), IPv4Address('121.130.47.232'), IPv4Address('121.130.47.233'), IPv4Address('121.130.47.234'), IPv4Address('121.130.47.235'), IPv4Address('121.130.47.236'), IPv4Address('121.130.47.237'), IPv4Address('121.130.47.238'), IPv4Address('121.130.47.239'), IPv4Address('121.130.47.240'), IPv4Address('121.130.47.241'), IPv4Address('121.130.47.242'), IPv4Address('121.130.47.243'), IPv4Address('121.130.47.244'), IPv4Address('121.130.47.245'), IPv4Address('121.130.47.246'), IPv4Address('121.130.47.247'), IPv4Address('121.130.47.248'), IPv4Address('121.130.47.249'), IPv4Address('121.130.47.250'), IPv4Address('121.130.47.251'), IPv4Address('121.130.47.252'), IPv4Address('121.130.47.253'), IPv4Address('121.130.47.254'), IPv4Address('121.130.47.255'), IPv4Address('121.168.9.0'), IPv4Address('121.168.9.1'), IPv4Address('121.168.9.2'), IPv4Address('121.168.9.3'), IPv4Address('121.168.9.4'), IPv4Address('121.168.9.5'), IPv4Address('121.168.9.6'), IPv4Address('121.168.9.7'), IPv4Address('121.168.9.8'), IPv4Address('121.168.9.9'), IPv4Address('121.168.9.10'), IPv4Address('121.168.9.11'), IPv4Address('121.168.9.12'), IPv4Address('121.168.9.13'), IPv4Address('121.168.9.14'), IPv4Address('121.168.9.15'), IPv4Address('121.168.9.16'), IPv4Address('121.168.9.17'), IPv4Address('121.168.9.18'), IPv4Address('121.168.9.19'), IPv4Address('121.168.9.20'), IPv4Address('121.168.9.21'), IPv4Address('121.168.9.22'), IPv4Address('121.168.9.23'), IPv4Address('121.168.9.24'), IPv4Address('121.168.9.25'), IPv4Address('121.168.9.26'), IPv4Address('121.168.9.27'), IPv4Address('121.168.9.28'), IPv4Address('121.168.9.29'), IPv4Address('121.168.9.30'), IPv4Address('121.168.9.31'), IPv4Address('121.168.9.32'), IPv4Address('121.168.9.33'), IPv4Address('121.168.9.34'), IPv4Address('121.168.9.35'), IPv4Address('121.168.9.36'), IPv4Address('121.168.9.37'), IPv4Address('121.168.9.38'), IPv4Address('121.168.9.39'), IPv4Address('121.168.9.40'), IPv4Address('121.168.9.41'), IPv4Address('121.168.9.42'), IPv4Address('121.168.9.43'), IPv4Address('121.168.9.44'), IPv4Address('121.168.9.45'), IPv4Address('121.168.9.46'), IPv4Address('121.168.9.47'), IPv4Address('121.168.9.48'), IPv4Address('121.168.9.49'), IPv4Address('121.168.9.50'), IPv4Address('121.168.9.51'), IPv4Address('121.168.9.52'), IPv4Address('121.168.9.53'), IPv4Address('121.168.9.54'), IPv4Address('121.168.9.55'), IPv4Address('121.168.9.56'), IPv4Address('121.168.9.57'), IPv4Address('121.168.9.58'), IPv4Address('121.168.9.59'), IPv4Address('121.168.9.60'), IPv4Address('121.168.9.61'), IPv4Address('121.168.9.62'), IPv4Address('121.168.9.63'), IPv4Address('121.168.9.64'), IPv4Address('121.168.9.65'), IPv4Address('121.168.9.66'), IPv4Address('121.168.9.67'), IPv4Address('121.168.9.68'), IPv4Address('121.168.9.69'), IPv4Address('121.168.9.70'), IPv4Address('121.168.9.71'), IPv4Address('121.168.9.72'), IPv4Address('121.168.9.73'), IPv4Address('121.168.9.74'), IPv4Address('121.168.9.75'), IPv4Address('121.168.9.76'), IPv4Address('121.168.9.77'), IPv4Address('121.168.9.78'), IPv4Address('121.168.9.79'), IPv4Address('121.168.9.80'), IPv4Address('121.168.9.81'), IPv4Address('121.168.9.82'), IPv4Address('121.168.9.83'), IPv4Address('121.168.9.84'), IPv4Address('121.168.9.85'), IPv4Address('121.168.9.86'), IPv4Address('121.168.9.87'), IPv4Address('121.168.9.88'), IPv4Address('121.168.9.89'), IPv4Address('121.168.9.90'), IPv4Address('121.168.9.91'), IPv4Address('121.168.9.92'), IPv4Address('121.168.9.93'), IPv4Address('121.168.9.94'), IPv4Address('121.168.9.95'), IPv4Address('121.168.9.96'), IPv4Address('121.168.9.97'), IPv4Address('121.168.9.98'), IPv4Address('121.168.9.99'), IPv4Address('121.168.9.100'), IPv4Address('121.168.9.101'), IPv4Address('121.168.9.102'), IPv4Address('121.168.9.103'), IPv4Address('121.168.9.104'), IPv4Address('121.168.9.105'), IPv4Address('121.168.9.106'), IPv4Address('121.168.9.107'), IPv4Address('121.168.9.108'), IPv4Address('121.168.9.109'), IPv4Address('121.168.9.110'), IPv4Address('121.168.9.111'), IPv4Address('121.168.9.112'), IPv4Address('121.168.9.113'), IPv4Address('121.168.9.114'), IPv4Address('121.168.9.115'), IPv4Address('121.168.9.116'), IPv4Address('121.168.9.117'), IPv4Address('121.168.9.118'), IPv4Address('121.168.9.119'), IPv4Address('121.168.9.120'), IPv4Address('121.168.9.121'), IPv4Address('121.168.9.122'), IPv4Address('121.168.9.123'), IPv4Address('121.168.9.124'), IPv4Address('121.168.9.125'), IPv4Address('121.168.9.126'), IPv4Address('121.168.9.127'), IPv4Address('121.168.9.128'), IPv4Address('121.168.9.129'), IPv4Address('121.168.9.130'), IPv4Address('121.168.9.131'), IPv4Address('121.168.9.132'), IPv4Address('121.168.9.133'), IPv4Address('121.168.9.134'), IPv4Address('121.168.9.135'), IPv4Address('121.168.9.136'), IPv4Address('121.168.9.137'), IPv4Address('121.168.9.138'), IPv4Address('121.168.9.139'), IPv4Address('121.168.9.140'), IPv4Address('121.168.9.141'), IPv4Address('121.168.9.142'), IPv4Address('121.168.9.143'), IPv4Address('121.168.9.144'), IPv4Address('121.168.9.145'), IPv4Address('121.168.9.146'), IPv4Address('121.168.9.147'), IPv4Address('121.168.9.148'), IPv4Address('121.168.9.149'), IPv4Address('121.168.9.150'), IPv4Address('121.168.9.151'), IPv4Address('121.168.9.152'), IPv4Address('121.168.9.153'), IPv4Address('121.168.9.154'), IPv4Address('121.168.9.155'), IPv4Address('121.168.9.156'), IPv4Address('121.168.9.157'), IPv4Address('121.168.9.158'), IPv4Address('121.168.9.159'), IPv4Address('121.168.9.160'), IPv4Address('121.168.9.161'), IPv4Address('121.168.9.162'), IPv4Address('121.168.9.163'), IPv4Address('121.168.9.164'), IPv4Address('121.168.9.165'), IPv4Address('121.168.9.166'), IPv4Address('121.168.9.167'), IPv4Address('121.168.9.168'), IPv4Address('121.168.9.169'), IPv4Address('121.168.9.170'), IPv4Address('121.168.9.171'), IPv4Address('121.168.9.172'), IPv4Address('121.168.9.173'), IPv4Address('121.168.9.174'), IPv4Address('121.168.9.175'), IPv4Address('121.168.9.176'), IPv4Address('121.168.9.177'), IPv4Address('121.168.9.178'), IPv4Address('121.168.9.179'), IPv4Address('121.168.9.180'), IPv4Address('121.168.9.181'), IPv4Address('121.168.9.182'), IPv4Address('121.168.9.183'), IPv4Address('121.168.9.184'), IPv4Address('121.168.9.185'), IPv4Address('121.168.9.186'), IPv4Address('121.168.9.187'), IPv4Address('121.168.9.188'), IPv4Address('121.168.9.189'), IPv4Address('121.168.9.190'), IPv4Address('121.168.9.191'), IPv4Address('121.168.9.192'), IPv4Address('121.168.9.193'), IPv4Address('121.168.9.194'), IPv4Address('121.168.9.195'), IPv4Address('121.168.9.196'), IPv4Address('121.168.9.197'), IPv4Address('121.168.9.198'), IPv4Address('121.168.9.199'), IPv4Address('121.168.9.200'), IPv4Address('121.168.9.201'), IPv4Address('121.168.9.202'), IPv4Address('121.168.9.203'), IPv4Address('121.168.9.204'), IPv4Address('121.168.9.205'), IPv4Address('121.168.9.206'), IPv4Address('121.168.9.207'), IPv4Address('121.168.9.208'), IPv4Address('121.168.9.209'), IPv4Address('121.168.9.210'), IPv4Address('121.168.9.211'), IPv4Address('121.168.9.212'), IPv4Address('121.168.9.213'), IPv4Address('121.168.9.214'), IPv4Address('121.168.9.215'), IPv4Address('121.168.9.216'), IPv4Address('121.168.9.217'), IPv4Address('121.168.9.218'), IPv4Address('121.168.9.219'), IPv4Address('121.168.9.220'), IPv4Address('121.168.9.221'), IPv4Address('121.168.9.222'), IPv4Address('121.168.9.223'), IPv4Address('121.168.9.224'), IPv4Address('121.168.9.225'), IPv4Address('121.168.9.226'), IPv4Address('121.168.9.227'), IPv4Address('121.168.9.228'), IPv4Address('121.168.9.229'), IPv4Address('121.168.9.230'), IPv4Address('121.168.9.231'), IPv4Address('121.168.9.232'), IPv4Address('121.168.9.233'), IPv4Address('121.168.9.234'), IPv4Address('121.168.9.235'), IPv4Address('121.168.9.236'), IPv4Address('121.168.9.237'), IPv4Address('121.168.9.238'), IPv4Address('121.168.9.239'), IPv4Address('121.168.9.240'), IPv4Address('121.168.9.241'), IPv4Address('121.168.9.242'), IPv4Address('121.168.9.243'), IPv4Address('121.168.9.244'), IPv4Address('121.168.9.245'), IPv4Address('121.168.9.246'), IPv4Address('121.168.9.247'), IPv4Address('121.168.9.248'), IPv4Address('121.168.9.249'), IPv4Address('121.168.9.250'), IPv4Address('121.168.9.251'), IPv4Address('121.168.9.252'), IPv4Address('121.168.9.253'), IPv4Address('121.168.9.254'), IPv4Address('121.168.9.255'), IPv4Address('128.134.135.0'), IPv4Address('128.134.135.1'), IPv4Address('128.134.135.2'), IPv4Address('128.134.135.3'), IPv4Address('128.134.135.4'), IPv4Address('128.134.135.5'), IPv4Address('128.134.135.6'), IPv4Address('128.134.135.7'), IPv4Address('128.134.135.8'), IPv4Address('128.134.135.9'), IPv4Address('128.134.135.10'), IPv4Address('128.134.135.11'), IPv4Address('128.134.135.12'), IPv4Address('128.134.135.13'), IPv4Address('128.134.135.14'), IPv4Address('128.134.135.15'), IPv4Address('128.134.135.16'), IPv4Address('128.134.135.17'), IPv4Address('128.134.135.18'), IPv4Address('128.134.135.19'), IPv4Address('128.134.135.20'), IPv4Address('128.134.135.21'), IPv4Address('128.134.135.22'), IPv4Address('128.134.135.23'), IPv4Address('128.134.135.24'), IPv4Address('128.134.135.25'), IPv4Address('128.134.135.26'), IPv4Address('128.134.135.27'), IPv4Address('128.134.135.28'), IPv4Address('128.134.135.29'), IPv4Address('128.134.135.30'), IPv4Address('128.134.135.31'), IPv4Address('128.134.135.32'), IPv4Address('128.134.135.33'), IPv4Address('128.134.135.34'), IPv4Address('128.134.135.35'), IPv4Address('128.134.135.36'), IPv4Address('128.134.135.37'), IPv4Address('128.134.135.38'), IPv4Address('128.134.135.39'), IPv4Address('128.134.135.40'), IPv4Address('128.134.135.41'), IPv4Address('128.134.135.42'), IPv4Address('128.134.135.43'), IPv4Address('128.134.135.44'), IPv4Address('128.134.135.45'), IPv4Address('128.134.135.46'), IPv4Address('128.134.135.47'), IPv4Address('128.134.135.48'), IPv4Address('128.134.135.49'), IPv4Address('128.134.135.50'), IPv4Address('128.134.135.51'), IPv4Address('128.134.135.52'), IPv4Address('128.134.135.53'), IPv4Address('128.134.135.54'), IPv4Address('128.134.135.55'), IPv4Address('128.134.135.56'), IPv4Address('128.134.135.57'), IPv4Address('128.134.135.58'), IPv4Address('128.134.135.59'), IPv4Address('128.134.135.60'), IPv4Address('128.134.135.61'), IPv4Address('128.134.135.62'), IPv4Address('128.134.135.63'), IPv4Address('128.134.135.64'), IPv4Address('128.134.135.65'), IPv4Address('128.134.135.66'), IPv4Address('128.134.135.67'), IPv4Address('128.134.135.68'), IPv4Address('128.134.135.69'), IPv4Address('128.134.135.70'), IPv4Address('128.134.135.71'), IPv4Address('128.134.135.72'), IPv4Address('128.134.135.73'), IPv4Address('128.134.135.74'), IPv4Address('128.134.135.75'), IPv4Address('128.134.135.76'), IPv4Address('128.134.135.77'), IPv4Address('128.134.135.78'), IPv4Address('128.134.135.79'), IPv4Address('128.134.135.80'), IPv4Address('128.134.135.81'), IPv4Address('128.134.135.82'), IPv4Address('128.134.135.83'), IPv4Address('128.134.135.84'), IPv4Address('128.134.135.85'), IPv4Address('128.134.135.86'), IPv4Address('128.134.135.87'), IPv4Address('128.134.135.88'), IPv4Address('128.134.135.89'), IPv4Address('128.134.135.90'), IPv4Address('128.134.135.91'), IPv4Address('128.134.135.92'), IPv4Address('128.134.135.93'), IPv4Address('128.134.135.94'), IPv4Address('128.134.135.95'), IPv4Address('128.134.135.96'), IPv4Address('128.134.135.97'), IPv4Address('128.134.135.98'), IPv4Address('128.134.135.99'), IPv4Address('128.134.135.100'), IPv4Address('128.134.135.101'), IPv4Address('128.134.135.102'), IPv4Address('128.134.135.103'), IPv4Address('128.134.135.104'), IPv4Address('128.134.135.105'), IPv4Address('128.134.135.106'), IPv4Address('128.134.135.107'), IPv4Address('128.134.135.108'), IPv4Address('128.134.135.109'), IPv4Address('128.134.135.110'), IPv4Address('128.134.135.111'), IPv4Address('128.134.135.112'), IPv4Address('128.134.135.113'), IPv4Address('128.134.135.114'), IPv4Address('128.134.135.115'), IPv4Address('128.134.135.116'), IPv4Address('128.134.135.117'), IPv4Address('128.134.135.118'), IPv4Address('128.134.135.119'), IPv4Address('128.134.135.120'), IPv4Address('128.134.135.121'), IPv4Address('128.134.135.122'), IPv4Address('128.134.135.123'), IPv4Address('128.134.135.124'), IPv4Address('128.134.135.125'), IPv4Address('128.134.135.126'), IPv4Address('128.134.135.127'), IPv4Address('128.134.135.128'), IPv4Address('128.134.135.129'), IPv4Address('128.134.135.130'), IPv4Address('128.134.135.131'), IPv4Address('128.134.135.132'), IPv4Address('128.134.135.133'), IPv4Address('128.134.135.134'), IPv4Address('128.134.135.135'), IPv4Address('128.134.135.136'), IPv4Address('128.134.135.137'), IPv4Address('128.134.135.138'), IPv4Address('128.134.135.139'), IPv4Address('128.134.135.140'), IPv4Address('128.134.135.141'), IPv4Address('128.134.135.142'), IPv4Address('128.134.135.143'), IPv4Address('128.134.135.144'), IPv4Address('128.134.135.145'), IPv4Address('128.134.135.146'), IPv4Address('128.134.135.147'), IPv4Address('128.134.135.148'), IPv4Address('128.134.135.149'), IPv4Address('128.134.135.150'), IPv4Address('128.134.135.151'), IPv4Address('128.134.135.152'), IPv4Address('128.134.135.153'), IPv4Address('128.134.135.154'), IPv4Address('128.134.135.155'), IPv4Address('128.134.135.156'), IPv4Address('128.134.135.157'), IPv4Address('128.134.135.158'), IPv4Address('128.134.135.159'), IPv4Address('128.134.135.160'), IPv4Address('128.134.135.161'), IPv4Address('128.134.135.162'), IPv4Address('128.134.135.163'), IPv4Address('128.134.135.164'), IPv4Address('128.134.135.165'), IPv4Address('128.134.135.166'), IPv4Address('128.134.135.167'), IPv4Address('128.134.135.168'), IPv4Address('128.134.135.169'), IPv4Address('128.134.135.170'), IPv4Address('128.134.135.171'), IPv4Address('128.134.135.172'), IPv4Address('128.134.135.173'), IPv4Address('128.134.135.174'), IPv4Address('128.134.135.175'), IPv4Address('128.134.135.176'), IPv4Address('128.134.135.177'), IPv4Address('128.134.135.178'), IPv4Address('128.134.135.179'), IPv4Address('128.134.135.180'), IPv4Address('128.134.135.181'), IPv4Address('128.134.135.182'), IPv4Address('128.134.135.183'), IPv4Address('128.134.135.184'), IPv4Address('128.134.135.185'), IPv4Address('128.134.135.186'), IPv4Address('128.134.135.187'), IPv4Address('128.134.135.188'), IPv4Address('128.134.135.189'), IPv4Address('128.134.135.190'), IPv4Address('128.134.135.191'), IPv4Address('128.134.135.192'), IPv4Address('128.134.135.193'), IPv4Address('128.134.135.194'), IPv4Address('128.134.135.195'), IPv4Address('128.134.135.196'), IPv4Address('128.134.135.197'), IPv4Address('128.134.135.198'), IPv4Address('128.134.135.199'), IPv4Address('128.134.135.200'), IPv4Address('128.134.135.201'), IPv4Address('128.134.135.202'), IPv4Address('128.134.135.203'), IPv4Address('128.134.135.204'), IPv4Address('128.134.135.205'), IPv4Address('128.134.135.206'), IPv4Address('128.134.135.207'), IPv4Address('128.134.135.208'), IPv4Address('128.134.135.209'), IPv4Address('128.134.135.210'), IPv4Address('128.134.135.211'), IPv4Address('128.134.135.212'), IPv4Address('128.134.135.213'), IPv4Address('128.134.135.214'), IPv4Address('128.134.135.215'), IPv4Address('128.134.135.216'), IPv4Address('128.134.135.217'), IPv4Address('128.134.135.218'), IPv4Address('128.134.135.219'), IPv4Address('128.134.135.220'), IPv4Address('128.134.135.221'), IPv4Address('128.134.135.222'), IPv4Address('128.134.135.223'), IPv4Address('128.134.135.224'), IPv4Address('128.134.135.225'), IPv4Address('128.134.135.226'), IPv4Address('128.134.135.227'), IPv4Address('128.134.135.228'), IPv4Address('128.134.135.229'), IPv4Address('128.134.135.230'), IPv4Address('128.134.135.231'), IPv4Address('128.134.135.232'), IPv4Address('128.134.135.233'), IPv4Address('128.134.135.234'), IPv4Address('128.134.135.235'), IPv4Address('128.134.135.236'), IPv4Address('128.134.135.237'), IPv4Address('128.134.135.238'), IPv4Address('128.134.135.239'), IPv4Address('128.134.135.240'), IPv4Address('128.134.135.241'), IPv4Address('128.134.135.242'), IPv4Address('128.134.135.243'), IPv4Address('128.134.135.244'), IPv4Address('128.134.135.245'), IPv4Address('128.134.135.246'), IPv4Address('128.134.135.247'), IPv4Address('128.134.135.248'), IPv4Address('128.134.135.249'), IPv4Address('128.134.135.250'), IPv4Address('128.134.135.251'), IPv4Address('128.134.135.252'), IPv4Address('128.134.135.253'), IPv4Address('128.134.135.254'), IPv4Address('128.134.135.255'), IPv4Address('128.134.225.0'), IPv4Address('128.134.225.1'), IPv4Address('128.134.225.2'), IPv4Address('128.134.225.3'), IPv4Address('128.134.225.4'), IPv4Address('128.134.225.5'), IPv4Address('128.134.225.6'), IPv4Address('128.134.225.7'), IPv4Address('128.134.225.8'), IPv4Address('128.134.225.9'), IPv4Address('128.134.225.10'), IPv4Address('128.134.225.11'), IPv4Address('128.134.225.12'), IPv4Address('128.134.225.13'), IPv4Address('128.134.225.14'), IPv4Address('128.134.225.15'), IPv4Address('128.134.225.16'), IPv4Address('128.134.225.17'), IPv4Address('128.134.225.18'), IPv4Address('128.134.225.19'), IPv4Address('128.134.225.20'), IPv4Address('128.134.225.21'), IPv4Address('128.134.225.22'), IPv4Address('128.134.225.23'), IPv4Address('128.134.225.24'), IPv4Address('128.134.225.25'), IPv4Address('128.134.225.26'), IPv4Address('128.134.225.27'), IPv4Address('128.134.225.28'), IPv4Address('128.134.225.29'), IPv4Address('128.134.225.30'), IPv4Address('128.134.225.31'), IPv4Address('128.134.225.32'), IPv4Address('128.134.225.33'), IPv4Address('128.134.225.34'), IPv4Address('128.134.225.35'), IPv4Address('128.134.225.36'), IPv4Address('128.134.225.37'), IPv4Address('128.134.225.38'), IPv4Address('128.134.225.39'), IPv4Address('128.134.225.40'), IPv4Address('128.134.225.41'), IPv4Address('128.134.225.42'), IPv4Address('128.134.225.43'), IPv4Address('128.134.225.44'), IPv4Address('128.134.225.45'), IPv4Address('128.134.225.46'), IPv4Address('128.134.225.47'), IPv4Address('128.134.225.48'), IPv4Address('128.134.225.49'), IPv4Address('128.134.225.50'), IPv4Address('128.134.225.51'), IPv4Address('128.134.225.52'), IPv4Address('128.134.225.53'), IPv4Address('128.134.225.54'), IPv4Address('128.134.225.55'), IPv4Address('128.134.225.56'), IPv4Address('128.134.225.57'), IPv4Address('128.134.225.58'), IPv4Address('128.134.225.59'), IPv4Address('128.134.225.60'), IPv4Address('128.134.225.61'), IPv4Address('128.134.225.62'), IPv4Address('128.134.225.63'), IPv4Address('128.134.225.64'), IPv4Address('128.134.225.65'), IPv4Address('128.134.225.66'), IPv4Address('128.134.225.67'), IPv4Address('128.134.225.68'), IPv4Address('128.134.225.69'), IPv4Address('128.134.225.70'), IPv4Address('128.134.225.71'), IPv4Address('128.134.225.72'), IPv4Address('128.134.225.73'), IPv4Address('128.134.225.74'), IPv4Address('128.134.225.75'), IPv4Address('128.134.225.76'), IPv4Address('128.134.225.77'), IPv4Address('128.134.225.78'), IPv4Address('128.134.225.79'), IPv4Address('128.134.225.80'), IPv4Address('128.134.225.81'), IPv4Address('128.134.225.82'), IPv4Address('128.134.225.83'), IPv4Address('128.134.225.84'), IPv4Address('128.134.225.85'), IPv4Address('128.134.225.86'), IPv4Address('128.134.225.87'), IPv4Address('128.134.225.88'), IPv4Address('128.134.225.89'), IPv4Address('128.134.225.90'), IPv4Address('128.134.225.91'), IPv4Address('128.134.225.92'), IPv4Address('128.134.225.93'), IPv4Address('128.134.225.94'), IPv4Address('128.134.225.95'), IPv4Address('128.134.225.96'), IPv4Address('128.134.225.97'), IPv4Address('128.134.225.98'), IPv4Address('128.134.225.99'), IPv4Address('128.134.225.100'), IPv4Address('128.134.225.101'), IPv4Address('128.134.225.102'), IPv4Address('128.134.225.103'), IPv4Address('128.134.225.104'), IPv4Address('128.134.225.105'), IPv4Address('128.134.225.106'), IPv4Address('128.134.225.107'), IPv4Address('128.134.225.108'), IPv4Address('128.134.225.109'), IPv4Address('128.134.225.110'), IPv4Address('128.134.225.111'), IPv4Address('128.134.225.112'), IPv4Address('128.134.225.113'), IPv4Address('128.134.225.114'), IPv4Address('128.134.225.115'), IPv4Address('128.134.225.116'), IPv4Address('128.134.225.117'), IPv4Address('128.134.225.118'), IPv4Address('128.134.225.119'), IPv4Address('128.134.225.120'), IPv4Address('128.134.225.121'), IPv4Address('128.134.225.122'), IPv4Address('128.134.225.123'), IPv4Address('128.134.225.124'), IPv4Address('128.134.225.125'), IPv4Address('128.134.225.126'), IPv4Address('128.134.225.127'), IPv4Address('128.134.225.128'), IPv4Address('128.134.225.129'), IPv4Address('128.134.225.130'), IPv4Address('128.134.225.131'), IPv4Address('128.134.225.132'), IPv4Address('128.134.225.133'), IPv4Address('128.134.225.134'), IPv4Address('128.134.225.135'), IPv4Address('128.134.225.136'), IPv4Address('128.134.225.137'), IPv4Address('128.134.225.138'), IPv4Address('128.134.225.139'), IPv4Address('128.134.225.140'), IPv4Address('128.134.225.141'), IPv4Address('128.134.225.142'), IPv4Address('128.134.225.143'), IPv4Address('128.134.225.144'), IPv4Address('128.134.225.145'), IPv4Address('128.134.225.146'), IPv4Address('128.134.225.147'), IPv4Address('128.134.225.148'), IPv4Address('128.134.225.149'), IPv4Address('128.134.225.150'), IPv4Address('128.134.225.151'), IPv4Address('128.134.225.152'), IPv4Address('128.134.225.153'), IPv4Address('128.134.225.154'), IPv4Address('128.134.225.155'), IPv4Address('128.134.225.156'), IPv4Address('128.134.225.157'), IPv4Address('128.134.225.158'), IPv4Address('128.134.225.159'), IPv4Address('128.134.225.160'), IPv4Address('128.134.225.161'), IPv4Address('128.134.225.162'), IPv4Address('128.134.225.163'), IPv4Address('128.134.225.164'), IPv4Address('128.134.225.165'), IPv4Address('128.134.225.166'), IPv4Address('128.134.225.167'), IPv4Address('128.134.225.168'), IPv4Address('128.134.225.169'), IPv4Address('128.134.225.170'), IPv4Address('128.134.225.171'), IPv4Address('128.134.225.172'), IPv4Address('128.134.225.173'), IPv4Address('128.134.225.174'), IPv4Address('128.134.225.175'), IPv4Address('128.134.225.176'), IPv4Address('128.134.225.177'), IPv4Address('128.134.225.178'), IPv4Address('128.134.225.179'), IPv4Address('128.134.225.180'), IPv4Address('128.134.225.181'), IPv4Address('128.134.225.182'), IPv4Address('128.134.225.183'), IPv4Address('128.134.225.184'), IPv4Address('128.134.225.185'), IPv4Address('128.134.225.186'), IPv4Address('128.134.225.187'), IPv4Address('128.134.225.188'), IPv4Address('128.134.225.189'), IPv4Address('128.134.225.190'), IPv4Address('128.134.225.191'), IPv4Address('128.134.225.192'), IPv4Address('128.134.225.193'), IPv4Address('128.134.225.194'), IPv4Address('128.134.225.195'), IPv4Address('128.134.225.196'), IPv4Address('128.134.225.197'), IPv4Address('128.134.225.198'), IPv4Address('128.134.225.199'), IPv4Address('128.134.225.200'), IPv4Address('128.134.225.201'), IPv4Address('128.134.225.202'), IPv4Address('128.134.225.203'), IPv4Address('128.134.225.204'), IPv4Address('128.134.225.205'), IPv4Address('128.134.225.206'), IPv4Address('128.134.225.207'), IPv4Address('128.134.225.208'), IPv4Address('128.134.225.209'), IPv4Address('128.134.225.210'), IPv4Address('128.134.225.211'), IPv4Address('128.134.225.212'), IPv4Address('128.134.225.213'), IPv4Address('128.134.225.214'), IPv4Address('128.134.225.215'), IPv4Address('128.134.225.216'), IPv4Address('128.134.225.217'), IPv4Address('128.134.225.218'), IPv4Address('128.134.225.219'), IPv4Address('128.134.225.220'), IPv4Address('128.134.225.221'), IPv4Address('128.134.225.222'), IPv4Address('128.134.225.223'), IPv4Address('128.134.225.224'), IPv4Address('128.134.225.225'), IPv4Address('128.134.225.226'), IPv4Address('128.134.225.227'), IPv4Address('128.134.225.228'), IPv4Address('128.134.225.229'), IPv4Address('128.134.225.230'), IPv4Address('128.134.225.231'), IPv4Address('128.134.225.232'), IPv4Address('128.134.225.233'), IPv4Address('128.134.225.234'), IPv4Address('128.134.225.235'), IPv4Address('128.134.225.236'), IPv4Address('128.134.225.237'), IPv4Address('128.134.225.238'), IPv4Address('128.134.225.239'), IPv4Address('128.134.225.240'), IPv4Address('128.134.225.241'), IPv4Address('128.134.225.242'), IPv4Address('128.134.225.243'), IPv4Address('128.134.225.244'), IPv4Address('128.134.225.245'), IPv4Address('128.134.225.246'), IPv4Address('128.134.225.247'), IPv4Address('128.134.225.248'), IPv4Address('128.134.225.249'), IPv4Address('128.134.225.250'), IPv4Address('128.134.225.251'), IPv4Address('128.134.225.252'), IPv4Address('128.134.225.253'), IPv4Address('128.134.225.254'), IPv4Address('128.134.225.255'), IPv4Address('14.47.119.0'), IPv4Address('14.47.119.1'), IPv4Address('14.47.119.2'), IPv4Address('14.47.119.3'), IPv4Address('14.47.119.4'), IPv4Address('14.47.119.5'), IPv4Address('14.47.119.6'), IPv4Address('14.47.119.7'), IPv4Address('14.47.119.8'), IPv4Address('14.47.119.9'), IPv4Address('14.47.119.10'), IPv4Address('14.47.119.11'), IPv4Address('14.47.119.12'), IPv4Address('14.47.119.13'), IPv4Address('14.47.119.14'), IPv4Address('14.47.119.15'), IPv4Address('14.47.119.16'), IPv4Address('14.47.119.17'), IPv4Address('14.47.119.18'), IPv4Address('14.47.119.19'), IPv4Address('14.47.119.20'), IPv4Address('14.47.119.21'), IPv4Address('14.47.119.22'), IPv4Address('14.47.119.23'), IPv4Address('14.47.119.24'), IPv4Address('14.47.119.25'), IPv4Address('14.47.119.26'), IPv4Address('14.47.119.27'), IPv4Address('14.47.119.28'), IPv4Address('14.47.119.29'), IPv4Address('14.47.119.30'), IPv4Address('14.47.119.31'), IPv4Address('14.47.119.32'), IPv4Address('14.47.119.33'), IPv4Address('14.47.119.34'), IPv4Address('14.47.119.35'), IPv4Address('14.47.119.36'), IPv4Address('14.47.119.37'), IPv4Address('14.47.119.38'), IPv4Address('14.47.119.39'), IPv4Address('14.47.119.40'), IPv4Address('14.47.119.41'), IPv4Address('14.47.119.42'), IPv4Address('14.47.119.43'), IPv4Address('14.47.119.44'), IPv4Address('14.47.119.45'), IPv4Address('14.47.119.46'), IPv4Address('14.47.119.47'), IPv4Address('14.47.119.48'), IPv4Address('14.47.119.49'), IPv4Address('14.47.119.50'), IPv4Address('14.47.119.51'), IPv4Address('14.47.119.52'), IPv4Address('14.47.119.53'), IPv4Address('14.47.119.54'), IPv4Address('14.47.119.55'), IPv4Address('14.47.119.56'), IPv4Address('14.47.119.57'), IPv4Address('14.47.119.58'), IPv4Address('14.47.119.59'), IPv4Address('14.47.119.60'), IPv4Address('14.47.119.61'), IPv4Address('14.47.119.62'), IPv4Address('14.47.119.63'), IPv4Address('14.47.119.64'), IPv4Address('14.47.119.65'), IPv4Address('14.47.119.66'), IPv4Address('14.47.119.67'), IPv4Address('14.47.119.68'), IPv4Address('14.47.119.69'), IPv4Address('14.47.119.70'), IPv4Address('14.47.119.71'), IPv4Address('14.47.119.72'), IPv4Address('14.47.119.73'), IPv4Address('14.47.119.74'), IPv4Address('14.47.119.75'), IPv4Address('14.47.119.76'), IPv4Address('14.47.119.77'), IPv4Address('14.47.119.78'), IPv4Address('14.47.119.79'), IPv4Address('14.47.119.80'), IPv4Address('14.47.119.81'), IPv4Address('14.47.119.82'), IPv4Address('14.47.119.83'), IPv4Address('14.47.119.84'), IPv4Address('14.47.119.85'), IPv4Address('14.47.119.86'), IPv4Address('14.47.119.87'), IPv4Address('14.47.119.88'), IPv4Address('14.47.119.89'), IPv4Address('14.47.119.90'), IPv4Address('14.47.119.91'), IPv4Address('14.47.119.92'), IPv4Address('14.47.119.93'), IPv4Address('14.47.119.94'), IPv4Address('14.47.119.95'), IPv4Address('14.47.119.96'), IPv4Address('14.47.119.97'), IPv4Address('14.47.119.98'), IPv4Address('14.47.119.99'), IPv4Address('14.47.119.100'), IPv4Address('14.47.119.101'), IPv4Address('14.47.119.102'), IPv4Address('14.47.119.103'), IPv4Address('14.47.119.104'), IPv4Address('14.47.119.105'), IPv4Address('14.47.119.106'), IPv4Address('14.47.119.107'), IPv4Address('14.47.119.108'), IPv4Address('14.47.119.109'), IPv4Address('14.47.119.110'), IPv4Address('14.47.119.111'), IPv4Address('14.47.119.112'), IPv4Address('14.47.119.113'), IPv4Address('14.47.119.114'), IPv4Address('14.47.119.115'), IPv4Address('14.47.119.116'), IPv4Address('14.47.119.117'), IPv4Address('14.47.119.118'), IPv4Address('14.47.119.119'), IPv4Address('14.47.119.120'), IPv4Address('14.47.119.121'), IPv4Address('14.47.119.122'), IPv4Address('14.47.119.123'), IPv4Address('14.47.119.124'), IPv4Address('14.47.119.125'), IPv4Address('14.47.119.126'), IPv4Address('14.47.119.127'), IPv4Address('14.47.119.128'), IPv4Address('14.47.119.129'), IPv4Address('14.47.119.130'), IPv4Address('14.47.119.131'), IPv4Address('14.47.119.132'), IPv4Address('14.47.119.133'), IPv4Address('14.47.119.134'), IPv4Address('14.47.119.135'), IPv4Address('14.47.119.136'), IPv4Address('14.47.119.137'), IPv4Address('14.47.119.138'), IPv4Address('14.47.119.139'), IPv4Address('14.47.119.140'), IPv4Address('14.47.119.141'), IPv4Address('14.47.119.142'), IPv4Address('14.47.119.143'), IPv4Address('14.47.119.144'), IPv4Address('14.47.119.145'), IPv4Address('14.47.119.146'), IPv4Address('14.47.119.147'), IPv4Address('14.47.119.148'), IPv4Address('14.47.119.149'), IPv4Address('14.47.119.150'), IPv4Address('14.47.119.151'), IPv4Address('14.47.119.152'), IPv4Address('14.47.119.153'), IPv4Address('14.47.119.154'), IPv4Address('14.47.119.155'), IPv4Address('14.47.119.156'), IPv4Address('14.47.119.157'), IPv4Address('14.47.119.158'), IPv4Address('14.47.119.159'), IPv4Address('14.47.119.160'), IPv4Address('14.47.119.161'), IPv4Address('14.47.119.162'), IPv4Address('14.47.119.163'), IPv4Address('14.47.119.164'), IPv4Address('14.47.119.165'), IPv4Address('14.47.119.166'), IPv4Address('14.47.119.167'), IPv4Address('14.47.119.168'), IPv4Address('14.47.119.169'), IPv4Address('14.47.119.170'), IPv4Address('14.47.119.171'), IPv4Address('14.47.119.172'), IPv4Address('14.47.119.173'), IPv4Address('14.47.119.174'), IPv4Address('14.47.119.175'), IPv4Address('14.47.119.176'), IPv4Address('14.47.119.177'), IPv4Address('14.47.119.178'), IPv4Address('14.47.119.179'), IPv4Address('14.47.119.180'), IPv4Address('14.47.119.181'), IPv4Address('14.47.119.182'), IPv4Address('14.47.119.183'), IPv4Address('14.47.119.184'), IPv4Address('14.47.119.185'), IPv4Address('14.47.119.186'), IPv4Address('14.47.119.187'), IPv4Address('14.47.119.188'), IPv4Address('14.47.119.189'), IPv4Address('14.47.119.190'), IPv4Address('14.47.119.191'), IPv4Address('14.47.119.192'), IPv4Address('14.47.119.193'), IPv4Address('14.47.119.194'), IPv4Address('14.47.119.195'), IPv4Address('14.47.119.196'), IPv4Address('14.47.119.197'), IPv4Address('14.47.119.198'), IPv4Address('14.47.119.199'), IPv4Address('14.47.119.200'), IPv4Address('14.47.119.201'), IPv4Address('14.47.119.202'), IPv4Address('14.47.119.203'), IPv4Address('14.47.119.204'), IPv4Address('14.47.119.205'), IPv4Address('14.47.119.206'), IPv4Address('14.47.119.207'), IPv4Address('14.47.119.208'), IPv4Address('14.47.119.209'), IPv4Address('14.47.119.210'), IPv4Address('14.47.119.211'), IPv4Address('14.47.119.212'), IPv4Address('14.47.119.213'), IPv4Address('14.47.119.214'), IPv4Address('14.47.119.215'), IPv4Address('14.47.119.216'), IPv4Address('14.47.119.217'), IPv4Address('14.47.119.218'), IPv4Address('14.47.119.219'), IPv4Address('14.47.119.220'), IPv4Address('14.47.119.221'), IPv4Address('14.47.119.222'), IPv4Address('14.47.119.223'), IPv4Address('14.47.119.224'), IPv4Address('14.47.119.225'), IPv4Address('14.47.119.226'), IPv4Address('14.47.119.227'), IPv4Address('14.47.119.228'), IPv4Address('14.47.119.229'), IPv4Address('14.47.119.230'), IPv4Address('14.47.119.231'), IPv4Address('14.47.119.232'), IPv4Address('14.47.119.233'), IPv4Address('14.47.119.234'), IPv4Address('14.47.119.235'), IPv4Address('14.47.119.236'), IPv4Address('14.47.119.237'), IPv4Address('14.47.119.238'), IPv4Address('14.47.119.239'), IPv4Address('14.47.119.240'), IPv4Address('14.47.119.241'), IPv4Address('14.47.119.242'), IPv4Address('14.47.119.243'), IPv4Address('14.47.119.244'), IPv4Address('14.47.119.245'), IPv4Address('14.47.119.246'), IPv4Address('14.47.119.247'), IPv4Address('14.47.119.248'), IPv4Address('14.47.119.249'), IPv4Address('14.47.119.250'), IPv4Address('14.47.119.251'), IPv4Address('14.47.119.252'), IPv4Address('14.47.119.253'), IPv4Address('14.47.119.254'), IPv4Address('14.47.119.255'), IPv4Address('14.47.120.0'), IPv4Address('14.47.120.1'), IPv4Address('14.47.120.2'), IPv4Address('14.47.120.3'), IPv4Address('14.47.120.4'), IPv4Address('14.47.120.5'), IPv4Address('14.47.120.6'), IPv4Address('14.47.120.7'), IPv4Address('14.47.120.8'), IPv4Address('14.47.120.9'), IPv4Address('14.47.120.10'), IPv4Address('14.47.120.11'), IPv4Address('14.47.120.12'), IPv4Address('14.47.120.13'), IPv4Address('14.47.120.14'), IPv4Address('14.47.120.15'), IPv4Address('14.47.120.16'), IPv4Address('14.47.120.17'), IPv4Address('14.47.120.18'), IPv4Address('14.47.120.19'), IPv4Address('14.47.120.20'), IPv4Address('14.47.120.21'), IPv4Address('14.47.120.22'), IPv4Address('14.47.120.23'), IPv4Address('14.47.120.24'), IPv4Address('14.47.120.25'), IPv4Address('14.47.120.26'), IPv4Address('14.47.120.27'), IPv4Address('14.47.120.28'), IPv4Address('14.47.120.29'), IPv4Address('14.47.120.30'), IPv4Address('14.47.120.31'), IPv4Address('14.47.120.32'), IPv4Address('14.47.120.33'), IPv4Address('14.47.120.34'), IPv4Address('14.47.120.35'), IPv4Address('14.47.120.36'), IPv4Address('14.47.120.37'), IPv4Address('14.47.120.38'), IPv4Address('14.47.120.39'), IPv4Address('14.47.120.40'), IPv4Address('14.47.120.41'), IPv4Address('14.47.120.42'), IPv4Address('14.47.120.43'), IPv4Address('14.47.120.44'), IPv4Address('14.47.120.45'), IPv4Address('14.47.120.46'), IPv4Address('14.47.120.47'), IPv4Address('14.47.120.48'), IPv4Address('14.47.120.49'), IPv4Address('14.47.120.50'), IPv4Address('14.47.120.51'), IPv4Address('14.47.120.52'), IPv4Address('14.47.120.53'), IPv4Address('14.47.120.54'), IPv4Address('14.47.120.55'), IPv4Address('14.47.120.56'), IPv4Address('14.47.120.57'), IPv4Address('14.47.120.58'), IPv4Address('14.47.120.59'), IPv4Address('14.47.120.60'), IPv4Address('14.47.120.61'), IPv4Address('14.47.120.62'), IPv4Address('14.47.120.63'), IPv4Address('14.47.120.64'), IPv4Address('14.47.120.65'), IPv4Address('14.47.120.66'), IPv4Address('14.47.120.67'), IPv4Address('14.47.120.68'), IPv4Address('14.47.120.69'), IPv4Address('14.47.120.70'), IPv4Address('14.47.120.71'), IPv4Address('14.47.120.72'), IPv4Address('14.47.120.73'), IPv4Address('14.47.120.74'), IPv4Address('14.47.120.75'), IPv4Address('14.47.120.76'), IPv4Address('14.47.120.77'), IPv4Address('14.47.120.78'), IPv4Address('14.47.120.79'), IPv4Address('14.47.120.80'), IPv4Address('14.47.120.81'), IPv4Address('14.47.120.82'), IPv4Address('14.47.120.83'), IPv4Address('14.47.120.84'), IPv4Address('14.47.120.85'), IPv4Address('14.47.120.86'), IPv4Address('14.47.120.87'), IPv4Address('14.47.120.88'), IPv4Address('14.47.120.89'), IPv4Address('14.47.120.90'), IPv4Address('14.47.120.91'), IPv4Address('14.47.120.92'), IPv4Address('14.47.120.93'), IPv4Address('14.47.120.94'), IPv4Address('14.47.120.95'), IPv4Address('14.47.120.96'), IPv4Address('14.47.120.97'), IPv4Address('14.47.120.98'), IPv4Address('14.47.120.99'), IPv4Address('14.47.120.100'), IPv4Address('14.47.120.101'), IPv4Address('14.47.120.102'), IPv4Address('14.47.120.103'), IPv4Address('14.47.120.104'), IPv4Address('14.47.120.105'), IPv4Address('14.47.120.106'), IPv4Address('14.47.120.107'), IPv4Address('14.47.120.108'), IPv4Address('14.47.120.109'), IPv4Address('14.47.120.110'), IPv4Address('14.47.120.111'), IPv4Address('14.47.120.112'), IPv4Address('14.47.120.113'), IPv4Address('14.47.120.114'), IPv4Address('14.47.120.115'), IPv4Address('14.47.120.116'), IPv4Address('14.47.120.117'), IPv4Address('14.47.120.118'), IPv4Address('14.47.120.119'), IPv4Address('14.47.120.120'), IPv4Address('14.47.120.121'), IPv4Address('14.47.120.122'), IPv4Address('14.47.120.123'), IPv4Address('14.47.120.124'), IPv4Address('14.47.120.125'), IPv4Address('14.47.120.126'), IPv4Address('14.47.120.127'), IPv4Address('14.47.120.128'), IPv4Address('14.47.120.129'), IPv4Address('14.47.120.130'), IPv4Address('14.47.120.131'), IPv4Address('14.47.120.132'), IPv4Address('14.47.120.133'), IPv4Address('14.47.120.134'), IPv4Address('14.47.120.135'), IPv4Address('14.47.120.136'), IPv4Address('14.47.120.137'), IPv4Address('14.47.120.138'), IPv4Address('14.47.120.139'), IPv4Address('14.47.120.140'), IPv4Address('14.47.120.141'), IPv4Address('14.47.120.142'), IPv4Address('14.47.120.143'), IPv4Address('14.47.120.144'), IPv4Address('14.47.120.145'), IPv4Address('14.47.120.146'), IPv4Address('14.47.120.147'), IPv4Address('14.47.120.148'), IPv4Address('14.47.120.149'), IPv4Address('14.47.120.150'), IPv4Address('14.47.120.151'), IPv4Address('14.47.120.152'), IPv4Address('14.47.120.153'), IPv4Address('14.47.120.154'), IPv4Address('14.47.120.155'), IPv4Address('14.47.120.156'), IPv4Address('14.47.120.157'), IPv4Address('14.47.120.158'), IPv4Address('14.47.120.159'), IPv4Address('14.47.120.160'), IPv4Address('14.47.120.161'), IPv4Address('14.47.120.162'), IPv4Address('14.47.120.163'), IPv4Address('14.47.120.164'), IPv4Address('14.47.120.165'), IPv4Address('14.47.120.166'), IPv4Address('14.47.120.167'), IPv4Address('14.47.120.168'), IPv4Address('14.47.120.169'), IPv4Address('14.47.120.170'), IPv4Address('14.47.120.171'), IPv4Address('14.47.120.172'), IPv4Address('14.47.120.173'), IPv4Address('14.47.120.174'), IPv4Address('14.47.120.175'), IPv4Address('14.47.120.176'), IPv4Address('14.47.120.177'), IPv4Address('14.47.120.178'), IPv4Address('14.47.120.179'), IPv4Address('14.47.120.180'), IPv4Address('14.47.120.181'), IPv4Address('14.47.120.182'), IPv4Address('14.47.120.183'), IPv4Address('14.47.120.184'), IPv4Address('14.47.120.185'), IPv4Address('14.47.120.186'), IPv4Address('14.47.120.187'), IPv4Address('14.47.120.188'), IPv4Address('14.47.120.189'), IPv4Address('14.47.120.190'), IPv4Address('14.47.120.191'), IPv4Address('14.47.120.192'), IPv4Address('14.47.120.193'), IPv4Address('14.47.120.194'), IPv4Address('14.47.120.195'), IPv4Address('14.47.120.196'), IPv4Address('14.47.120.197'), IPv4Address('14.47.120.198'), IPv4Address('14.47.120.199'), IPv4Address('14.47.120.200'), IPv4Address('14.47.120.201'), IPv4Address('14.47.120.202'), IPv4Address('14.47.120.203'), IPv4Address('14.47.120.204'), IPv4Address('14.47.120.205'), IPv4Address('14.47.120.206'), IPv4Address('14.47.120.207'), IPv4Address('14.47.120.208'), IPv4Address('14.47.120.209'), IPv4Address('14.47.120.210'), IPv4Address('14.47.120.211'), IPv4Address('14.47.120.212'), IPv4Address('14.47.120.213'), IPv4Address('14.47.120.214'), IPv4Address('14.47.120.215'), IPv4Address('14.47.120.216'), IPv4Address('14.47.120.217'), IPv4Address('14.47.120.218'), IPv4Address('14.47.120.219'), IPv4Address('14.47.120.220'), IPv4Address('14.47.120.221'), IPv4Address('14.47.120.222'), IPv4Address('14.47.120.223'), IPv4Address('14.47.120.224'), IPv4Address('14.47.120.225'), IPv4Address('14.47.120.226'), IPv4Address('14.47.120.227'), IPv4Address('14.47.120.228'), IPv4Address('14.47.120.229'), IPv4Address('14.47.120.230'), IPv4Address('14.47.120.231'), IPv4Address('14.47.120.232'), IPv4Address('14.47.120.233'), IPv4Address('14.47.120.234'), IPv4Address('14.47.120.235'), IPv4Address('14.47.120.236'), IPv4Address('14.47.120.237'), IPv4Address('14.47.120.238'), IPv4Address('14.47.120.239'), IPv4Address('14.47.120.240'), IPv4Address('14.47.120.241'), IPv4Address('14.47.120.242'), IPv4Address('14.47.120.243'), IPv4Address('14.47.120.244'), IPv4Address('14.47.120.245'), IPv4Address('14.47.120.246'), IPv4Address('14.47.120.247'), IPv4Address('14.47.120.248'), IPv4Address('14.47.120.249'), IPv4Address('14.47.120.250'), IPv4Address('14.47.120.251'), IPv4Address('14.47.120.252'), IPv4Address('14.47.120.253'), IPv4Address('14.47.120.254'), IPv4Address('14.47.120.255'), IPv4Address('175.195.138.0'), IPv4Address('175.195.138.1'), IPv4Address('175.195.138.2'), IPv4Address('175.195.138.3'), IPv4Address('175.195.138.4'), IPv4Address('175.195.138.5'), IPv4Address('175.195.138.6'), IPv4Address('175.195.138.7'), IPv4Address('175.195.138.8'), IPv4Address('175.195.138.9'), IPv4Address('175.195.138.10'), IPv4Address('175.195.138.11'), IPv4Address('175.195.138.12'), IPv4Address('175.195.138.13'), IPv4Address('175.195.138.14'), IPv4Address('175.195.138.15'), IPv4Address('175.195.138.16'), IPv4Address('175.195.138.17'), IPv4Address('175.195.138.18'), IPv4Address('175.195.138.19'), IPv4Address('175.195.138.20'), IPv4Address('175.195.138.21'), IPv4Address('175.195.138.22'), IPv4Address('175.195.138.23'), IPv4Address('175.195.138.24'), IPv4Address('175.195.138.25'), IPv4Address('175.195.138.26'), IPv4Address('175.195.138.27'), IPv4Address('175.195.138.28'), IPv4Address('175.195.138.29'), IPv4Address('175.195.138.30'), IPv4Address('175.195.138.31'), IPv4Address('175.195.138.32'), IPv4Address('175.195.138.33'), IPv4Address('175.195.138.34'), IPv4Address('175.195.138.35'), IPv4Address('175.195.138.36'), IPv4Address('175.195.138.37'), IPv4Address('175.195.138.38'), IPv4Address('175.195.138.39'), IPv4Address('175.195.138.40'), IPv4Address('175.195.138.41'), IPv4Address('175.195.138.42'), IPv4Address('175.195.138.43'), IPv4Address('175.195.138.44'), IPv4Address('175.195.138.45'), IPv4Address('175.195.138.46'), IPv4Address('175.195.138.47'), IPv4Address('175.195.138.48'), IPv4Address('175.195.138.49'), IPv4Address('175.195.138.50'), IPv4Address('175.195.138.51'), IPv4Address('175.195.138.52'), IPv4Address('175.195.138.53'), IPv4Address('175.195.138.54'), IPv4Address('175.195.138.55'), IPv4Address('175.195.138.56'), IPv4Address('175.195.138.57'), IPv4Address('175.195.138.58'), IPv4Address('175.195.138.59'), IPv4Address('175.195.138.60'), IPv4Address('175.195.138.61'), IPv4Address('175.195.138.62'), IPv4Address('175.195.138.63'), IPv4Address('175.195.138.64'), IPv4Address('175.195.138.65'), IPv4Address('175.195.138.66'), IPv4Address('175.195.138.67'), IPv4Address('175.195.138.68'), IPv4Address('175.195.138.69'), IPv4Address('175.195.138.70'), IPv4Address('175.195.138.71'), IPv4Address('175.195.138.72'), IPv4Address('175.195.138.73'), IPv4Address('175.195.138.74'), IPv4Address('175.195.138.75'), IPv4Address('175.195.138.76'), IPv4Address('175.195.138.77'), IPv4Address('175.195.138.78'), IPv4Address('175.195.138.79'), IPv4Address('175.195.138.80'), IPv4Address('175.195.138.81'), IPv4Address('175.195.138.82'), IPv4Address('175.195.138.83'), IPv4Address('175.195.138.84'), IPv4Address('175.195.138.85'), IPv4Address('175.195.138.86'), IPv4Address('175.195.138.87'), IPv4Address('175.195.138.88'), IPv4Address('175.195.138.89'), IPv4Address('175.195.138.90'), IPv4Address('175.195.138.91'), IPv4Address('175.195.138.92'), IPv4Address('175.195.138.93'), IPv4Address('175.195.138.94'), IPv4Address('175.195.138.95'), IPv4Address('175.195.138.96'), IPv4Address('175.195.138.97'), IPv4Address('175.195.138.98'), IPv4Address('175.195.138.99'), IPv4Address('175.195.138.100'), IPv4Address('175.195.138.101'), IPv4Address('175.195.138.102'), IPv4Address('175.195.138.103'), IPv4Address('175.195.138.104'), IPv4Address('175.195.138.105'), IPv4Address('175.195.138.106'), IPv4Address('175.195.138.107'), IPv4Address('175.195.138.108'), IPv4Address('175.195.138.109'), IPv4Address('175.195.138.110'), IPv4Address('175.195.138.111'), IPv4Address('175.195.138.112'), IPv4Address('175.195.138.113'), IPv4Address('175.195.138.114'), IPv4Address('175.195.138.115'), IPv4Address('175.195.138.116'), IPv4Address('175.195.138.117'), IPv4Address('175.195.138.118'), IPv4Address('175.195.138.119'), IPv4Address('175.195.138.120'), IPv4Address('175.195.138.121'), IPv4Address('175.195.138.122'), IPv4Address('175.195.138.123'), IPv4Address('175.195.138.124'), IPv4Address('175.195.138.125'), IPv4Address('175.195.138.126'), IPv4Address('175.195.138.127'), IPv4Address('175.195.138.128'), IPv4Address('175.195.138.129'), IPv4Address('175.195.138.130'), IPv4Address('175.195.138.131'), IPv4Address('175.195.138.132'), IPv4Address('175.195.138.133'), IPv4Address('175.195.138.134'), IPv4Address('175.195.138.135'), IPv4Address('175.195.138.136'), IPv4Address('175.195.138.137'), IPv4Address('175.195.138.138'), IPv4Address('175.195.138.139'), IPv4Address('175.195.138.140'), IPv4Address('175.195.138.141'), IPv4Address('175.195.138.142'), IPv4Address('175.195.138.143'), IPv4Address('175.195.138.144'), IPv4Address('175.195.138.145'), IPv4Address('175.195.138.146'), IPv4Address('175.195.138.147'), IPv4Address('175.195.138.148'), IPv4Address('175.195.138.149'), IPv4Address('175.195.138.150'), IPv4Address('175.195.138.151'), IPv4Address('175.195.138.152'), IPv4Address('175.195.138.153'), IPv4Address('175.195.138.154'), IPv4Address('175.195.138.155'), IPv4Address('175.195.138.156'), IPv4Address('175.195.138.157'), IPv4Address('175.195.138.158'), IPv4Address('175.195.138.159'), IPv4Address('175.195.138.160'), IPv4Address('175.195.138.161'), IPv4Address('175.195.138.162'), IPv4Address('175.195.138.163'), IPv4Address('175.195.138.164'), IPv4Address('175.195.138.165'), IPv4Address('175.195.138.166'), IPv4Address('175.195.138.167'), IPv4Address('175.195.138.168'), IPv4Address('175.195.138.169'), IPv4Address('175.195.138.170'), IPv4Address('175.195.138.171'), IPv4Address('175.195.138.172'), IPv4Address('175.195.138.173'), IPv4Address('175.195.138.174'), IPv4Address('175.195.138.175'), IPv4Address('175.195.138.176'), IPv4Address('175.195.138.177'), IPv4Address('175.195.138.178'), IPv4Address('175.195.138.179'), IPv4Address('175.195.138.180'), IPv4Address('175.195.138.181'), IPv4Address('175.195.138.182'), IPv4Address('175.195.138.183'), IPv4Address('175.195.138.184'), IPv4Address('175.195.138.185'), IPv4Address('175.195.138.186'), IPv4Address('175.195.138.187'), IPv4Address('175.195.138.188'), IPv4Address('175.195.138.189'), IPv4Address('175.195.138.190'), IPv4Address('175.195.138.191'), IPv4Address('175.195.138.192'), IPv4Address('175.195.138.193'), IPv4Address('175.195.138.194'), IPv4Address('175.195.138.195'), IPv4Address('175.195.138.196'), IPv4Address('175.195.138.197'), IPv4Address('175.195.138.198'), IPv4Address('175.195.138.199'), IPv4Address('175.195.138.200'), IPv4Address('175.195.138.201'), IPv4Address('175.195.138.202'), IPv4Address('175.195.138.203'), IPv4Address('175.195.138.204'), IPv4Address('175.195.138.205'), IPv4Address('175.195.138.206'), IPv4Address('175.195.138.207'), IPv4Address('175.195.138.208'), IPv4Address('175.195.138.209'), IPv4Address('175.195.138.210'), IPv4Address('175.195.138.211'), IPv4Address('175.195.138.212'), IPv4Address('175.195.138.213'), IPv4Address('175.195.138.214'), IPv4Address('175.195.138.215'), IPv4Address('175.195.138.216'), IPv4Address('175.195.138.217'), IPv4Address('175.195.138.218'), IPv4Address('175.195.138.219'), IPv4Address('175.195.138.220'), IPv4Address('175.195.138.221'), IPv4Address('175.195.138.222'), IPv4Address('175.195.138.223'), IPv4Address('175.195.138.224'), IPv4Address('175.195.138.225'), IPv4Address('175.195.138.226'), IPv4Address('175.195.138.227'), IPv4Address('175.195.138.228'), IPv4Address('175.195.138.229'), IPv4Address('175.195.138.230'), IPv4Address('175.195.138.231'), IPv4Address('175.195.138.232'), IPv4Address('175.195.138.233'), IPv4Address('175.195.138.234'), IPv4Address('175.195.138.235'), IPv4Address('175.195.138.236'), IPv4Address('175.195.138.237'), IPv4Address('175.195.138.238'), IPv4Address('175.195.138.239'), IPv4Address('175.195.138.240'), IPv4Address('175.195.138.241'), IPv4Address('175.195.138.242'), IPv4Address('175.195.138.243'), IPv4Address('175.195.138.244'), IPv4Address('175.195.138.245'), IPv4Address('175.195.138.246'), IPv4Address('175.195.138.247'), IPv4Address('175.195.138.248'), IPv4Address('175.195.138.249'), IPv4Address('175.195.138.250'), IPv4Address('175.195.138.251'), IPv4Address('175.195.138.252'), IPv4Address('175.195.138.253'), IPv4Address('175.195.138.254'), IPv4Address('175.195.138.255'), IPv4Address('203.231.48.0'), IPv4Address('203.231.48.1'), IPv4Address('203.231.48.2'), IPv4Address('203.231.48.3'), IPv4Address('203.231.48.4'), IPv4Address('203.231.48.5'), IPv4Address('203.231.48.6'), IPv4Address('203.231.48.7'), IPv4Address('203.231.48.8'), IPv4Address('203.231.48.9'), IPv4Address('203.231.48.10'), IPv4Address('203.231.48.11'), IPv4Address('203.231.48.12'), IPv4Address('203.231.48.13'), IPv4Address('203.231.48.14'), IPv4Address('203.231.48.15'), IPv4Address('203.231.48.16'), IPv4Address('203.231.48.17'), IPv4Address('203.231.48.18'), IPv4Address('203.231.48.19'), IPv4Address('203.231.48.20'), IPv4Address('203.231.48.21'), IPv4Address('203.231.48.22'), IPv4Address('203.231.48.23'), IPv4Address('203.231.48.24'), IPv4Address('203.231.48.25'), IPv4Address('203.231.48.26'), IPv4Address('203.231.48.27'), IPv4Address('203.231.48.28'), IPv4Address('203.231.48.29'), IPv4Address('203.231.48.30'), IPv4Address('203.231.48.31'), IPv4Address('203.231.48.32'), IPv4Address('203.231.48.33'), IPv4Address('203.231.48.34'), IPv4Address('203.231.48.35'), IPv4Address('203.231.48.36'), IPv4Address('203.231.48.37'), IPv4Address('203.231.48.38'), IPv4Address('203.231.48.39'), IPv4Address('203.231.48.40'), IPv4Address('203.231.48.41'), IPv4Address('203.231.48.42'), IPv4Address('203.231.48.43'), IPv4Address('203.231.48.44'), IPv4Address('203.231.48.45'), IPv4Address('203.231.48.46'), IPv4Address('203.231.48.47'), IPv4Address('203.231.48.48'), IPv4Address('203.231.48.49'), IPv4Address('203.231.48.50'), IPv4Address('203.231.48.51'), IPv4Address('203.231.48.52'), IPv4Address('203.231.48.53'), IPv4Address('203.231.48.54'), IPv4Address('203.231.48.55'), IPv4Address('203.231.48.56'), IPv4Address('203.231.48.57'), IPv4Address('203.231.48.58'), IPv4Address('203.231.48.59'), IPv4Address('203.231.48.60'), IPv4Address('203.231.48.61'), IPv4Address('203.231.48.62'), IPv4Address('203.231.48.63'), IPv4Address('203.231.48.64'), IPv4Address('203.231.48.65'), IPv4Address('203.231.48.66'), IPv4Address('203.231.48.67'), IPv4Address('203.231.48.68'), IPv4Address('203.231.48.69'), IPv4Address('203.231.48.70'), IPv4Address('203.231.48.71'), IPv4Address('203.231.48.72'), IPv4Address('203.231.48.73'), IPv4Address('203.231.48.74'), IPv4Address('203.231.48.75'), IPv4Address('203.231.48.76'), IPv4Address('203.231.48.77'), IPv4Address('203.231.48.78'), IPv4Address('203.231.48.79'), IPv4Address('203.231.48.80'), IPv4Address('203.231.48.81'), IPv4Address('203.231.48.82'), IPv4Address('203.231.48.83'), IPv4Address('203.231.48.84'), IPv4Address('203.231.48.85'), IPv4Address('203.231.48.86'), IPv4Address('203.231.48.87'), IPv4Address('203.231.48.88'), IPv4Address('203.231.48.89'), IPv4Address('203.231.48.90'), IPv4Address('203.231.48.91'), IPv4Address('203.231.48.92'), IPv4Address('203.231.48.93'), IPv4Address('203.231.48.94'), IPv4Address('203.231.48.95'), IPv4Address('203.231.48.96'), IPv4Address('203.231.48.97'), IPv4Address('203.231.48.98'), IPv4Address('203.231.48.99'), IPv4Address('203.231.48.100'), IPv4Address('203.231.48.101'), IPv4Address('203.231.48.102'), IPv4Address('203.231.48.103'), IPv4Address('203.231.48.104'), IPv4Address('203.231.48.105'), IPv4Address('203.231.48.106'), IPv4Address('203.231.48.107'), IPv4Address('203.231.48.108'), IPv4Address('203.231.48.109'), IPv4Address('203.231.48.110'), IPv4Address('203.231.48.111'), IPv4Address('203.231.48.112'), IPv4Address('203.231.48.113'), IPv4Address('203.231.48.114'), IPv4Address('203.231.48.115'), IPv4Address('203.231.48.116'), IPv4Address('203.231.48.117'), IPv4Address('203.231.48.118'), IPv4Address('203.231.48.119'), IPv4Address('203.231.48.120'), IPv4Address('203.231.48.121'), IPv4Address('203.231.48.122'), IPv4Address('203.231.48.123'), IPv4Address('203.231.48.124'), IPv4Address('203.231.48.125'), IPv4Address('203.231.48.126'), IPv4Address('203.231.48.127'), IPv4Address('203.231.48.128'), IPv4Address('203.231.48.129'), IPv4Address('203.231.48.130'), IPv4Address('203.231.48.131'), IPv4Address('203.231.48.132'), IPv4Address('203.231.48.133'), IPv4Address('203.231.48.134'), IPv4Address('203.231.48.135'), IPv4Address('203.231.48.136'), IPv4Address('203.231.48.137'), IPv4Address('203.231.48.138'), IPv4Address('203.231.48.139'), IPv4Address('203.231.48.140'), IPv4Address('203.231.48.141'), IPv4Address('203.231.48.142'), IPv4Address('203.231.48.143'), IPv4Address('203.231.48.144'), IPv4Address('203.231.48.145'), IPv4Address('203.231.48.146'), IPv4Address('203.231.48.147'), IPv4Address('203.231.48.148'), IPv4Address('203.231.48.149'), IPv4Address('203.231.48.150'), IPv4Address('203.231.48.151'), IPv4Address('203.231.48.152'), IPv4Address('203.231.48.153'), IPv4Address('203.231.48.154'), IPv4Address('203.231.48.155'), IPv4Address('203.231.48.156'), IPv4Address('203.231.48.157'), IPv4Address('203.231.48.158'), IPv4Address('203.231.48.159'), IPv4Address('203.231.48.160'), IPv4Address('203.231.48.161'), IPv4Address('203.231.48.162'), IPv4Address('203.231.48.163'), IPv4Address('203.231.48.164'), IPv4Address('203.231.48.165'), IPv4Address('203.231.48.166'), IPv4Address('203.231.48.167'), IPv4Address('203.231.48.168'), IPv4Address('203.231.48.169'), IPv4Address('203.231.48.170'), IPv4Address('203.231.48.171'), IPv4Address('203.231.48.172'), IPv4Address('203.231.48.173'), IPv4Address('203.231.48.174'), IPv4Address('203.231.48.175'), IPv4Address('203.231.48.176'), IPv4Address('203.231.48.177'), IPv4Address('203.231.48.178'), IPv4Address('203.231.48.179'), IPv4Address('203.231.48.180'), IPv4Address('203.231.48.181'), IPv4Address('203.231.48.182'), IPv4Address('203.231.48.183'), IPv4Address('203.231.48.184'), IPv4Address('203.231.48.185'), IPv4Address('203.231.48.186'), IPv4Address('203.231.48.187'), IPv4Address('203.231.48.188'), IPv4Address('203.231.48.189'), IPv4Address('203.231.48.190'), IPv4Address('203.231.48.191'), IPv4Address('203.231.48.192'), IPv4Address('203.231.48.193'), IPv4Address('203.231.48.194'), IPv4Address('203.231.48.195'), IPv4Address('203.231.48.196'), IPv4Address('203.231.48.197'), IPv4Address('203.231.48.198'), IPv4Address('203.231.48.199'), IPv4Address('203.231.48.200'), IPv4Address('203.231.48.201'), IPv4Address('203.231.48.202'), IPv4Address('203.231.48.203'), IPv4Address('203.231.48.204'), IPv4Address('203.231.48.205'), IPv4Address('203.231.48.206'), IPv4Address('203.231.48.207'), IPv4Address('203.231.48.208'), IPv4Address('203.231.48.209'), IPv4Address('203.231.48.210'), IPv4Address('203.231.48.211'), IPv4Address('203.231.48.212'), IPv4Address('203.231.48.213'), IPv4Address('203.231.48.214'), IPv4Address('203.231.48.215'), IPv4Address('203.231.48.216'), IPv4Address('203.231.48.217'), IPv4Address('203.231.48.218'), IPv4Address('203.231.48.219'), IPv4Address('203.231.48.220'), IPv4Address('203.231.48.221'), IPv4Address('203.231.48.222'), IPv4Address('203.231.48.223'), IPv4Address('203.231.48.224'), IPv4Address('203.231.48.225'), IPv4Address('203.231.48.226'), IPv4Address('203.231.48.227'), IPv4Address('203.231.48.228'), IPv4Address('203.231.48.229'), IPv4Address('203.231.48.230'), IPv4Address('203.231.48.231'), IPv4Address('203.231.48.232'), IPv4Address('203.231.48.233'), IPv4Address('203.231.48.234'), IPv4Address('203.231.48.235'), IPv4Address('203.231.48.236'), IPv4Address('203.231.48.237'), IPv4Address('203.231.48.238'), IPv4Address('203.231.48.239'), IPv4Address('203.231.48.240'), IPv4Address('203.231.48.241'), IPv4Address('203.231.48.242'), IPv4Address('203.231.48.243'), IPv4Address('203.231.48.244'), IPv4Address('203.231.48.245'), IPv4Address('203.231.48.246'), IPv4Address('203.231.48.247'), IPv4Address('203.231.48.248'), IPv4Address('203.231.48.249'), IPv4Address('203.231.48.250'), IPv4Address('203.231.48.251'), IPv4Address('203.231.48.252'), IPv4Address('203.231.48.253'), IPv4Address('203.231.48.254'), IPv4Address('203.231.48.255'), IPv4Address('203.231.49.0'), IPv4Address('203.231.49.1'), IPv4Address('203.231.49.2'), IPv4Address('203.231.49.3'), IPv4Address('203.231.49.4'), IPv4Address('203.231.49.5'), IPv4Address('203.231.49.6'), IPv4Address('203.231.49.7'), IPv4Address('203.231.49.8'), IPv4Address('203.231.49.9'), IPv4Address('203.231.49.10'), IPv4Address('203.231.49.11'), IPv4Address('203.231.49.12'), IPv4Address('203.231.49.13'), IPv4Address('203.231.49.14'), IPv4Address('203.231.49.15'), IPv4Address('203.231.49.16'), IPv4Address('203.231.49.17'), IPv4Address('203.231.49.18'), IPv4Address('203.231.49.19'), IPv4Address('203.231.49.20'), IPv4Address('203.231.49.21'), IPv4Address('203.231.49.22'), IPv4Address('203.231.49.23'), IPv4Address('203.231.49.24'), IPv4Address('203.231.49.25'), IPv4Address('203.231.49.26'), IPv4Address('203.231.49.27'), IPv4Address('203.231.49.28'), IPv4Address('203.231.49.29'), IPv4Address('203.231.49.30'), IPv4Address('203.231.49.31'), IPv4Address('203.231.49.32'), IPv4Address('203.231.49.33'), IPv4Address('203.231.49.34'), IPv4Address('203.231.49.35'), IPv4Address('203.231.49.36'), IPv4Address('203.231.49.37'), IPv4Address('203.231.49.38'), IPv4Address('203.231.49.39'), IPv4Address('203.231.49.40'), IPv4Address('203.231.49.41'), IPv4Address('203.231.49.42'), IPv4Address('203.231.49.43'), IPv4Address('203.231.49.44'), IPv4Address('203.231.49.45'), IPv4Address('203.231.49.46'), IPv4Address('203.231.49.47'), IPv4Address('203.231.49.48'), IPv4Address('203.231.49.49'), IPv4Address('203.231.49.50'), IPv4Address('203.231.49.51'), IPv4Address('203.231.49.52'), IPv4Address('203.231.49.53'), IPv4Address('203.231.49.54'), IPv4Address('203.231.49.55'), IPv4Address('203.231.49.56'), IPv4Address('203.231.49.57'), IPv4Address('203.231.49.58'), IPv4Address('203.231.49.59'), IPv4Address('203.231.49.60'), IPv4Address('203.231.49.61'), IPv4Address('203.231.49.62'), IPv4Address('203.231.49.63'), IPv4Address('203.231.49.64'), IPv4Address('203.231.49.65'), IPv4Address('203.231.49.66'), IPv4Address('203.231.49.67'), IPv4Address('203.231.49.68'), IPv4Address('203.231.49.69'), IPv4Address('203.231.49.70'), IPv4Address('203.231.49.71'), IPv4Address('203.231.49.72'), IPv4Address('203.231.49.73'), IPv4Address('203.231.49.74'), IPv4Address('203.231.49.75'), IPv4Address('203.231.49.76'), IPv4Address('203.231.49.77'), IPv4Address('203.231.49.78'), IPv4Address('203.231.49.79'), IPv4Address('203.231.49.80'), IPv4Address('203.231.49.81'), IPv4Address('203.231.49.82'), IPv4Address('203.231.49.83'), IPv4Address('203.231.49.84'), IPv4Address('203.231.49.85'), IPv4Address('203.231.49.86'), IPv4Address('203.231.49.87'), IPv4Address('203.231.49.88'), IPv4Address('203.231.49.89'), IPv4Address('203.231.49.90'), IPv4Address('203.231.49.91'), IPv4Address('203.231.49.92'), IPv4Address('203.231.49.93'), IPv4Address('203.231.49.94'), IPv4Address('203.231.49.95'), IPv4Address('203.231.49.96'), IPv4Address('203.231.49.97'), IPv4Address('203.231.49.98'), IPv4Address('203.231.49.99'), IPv4Address('203.231.49.100'), IPv4Address('203.231.49.101'), IPv4Address('203.231.49.102'), IPv4Address('203.231.49.103'), IPv4Address('203.231.49.104'), IPv4Address('203.231.49.105'), IPv4Address('203.231.49.106'), IPv4Address('203.231.49.107'), IPv4Address('203.231.49.108'), IPv4Address('203.231.49.109'), IPv4Address('203.231.49.110'), IPv4Address('203.231.49.111'), IPv4Address('203.231.49.112'), IPv4Address('203.231.49.113'), IPv4Address('203.231.49.114'), IPv4Address('203.231.49.115'), IPv4Address('203.231.49.116'), IPv4Address('203.231.49.117'), IPv4Address('203.231.49.118'), IPv4Address('203.231.49.119'), IPv4Address('203.231.49.120'), IPv4Address('203.231.49.121'), IPv4Address('203.231.49.122'), IPv4Address('203.231.49.123'), IPv4Address('203.231.49.124'), IPv4Address('203.231.49.125'), IPv4Address('203.231.49.126'), IPv4Address('203.231.49.127'), IPv4Address('203.231.49.128'), IPv4Address('203.231.49.129'), IPv4Address('203.231.49.130'), IPv4Address('203.231.49.131'), IPv4Address('203.231.49.132'), IPv4Address('203.231.49.133'), IPv4Address('203.231.49.134'), IPv4Address('203.231.49.135'), IPv4Address('203.231.49.136'), IPv4Address('203.231.49.137'), IPv4Address('203.231.49.138'), IPv4Address('203.231.49.139'), IPv4Address('203.231.49.140'), IPv4Address('203.231.49.141'), IPv4Address('203.231.49.142'), IPv4Address('203.231.49.143'), IPv4Address('203.231.49.144'), IPv4Address('203.231.49.145'), IPv4Address('203.231.49.146'), IPv4Address('203.231.49.147'), IPv4Address('203.231.49.148'), IPv4Address('203.231.49.149'), IPv4Address('203.231.49.150'), IPv4Address('203.231.49.151'), IPv4Address('203.231.49.152'), IPv4Address('203.231.49.153'), IPv4Address('203.231.49.154'), IPv4Address('203.231.49.155'), IPv4Address('203.231.49.156'), IPv4Address('203.231.49.157'), IPv4Address('203.231.49.158'), IPv4Address('203.231.49.159'), IPv4Address('203.231.49.160'), IPv4Address('203.231.49.161'), IPv4Address('203.231.49.162'), IPv4Address('203.231.49.163'), IPv4Address('203.231.49.164'), IPv4Address('203.231.49.165'), IPv4Address('203.231.49.166'), IPv4Address('203.231.49.167'), IPv4Address('203.231.49.168'), IPv4Address('203.231.49.169'), IPv4Address('203.231.49.170'), IPv4Address('203.231.49.171'), IPv4Address('203.231.49.172'), IPv4Address('203.231.49.173'), IPv4Address('203.231.49.174'), IPv4Address('203.231.49.175'), IPv4Address('203.231.49.176'), IPv4Address('203.231.49.177'), IPv4Address('203.231.49.178'), IPv4Address('203.231.49.179'), IPv4Address('203.231.49.180'), IPv4Address('203.231.49.181'), IPv4Address('203.231.49.182'), IPv4Address('203.231.49.183'), IPv4Address('203.231.49.184'), IPv4Address('203.231.49.185'), IPv4Address('203.231.49.186'), IPv4Address('203.231.49.187'), IPv4Address('203.231.49.188'), IPv4Address('203.231.49.189'), IPv4Address('203.231.49.190'), IPv4Address('203.231.49.191'), IPv4Address('203.231.49.192'), IPv4Address('203.231.49.193'), IPv4Address('203.231.49.194'), IPv4Address('203.231.49.195'), IPv4Address('203.231.49.196'), IPv4Address('203.231.49.197'), IPv4Address('203.231.49.198'), IPv4Address('203.231.49.199'), IPv4Address('203.231.49.200'), IPv4Address('203.231.49.201'), IPv4Address('203.231.49.202'), IPv4Address('203.231.49.203'), IPv4Address('203.231.49.204'), IPv4Address('203.231.49.205'), IPv4Address('203.231.49.206'), IPv4Address('203.231.49.207'), IPv4Address('203.231.49.208'), IPv4Address('203.231.49.209'), IPv4Address('203.231.49.210'), IPv4Address('203.231.49.211'), IPv4Address('203.231.49.212'), IPv4Address('203.231.49.213'), IPv4Address('203.231.49.214'), IPv4Address('203.231.49.215'), IPv4Address('203.231.49.216'), IPv4Address('203.231.49.217'), IPv4Address('203.231.49.218'), IPv4Address('203.231.49.219'), IPv4Address('203.231.49.220'), IPv4Address('203.231.49.221'), IPv4Address('203.231.49.222'), IPv4Address('203.231.49.223'), IPv4Address('203.231.49.224'), IPv4Address('203.231.49.225'), IPv4Address('203.231.49.226'), IPv4Address('203.231.49.227'), IPv4Address('203.231.49.228'), IPv4Address('203.231.49.229'), IPv4Address('203.231.49.230'), IPv4Address('203.231.49.231'), IPv4Address('203.231.49.232'), IPv4Address('203.231.49.233'), IPv4Address('203.231.49.234'), IPv4Address('203.231.49.235'), IPv4Address('203.231.49.236'), IPv4Address('203.231.49.237'), IPv4Address('203.231.49.238'), IPv4Address('203.231.49.239'), IPv4Address('203.231.49.240'), IPv4Address('203.231.49.241'), IPv4Address('203.231.49.242'), IPv4Address('203.231.49.243'), IPv4Address('203.231.49.244'), IPv4Address('203.231.49.245'), IPv4Address('203.231.49.246'), IPv4Address('203.231.49.247'), IPv4Address('203.231.49.248'), IPv4Address('203.231.49.249'), IPv4Address('203.231.49.250'), IPv4Address('203.231.49.251'), IPv4Address('203.231.49.252'), IPv4Address('203.231.49.253'), IPv4Address('203.231.49.254'), IPv4Address('203.231.49.255'), IPv4Address('203.233.82.0'), IPv4Address('203.233.82.1'), IPv4Address('203.233.82.2'), IPv4Address('203.233.82.3'), IPv4Address('203.233.82.4'), IPv4Address('203.233.82.5'), IPv4Address('203.233.82.6'), IPv4Address('203.233.82.7'), IPv4Address('203.233.82.8'), IPv4Address('203.233.82.9'), IPv4Address('203.233.82.10'), IPv4Address('203.233.82.11'), IPv4Address('203.233.82.12'), IPv4Address('203.233.82.13'), IPv4Address('203.233.82.14'), IPv4Address('203.233.82.15'), IPv4Address('203.233.82.16'), IPv4Address('203.233.82.17'), IPv4Address('203.233.82.18'), IPv4Address('203.233.82.19'), IPv4Address('203.233.82.20'), IPv4Address('203.233.82.21'), IPv4Address('203.233.82.22'), IPv4Address('203.233.82.23'), IPv4Address('203.233.82.24'), IPv4Address('203.233.82.25'), IPv4Address('203.233.82.26'), IPv4Address('203.233.82.27'), IPv4Address('203.233.82.28'), IPv4Address('203.233.82.29'), IPv4Address('203.233.82.30'), IPv4Address('203.233.82.31'), IPv4Address('203.233.82.32'), IPv4Address('203.233.82.33'), IPv4Address('203.233.82.34'), IPv4Address('203.233.82.35'), IPv4Address('203.233.82.36'), IPv4Address('203.233.82.37'), IPv4Address('203.233.82.38'), IPv4Address('203.233.82.39'), IPv4Address('203.233.82.40'), IPv4Address('203.233.82.41'), IPv4Address('203.233.82.42'), IPv4Address('203.233.82.43'), IPv4Address('203.233.82.44'), IPv4Address('203.233.82.45'), IPv4Address('203.233.82.46'), IPv4Address('203.233.82.47'), IPv4Address('203.233.82.48'), IPv4Address('203.233.82.49'), IPv4Address('203.233.82.50'), IPv4Address('203.233.82.51'), IPv4Address('203.233.82.52'), IPv4Address('203.233.82.53'), IPv4Address('203.233.82.54'), IPv4Address('203.233.82.55'), IPv4Address('203.233.82.56'), IPv4Address('203.233.82.57'), IPv4Address('203.233.82.58'), IPv4Address('203.233.82.59'), IPv4Address('203.233.82.60'), IPv4Address('203.233.82.61'), IPv4Address('203.233.82.62'), IPv4Address('203.233.82.63'), IPv4Address('203.233.82.64'), IPv4Address('203.233.82.65'), IPv4Address('203.233.82.66'), IPv4Address('203.233.82.67'), IPv4Address('203.233.82.68'), IPv4Address('203.233.82.69'), IPv4Address('203.233.82.70'), IPv4Address('203.233.82.71'), IPv4Address('203.233.82.72'), IPv4Address('203.233.82.73'), IPv4Address('203.233.82.74'), IPv4Address('203.233.82.75'), IPv4Address('203.233.82.76'), IPv4Address('203.233.82.77'), IPv4Address('203.233.82.78'), IPv4Address('203.233.82.79'), IPv4Address('203.233.82.80'), IPv4Address('203.233.82.81'), IPv4Address('203.233.82.82'), IPv4Address('203.233.82.83'), IPv4Address('203.233.82.84'), IPv4Address('203.233.82.85'), IPv4Address('203.233.82.86'), IPv4Address('203.233.82.87'), IPv4Address('203.233.82.88'), IPv4Address('203.233.82.89'), IPv4Address('203.233.82.90'), IPv4Address('203.233.82.91'), IPv4Address('203.233.82.92'), IPv4Address('203.233.82.93'), IPv4Address('203.233.82.94'), IPv4Address('203.233.82.95'), IPv4Address('203.233.82.96'), IPv4Address('203.233.82.97'), IPv4Address('203.233.82.98'), IPv4Address('203.233.82.99'), IPv4Address('203.233.82.100'), IPv4Address('203.233.82.101'), IPv4Address('203.233.82.102'), IPv4Address('203.233.82.103'), IPv4Address('203.233.82.104'), IPv4Address('203.233.82.105'), IPv4Address('203.233.82.106'), IPv4Address('203.233.82.107'), IPv4Address('203.233.82.108'), IPv4Address('203.233.82.109'), IPv4Address('203.233.82.110'), IPv4Address('203.233.82.111'), IPv4Address('203.233.82.112'), IPv4Address('203.233.82.113'), IPv4Address('203.233.82.114'), IPv4Address('203.233.82.115'), IPv4Address('203.233.82.116'), IPv4Address('203.233.82.117'), IPv4Address('203.233.82.118'), IPv4Address('203.233.82.119'), IPv4Address('203.233.82.120'), IPv4Address('203.233.82.121'), IPv4Address('203.233.82.122'), IPv4Address('203.233.82.123'), IPv4Address('203.233.82.124'), IPv4Address('203.233.82.125'), IPv4Address('203.233.82.126'), IPv4Address('203.233.82.127'), IPv4Address('203.233.82.128'), IPv4Address('203.233.82.129'), IPv4Address('203.233.82.130'), IPv4Address('203.233.82.131'), IPv4Address('203.233.82.132'), IPv4Address('203.233.82.133'), IPv4Address('203.233.82.134'), IPv4Address('203.233.82.135'), IPv4Address('203.233.82.136'), IPv4Address('203.233.82.137'), IPv4Address('203.233.82.138'), IPv4Address('203.233.82.139'), IPv4Address('203.233.82.140'), IPv4Address('203.233.82.141'), IPv4Address('203.233.82.142'), IPv4Address('203.233.82.143'), IPv4Address('203.233.82.144'), IPv4Address('203.233.82.145'), IPv4Address('203.233.82.146'), IPv4Address('203.233.82.147'), IPv4Address('203.233.82.148'), IPv4Address('203.233.82.149'), IPv4Address('203.233.82.150'), IPv4Address('203.233.82.151'), IPv4Address('203.233.82.152'), IPv4Address('203.233.82.153'), IPv4Address('203.233.82.154'), IPv4Address('203.233.82.155'), IPv4Address('203.233.82.156'), IPv4Address('203.233.82.157'), IPv4Address('203.233.82.158'), IPv4Address('203.233.82.159'), IPv4Address('203.233.82.160'), IPv4Address('203.233.82.161'), IPv4Address('203.233.82.162'), IPv4Address('203.233.82.163'), IPv4Address('203.233.82.164'), IPv4Address('203.233.82.165'), IPv4Address('203.233.82.166'), IPv4Address('203.233.82.167'), IPv4Address('203.233.82.168'), IPv4Address('203.233.82.169'), IPv4Address('203.233.82.170'), IPv4Address('203.233.82.171'), IPv4Address('203.233.82.172'), IPv4Address('203.233.82.173'), IPv4Address('203.233.82.174'), IPv4Address('203.233.82.175'), IPv4Address('203.233.82.176'), IPv4Address('203.233.82.177'), IPv4Address('203.233.82.178'), IPv4Address('203.233.82.179'), IPv4Address('203.233.82.180'), IPv4Address('203.233.82.181'), IPv4Address('203.233.82.182'), IPv4Address('203.233.82.183'), IPv4Address('203.233.82.184'), IPv4Address('203.233.82.185'), IPv4Address('203.233.82.186'), IPv4Address('203.233.82.187'), IPv4Address('203.233.82.188'), IPv4Address('203.233.82.189'), IPv4Address('203.233.82.190'), IPv4Address('203.233.82.191'), IPv4Address('203.233.82.192'), IPv4Address('203.233.82.193'), IPv4Address('203.233.82.194'), IPv4Address('203.233.82.195'), IPv4Address('203.233.82.196'), IPv4Address('203.233.82.197'), IPv4Address('203.233.82.198'), IPv4Address('203.233.82.199'), IPv4Address('203.233.82.200'), IPv4Address('203.233.82.201'), IPv4Address('203.233.82.202'), IPv4Address('203.233.82.203'), IPv4Address('203.233.82.204'), IPv4Address('203.233.82.205'), IPv4Address('203.233.82.206'), IPv4Address('203.233.82.207'), IPv4Address('203.233.82.208'), IPv4Address('203.233.82.209'), IPv4Address('203.233.82.210'), IPv4Address('203.233.82.211'), IPv4Address('203.233.82.212'), IPv4Address('203.233.82.213'), IPv4Address('203.233.82.214'), IPv4Address('203.233.82.215'), IPv4Address('203.233.82.216'), IPv4Address('203.233.82.217'), IPv4Address('203.233.82.218'), IPv4Address('203.233.82.219'), IPv4Address('203.233.82.220'), IPv4Address('203.233.82.221'), IPv4Address('203.233.82.222'), IPv4Address('203.233.82.223'), IPv4Address('203.233.82.224'), IPv4Address('203.233.82.225'), IPv4Address('203.233.82.226'), IPv4Address('203.233.82.227'), IPv4Address('203.233.82.228'), IPv4Address('203.233.82.229'), IPv4Address('203.233.82.230'), IPv4Address('203.233.82.231'), IPv4Address('203.233.82.232'), IPv4Address('203.233.82.233'), IPv4Address('203.233.82.234'), IPv4Address('203.233.82.235'), IPv4Address('203.233.82.236'), IPv4Address('203.233.82.237'), IPv4Address('203.233.82.238'), IPv4Address('203.233.82.239'), IPv4Address('203.233.82.240'), IPv4Address('203.233.82.241'), IPv4Address('203.233.82.242'), IPv4Address('203.233.82.243'), IPv4Address('203.233.82.244'), IPv4Address('203.233.82.245'), IPv4Address('203.233.82.246'), IPv4Address('203.233.82.247'), IPv4Address('203.233.82.248'), IPv4Address('203.233.82.249'), IPv4Address('203.233.82.250'), IPv4Address('203.233.82.251'), IPv4Address('203.233.82.252'), IPv4Address('203.233.82.253'), IPv4Address('203.233.82.254'), IPv4Address('203.233.82.255'), IPv4Address('210.120.25.0'), IPv4Address('210.120.25.1'), IPv4Address('210.120.25.2'), IPv4Address('210.120.25.3'), IPv4Address('210.120.25.4'), IPv4Address('210.120.25.5'), IPv4Address('210.120.25.6'), IPv4Address('210.120.25.7'), IPv4Address('210.120.25.8'), IPv4Address('210.120.25.9'), IPv4Address('210.120.25.10'), IPv4Address('210.120.25.11'), IPv4Address('210.120.25.12'), IPv4Address('210.120.25.13'), IPv4Address('210.120.25.14'), IPv4Address('210.120.25.15'), IPv4Address('210.120.25.16'), IPv4Address('210.120.25.17'), IPv4Address('210.120.25.18'), IPv4Address('210.120.25.19'), IPv4Address('210.120.25.20'), IPv4Address('210.120.25.21'), IPv4Address('210.120.25.22'), IPv4Address('210.120.25.23'), IPv4Address('210.120.25.24'), IPv4Address('210.120.25.25'), IPv4Address('210.120.25.26'), IPv4Address('210.120.25.27'), IPv4Address('210.120.25.28'), IPv4Address('210.120.25.29'), IPv4Address('210.120.25.30'), IPv4Address('210.120.25.31'), IPv4Address('210.120.25.32'), IPv4Address('210.120.25.33'), IPv4Address('210.120.25.34'), IPv4Address('210.120.25.35'), IPv4Address('210.120.25.36'), IPv4Address('210.120.25.37'), IPv4Address('210.120.25.38'), IPv4Address('210.120.25.39'), IPv4Address('210.120.25.40'), IPv4Address('210.120.25.41'), IPv4Address('210.120.25.42'), IPv4Address('210.120.25.43'), IPv4Address('210.120.25.44'), IPv4Address('210.120.25.45'), IPv4Address('210.120.25.46'), IPv4Address('210.120.25.47'), IPv4Address('210.120.25.48'), IPv4Address('210.120.25.49'), IPv4Address('210.120.25.50'), IPv4Address('210.120.25.51'), IPv4Address('210.120.25.52'), IPv4Address('210.120.25.53'), IPv4Address('210.120.25.54'), IPv4Address('210.120.25.55'), IPv4Address('210.120.25.56'), IPv4Address('210.120.25.57'), IPv4Address('210.120.25.58'), IPv4Address('210.120.25.59'), IPv4Address('210.120.25.60'), IPv4Address('210.120.25.61'), IPv4Address('210.120.25.62'), IPv4Address('210.120.25.63'), IPv4Address('210.120.25.64'), IPv4Address('210.120.25.65'), IPv4Address('210.120.25.66'), IPv4Address('210.120.25.67'), IPv4Address('210.120.25.68'), IPv4Address('210.120.25.69'), IPv4Address('210.120.25.70'), IPv4Address('210.120.25.71'), IPv4Address('210.120.25.72'), IPv4Address('210.120.25.73'), IPv4Address('210.120.25.74'), IPv4Address('210.120.25.75'), IPv4Address('210.120.25.76'), IPv4Address('210.120.25.77'), IPv4Address('210.120.25.78'), IPv4Address('210.120.25.79'), IPv4Address('210.120.25.80'), IPv4Address('210.120.25.81'), IPv4Address('210.120.25.82'), IPv4Address('210.120.25.83'), IPv4Address('210.120.25.84'), IPv4Address('210.120.25.85'), IPv4Address('210.120.25.86'), IPv4Address('210.120.25.87'), IPv4Address('210.120.25.88'), IPv4Address('210.120.25.89'), IPv4Address('210.120.25.90'), IPv4Address('210.120.25.91'), IPv4Address('210.120.25.92'), IPv4Address('210.120.25.93'), IPv4Address('210.120.25.94'), IPv4Address('210.120.25.95'), IPv4Address('210.120.25.96'), IPv4Address('210.120.25.97'), IPv4Address('210.120.25.98'), IPv4Address('210.120.25.99'), IPv4Address('210.120.25.100'), IPv4Address('210.120.25.101'), IPv4Address('210.120.25.102'), IPv4Address('210.120.25.103'), IPv4Address('210.120.25.104'), IPv4Address('210.120.25.105'), IPv4Address('210.120.25.106'), IPv4Address('210.120.25.107'), IPv4Address('210.120.25.108'), IPv4Address('210.120.25.109'), IPv4Address('210.120.25.110'), IPv4Address('210.120.25.111'), IPv4Address('210.120.25.112'), IPv4Address('210.120.25.113'), IPv4Address('210.120.25.114'), IPv4Address('210.120.25.115'), IPv4Address('210.120.25.116'), IPv4Address('210.120.25.117'), IPv4Address('210.120.25.118'), IPv4Address('210.120.25.119'), IPv4Address('210.120.25.120'), IPv4Address('210.120.25.121'), IPv4Address('210.120.25.122'), IPv4Address('210.120.25.123'), IPv4Address('210.120.25.124'), IPv4Address('210.120.25.125'), IPv4Address('210.120.25.126'), IPv4Address('210.120.25.127'), IPv4Address('210.120.25.128'), IPv4Address('210.120.25.129'), IPv4Address('210.120.25.130'), IPv4Address('210.120.25.131'), IPv4Address('210.120.25.132'), IPv4Address('210.120.25.133'), IPv4Address('210.120.25.134'), IPv4Address('210.120.25.135'), IPv4Address('210.120.25.136'), IPv4Address('210.120.25.137'), IPv4Address('210.120.25.138'), IPv4Address('210.120.25.139'), IPv4Address('210.120.25.140'), IPv4Address('210.120.25.141'), IPv4Address('210.120.25.142'), IPv4Address('210.120.25.143'), IPv4Address('210.120.25.144'), IPv4Address('210.120.25.145'), IPv4Address('210.120.25.146'), IPv4Address('210.120.25.147'), IPv4Address('210.120.25.148'), IPv4Address('210.120.25.149'), IPv4Address('210.120.25.150'), IPv4Address('210.120.25.151'), IPv4Address('210.120.25.152'), IPv4Address('210.120.25.153'), IPv4Address('210.120.25.154'), IPv4Address('210.120.25.155'), IPv4Address('210.120.25.156'), IPv4Address('210.120.25.157'), IPv4Address('210.120.25.158'), IPv4Address('210.120.25.159'), IPv4Address('210.120.25.160'), IPv4Address('210.120.25.161'), IPv4Address('210.120.25.162'), IPv4Address('210.120.25.163'), IPv4Address('210.120.25.164'), IPv4Address('210.120.25.165'), IPv4Address('210.120.25.166'), IPv4Address('210.120.25.167'), IPv4Address('210.120.25.168'), IPv4Address('210.120.25.169'), IPv4Address('210.120.25.170'), IPv4Address('210.120.25.171'), IPv4Address('210.120.25.172'), IPv4Address('210.120.25.173'), IPv4Address('210.120.25.174'), IPv4Address('210.120.25.175'), IPv4Address('210.120.25.176'), IPv4Address('210.120.25.177'), IPv4Address('210.120.25.178'), IPv4Address('210.120.25.179'), IPv4Address('210.120.25.180'), IPv4Address('210.120.25.181'), IPv4Address('210.120.25.182'), IPv4Address('210.120.25.183'), IPv4Address('210.120.25.184'), IPv4Address('210.120.25.185'), IPv4Address('210.120.25.186'), IPv4Address('210.120.25.187'), IPv4Address('210.120.25.188'), IPv4Address('210.120.25.189'), IPv4Address('210.120.25.190'), IPv4Address('210.120.25.191'), IPv4Address('210.120.25.192'), IPv4Address('210.120.25.193'), IPv4Address('210.120.25.194'), IPv4Address('210.120.25.195'), IPv4Address('210.120.25.196'), IPv4Address('210.120.25.197'), IPv4Address('210.120.25.198'), IPv4Address('210.120.25.199'), IPv4Address('210.120.25.200'), IPv4Address('210.120.25.201'), IPv4Address('210.120.25.202'), IPv4Address('210.120.25.203'), IPv4Address('210.120.25.204'), IPv4Address('210.120.25.205'), IPv4Address('210.120.25.206'), IPv4Address('210.120.25.207'), IPv4Address('210.120.25.208'), IPv4Address('210.120.25.209'), IPv4Address('210.120.25.210'), IPv4Address('210.120.25.211'), IPv4Address('210.120.25.212'), IPv4Address('210.120.25.213'), IPv4Address('210.120.25.214'), IPv4Address('210.120.25.215'), IPv4Address('210.120.25.216'), IPv4Address('210.120.25.217'), IPv4Address('210.120.25.218'), IPv4Address('210.120.25.219'), IPv4Address('210.120.25.220'), IPv4Address('210.120.25.221'), IPv4Address('210.120.25.222'), IPv4Address('210.120.25.223'), IPv4Address('210.120.25.224'), IPv4Address('210.120.25.225'), IPv4Address('210.120.25.226'), IPv4Address('210.120.25.227'), IPv4Address('210.120.25.228'), IPv4Address('210.120.25.229'), IPv4Address('210.120.25.230'), IPv4Address('210.120.25.231'), IPv4Address('210.120.25.232'), IPv4Address('210.120.25.233'), IPv4Address('210.120.25.234'), IPv4Address('210.120.25.235'), IPv4Address('210.120.25.236'), IPv4Address('210.120.25.237'), IPv4Address('210.120.25.238'), IPv4Address('210.120.25.239'), IPv4Address('210.120.25.240'), IPv4Address('210.120.25.241'), IPv4Address('210.120.25.242'), IPv4Address('210.120.25.243'), IPv4Address('210.120.25.244'), IPv4Address('210.120.25.245'), IPv4Address('210.120.25.246'), IPv4Address('210.120.25.247'), IPv4Address('210.120.25.248'), IPv4Address('210.120.25.249'), IPv4Address('210.120.25.250'), IPv4Address('210.120.25.251'), IPv4Address('210.120.25.252'), IPv4Address('210.120.25.253'), IPv4Address('210.120.25.254'), IPv4Address('210.120.25.255'), IPv4Address('211.106.22.0'), IPv4Address('211.106.22.1'), IPv4Address('211.106.22.2'), IPv4Address('211.106.22.3'), IPv4Address('211.106.22.4'), IPv4Address('211.106.22.5'), IPv4Address('211.106.22.6'), IPv4Address('211.106.22.7'), IPv4Address('211.106.22.8'), IPv4Address('211.106.22.9'), IPv4Address('211.106.22.10'), IPv4Address('211.106.22.11'), IPv4Address('211.106.22.12'), IPv4Address('211.106.22.13'), IPv4Address('211.106.22.14'), IPv4Address('211.106.22.15'), IPv4Address('211.106.22.16'), IPv4Address('211.106.22.17'), IPv4Address('211.106.22.18'), IPv4Address('211.106.22.19'), IPv4Address('211.106.22.20'), IPv4Address('211.106.22.21'), IPv4Address('211.106.22.22'), IPv4Address('211.106.22.23'), IPv4Address('211.106.22.24'), IPv4Address('211.106.22.25'), IPv4Address('211.106.22.26'), IPv4Address('211.106.22.27'), IPv4Address('211.106.22.28'), IPv4Address('211.106.22.29'), IPv4Address('211.106.22.30'), IPv4Address('211.106.22.31'), IPv4Address('211.106.22.32'), IPv4Address('211.106.22.33'), IPv4Address('211.106.22.34'), IPv4Address('211.106.22.35'), IPv4Address('211.106.22.36'), IPv4Address('211.106.22.37'), IPv4Address('211.106.22.38'), IPv4Address('211.106.22.39'), IPv4Address('211.106.22.40'), IPv4Address('211.106.22.41'), IPv4Address('211.106.22.42'), IPv4Address('211.106.22.43'), IPv4Address('211.106.22.44'), IPv4Address('211.106.22.45'), IPv4Address('211.106.22.46'), IPv4Address('211.106.22.47'), IPv4Address('211.106.22.48'), IPv4Address('211.106.22.49'), IPv4Address('211.106.22.50'), IPv4Address('211.106.22.51'), IPv4Address('211.106.22.52'), IPv4Address('211.106.22.53'), IPv4Address('211.106.22.54'), IPv4Address('211.106.22.55'), IPv4Address('211.106.22.56'), IPv4Address('211.106.22.57'), IPv4Address('211.106.22.58'), IPv4Address('211.106.22.59'), IPv4Address('211.106.22.60'), IPv4Address('211.106.22.61'), IPv4Address('211.106.22.62'), IPv4Address('211.106.22.63'), IPv4Address('211.106.22.64'), IPv4Address('211.106.22.65'), IPv4Address('211.106.22.66'), IPv4Address('211.106.22.67'), IPv4Address('211.106.22.68'), IPv4Address('211.106.22.69'), IPv4Address('211.106.22.70'), IPv4Address('211.106.22.71'), IPv4Address('211.106.22.72'), IPv4Address('211.106.22.73'), IPv4Address('211.106.22.74'), IPv4Address('211.106.22.75'), IPv4Address('211.106.22.76'), IPv4Address('211.106.22.77'), IPv4Address('211.106.22.78'), IPv4Address('211.106.22.79'), IPv4Address('211.106.22.80'), IPv4Address('211.106.22.81'), IPv4Address('211.106.22.82'), IPv4Address('211.106.22.83'), IPv4Address('211.106.22.84'), IPv4Address('211.106.22.85'), IPv4Address('211.106.22.86'), IPv4Address('211.106.22.87'), IPv4Address('211.106.22.88'), IPv4Address('211.106.22.89'), IPv4Address('211.106.22.90'), IPv4Address('211.106.22.91'), IPv4Address('211.106.22.92'), IPv4Address('211.106.22.93'), IPv4Address('211.106.22.94'), IPv4Address('211.106.22.95'), IPv4Address('211.106.22.96'), IPv4Address('211.106.22.97'), IPv4Address('211.106.22.98'), IPv4Address('211.106.22.99'), IPv4Address('211.106.22.100'), IPv4Address('211.106.22.101'), IPv4Address('211.106.22.102'), IPv4Address('211.106.22.103'), IPv4Address('211.106.22.104'), IPv4Address('211.106.22.105'), IPv4Address('211.106.22.106'), IPv4Address('211.106.22.107'), IPv4Address('211.106.22.108'), IPv4Address('211.106.22.109'), IPv4Address('211.106.22.110'), IPv4Address('211.106.22.111'), IPv4Address('211.106.22.112'), IPv4Address('211.106.22.113'), IPv4Address('211.106.22.114'), IPv4Address('211.106.22.115'), IPv4Address('211.106.22.116'), IPv4Address('211.106.22.117'), IPv4Address('211.106.22.118'), IPv4Address('211.106.22.119'), IPv4Address('211.106.22.120'), IPv4Address('211.106.22.121'), IPv4Address('211.106.22.122'), IPv4Address('211.106.22.123'), IPv4Address('211.106.22.124'), IPv4Address('211.106.22.125'), IPv4Address('211.106.22.126'), IPv4Address('211.106.22.127'), IPv4Address('211.106.22.128'), IPv4Address('211.106.22.129'), IPv4Address('211.106.22.130'), IPv4Address('211.106.22.131'), IPv4Address('211.106.22.132'), IPv4Address('211.106.22.133'), IPv4Address('211.106.22.134'), IPv4Address('211.106.22.135'), IPv4Address('211.106.22.136'), IPv4Address('211.106.22.137'), IPv4Address('211.106.22.138'), IPv4Address('211.106.22.139'), IPv4Address('211.106.22.140'), IPv4Address('211.106.22.141'), IPv4Address('211.106.22.142'), IPv4Address('211.106.22.143'), IPv4Address('211.106.22.144'), IPv4Address('211.106.22.145'), IPv4Address('211.106.22.146'), IPv4Address('211.106.22.147'), IPv4Address('211.106.22.148'), IPv4Address('211.106.22.149'), IPv4Address('211.106.22.150'), IPv4Address('211.106.22.151'), IPv4Address('211.106.22.152'), IPv4Address('211.106.22.153'), IPv4Address('211.106.22.154'), IPv4Address('211.106.22.155'), IPv4Address('211.106.22.156'), IPv4Address('211.106.22.157'), IPv4Address('211.106.22.158'), IPv4Address('211.106.22.159'), IPv4Address('211.106.22.160'), IPv4Address('211.106.22.161'), IPv4Address('211.106.22.162'), IPv4Address('211.106.22.163'), IPv4Address('211.106.22.164'), IPv4Address('211.106.22.165'), IPv4Address('211.106.22.166'), IPv4Address('211.106.22.167'), IPv4Address('211.106.22.168'), IPv4Address('211.106.22.169'), IPv4Address('211.106.22.170'), IPv4Address('211.106.22.171'), IPv4Address('211.106.22.172'), IPv4Address('211.106.22.173'), IPv4Address('211.106.22.174'), IPv4Address('211.106.22.175'), IPv4Address('211.106.22.176'), IPv4Address('211.106.22.177'), IPv4Address('211.106.22.178'), IPv4Address('211.106.22.179'), IPv4Address('211.106.22.180'), IPv4Address('211.106.22.181'), IPv4Address('211.106.22.182'), IPv4Address('211.106.22.183'), IPv4Address('211.106.22.184'), IPv4Address('211.106.22.185'), IPv4Address('211.106.22.186'), IPv4Address('211.106.22.187'), IPv4Address('211.106.22.188'), IPv4Address('211.106.22.189'), IPv4Address('211.106.22.190'), IPv4Address('211.106.22.191'), IPv4Address('211.106.22.192'), IPv4Address('211.106.22.193'), IPv4Address('211.106.22.194'), IPv4Address('211.106.22.195'), IPv4Address('211.106.22.196'), IPv4Address('211.106.22.197'), IPv4Address('211.106.22.198'), IPv4Address('211.106.22.199'), IPv4Address('211.106.22.200'), IPv4Address('211.106.22.201'), IPv4Address('211.106.22.202'), IPv4Address('211.106.22.203'), IPv4Address('211.106.22.204'), IPv4Address('211.106.22.205'), IPv4Address('211.106.22.206'), IPv4Address('211.106.22.207'), IPv4Address('211.106.22.208'), IPv4Address('211.106.22.209'), IPv4Address('211.106.22.210'), IPv4Address('211.106.22.211'), IPv4Address('211.106.22.212'), IPv4Address('211.106.22.213'), IPv4Address('211.106.22.214'), IPv4Address('211.106.22.215'), IPv4Address('211.106.22.216'), IPv4Address('211.106.22.217'), IPv4Address('211.106.22.218'), IPv4Address('211.106.22.219'), IPv4Address('211.106.22.220'), IPv4Address('211.106.22.221'), IPv4Address('211.106.22.222'), IPv4Address('211.106.22.223'), IPv4Address('211.106.22.224'), IPv4Address('211.106.22.225'), IPv4Address('211.106.22.226'), IPv4Address('211.106.22.227'), IPv4Address('211.106.22.228'), IPv4Address('211.106.22.229'), IPv4Address('211.106.22.230'), IPv4Address('211.106.22.231'), IPv4Address('211.106.22.232'), IPv4Address('211.106.22.233'), IPv4Address('211.106.22.234'), IPv4Address('211.106.22.235'), IPv4Address('211.106.22.236'), IPv4Address('211.106.22.237'), IPv4Address('211.106.22.238'), IPv4Address('211.106.22.239'), IPv4Address('211.106.22.240'), IPv4Address('211.106.22.241'), IPv4Address('211.106.22.242'), IPv4Address('211.106.22.243'), IPv4Address('211.106.22.244'), IPv4Address('211.106.22.245'), IPv4Address('211.106.22.246'), IPv4Address('211.106.22.247'), IPv4Address('211.106.22.248'), IPv4Address('211.106.22.249'), IPv4Address('211.106.22.250'), IPv4Address('211.106.22.251'), IPv4Address('211.106.22.252'), IPv4Address('211.106.22.253'), IPv4Address('211.106.22.254'), IPv4Address('211.106.22.255'), IPv4Address('211.195.190.0'), IPv4Address('211.195.190.1'), IPv4Address('211.195.190.2'), IPv4Address('211.195.190.3'), IPv4Address('211.195.190.4'), IPv4Address('211.195.190.5'), IPv4Address('211.195.190.6'), IPv4Address('211.195.190.7'), IPv4Address('211.195.190.8'), IPv4Address('211.195.190.9'), IPv4Address('211.195.190.10'), IPv4Address('211.195.190.11'), IPv4Address('211.195.190.12'), IPv4Address('211.195.190.13'), IPv4Address('211.195.190.14'), IPv4Address('211.195.190.15'), IPv4Address('211.195.190.16'), IPv4Address('211.195.190.17'), IPv4Address('211.195.190.18'), IPv4Address('211.195.190.19'), IPv4Address('211.195.190.20'), IPv4Address('211.195.190.21'), IPv4Address('211.195.190.22'), IPv4Address('211.195.190.23'), IPv4Address('211.195.190.24'), IPv4Address('211.195.190.25'), IPv4Address('211.195.190.26'), IPv4Address('211.195.190.27'), IPv4Address('211.195.190.28'), IPv4Address('211.195.190.29'), IPv4Address('211.195.190.30'), IPv4Address('211.195.190.31'), IPv4Address('211.195.190.32'), IPv4Address('211.195.190.33'), IPv4Address('211.195.190.34'), IPv4Address('211.195.190.35'), IPv4Address('211.195.190.36'), IPv4Address('211.195.190.37'), IPv4Address('211.195.190.38'), IPv4Address('211.195.190.39'), IPv4Address('211.195.190.40'), IPv4Address('211.195.190.41'), IPv4Address('211.195.190.42'), IPv4Address('211.195.190.43'), IPv4Address('211.195.190.44'), IPv4Address('211.195.190.45'), IPv4Address('211.195.190.46'), IPv4Address('211.195.190.47'), IPv4Address('211.195.190.48'), IPv4Address('211.195.190.49'), IPv4Address('211.195.190.50'), IPv4Address('211.195.190.51'), IPv4Address('211.195.190.52'), IPv4Address('211.195.190.53'), IPv4Address('211.195.190.54'), IPv4Address('211.195.190.55'), IPv4Address('211.195.190.56'), IPv4Address('211.195.190.57'), IPv4Address('211.195.190.58'), IPv4Address('211.195.190.59'), IPv4Address('211.195.190.60'), IPv4Address('211.195.190.61'), IPv4Address('211.195.190.62'), IPv4Address('211.195.190.63'), IPv4Address('211.195.190.64'), IPv4Address('211.195.190.65'), IPv4Address('211.195.190.66'), IPv4Address('211.195.190.67'), IPv4Address('211.195.190.68'), IPv4Address('211.195.190.69'), IPv4Address('211.195.190.70'), IPv4Address('211.195.190.71'), IPv4Address('211.195.190.72'), IPv4Address('211.195.190.73'), IPv4Address('211.195.190.74'), IPv4Address('211.195.190.75'), IPv4Address('211.195.190.76'), IPv4Address('211.195.190.77'), IPv4Address('211.195.190.78'), IPv4Address('211.195.190.79'), IPv4Address('211.195.190.80'), IPv4Address('211.195.190.81'), IPv4Address('211.195.190.82'), IPv4Address('211.195.190.83'), IPv4Address('211.195.190.84'), IPv4Address('211.195.190.85'), IPv4Address('211.195.190.86'), IPv4Address('211.195.190.87'), IPv4Address('211.195.190.88'), IPv4Address('211.195.190.89'), IPv4Address('211.195.190.90'), IPv4Address('211.195.190.91'), IPv4Address('211.195.190.92'), IPv4Address('211.195.190.93'), IPv4Address('211.195.190.94'), IPv4Address('211.195.190.95'), IPv4Address('211.195.190.96'), IPv4Address('211.195.190.97'), IPv4Address('211.195.190.98'), IPv4Address('211.195.190.99'), IPv4Address('211.195.190.100'), IPv4Address('211.195.190.101'), IPv4Address('211.195.190.102'), IPv4Address('211.195.190.103'), IPv4Address('211.195.190.104'), IPv4Address('211.195.190.105'), IPv4Address('211.195.190.106'), IPv4Address('211.195.190.107'), IPv4Address('211.195.190.108'), IPv4Address('211.195.190.109'), IPv4Address('211.195.190.110'), IPv4Address('211.195.190.111'), IPv4Address('211.195.190.112'), IPv4Address('211.195.190.113'), IPv4Address('211.195.190.114'), IPv4Address('211.195.190.115'), IPv4Address('211.195.190.116'), IPv4Address('211.195.190.117'), IPv4Address('211.195.190.118'), IPv4Address('211.195.190.119'), IPv4Address('211.195.190.120'), IPv4Address('211.195.190.121'), IPv4Address('211.195.190.122'), IPv4Address('211.195.190.123'), IPv4Address('211.195.190.124'), IPv4Address('211.195.190.125'), IPv4Address('211.195.190.126'), IPv4Address('211.195.190.127'), IPv4Address('211.195.190.128'), IPv4Address('211.195.190.129'), IPv4Address('211.195.190.130'), IPv4Address('211.195.190.131'), IPv4Address('211.195.190.132'), IPv4Address('211.195.190.133'), IPv4Address('211.195.190.134'), IPv4Address('211.195.190.135'), IPv4Address('211.195.190.136'), IPv4Address('211.195.190.137'), IPv4Address('211.195.190.138'), IPv4Address('211.195.190.139'), IPv4Address('211.195.190.140'), IPv4Address('211.195.190.141'), IPv4Address('211.195.190.142'), IPv4Address('211.195.190.143'), IPv4Address('211.195.190.144'), IPv4Address('211.195.190.145'), IPv4Address('211.195.190.146'), IPv4Address('211.195.190.147'), IPv4Address('211.195.190.148'), IPv4Address('211.195.190.149'), IPv4Address('211.195.190.150'), IPv4Address('211.195.190.151'), IPv4Address('211.195.190.152'), IPv4Address('211.195.190.153'), IPv4Address('211.195.190.154'), IPv4Address('211.195.190.155'), IPv4Address('211.195.190.156'), IPv4Address('211.195.190.157'), IPv4Address('211.195.190.158'), IPv4Address('211.195.190.159'), IPv4Address('211.195.190.160'), IPv4Address('211.195.190.161'), IPv4Address('211.195.190.162'), IPv4Address('211.195.190.163'), IPv4Address('211.195.190.164'), IPv4Address('211.195.190.165'), IPv4Address('211.195.190.166'), IPv4Address('211.195.190.167'), IPv4Address('211.195.190.168'), IPv4Address('211.195.190.169'), IPv4Address('211.195.190.170'), IPv4Address('211.195.190.171'), IPv4Address('211.195.190.172'), IPv4Address('211.195.190.173'), IPv4Address('211.195.190.174'), IPv4Address('211.195.190.175'), IPv4Address('211.195.190.176'), IPv4Address('211.195.190.177'), IPv4Address('211.195.190.178'), IPv4Address('211.195.190.179'), IPv4Address('211.195.190.180'), IPv4Address('211.195.190.181'), IPv4Address('211.195.190.182'), IPv4Address('211.195.190.183'), IPv4Address('211.195.190.184'), IPv4Address('211.195.190.185'), IPv4Address('211.195.190.186'), IPv4Address('211.195.190.187'), IPv4Address('211.195.190.188'), IPv4Address('211.195.190.189'), IPv4Address('211.195.190.190'), IPv4Address('211.195.190.191'), IPv4Address('211.195.190.192'), IPv4Address('211.195.190.193'), IPv4Address('211.195.190.194'), IPv4Address('211.195.190.195'), IPv4Address('211.195.190.196'), IPv4Address('211.195.190.197'), IPv4Address('211.195.190.198'), IPv4Address('211.195.190.199'), IPv4Address('211.195.190.200'), IPv4Address('211.195.190.201'), IPv4Address('211.195.190.202'), IPv4Address('211.195.190.203'), IPv4Address('211.195.190.204'), IPv4Address('211.195.190.205'), IPv4Address('211.195.190.206'), IPv4Address('211.195.190.207'), IPv4Address('211.195.190.208'), IPv4Address('211.195.190.209'), IPv4Address('211.195.190.210'), IPv4Address('211.195.190.211'), IPv4Address('211.195.190.212'), IPv4Address('211.195.190.213'), IPv4Address('211.195.190.214'), IPv4Address('211.195.190.215'), IPv4Address('211.195.190.216'), IPv4Address('211.195.190.217'), IPv4Address('211.195.190.218'), IPv4Address('211.195.190.219'), IPv4Address('211.195.190.220'), IPv4Address('211.195.190.221'), IPv4Address('211.195.190.222'), IPv4Address('211.195.190.223'), IPv4Address('211.195.190.224'), IPv4Address('211.195.190.225'), IPv4Address('211.195.190.226'), IPv4Address('211.195.190.227'), IPv4Address('211.195.190.228'), IPv4Address('211.195.190.229'), IPv4Address('211.195.190.230'), IPv4Address('211.195.190.231'), IPv4Address('211.195.190.232'), IPv4Address('211.195.190.233'), IPv4Address('211.195.190.234'), IPv4Address('211.195.190.235'), IPv4Address('211.195.190.236'), IPv4Address('211.195.190.237'), IPv4Address('211.195.190.238'), IPv4Address('211.195.190.239'), IPv4Address('211.195.190.240'), IPv4Address('211.195.190.241'), IPv4Address('211.195.190.242'), IPv4Address('211.195.190.243'), IPv4Address('211.195.190.244'), IPv4Address('211.195.190.245'), IPv4Address('211.195.190.246'), IPv4Address('211.195.190.247'), IPv4Address('211.195.190.248'), IPv4Address('211.195.190.249'), IPv4Address('211.195.190.250'), IPv4Address('211.195.190.251'), IPv4Address('211.195.190.252'), IPv4Address('211.195.190.253'), IPv4Address('211.195.190.254'), IPv4Address('211.195.190.255'), IPv4Address('211.197.235.0'), IPv4Address('211.197.235.1'), IPv4Address('211.197.235.2'), IPv4Address('211.197.235.3'), IPv4Address('211.197.235.4'), IPv4Address('211.197.235.5'), IPv4Address('211.197.235.6'), IPv4Address('211.197.235.7'), IPv4Address('211.197.235.8'), IPv4Address('211.197.235.9'), IPv4Address('211.197.235.10'), IPv4Address('211.197.235.11'), IPv4Address('211.197.235.12'), IPv4Address('211.197.235.13'), IPv4Address('211.197.235.14'), IPv4Address('211.197.235.15'), IPv4Address('211.197.235.16'), IPv4Address('211.197.235.17'), IPv4Address('211.197.235.18'), IPv4Address('211.197.235.19'), IPv4Address('211.197.235.20'), IPv4Address('211.197.235.21'), IPv4Address('211.197.235.22'), IPv4Address('211.197.235.23'), IPv4Address('211.197.235.24'), IPv4Address('211.197.235.25'), IPv4Address('211.197.235.26'), IPv4Address('211.197.235.27'), IPv4Address('211.197.235.28'), IPv4Address('211.197.235.29'), IPv4Address('211.197.235.30'), IPv4Address('211.197.235.31'), IPv4Address('211.197.235.32'), IPv4Address('211.197.235.33'), IPv4Address('211.197.235.34'), IPv4Address('211.197.235.35'), IPv4Address('211.197.235.36'), IPv4Address('211.197.235.37'), IPv4Address('211.197.235.38'), IPv4Address('211.197.235.39'), IPv4Address('211.197.235.40'), IPv4Address('211.197.235.41'), IPv4Address('211.197.235.42'), IPv4Address('211.197.235.43'), IPv4Address('211.197.235.44'), IPv4Address('211.197.235.45'), IPv4Address('211.197.235.46'), IPv4Address('211.197.235.47'), IPv4Address('211.197.235.48'), IPv4Address('211.197.235.49'), IPv4Address('211.197.235.50'), IPv4Address('211.197.235.51'), IPv4Address('211.197.235.52'), IPv4Address('211.197.235.53'), IPv4Address('211.197.235.54'), IPv4Address('211.197.235.55'), IPv4Address('211.197.235.56'), IPv4Address('211.197.235.57'), IPv4Address('211.197.235.58'), IPv4Address('211.197.235.59'), IPv4Address('211.197.235.60'), IPv4Address('211.197.235.61'), IPv4Address('211.197.235.62'), IPv4Address('211.197.235.63'), IPv4Address('211.197.235.64'), IPv4Address('211.197.235.65'), IPv4Address('211.197.235.66'), IPv4Address('211.197.235.67'), IPv4Address('211.197.235.68'), IPv4Address('211.197.235.69'), IPv4Address('211.197.235.70'), IPv4Address('211.197.235.71'), IPv4Address('211.197.235.72'), IPv4Address('211.197.235.73'), IPv4Address('211.197.235.74'), IPv4Address('211.197.235.75'), IPv4Address('211.197.235.76'), IPv4Address('211.197.235.77'), IPv4Address('211.197.235.78'), IPv4Address('211.197.235.79'), IPv4Address('211.197.235.80'), IPv4Address('211.197.235.81'), IPv4Address('211.197.235.82'), IPv4Address('211.197.235.83'), IPv4Address('211.197.235.84'), IPv4Address('211.197.235.85'), IPv4Address('211.197.235.86'), IPv4Address('211.197.235.87'), IPv4Address('211.197.235.88'), IPv4Address('211.197.235.89'), IPv4Address('211.197.235.90'), IPv4Address('211.197.235.91'), IPv4Address('211.197.235.92'), IPv4Address('211.197.235.93'), IPv4Address('211.197.235.94'), IPv4Address('211.197.235.95'), IPv4Address('211.197.235.96'), IPv4Address('211.197.235.97'), IPv4Address('211.197.235.98'), IPv4Address('211.197.235.99'), IPv4Address('211.197.235.100'), IPv4Address('211.197.235.101'), IPv4Address('211.197.235.102'), IPv4Address('211.197.235.103'), IPv4Address('211.197.235.104'), IPv4Address('211.197.235.105'), IPv4Address('211.197.235.106'), IPv4Address('211.197.235.107'), IPv4Address('211.197.235.108'), IPv4Address('211.197.235.109'), IPv4Address('211.197.235.110'), IPv4Address('211.197.235.111'), IPv4Address('211.197.235.112'), IPv4Address('211.197.235.113'), IPv4Address('211.197.235.114'), IPv4Address('211.197.235.115'), IPv4Address('211.197.235.116'), IPv4Address('211.197.235.117'), IPv4Address('211.197.235.118'), IPv4Address('211.197.235.119'), IPv4Address('211.197.235.120'), IPv4Address('211.197.235.121'), IPv4Address('211.197.235.122'), IPv4Address('211.197.235.123'), IPv4Address('211.197.235.124'), IPv4Address('211.197.235.125'), IPv4Address('211.197.235.126'), IPv4Address('211.197.235.127'), IPv4Address('211.197.235.128'), IPv4Address('211.197.235.129'), IPv4Address('211.197.235.130'), IPv4Address('211.197.235.131'), IPv4Address('211.197.235.132'), IPv4Address('211.197.235.133'), IPv4Address('211.197.235.134'), IPv4Address('211.197.235.135'), IPv4Address('211.197.235.136'), IPv4Address('211.197.235.137'), IPv4Address('211.197.235.138'), IPv4Address('211.197.235.139'), IPv4Address('211.197.235.140'), IPv4Address('211.197.235.141'), IPv4Address('211.197.235.142'), IPv4Address('211.197.235.143'), IPv4Address('211.197.235.144'), IPv4Address('211.197.235.145'), IPv4Address('211.197.235.146'), IPv4Address('211.197.235.147'), IPv4Address('211.197.235.148'), IPv4Address('211.197.235.149'), IPv4Address('211.197.235.150'), IPv4Address('211.197.235.151'), IPv4Address('211.197.235.152'), IPv4Address('211.197.235.153'), IPv4Address('211.197.235.154'), IPv4Address('211.197.235.155'), IPv4Address('211.197.235.156'), IPv4Address('211.197.235.157'), IPv4Address('211.197.235.158'), IPv4Address('211.197.235.159'), IPv4Address('211.197.235.160'), IPv4Address('211.197.235.161'), IPv4Address('211.197.235.162'), IPv4Address('211.197.235.163'), IPv4Address('211.197.235.164'), IPv4Address('211.197.235.165'), IPv4Address('211.197.235.166'), IPv4Address('211.197.235.167'), IPv4Address('211.197.235.168'), IPv4Address('211.197.235.169'), IPv4Address('211.197.235.170'), IPv4Address('211.197.235.171'), IPv4Address('211.197.235.172'), IPv4Address('211.197.235.173'), IPv4Address('211.197.235.174'), IPv4Address('211.197.235.175'), IPv4Address('211.197.235.176'), IPv4Address('211.197.235.177'), IPv4Address('211.197.235.178'), IPv4Address('211.197.235.179'), IPv4Address('211.197.235.180'), IPv4Address('211.197.235.181'), IPv4Address('211.197.235.182'), IPv4Address('211.197.235.183'), IPv4Address('211.197.235.184'), IPv4Address('211.197.235.185'), IPv4Address('211.197.235.186'), IPv4Address('211.197.235.187'), IPv4Address('211.197.235.188'), IPv4Address('211.197.235.189'), IPv4Address('211.197.235.190'), IPv4Address('211.197.235.191'), IPv4Address('211.197.235.192'), IPv4Address('211.197.235.193'), IPv4Address('211.197.235.194'), IPv4Address('211.197.235.195'), IPv4Address('211.197.235.196'), IPv4Address('211.197.235.197'), IPv4Address('211.197.235.198'), IPv4Address('211.197.235.199'), IPv4Address('211.197.235.200'), IPv4Address('211.197.235.201'), IPv4Address('211.197.235.202'), IPv4Address('211.197.235.203'), IPv4Address('211.197.235.204'), IPv4Address('211.197.235.205'), IPv4Address('211.197.235.206'), IPv4Address('211.197.235.207'), IPv4Address('211.197.235.208'), IPv4Address('211.197.235.209'), IPv4Address('211.197.235.210'), IPv4Address('211.197.235.211'), IPv4Address('211.197.235.212'), IPv4Address('211.197.235.213'), IPv4Address('211.197.235.214'), IPv4Address('211.197.235.215'), IPv4Address('211.197.235.216'), IPv4Address('211.197.235.217'), IPv4Address('211.197.235.218'), IPv4Address('211.197.235.219'), IPv4Address('211.197.235.220'), IPv4Address('211.197.235.221'), IPv4Address('211.197.235.222'), IPv4Address('211.197.235.223'), IPv4Address('211.197.235.224'), IPv4Address('211.197.235.225'), IPv4Address('211.197.235.226'), IPv4Address('211.197.235.227'), IPv4Address('211.197.235.228'), IPv4Address('211.197.235.229'), IPv4Address('211.197.235.230'), IPv4Address('211.197.235.231'), IPv4Address('211.197.235.232'), IPv4Address('211.197.235.233'), IPv4Address('211.197.235.234'), IPv4Address('211.197.235.235'), IPv4Address('211.197.235.236'), IPv4Address('211.197.235.237'), IPv4Address('211.197.235.238'), IPv4Address('211.197.235.239'), IPv4Address('211.197.235.240'), IPv4Address('211.197.235.241'), IPv4Address('211.197.235.242'), IPv4Address('211.197.235.243'), IPv4Address('211.197.235.244'), IPv4Address('211.197.235.245'), IPv4Address('211.197.235.246'), IPv4Address('211.197.235.247'), IPv4Address('211.197.235.248'), IPv4Address('211.197.235.249'), IPv4Address('211.197.235.250'), IPv4Address('211.197.235.251'), IPv4Address('211.197.235.252'), IPv4Address('211.197.235.253'), IPv4Address('211.197.235.254'), IPv4Address('211.197.235.255'), IPv4Address('218.146.32.0'), IPv4Address('218.146.32.1'), IPv4Address('218.146.32.2'), IPv4Address('218.146.32.3'), IPv4Address('218.146.32.4'), IPv4Address('218.146.32.5'), IPv4Address('218.146.32.6'), IPv4Address('218.146.32.7'), IPv4Address('218.146.32.8'), IPv4Address('218.146.32.9'), IPv4Address('218.146.32.10'), IPv4Address('218.146.32.11'), IPv4Address('218.146.32.12'), IPv4Address('218.146.32.13'), IPv4Address('218.146.32.14'), IPv4Address('218.146.32.15'), IPv4Address('218.146.32.16'), IPv4Address('218.146.32.17'), IPv4Address('218.146.32.18'), IPv4Address('218.146.32.19'), IPv4Address('218.146.32.20'), IPv4Address('218.146.32.21'), IPv4Address('218.146.32.22'), IPv4Address('218.146.32.23'), IPv4Address('218.146.32.24'), IPv4Address('218.146.32.25'), IPv4Address('218.146.32.26'), IPv4Address('218.146.32.27'), IPv4Address('218.146.32.28'), IPv4Address('218.146.32.29'), IPv4Address('218.146.32.30'), IPv4Address('218.146.32.31'), IPv4Address('218.146.32.32'), IPv4Address('218.146.32.33'), IPv4Address('218.146.32.34'), IPv4Address('218.146.32.35'), IPv4Address('218.146.32.36'), IPv4Address('218.146.32.37'), IPv4Address('218.146.32.38'), IPv4Address('218.146.32.39'), IPv4Address('218.146.32.40'), IPv4Address('218.146.32.41'), IPv4Address('218.146.32.42'), IPv4Address('218.146.32.43'), IPv4Address('218.146.32.44'), IPv4Address('218.146.32.45'), IPv4Address('218.146.32.46'), IPv4Address('218.146.32.47'), IPv4Address('218.146.32.48'), IPv4Address('218.146.32.49'), IPv4Address('218.146.32.50'), IPv4Address('218.146.32.51'), IPv4Address('218.146.32.52'), IPv4Address('218.146.32.53'), IPv4Address('218.146.32.54'), IPv4Address('218.146.32.55'), IPv4Address('218.146.32.56'), IPv4Address('218.146.32.57'), IPv4Address('218.146.32.58'), IPv4Address('218.146.32.59'), IPv4Address('218.146.32.60'), IPv4Address('218.146.32.61'), IPv4Address('218.146.32.62'), IPv4Address('218.146.32.63'), IPv4Address('218.146.32.64'), IPv4Address('218.146.32.65'), IPv4Address('218.146.32.66'), IPv4Address('218.146.32.67'), IPv4Address('218.146.32.68'), IPv4Address('218.146.32.69'), IPv4Address('218.146.32.70'), IPv4Address('218.146.32.71'), IPv4Address('218.146.32.72'), IPv4Address('218.146.32.73'), IPv4Address('218.146.32.74'), IPv4Address('218.146.32.75'), IPv4Address('218.146.32.76'), IPv4Address('218.146.32.77'), IPv4Address('218.146.32.78'), IPv4Address('218.146.32.79'), IPv4Address('218.146.32.80'), IPv4Address('218.146.32.81'), IPv4Address('218.146.32.82'), IPv4Address('218.146.32.83'), IPv4Address('218.146.32.84'), IPv4Address('218.146.32.85'), IPv4Address('218.146.32.86'), IPv4Address('218.146.32.87'), IPv4Address('218.146.32.88'), IPv4Address('218.146.32.89'), IPv4Address('218.146.32.90'), IPv4Address('218.146.32.91'), IPv4Address('218.146.32.92'), IPv4Address('218.146.32.93'), IPv4Address('218.146.32.94'), IPv4Address('218.146.32.95'), IPv4Address('218.146.32.96'), IPv4Address('218.146.32.97'), IPv4Address('218.146.32.98'), IPv4Address('218.146.32.99'), IPv4Address('218.146.32.100'), IPv4Address('218.146.32.101'), IPv4Address('218.146.32.102'), IPv4Address('218.146.32.103'), IPv4Address('218.146.32.104'), IPv4Address('218.146.32.105'), IPv4Address('218.146.32.106'), IPv4Address('218.146.32.107'), IPv4Address('218.146.32.108'), IPv4Address('218.146.32.109'), IPv4Address('218.146.32.110'), IPv4Address('218.146.32.111'), IPv4Address('218.146.32.112'), IPv4Address('218.146.32.113'), IPv4Address('218.146.32.114'), IPv4Address('218.146.32.115'), IPv4Address('218.146.32.116'), IPv4Address('218.146.32.117'), IPv4Address('218.146.32.118'), IPv4Address('218.146.32.119'), IPv4Address('218.146.32.120'), IPv4Address('218.146.32.121'), IPv4Address('218.146.32.122'), IPv4Address('218.146.32.123'), IPv4Address('218.146.32.124'), IPv4Address('218.146.32.125'), IPv4Address('218.146.32.126'), IPv4Address('218.146.32.127'), IPv4Address('218.146.32.128'), IPv4Address('218.146.32.129'), IPv4Address('218.146.32.130'), IPv4Address('218.146.32.131'), IPv4Address('218.146.32.132'), IPv4Address('218.146.32.133'), IPv4Address('218.146.32.134'), IPv4Address('218.146.32.135'), IPv4Address('218.146.32.136'), IPv4Address('218.146.32.137'), IPv4Address('218.146.32.138'), IPv4Address('218.146.32.139'), IPv4Address('218.146.32.140'), IPv4Address('218.146.32.141'), IPv4Address('218.146.32.142'), IPv4Address('218.146.32.143'), IPv4Address('218.146.32.144'), IPv4Address('218.146.32.145'), IPv4Address('218.146.32.146'), IPv4Address('218.146.32.147'), IPv4Address('218.146.32.148'), IPv4Address('218.146.32.149'), IPv4Address('218.146.32.150'), IPv4Address('218.146.32.151'), IPv4Address('218.146.32.152'), IPv4Address('218.146.32.153'), IPv4Address('218.146.32.154'), IPv4Address('218.146.32.155'), IPv4Address('218.146.32.156'), IPv4Address('218.146.32.157'), IPv4Address('218.146.32.158'), IPv4Address('218.146.32.159'), IPv4Address('218.146.32.160'), IPv4Address('218.146.32.161'), IPv4Address('218.146.32.162'), IPv4Address('218.146.32.163'), IPv4Address('218.146.32.164'), IPv4Address('218.146.32.165'), IPv4Address('218.146.32.166'), IPv4Address('218.146.32.167'), IPv4Address('218.146.32.168'), IPv4Address('218.146.32.169'), IPv4Address('218.146.32.170'), IPv4Address('218.146.32.171'), IPv4Address('218.146.32.172'), IPv4Address('218.146.32.173'), IPv4Address('218.146.32.174'), IPv4Address('218.146.32.175'), IPv4Address('218.146.32.176'), IPv4Address('218.146.32.177'), IPv4Address('218.146.32.178'), IPv4Address('218.146.32.179'), IPv4Address('218.146.32.180'), IPv4Address('218.146.32.181'), IPv4Address('218.146.32.182'), IPv4Address('218.146.32.183'), IPv4Address('218.146.32.184'), IPv4Address('218.146.32.185'), IPv4Address('218.146.32.186'), IPv4Address('218.146.32.187'), IPv4Address('218.146.32.188'), IPv4Address('218.146.32.189'), IPv4Address('218.146.32.190'), IPv4Address('218.146.32.191'), IPv4Address('218.146.32.192'), IPv4Address('218.146.32.193'), IPv4Address('218.146.32.194'), IPv4Address('218.146.32.195'), IPv4Address('218.146.32.196'), IPv4Address('218.146.32.197'), IPv4Address('218.146.32.198'), IPv4Address('218.146.32.199'), IPv4Address('218.146.32.200'), IPv4Address('218.146.32.201'), IPv4Address('218.146.32.202'), IPv4Address('218.146.32.203'), IPv4Address('218.146.32.204'), IPv4Address('218.146.32.205'), IPv4Address('218.146.32.206'), IPv4Address('218.146.32.207'), IPv4Address('218.146.32.208'), IPv4Address('218.146.32.209'), IPv4Address('218.146.32.210'), IPv4Address('218.146.32.211'), IPv4Address('218.146.32.212'), IPv4Address('218.146.32.213'), IPv4Address('218.146.32.214'), IPv4Address('218.146.32.215'), IPv4Address('218.146.32.216'), IPv4Address('218.146.32.217'), IPv4Address('218.146.32.218'), IPv4Address('218.146.32.219'), IPv4Address('218.146.32.220'), IPv4Address('218.146.32.221'), IPv4Address('218.146.32.222'), IPv4Address('218.146.32.223'), IPv4Address('218.146.32.224'), IPv4Address('218.146.32.225'), IPv4Address('218.146.32.226'), IPv4Address('218.146.32.227'), IPv4Address('218.146.32.228'), IPv4Address('218.146.32.229'), IPv4Address('218.146.32.230'), IPv4Address('218.146.32.231'), IPv4Address('218.146.32.232'), IPv4Address('218.146.32.233'), IPv4Address('218.146.32.234'), IPv4Address('218.146.32.235'), IPv4Address('218.146.32.236'), IPv4Address('218.146.32.237'), IPv4Address('218.146.32.238'), IPv4Address('218.146.32.239'), IPv4Address('218.146.32.240'), IPv4Address('218.146.32.241'), IPv4Address('218.146.32.242'), IPv4Address('218.146.32.243'), IPv4Address('218.146.32.244'), IPv4Address('218.146.32.245'), IPv4Address('218.146.32.246'), IPv4Address('218.146.32.247'), IPv4Address('218.146.32.248'), IPv4Address('218.146.32.249'), IPv4Address('218.146.32.250'), IPv4Address('218.146.32.251'), IPv4Address('218.146.32.252'), IPv4Address('218.146.32.253'), IPv4Address('218.146.32.254'), IPv4Address('218.146.32.255'), IPv4Address('218.146.34.0'), IPv4Address('218.146.34.1'), IPv4Address('218.146.34.2'), IPv4Address('218.146.34.3'), IPv4Address('218.146.34.4'), IPv4Address('218.146.34.5'), IPv4Address('218.146.34.6'), IPv4Address('218.146.34.7'), IPv4Address('218.146.34.8'), IPv4Address('218.146.34.9'), IPv4Address('218.146.34.10'), IPv4Address('218.146.34.11'), IPv4Address('218.146.34.12'), IPv4Address('218.146.34.13'), IPv4Address('218.146.34.14'), IPv4Address('218.146.34.15'), IPv4Address('218.146.34.16'), IPv4Address('218.146.34.17'), IPv4Address('218.146.34.18'), IPv4Address('218.146.34.19'), IPv4Address('218.146.34.20'), IPv4Address('218.146.34.21'), IPv4Address('218.146.34.22'), IPv4Address('218.146.34.23'), IPv4Address('218.146.34.24'), IPv4Address('218.146.34.25'), IPv4Address('218.146.34.26'), IPv4Address('218.146.34.27'), IPv4Address('218.146.34.28'), IPv4Address('218.146.34.29'), IPv4Address('218.146.34.30'), IPv4Address('218.146.34.31'), IPv4Address('218.146.34.32'), IPv4Address('218.146.34.33'), IPv4Address('218.146.34.34'), IPv4Address('218.146.34.35'), IPv4Address('218.146.34.36'), IPv4Address('218.146.34.37'), IPv4Address('218.146.34.38'), IPv4Address('218.146.34.39'), IPv4Address('218.146.34.40'), IPv4Address('218.146.34.41'), IPv4Address('218.146.34.42'), IPv4Address('218.146.34.43'), IPv4Address('218.146.34.44'), IPv4Address('218.146.34.45'), IPv4Address('218.146.34.46'), IPv4Address('218.146.34.47'), IPv4Address('218.146.34.48'), IPv4Address('218.146.34.49'), IPv4Address('218.146.34.50'), IPv4Address('218.146.34.51'), IPv4Address('218.146.34.52'), IPv4Address('218.146.34.53'), IPv4Address('218.146.34.54'), IPv4Address('218.146.34.55'), IPv4Address('218.146.34.56'), IPv4Address('218.146.34.57'), IPv4Address('218.146.34.58'), IPv4Address('218.146.34.59'), IPv4Address('218.146.34.60'), IPv4Address('218.146.34.61'), IPv4Address('218.146.34.62'), IPv4Address('218.146.34.63'), IPv4Address('218.146.34.64'), IPv4Address('218.146.34.65'), IPv4Address('218.146.34.66'), IPv4Address('218.146.34.67'), IPv4Address('218.146.34.68'), IPv4Address('218.146.34.69'), IPv4Address('218.146.34.70'), IPv4Address('218.146.34.71'), IPv4Address('218.146.34.72'), IPv4Address('218.146.34.73'), IPv4Address('218.146.34.74'), IPv4Address('218.146.34.75'), IPv4Address('218.146.34.76'), IPv4Address('218.146.34.77'), IPv4Address('218.146.34.78'), IPv4Address('218.146.34.79'), IPv4Address('218.146.34.80'), IPv4Address('218.146.34.81'), IPv4Address('218.146.34.82'), IPv4Address('218.146.34.83'), IPv4Address('218.146.34.84'), IPv4Address('218.146.34.85'), IPv4Address('218.146.34.86'), IPv4Address('218.146.34.87'), IPv4Address('218.146.34.88'), IPv4Address('218.146.34.89'), IPv4Address('218.146.34.90'), IPv4Address('218.146.34.91'), IPv4Address('218.146.34.92'), IPv4Address('218.146.34.93'), IPv4Address('218.146.34.94'), IPv4Address('218.146.34.95'), IPv4Address('218.146.34.96'), IPv4Address('218.146.34.97'), IPv4Address('218.146.34.98'), IPv4Address('218.146.34.99'), IPv4Address('218.146.34.100'), IPv4Address('218.146.34.101'), IPv4Address('218.146.34.102'), IPv4Address('218.146.34.103'), IPv4Address('218.146.34.104'), IPv4Address('218.146.34.105'), IPv4Address('218.146.34.106'), IPv4Address('218.146.34.107'), IPv4Address('218.146.34.108'), IPv4Address('218.146.34.109'), IPv4Address('218.146.34.110'), IPv4Address('218.146.34.111'), IPv4Address('218.146.34.112'), IPv4Address('218.146.34.113'), IPv4Address('218.146.34.114'), IPv4Address('218.146.34.115'), IPv4Address('218.146.34.116'), IPv4Address('218.146.34.117'), IPv4Address('218.146.34.118'), IPv4Address('218.146.34.119'), IPv4Address('218.146.34.120'), IPv4Address('218.146.34.121'), IPv4Address('218.146.34.122'), IPv4Address('218.146.34.123'), IPv4Address('218.146.34.124'), IPv4Address('218.146.34.125'), IPv4Address('218.146.34.126'), IPv4Address('218.146.34.127'), IPv4Address('218.146.34.128'), IPv4Address('218.146.34.129'), IPv4Address('218.146.34.130'), IPv4Address('218.146.34.131'), IPv4Address('218.146.34.132'), IPv4Address('218.146.34.133'), IPv4Address('218.146.34.134'), IPv4Address('218.146.34.135'), IPv4Address('218.146.34.136'), IPv4Address('218.146.34.137'), IPv4Address('218.146.34.138'), IPv4Address('218.146.34.139'), IPv4Address('218.146.34.140'), IPv4Address('218.146.34.141'), IPv4Address('218.146.34.142'), IPv4Address('218.146.34.143'), IPv4Address('218.146.34.144'), IPv4Address('218.146.34.145'), IPv4Address('218.146.34.146'), IPv4Address('218.146.34.147'), IPv4Address('218.146.34.148'), IPv4Address('218.146.34.149'), IPv4Address('218.146.34.150'), IPv4Address('218.146.34.151'), IPv4Address('218.146.34.152'), IPv4Address('218.146.34.153'), IPv4Address('218.146.34.154'), IPv4Address('218.146.34.155'), IPv4Address('218.146.34.156'), IPv4Address('218.146.34.157'), IPv4Address('218.146.34.158'), IPv4Address('218.146.34.159'), IPv4Address('218.146.34.160'), IPv4Address('218.146.34.161'), IPv4Address('218.146.34.162'), IPv4Address('218.146.34.163'), IPv4Address('218.146.34.164'), IPv4Address('218.146.34.165'), IPv4Address('218.146.34.166'), IPv4Address('218.146.34.167'), IPv4Address('218.146.34.168'), IPv4Address('218.146.34.169'), IPv4Address('218.146.34.170'), IPv4Address('218.146.34.171'), IPv4Address('218.146.34.172'), IPv4Address('218.146.34.173'), IPv4Address('218.146.34.174'), IPv4Address('218.146.34.175'), IPv4Address('218.146.34.176'), IPv4Address('218.146.34.177'), IPv4Address('218.146.34.178'), IPv4Address('218.146.34.179'), IPv4Address('218.146.34.180'), IPv4Address('218.146.34.181'), IPv4Address('218.146.34.182'), IPv4Address('218.146.34.183'), IPv4Address('218.146.34.184'), IPv4Address('218.146.34.185'), IPv4Address('218.146.34.186'), IPv4Address('218.146.34.187'), IPv4Address('218.146.34.188'), IPv4Address('218.146.34.189'), IPv4Address('218.146.34.190'), IPv4Address('218.146.34.191'), IPv4Address('218.146.34.192'), IPv4Address('218.146.34.193'), IPv4Address('218.146.34.194'), IPv4Address('218.146.34.195'), IPv4Address('218.146.34.196'), IPv4Address('218.146.34.197'), IPv4Address('218.146.34.198'), IPv4Address('218.146.34.199'), IPv4Address('218.146.34.200'), IPv4Address('218.146.34.201'), IPv4Address('218.146.34.202'), IPv4Address('218.146.34.203'), IPv4Address('218.146.34.204'), IPv4Address('218.146.34.205'), IPv4Address('218.146.34.206'), IPv4Address('218.146.34.207'), IPv4Address('218.146.34.208'), IPv4Address('218.146.34.209'), IPv4Address('218.146.34.210'), IPv4Address('218.146.34.211'), IPv4Address('218.146.34.212'), IPv4Address('218.146.34.213'), IPv4Address('218.146.34.214'), IPv4Address('218.146.34.215'), IPv4Address('218.146.34.216'), IPv4Address('218.146.34.217'), IPv4Address('218.146.34.218'), IPv4Address('218.146.34.219'), IPv4Address('218.146.34.220'), IPv4Address('218.146.34.221'), IPv4Address('218.146.34.222'), IPv4Address('218.146.34.223'), IPv4Address('218.146.34.224'), IPv4Address('218.146.34.225'), IPv4Address('218.146.34.226'), IPv4Address('218.146.34.227'), IPv4Address('218.146.34.228'), IPv4Address('218.146.34.229'), IPv4Address('218.146.34.230'), IPv4Address('218.146.34.231'), IPv4Address('218.146.34.232'), IPv4Address('218.146.34.233'), IPv4Address('218.146.34.234'), IPv4Address('218.146.34.235'), IPv4Address('218.146.34.236'), IPv4Address('218.146.34.237'), IPv4Address('218.146.34.238'), IPv4Address('218.146.34.239'), IPv4Address('218.146.34.240'), IPv4Address('218.146.34.241'), IPv4Address('218.146.34.242'), IPv4Address('218.146.34.243'), IPv4Address('218.146.34.244'), IPv4Address('218.146.34.245'), IPv4Address('218.146.34.246'), IPv4Address('218.146.34.247'), IPv4Address('218.146.34.248'), IPv4Address('218.146.34.249'), IPv4Address('218.146.34.250'), IPv4Address('218.146.34.251'), IPv4Address('218.146.34.252'), IPv4Address('218.146.34.253'), IPv4Address('218.146.34.254'), IPv4Address('218.146.34.255'), IPv4Address('61.42.105.0'), IPv4Address('61.42.105.1'), IPv4Address('61.42.105.2'), IPv4Address('61.42.105.3'), IPv4Address('61.42.105.4'), IPv4Address('61.42.105.5'), IPv4Address('61.42.105.6'), IPv4Address('61.42.105.7'), IPv4Address('61.42.105.8'), IPv4Address('61.42.105.9'), IPv4Address('61.42.105.10'), IPv4Address('61.42.105.11'), IPv4Address('61.42.105.12'), IPv4Address('61.42.105.13'), IPv4Address('61.42.105.14'), IPv4Address('61.42.105.15'), IPv4Address('61.42.105.16'), IPv4Address('61.42.105.17'), IPv4Address('61.42.105.18'), IPv4Address('61.42.105.19'), IPv4Address('61.42.105.20'), IPv4Address('61.42.105.21'), IPv4Address('61.42.105.22'), IPv4Address('61.42.105.23'), IPv4Address('61.42.105.24'), IPv4Address('61.42.105.25'), IPv4Address('61.42.105.26'), IPv4Address('61.42.105.27'), IPv4Address('61.42.105.28'), IPv4Address('61.42.105.29'), IPv4Address('61.42.105.30'), IPv4Address('61.42.105.31'), IPv4Address('61.42.105.32'), IPv4Address('61.42.105.33'), IPv4Address('61.42.105.34'), IPv4Address('61.42.105.35'), IPv4Address('61.42.105.36'), IPv4Address('61.42.105.37'), IPv4Address('61.42.105.38'), IPv4Address('61.42.105.39'), IPv4Address('61.42.105.40'), IPv4Address('61.42.105.41'), IPv4Address('61.42.105.42'), IPv4Address('61.42.105.43'), IPv4Address('61.42.105.44'), IPv4Address('61.42.105.45'), IPv4Address('61.42.105.46'), IPv4Address('61.42.105.47'), IPv4Address('61.42.105.48'), IPv4Address('61.42.105.49'), IPv4Address('61.42.105.50'), IPv4Address('61.42.105.51'), IPv4Address('61.42.105.52'), IPv4Address('61.42.105.53'), IPv4Address('61.42.105.54'), IPv4Address('61.42.105.55'), IPv4Address('61.42.105.56'), IPv4Address('61.42.105.57'), IPv4Address('61.42.105.58'), IPv4Address('61.42.105.59'), IPv4Address('61.42.105.60'), IPv4Address('61.42.105.61'), IPv4Address('61.42.105.62'), IPv4Address('61.42.105.63'), IPv4Address('61.42.105.64'), IPv4Address('61.42.105.65'), IPv4Address('61.42.105.66'), IPv4Address('61.42.105.67'), IPv4Address('61.42.105.68'), IPv4Address('61.42.105.69'), IPv4Address('61.42.105.70'), IPv4Address('61.42.105.71'), IPv4Address('61.42.105.72'), IPv4Address('61.42.105.73'), IPv4Address('61.42.105.74'), IPv4Address('61.42.105.75'), IPv4Address('61.42.105.76'), IPv4Address('61.42.105.77'), IPv4Address('61.42.105.78'), IPv4Address('61.42.105.79'), IPv4Address('61.42.105.80'), IPv4Address('61.42.105.81'), IPv4Address('61.42.105.82'), IPv4Address('61.42.105.83'), IPv4Address('61.42.105.84'), IPv4Address('61.42.105.85'), IPv4Address('61.42.105.86'), IPv4Address('61.42.105.87'), IPv4Address('61.42.105.88'), IPv4Address('61.42.105.89'), IPv4Address('61.42.105.90'), IPv4Address('61.42.105.91'), IPv4Address('61.42.105.92'), IPv4Address('61.42.105.93'), IPv4Address('61.42.105.94'), IPv4Address('61.42.105.95'), IPv4Address('61.42.105.96'), IPv4Address('61.42.105.97'), IPv4Address('61.42.105.98'), IPv4Address('61.42.105.99'), IPv4Address('61.42.105.100'), IPv4Address('61.42.105.101'), IPv4Address('61.42.105.102'), IPv4Address('61.42.105.103'), IPv4Address('61.42.105.104'), IPv4Address('61.42.105.105'), IPv4Address('61.42.105.106'), IPv4Address('61.42.105.107'), IPv4Address('61.42.105.108'), IPv4Address('61.42.105.109'), IPv4Address('61.42.105.110'), IPv4Address('61.42.105.111'), IPv4Address('61.42.105.112'), IPv4Address('61.42.105.113'), IPv4Address('61.42.105.114'), IPv4Address('61.42.105.115'), IPv4Address('61.42.105.116'), IPv4Address('61.42.105.117'), IPv4Address('61.42.105.118'), IPv4Address('61.42.105.119'), IPv4Address('61.42.105.120'), IPv4Address('61.42.105.121'), IPv4Address('61.42.105.122'), IPv4Address('61.42.105.123'), IPv4Address('61.42.105.124'), IPv4Address('61.42.105.125'), IPv4Address('61.42.105.126'), IPv4Address('61.42.105.127'), IPv4Address('61.42.105.128'), IPv4Address('61.42.105.129'), IPv4Address('61.42.105.130'), IPv4Address('61.42.105.131'), IPv4Address('61.42.105.132'), IPv4Address('61.42.105.133'), IPv4Address('61.42.105.134'), IPv4Address('61.42.105.135'), IPv4Address('61.42.105.136'), IPv4Address('61.42.105.137'), IPv4Address('61.42.105.138'), IPv4Address('61.42.105.139'), IPv4Address('61.42.105.140'), IPv4Address('61.42.105.141'), IPv4Address('61.42.105.142'), IPv4Address('61.42.105.143'), IPv4Address('61.42.105.144'), IPv4Address('61.42.105.145'), IPv4Address('61.42.105.146'), IPv4Address('61.42.105.147'), IPv4Address('61.42.105.148'), IPv4Address('61.42.105.149'), IPv4Address('61.42.105.150'), IPv4Address('61.42.105.151'), IPv4Address('61.42.105.152'), IPv4Address('61.42.105.153'), IPv4Address('61.42.105.154'), IPv4Address('61.42.105.155'), IPv4Address('61.42.105.156'), IPv4Address('61.42.105.157'), IPv4Address('61.42.105.158'), IPv4Address('61.42.105.159'), IPv4Address('61.42.105.160'), IPv4Address('61.42.105.161'), IPv4Address('61.42.105.162'), IPv4Address('61.42.105.163'), IPv4Address('61.42.105.164'), IPv4Address('61.42.105.165'), IPv4Address('61.42.105.166'), IPv4Address('61.42.105.167'), IPv4Address('61.42.105.168'), IPv4Address('61.42.105.169'), IPv4Address('61.42.105.170'), IPv4Address('61.42.105.171'), IPv4Address('61.42.105.172'), IPv4Address('61.42.105.173'), IPv4Address('61.42.105.174'), IPv4Address('61.42.105.175'), IPv4Address('61.42.105.176'), IPv4Address('61.42.105.177'), IPv4Address('61.42.105.178'), IPv4Address('61.42.105.179'), IPv4Address('61.42.105.180'), IPv4Address('61.42.105.181'), IPv4Address('61.42.105.182'), IPv4Address('61.42.105.183'), IPv4Address('61.42.105.184'), IPv4Address('61.42.105.185'), IPv4Address('61.42.105.186'), IPv4Address('61.42.105.187'), IPv4Address('61.42.105.188'), IPv4Address('61.42.105.189'), IPv4Address('61.42.105.190'), IPv4Address('61.42.105.191'), IPv4Address('61.42.105.192'), IPv4Address('61.42.105.193'), IPv4Address('61.42.105.194'), IPv4Address('61.42.105.195'), IPv4Address('61.42.105.196'), IPv4Address('61.42.105.197'), IPv4Address('61.42.105.198'), IPv4Address('61.42.105.199'), IPv4Address('61.42.105.200'), IPv4Address('61.42.105.201'), IPv4Address('61.42.105.202'), IPv4Address('61.42.105.203'), IPv4Address('61.42.105.204'), IPv4Address('61.42.105.205'), IPv4Address('61.42.105.206'), IPv4Address('61.42.105.207'), IPv4Address('61.42.105.208'), IPv4Address('61.42.105.209'), IPv4Address('61.42.105.210'), IPv4Address('61.42.105.211'), IPv4Address('61.42.105.212'), IPv4Address('61.42.105.213'), IPv4Address('61.42.105.214'), IPv4Address('61.42.105.215'), IPv4Address('61.42.105.216'), IPv4Address('61.42.105.217'), IPv4Address('61.42.105.218'), IPv4Address('61.42.105.219'), IPv4Address('61.42.105.220'), IPv4Address('61.42.105.221'), IPv4Address('61.42.105.222'), IPv4Address('61.42.105.223'), IPv4Address('61.42.105.224'), IPv4Address('61.42.105.225'), IPv4Address('61.42.105.226'), IPv4Address('61.42.105.227'), IPv4Address('61.42.105.228'), IPv4Address('61.42.105.229'), IPv4Address('61.42.105.230'), IPv4Address('61.42.105.231'), IPv4Address('61.42.105.232'), IPv4Address('61.42.105.233'), IPv4Address('61.42.105.234'), IPv4Address('61.42.105.235'), IPv4Address('61.42.105.236'), IPv4Address('61.42.105.237'), IPv4Address('61.42.105.238'), IPv4Address('61.42.105.239'), IPv4Address('61.42.105.240'), IPv4Address('61.42.105.241'), IPv4Address('61.42.105.242'), IPv4Address('61.42.105.243'), IPv4Address('61.42.105.244'), IPv4Address('61.42.105.245'), IPv4Address('61.42.105.246'), IPv4Address('61.42.105.247'), IPv4Address('61.42.105.248'), IPv4Address('61.42.105.249'), IPv4Address('61.42.105.250'), IPv4Address('61.42.105.251'), IPv4Address('61.42.105.252'), IPv4Address('61.42.105.253'), IPv4Address('61.42.105.254'), IPv4Address('61.42.105.255')]\n"
          ]
        }
      ],
      "source": [
        "target_subnets = [ \n",
        "    \"1.209.204.0/24\",\n",
        "    \"121.130.46.0/24\",\n",
        "    \"121.130.47.0/24\",\n",
        "    \"121.168.9.0/24\",\n",
        "    \"128.134.135.0/24\",\n",
        "    \"128.134.225.0/24\",\n",
        "    \"14.47.119.0/24\",\n",
        "    \"14.47.120.0/24\",\n",
        "    \"175.195.138.0/24\",\n",
        "    \"203.231.48.0/23\",\n",
        "    \"203.233.82.0/24\",\n",
        "    \"210.120.25.0/24\",\n",
        "    \"211.106.22.0/24\",\n",
        "    \"211.195.190.0/24\",\n",
        "    \"211.197.235.0/24\",\n",
        "    \"218.146.32.0/24\",\n",
        "    \"218.146.34.0/24\",\n",
        "    \"61.42.105.0/24\"\n",
        "]\n",
        "\n",
        "from itertools import chain\n",
        "\n",
        "nested_list = [list(ipaddress.ip_network(ip)) for ip in target_subnets]\n",
        "flat_list = list(chain(*nested_list))\n",
        "print(flat_list) \n"
      ]
    },
    {
      "cell_type": "markdown",
      "metadata": {},
      "source": [
        "### overlaps()\n",
        "\n",
        "* 네트워크가 다른 네트워크에 포함되는지 여부를 판단함"
      ]
    },
    {
      "cell_type": "code",
      "execution_count": 2,
      "metadata": {},
      "outputs": [
        {
          "data": {
            "text/plain": [
              "False"
            ]
          },
          "execution_count": 2,
          "metadata": {},
          "output_type": "execute_result"
        }
      ],
      "source": [
        "net_1 = ipaddress.ip_network('10.10.10.128')\n",
        "subnet_1 = ipaddress.ip_network('10.10.10.0/31')\n",
        "\n",
        "net_1.overlaps(subnet_1)"
      ]
    },
    {
      "cell_type": "code",
      "execution_count": 3,
      "metadata": {},
      "outputs": [
        {
          "data": {
            "text/plain": [
              "True"
            ]
          },
          "execution_count": 3,
          "metadata": {},
          "output_type": "execute_result"
        }
      ],
      "source": [
        "net_2 = ipaddress.ip_network('10.10.10.1')\n",
        "net_2.overlaps(subnet_1)"
      ]
    },
    {
      "cell_type": "code",
      "execution_count": 4,
      "metadata": {},
      "outputs": [
        {
          "name": "stdout",
          "output_type": "stream",
          "text": [
            " 'IPv4Address' object has no attribute 'overlaps' \n"
          ]
        }
      ],
      "source": [
        "net_3 = ipaddress.ip_address('10.10.10.1')\n",
        "\n",
        "try:\n",
        "    net_3.overlaps(subnet_1)\n",
        "except(AttributeError):\n",
        "    print(''' 'IPv4Address' object has no attribute 'overlaps' ''')\n",
        "    \n",
        "\n",
        "# sub넷끼리의 포함 여부를 알 수 있다\n",
        "# ip_address가 ip_network에 포함되는 지 확인하려면 단순히 in 을 사용하면됨"
      ]
    },
    {
      "cell_type": "code",
      "execution_count": 73,
      "metadata": {},
      "outputs": [
        {
          "data": {
            "text/plain": [
              "True"
            ]
          },
          "execution_count": 73,
          "metadata": {},
          "output_type": "execute_result"
        }
      ],
      "source": [
        "# 서브넷에 포함 여부를 확인할수도 있다\n",
        "\n",
        "ipaddress.ip_address('10.10.10.10') in ipaddress.ip_network('10.10.10.0/24')"
      ]
    },
    {
      "cell_type": "markdown",
      "metadata": {},
      "source": [
        "# 정규 표현식\n",
        "\n",
        "출처 : https://wikidocs.net/21703"
      ]
    },
    {
      "cell_type": "markdown",
      "metadata": {},
      "source": [
        "## 1. 정규 표현식 문법과 모듈 함수\n",
        "\n",
        "파이썬에서는 정규 표현식 모듈 re을 지원하므로, 이를 이용하면 특정 규칙이 있는 텍스트 데이터를 빠르게 정제할 수 있습니다. 정규 표현식을 위해 사용되는 특수 문자와 모듈 함수에 대해서 표를 통해 정리해보겠습니다. 표만으로는 이해하기 어렵습니다. 표 아래의 실습과 표를 병행하여 이해하시는 것이 좋습니다."
      ]
    },
    {
      "cell_type": "markdown",
      "metadata": {},
      "source": [
        "### 1. 정규 표현식 문법\n",
        "\n",
        "|특수문자|설명|\n",
        "|:-:|:-|\n",
        "|.|한 개의 임의의 문자를 나타냄|\n",
        "|?|앞의 문자가 존재할 수도 있고, 존재 하지 않을 수도 있다 (문자가 0개 또는 1개)|\n",
        "|*|앞의 문자가 무한개로 존재 할수도 있고, 존재 하지 않을 수도 있다 (문자가 0개 이상)|\n",
        "|+|앞의 문자가 최소 한 개 이상 존재 \n",
        "|^|뒤의 문자열로 문자열이 시작\n",
        "|$|앞의 문자열로 문자열이 끝남\n",
        "|{숫자}|숫자만큼 반복함\n",
        "|{숫자1, 숫자2}|숫자1 이상 숫자2 이하만큼 반복\n",
        "|{숫자,}|숫자 이상만큼 반복\n",
        "|[]|대괄호 안의 문자들 중 한개의 문자와 매치함, 범위 지정도 가능\n",
        "|[\\^문자]|해당 문자를 제외한 문자를 매치\n",
        "|\\||A\\|B와 같이 쓰이며 A 또는 B의 의미를 가짐\n",
        "---\n",
        "|문자 규칙|설명|\n",
        "|:-:|:-|\n",
        "|\\\\d|모든 숫자를 의미, [0-9]\n",
        "|\\\\D|숫자를 제외한 모든 문자를 의미합니다, [^0-9]\n",
        "|\\\\s|공백을 의미, [\\t\\b\\r\\f\\v]\n",
        "|\\\\S|공백을 제외한 문자를 의미, [^ \\t\\b\\r\\f\\v]\n",
        "|\\\\w|문자 또는 숫자를 의미 [a-zA-Z0-9]\n",
        "|\\\\W|문자 또는 숫자가 아닌 문자 [^a-zA-Z0-9]"
      ]
    },
    {
      "cell_type": "markdown",
      "metadata": {},
      "source": [
        "### 정규 표현식 모듈 함수\n",
        "\n",
        "|모듈 함수|설명|\n",
        "|:-:|:-|\n",
        "|re.compile()|정규표현식을 컴파일하는 함수|\n",
        "|re.search()|문자열 전체에 대해서 정규표현식과 매치되는지 검색|\n",
        "|re.match()|문자열의 처음이 정규표현식과 매치되는지를 검색|\n",
        "|re.split()|정규 표현식을 기준으로 문쟈열을 분리\n",
        "|re.findall()|문자열에서 정규 표현식과 매치되는 모든 경우의 문자열을 찾아서 리스트로 리턴\n",
        "|re.finditer()|문자열에서 정규 표현식과 매치되는 모든 경우의 문자열에 대한 이터레이터 객체를 리턴합니다.\n",
        "|re.sub()|문자열에서 정규 표현식과 일치하는 부분에 대해서 다른 문자열로 대체합니다."
      ]
    },
    {
      "cell_type": "markdown",
      "metadata": {},
      "source": [
        "## 2. 정규 표현식 실습"
      ]
    },
    {
      "cell_type": "code",
      "execution_count": 3,
      "metadata": {},
      "outputs": [],
      "source": [
        "import re"
      ]
    },
    {
      "cell_type": "markdown",
      "metadata": {},
      "source": [
        ". 기호\n",
        "\n",
        "`.`은 한 개의 임의의 문자를 나타냅니다. 예를 들어서 정규 표현식이 a.c라고 합시다.   \n",
        "a와 c 사이에는 어떤 1개의 문자라도 올 수 있습니다. akc, azc, avc, a5c, a!c와 같은 형태는 모두 a.c의 정규 표현식과 매치됩니다.\n",
        "\n"
      ]
    },
    {
      "cell_type": "code",
      "execution_count": 10,
      "metadata": {},
      "outputs": [],
      "source": [
        "r = re.compile('a.c')\n",
        "r.search('kkk') # 아무 결과도 출력되지 않음"
      ]
    },
    {
      "cell_type": "code",
      "execution_count": 11,
      "metadata": {},
      "outputs": [
        {
          "data": {
            "text/plain": [
              "<re.Match object; span=(0, 3), match='abc'>"
            ]
          },
          "execution_count": 11,
          "metadata": {},
          "output_type": "execute_result"
        }
      ],
      "source": [
        "r.search('abc')"
      ]
    },
    {
      "cell_type": "markdown",
      "metadata": {},
      "source": [
        "`?` 기호\n",
        "\n",
        "?는 ?앞의 문자가 존재할 수도 있고 존재하지 않을 수도 있는 경우를 나타냅니다. 예를 들어서 정규 표현식이 ab?c라고 합시다.   \n",
        "이 경우 이 정규 표현식에서의 b는 있다고 취급할 수도 있고, 없다고 취급할 수도 있습니다. 즉, abc와 ac 모두 매치할 수 있습니다."
      ]
    },
    {
      "cell_type": "code",
      "execution_count": 12,
      "metadata": {},
      "outputs": [],
      "source": [
        "r = re.compile('ab?c')\n",
        "\n",
        "# b가 존재 할수도 있고 안할수도 있음"
      ]
    },
    {
      "cell_type": "code",
      "execution_count": 14,
      "metadata": {},
      "outputs": [
        {
          "data": {
            "text/plain": [
              "<re.Match object; span=(0, 3), match='abc'>"
            ]
          },
          "execution_count": 14,
          "metadata": {},
          "output_type": "execute_result"
        }
      ],
      "source": [
        "r.search('abc')"
      ]
    },
    {
      "cell_type": "code",
      "execution_count": 15,
      "metadata": {},
      "outputs": [
        {
          "data": {
            "text/plain": [
              "<re.Match object; span=(0, 2), match='ac'>"
            ]
          },
          "execution_count": 15,
          "metadata": {},
          "output_type": "execute_result"
        }
      ],
      "source": [
        "r.search('ac')"
      ]
    },
    {
      "cell_type": "markdown",
      "metadata": {},
      "source": [
        "`*` 기호\n",
        "\n",
        "\\*은 바로 앞의 문자가 0개 이상일 경우를 나타냅니다. 앞의 문자는 존재하지 않을 수도 있으며,  \n",
        "또는 여러 개일 수도 있습니다. 정규 표현식이 ab*c라면 ac, abc, abbc, abbbc 등과 매치할 수 있으며 b의 개수는 무수히 많을 수 있습니다."
      ]
    },
    {
      "cell_type": "code",
      "execution_count": 16,
      "metadata": {},
      "outputs": [],
      "source": [
        "r = re.compile('ab*c')"
      ]
    },
    {
      "cell_type": "code",
      "execution_count": 17,
      "metadata": {},
      "outputs": [
        {
          "data": {
            "text/plain": [
              "<re.Match object; span=(0, 2), match='ac'>"
            ]
          },
          "execution_count": 17,
          "metadata": {},
          "output_type": "execute_result"
        }
      ],
      "source": [
        "r.search('ac')"
      ]
    },
    {
      "cell_type": "code",
      "execution_count": 18,
      "metadata": {},
      "outputs": [
        {
          "data": {
            "text/plain": [
              "<re.Match object; span=(0, 3), match='abc'>"
            ]
          },
          "execution_count": 18,
          "metadata": {},
          "output_type": "execute_result"
        }
      ],
      "source": [
        "r.search('abc')"
      ]
    },
    {
      "cell_type": "code",
      "execution_count": 19,
      "metadata": {},
      "outputs": [
        {
          "data": {
            "text/plain": [
              "<re.Match object; span=(0, 7), match='abbbbbc'>"
            ]
          },
          "execution_count": 19,
          "metadata": {},
          "output_type": "execute_result"
        }
      ],
      "source": [
        "r.search('abbbbbc')"
      ]
    },
    {
      "cell_type": "markdown",
      "metadata": {},
      "source": [
        "`+` 기호\n",
        "\n",
        "+는 *와 유사합니다. 다른 점은 앞의 문자가 최소 1개 이상이어야 합니다.  \n",
        "정규 표현식이 ab+c라고 한다면 ac는 매치되지 않습니다. 하지만 abc, abbc, abbbc 등과 매치할 수 있으며 b의 개수는 무수히 많을 수 있습니다."
      ]
    },
    {
      "cell_type": "code",
      "execution_count": 20,
      "metadata": {},
      "outputs": [],
      "source": [
        "r = re.compile('ab+c')"
      ]
    },
    {
      "cell_type": "code",
      "execution_count": 21,
      "metadata": {},
      "outputs": [
        {
          "data": {
            "text/plain": [
              "<re.Match object; span=(0, 3), match='abc'>"
            ]
          },
          "execution_count": 21,
          "metadata": {},
          "output_type": "execute_result"
        }
      ],
      "source": [
        "r.search('abc')"
      ]
    },
    {
      "cell_type": "code",
      "execution_count": 22,
      "metadata": {},
      "outputs": [],
      "source": [
        "r.search('ac') # *는 문자가 없어도 가능했지만 +는 문자가 1개이상 있어야함"
      ]
    },
    {
      "cell_type": "markdown",
      "metadata": {},
      "source": [
        "`^`기호\n",
        "\n",
        "^는 시작되는 문자열을 지정합니다. 정규표현식이 ^ab라면 문자열 ab로 시작되는 경우 매치합니다."
      ]
    },
    {
      "cell_type": "code",
      "execution_count": 23,
      "metadata": {},
      "outputs": [],
      "source": [
        "r = re.compile('^ab')"
      ]
    },
    {
      "cell_type": "code",
      "execution_count": 24,
      "metadata": {},
      "outputs": [],
      "source": [
        "r.search('bbc')"
      ]
    },
    {
      "cell_type": "code",
      "execution_count": 25,
      "metadata": {},
      "outputs": [
        {
          "data": {
            "text/plain": [
              "<re.Match object; span=(0, 2), match='ab'>"
            ]
          },
          "execution_count": 25,
          "metadata": {},
          "output_type": "execute_result"
        }
      ],
      "source": [
        "r.search('abcasdfads')"
      ]
    },
    {
      "cell_type": "markdown",
      "metadata": {},
      "source": [
        "`{숫자}` 기호\n",
        "\n",
        "문자에 해당 기호를 붙이면, 해당 문자를 숫자만큼 반복한 것을 나타냅니다.  \n",
        "예를 들어서 정규 표현식이 ab{2}c라면 a와 c 사이에 b가 존재하면서 b가 2개인 문자열에 대해서 매치합니다."
      ]
    },
    {
      "cell_type": "code",
      "execution_count": 26,
      "metadata": {},
      "outputs": [],
      "source": [
        "r = re.compile('ab{2}c')"
      ]
    },
    {
      "cell_type": "code",
      "execution_count": 27,
      "metadata": {},
      "outputs": [],
      "source": [
        "r.search('ac')"
      ]
    },
    {
      "cell_type": "code",
      "execution_count": 28,
      "metadata": {},
      "outputs": [],
      "source": [
        "r.search('abc')"
      ]
    },
    {
      "cell_type": "code",
      "execution_count": 29,
      "metadata": {},
      "outputs": [
        {
          "data": {
            "text/plain": [
              "<re.Match object; span=(0, 4), match='abbc'>"
            ]
          },
          "execution_count": 29,
          "metadata": {},
          "output_type": "execute_result"
        }
      ],
      "source": [
        "r.search('abbc')"
      ]
    },
    {
      "cell_type": "markdown",
      "metadata": {},
      "source": [
        "`{숫자1, 숫자2}` 기호\n",
        "\n",
        "문자에 해당 기호를 붙이면, 해당 문자를 숫자1 이상 숫자2 이하만큼 반복합니다.  \n",
        "예를 들어서 정규 표현식이 ab{2,8}c라면 a와 c 사이에 b가 존재하면서 b는 2개 이상 8개 이하인 문자열에 대해서 매치합니다."
      ]
    },
    {
      "cell_type": "code",
      "execution_count": 30,
      "metadata": {},
      "outputs": [],
      "source": [
        "r = re.compile('ab{2,8}c')"
      ]
    },
    {
      "cell_type": "code",
      "execution_count": 32,
      "metadata": {},
      "outputs": [],
      "source": [
        "r.search('abc')"
      ]
    },
    {
      "cell_type": "code",
      "execution_count": 33,
      "metadata": {},
      "outputs": [
        {
          "data": {
            "text/plain": [
              "<re.Match object; span=(0, 4), match='abbc'>"
            ]
          },
          "execution_count": 33,
          "metadata": {},
          "output_type": "execute_result"
        }
      ],
      "source": [
        "r.search('abbc') # 2~8사이의 개수에 대해 매치"
      ]
    },
    {
      "cell_type": "markdown",
      "metadata": {},
      "source": [
        "`{숫자.}` 기호\n",
        "\n",
        "문자에 해당 기호를 붙이면 해당 문자를 숫자 이상 만큼 반복합니다.  \n",
        "예를 들어서 정규 표현식이 a{2,}bc라면 뒤에 bc가 붙으면서 a의 개수가 2개 이상인 경우인 문자열과 매치합니다.  \n",
        "또한 만약 {0,}을 쓴다면 *와 동일한 의미가 되며, {1,}을 쓴다면 +와 동일한 의미가 됩니다.\n",
        "\n"
      ]
    },
    {
      "cell_type": "code",
      "execution_count": 34,
      "metadata": {},
      "outputs": [],
      "source": [
        "r = re.compile('a{2,}bc')"
      ]
    },
    {
      "cell_type": "code",
      "execution_count": 35,
      "metadata": {},
      "outputs": [],
      "source": [
        "r.search('abc')"
      ]
    },
    {
      "cell_type": "code",
      "execution_count": 36,
      "metadata": {},
      "outputs": [
        {
          "data": {
            "text/plain": [
              "<re.Match object; span=(0, 4), match='aabc'>"
            ]
          },
          "execution_count": 36,
          "metadata": {},
          "output_type": "execute_result"
        }
      ],
      "source": [
        "r.search('aabc')"
      ]
    },
    {
      "cell_type": "code",
      "execution_count": 37,
      "metadata": {},
      "outputs": [
        {
          "data": {
            "text/plain": [
              "<re.Match object; span=(0, 7), match='aaaaabc'>"
            ]
          },
          "execution_count": 37,
          "metadata": {},
          "output_type": "execute_result"
        }
      ],
      "source": [
        "r.search('aaaaabc') # 2이상 만큼 반복"
      ]
    },
    {
      "cell_type": "markdown",
      "metadata": {},
      "source": [
        "`[]`기호\n",
        "\n",
        "[ ]안에 문자들을 넣으면 그 문자들 중 한 개의 문자와 매치라는 의미를 가집니다.  \n",
        "예를 들어서 정규 표현식이 [abc]라면, a 또는 b또는 c가 들어가있는 문자열과 매치됩니다. 범위를 지정하는 것도 가능합니다.  \n",
        "[a-zA-Z]는 알파벳 전부를 의미하며, [0-9]는 숫자 전부를 의미합니다."
      ]
    },
    {
      "cell_type": "code",
      "execution_count": 38,
      "metadata": {},
      "outputs": [],
      "source": [
        "r = re.compile('[abc]')"
      ]
    },
    {
      "cell_type": "code",
      "execution_count": 39,
      "metadata": {},
      "outputs": [
        {
          "data": {
            "text/plain": [
              "<re.Match object; span=(0, 1), match='a'>"
            ]
          },
          "execution_count": 39,
          "metadata": {},
          "output_type": "execute_result"
        }
      ],
      "source": [
        "r.search('a')"
      ]
    },
    {
      "cell_type": "code",
      "execution_count": 40,
      "metadata": {},
      "outputs": [
        {
          "data": {
            "text/plain": [
              "<re.Match object; span=(0, 1), match='a'>"
            ]
          },
          "execution_count": 40,
          "metadata": {},
          "output_type": "execute_result"
        }
      ],
      "source": [
        "r.search('aaaaaaa')"
      ]
    },
    {
      "cell_type": "code",
      "execution_count": 41,
      "metadata": {},
      "outputs": [
        {
          "data": {
            "text/plain": [
              "<re.Match object; span=(0, 1), match='b'>"
            ]
          },
          "execution_count": 41,
          "metadata": {},
          "output_type": "execute_result"
        }
      ],
      "source": [
        "r.search('bac')"
      ]
    },
    {
      "cell_type": "code",
      "execution_count": 43,
      "metadata": {},
      "outputs": [
        {
          "data": {
            "text/plain": [
              "<re.Match object; span=(0, 1), match='b'>"
            ]
          },
          "execution_count": 43,
          "metadata": {},
          "output_type": "execute_result"
        }
      ],
      "source": [
        "r.search('bddd')"
      ]
    },
    {
      "cell_type": "code",
      "execution_count": 44,
      "metadata": {},
      "outputs": [],
      "source": [
        "# 범위로 지정\n",
        "\n",
        "r = re.compile('[a-z]')"
      ]
    },
    {
      "cell_type": "code",
      "execution_count": 45,
      "metadata": {},
      "outputs": [],
      "source": [
        "r.search('AAA')"
      ]
    },
    {
      "cell_type": "code",
      "execution_count": 46,
      "metadata": {},
      "outputs": [
        {
          "data": {
            "text/plain": [
              "<re.Match object; span=(1, 2), match='c'>"
            ]
          },
          "execution_count": 46,
          "metadata": {},
          "output_type": "execute_result"
        }
      ],
      "source": [
        "r.search('Aca')"
      ]
    },
    {
      "cell_type": "markdown",
      "metadata": {},
      "source": [
        "`[^문자]` 기호\n",
        "\n",
        "[^문자]는 ^기호 뒤에 붙은 문자들을 제외한 모든 문자를 매치하는 역할을 합니다.   \n",
        "예를 들어서 [^abc]라는 정규 표현식이 있다면, a 또는 b 또는 c가 들어간 문자열을 제외한 모든 문자열을 매치합니다."
      ]
    },
    {
      "cell_type": "code",
      "execution_count": 4,
      "metadata": {},
      "outputs": [],
      "source": [
        "r = re.compile('[^abc]')"
      ]
    },
    {
      "cell_type": "code",
      "execution_count": 5,
      "metadata": {},
      "outputs": [],
      "source": [
        "r.search('a')"
      ]
    },
    {
      "cell_type": "code",
      "execution_count": 51,
      "metadata": {},
      "outputs": [
        {
          "data": {
            "text/plain": [
              "<re.Match object; span=(1, 2), match='d'>"
            ]
          },
          "execution_count": 51,
          "metadata": {},
          "output_type": "execute_result"
        }
      ],
      "source": [
        "r.search('ad')"
      ]
    },
    {
      "cell_type": "code",
      "execution_count": 6,
      "metadata": {},
      "outputs": [
        {
          "data": {
            "text/plain": [
              "<re.Match object; span=(0, 1), match='1'>"
            ]
          },
          "execution_count": 6,
          "metadata": {},
          "output_type": "execute_result"
        }
      ],
      "source": [
        "r.search('1')"
      ]
    },
    {
      "cell_type": "markdown",
      "metadata": {},
      "source": [
        "## 정규 표현식 모듈 함수 예제"
      ]
    },
    {
      "cell_type": "markdown",
      "metadata": {},
      "source": [
        "### `re.match()` 와 `re.search()`의 차이\n",
        "\n",
        "search()가 정규 표현식 전체에 대해서 문자열이 매치하는지를 본다면, match()는 문자열의 첫 부분부터 정규 표현식과 매치하는지를 확인합니다.  \n",
        "문자열 중간에 찾을 패턴이 있더라도 match 함수는 문자열의 시작에서 패턴이 일치하지 않으면 찾지 않습니다."
      ]
    },
    {
      "cell_type": "code",
      "execution_count": 17,
      "metadata": {},
      "outputs": [],
      "source": [
        "r = re.compile('ab.')"
      ]
    },
    {
      "cell_type": "code",
      "execution_count": 18,
      "metadata": {},
      "outputs": [],
      "source": [
        "r.match('kabbb')"
      ]
    },
    {
      "cell_type": "code",
      "execution_count": 19,
      "metadata": {},
      "outputs": [
        {
          "data": {
            "text/plain": [
              "<re.Match object; span=(1, 4), match='abb'>"
            ]
          },
          "execution_count": 19,
          "metadata": {},
          "output_type": "execute_result"
        }
      ],
      "source": [
        "r.search('kabba')"
      ]
    },
    {
      "cell_type": "markdown",
      "metadata": {},
      "source": [
        "### `re.split()`\n",
        "\n",
        "정규표현식 기준으로 문자열을 분리"
      ]
    },
    {
      "cell_type": "code",
      "execution_count": 20,
      "metadata": {},
      "outputs": [
        {
          "data": {
            "text/plain": [
              "['사과', '매론', '딸기', '과일']"
            ]
          },
          "execution_count": 20,
          "metadata": {},
          "output_type": "execute_result"
        }
      ],
      "source": [
        "text = '사과 매론 딸기 과일'\n",
        "re.split(' ', text)"
      ]
    },
    {
      "cell_type": "code",
      "execution_count": 21,
      "metadata": {},
      "outputs": [
        {
          "data": {
            "text/plain": [
              "['사과,', '메론,', '딸기,', '과일']"
            ]
          },
          "execution_count": 21,
          "metadata": {},
          "output_type": "execute_result"
        }
      ],
      "source": [
        "text = '''사과,\n",
        "메론,\n",
        "딸기,\n",
        "과일'''\n",
        "re.split('\\n', text)"
      ]
    },
    {
      "cell_type": "code",
      "execution_count": 25,
      "metadata": {},
      "outputs": [
        {
          "data": {
            "text/plain": [
              "['사과', '딸기', '메론', '과일']"
            ]
          },
          "execution_count": 25,
          "metadata": {},
          "output_type": "execute_result"
        }
      ],
      "source": [
        "text = '사과+딸기+메론+과일'\n",
        "re.split('\\+', text)"
      ]
    },
    {
      "cell_type": "code",
      "execution_count": 27,
      "metadata": {},
      "outputs": [
        {
          "data": {
            "text/plain": [
              "['010', '1234', '1234', '30']"
            ]
          },
          "execution_count": 27,
          "metadata": {},
          "output_type": "execute_result"
        }
      ],
      "source": [
        "text = \"\"\"이름 : 김철수\n",
        "전화번호 : 010 - 1234 - 1234\n",
        "나이 : 30\n",
        "성별 : 남\"\"\"\n",
        "\n",
        "re.findall(\"[0-9]+\", text)"
      ]
    },
    {
      "cell_type": "markdown",
      "metadata": {},
      "source": [
        "`re.sub()`\n",
        "\n",
        "sub() 함수는 정규 표현식 패턴과 일치하는 문자열을 찾아 다른 문자열로 대체할 수 있습니다.  \n",
        "아래와 같은 정제 작업에 많이 사용되는데, 영어 문장에 각주 등과 같은 이유로 특수 문자가 섞여있는 경우에 특수 문자를 제거하고 싶다면 알파벳 외의 문자는 공백으로 처리하는 등의 용도로 쓸 수 있습니다"
      ]
    },
    {
      "cell_type": "code",
      "execution_count": 44,
      "metadata": {},
      "outputs": [
        {
          "name": "stdout",
          "output_type": "stream",
          "text": [
            "Regular expression  A regular expression regex or regexp \n",
            "sometimes called a rational expression is in theoretical computer science and \n",
            "formal language theory a sequence of characters that define a search pattern\n"
          ]
        }
      ],
      "source": [
        "text = \"\"\"Regular expression : A regular expression, regex or regexp[1] \n",
        "(sometimes called a rational expression)[2][3] is, in theoretical computer science and \n",
        "formal language theory, a sequence of characters that define a search pattern.\"\"\"\n",
        "\n",
        "preprocessed_text = re.sub('[^a-zA-Z\\s]', '', text)\n",
        "print(preprocessed_text)"
      ]
    },
    {
      "cell_type": "markdown",
      "metadata": {},
      "source": [
        "# `sklearn` 정리\n",
        "2023-09-01"
      ]
    },
    {
      "cell_type": "markdown",
      "metadata": {},
      "source": [
        "## `clone`\n",
        "2023-09-01\n",
        "* 머신러닝 모델을 복제하는데 사용되는 함수\n",
        "* 원본 함수의 파라미터를 수정하지않고 복제본을 수정하여 새로운 모델을 생성할 수 있음\n",
        "* 왜 쓰는지 모르겠음 그냥 새로 하나만들면 되는거 아닌가 햇갈리게"
      ]
    },
    {
      "cell_type": "code",
      "execution_count": 3,
      "metadata": {},
      "outputs": [],
      "source": [
        "from sklearn.base import clone\n",
        "from sklearn.ensemble import RandomForestClassifier\n",
        "\n",
        "original_model = RandomForestClassifier()\n",
        "cloned_model = clone(original_model)\n",
        "\n",
        "cloned_model.n_estimators = 100\n",
        "#cloned_model.fit(X, y) 모델 fitting은 X,y 데이터가 없으므로 생략"
      ]
    }
  ],
  "metadata": {
    "colab": {
      "provenance": [],
      "toc_visible": true
    },
    "kernelspec": {
      "display_name": "Python 3",
      "name": "python3"
    },
    "language_info": {
      "codemirror_mode": {
        "name": "ipython",
        "version": 3
      },
      "file_extension": ".py",
      "mimetype": "text/x-python",
      "name": "python",
      "nbconvert_exporter": "python",
      "pygments_lexer": "ipython3",
      "version": "3.11.5"
    }
  },
  "nbformat": 4,
  "nbformat_minor": 0
}
